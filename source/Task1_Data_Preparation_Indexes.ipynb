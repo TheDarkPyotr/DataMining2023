{
 "cells": [
  {
   "cell_type": "markdown",
   "metadata": {},
   "source": [
    "#### Task 1.2: Data Preparation\n",
    "\n",
    "Improve the quality of your data and prepare it by extracting new features interesting for describing the incidents. Some examples of indicators to be computed are:\n",
    "\n",
    "- How many males are involved in incidents relative to the total number of males for the same city and in the same period?\n",
    "- How many injured and killed people have been involved relative to the total injured and killed people in the same congressional district in a given period of time?\n",
    "- Ratio of the number of killed people in the incidents relative to the number of participants in the incident\n",
    "- Ratio of unharmed people in the incidents relative to the average of unharmed people in the same period\n",
    "\n",
    "Note that these examples are not mandatory, and teams can define their own indicators. Each indicator must be correlated with a description and, when necessary, its mathematical formulation. The extracted variables will be useful for the clustering analysis in the second project's task. Once the set of indicators is computed, the team should explore the new features for a statistical analysis, including distributions, outliers, visualizations, and correlations.\n",
    "\n",
    "For task 1.1 see the corresponding Notebook in [Task 1.1 - Data Understanding](Task1_Data_Understanding.ipynb).\n",
    "\n",
    "For this task we followed the following check structure: [#WIP]()\n",
    "1. Data aggregation\n",
    "2. Reduction of dimensionality\n",
    "3. Data cleaning\n",
    "4. Discretization\n",
    "5. Data transformation\n",
    "6. Principal Component Analysis via Covariance Matrix\n",
    "8. Data Similarity via Entropy and proximity coefficients\n"
   ]
  },
  {
   "cell_type": "code",
   "execution_count": 1,
   "metadata": {},
   "outputs": [],
   "source": [
    "# This will take a while\n",
    "import pandas as pd\n",
    "import numpy as np\n",
    "import matplotlib.pyplot as plt\n",
    "import seaborn as sns\n",
    "import os\n",
    "\n",
    "import plotly.offline as py\n",
    "\n",
    "# for dataset visibility\n",
    "pd.set_option('display.max_columns', None)\n",
    "\n",
    "# Set a seed for reproducibility\n",
    "np.random.seed(42)\n",
    "\n",
    "# Load dataset from data understanding\n",
    "#df_incident_du = pd.read_csv('../ds/cleaned/incidents_cleaned.csv')\n",
    "df = pd.read_hdf('../ds/cleaned/incidents_cleaned.h5', key = 'df')\n",
    "df_incident_du = df.copy()   \n",
    "df_poverty_du = pd.read_csv('../ds/cleaned/poverty_cleaned.csv')\n",
    "df_years_state_du = pd.read_csv('../ds/cleaned/year_state_votes_cleaned.csv')\n"
   ]
  },
  {
   "cell_type": "code",
   "execution_count": 2,
   "metadata": {},
   "outputs": [
    {
     "data": {
      "text/html": [
       "<div>\n",
       "<style scoped>\n",
       "    .dataframe tbody tr th:only-of-type {\n",
       "        vertical-align: middle;\n",
       "    }\n",
       "\n",
       "    .dataframe tbody tr th {\n",
       "        vertical-align: top;\n",
       "    }\n",
       "\n",
       "    .dataframe thead th {\n",
       "        text-align: right;\n",
       "    }\n",
       "</style>\n",
       "<table border=\"1\" class=\"dataframe\">\n",
       "  <thead>\n",
       "    <tr style=\"text-align: right;\">\n",
       "      <th></th>\n",
       "      <th>year</th>\n",
       "      <th>state</th>\n",
       "      <th>congressional_district</th>\n",
       "      <th>party</th>\n",
       "      <th>candidatevotes</th>\n",
       "      <th>totalvotes</th>\n",
       "    </tr>\n",
       "  </thead>\n",
       "  <tbody>\n",
       "    <tr>\n",
       "      <th>0</th>\n",
       "      <td>2014</td>\n",
       "      <td>Alabama</td>\n",
       "      <td>1</td>\n",
       "      <td>REPUBLICAN</td>\n",
       "      <td>103758</td>\n",
       "      <td>152234</td>\n",
       "    </tr>\n",
       "    <tr>\n",
       "      <th>1</th>\n",
       "      <td>2014</td>\n",
       "      <td>Alabama</td>\n",
       "      <td>2</td>\n",
       "      <td>REPUBLICAN</td>\n",
       "      <td>113103</td>\n",
       "      <td>167952</td>\n",
       "    </tr>\n",
       "    <tr>\n",
       "      <th>2</th>\n",
       "      <td>2014</td>\n",
       "      <td>Alabama</td>\n",
       "      <td>3</td>\n",
       "      <td>REPUBLICAN</td>\n",
       "      <td>103558</td>\n",
       "      <td>156620</td>\n",
       "    </tr>\n",
       "    <tr>\n",
       "      <th>3</th>\n",
       "      <td>2014</td>\n",
       "      <td>Alabama</td>\n",
       "      <td>4</td>\n",
       "      <td>REPUBLICAN</td>\n",
       "      <td>132831</td>\n",
       "      <td>134752</td>\n",
       "    </tr>\n",
       "    <tr>\n",
       "      <th>4</th>\n",
       "      <td>2014</td>\n",
       "      <td>Alabama</td>\n",
       "      <td>5</td>\n",
       "      <td>REPUBLICAN</td>\n",
       "      <td>115338</td>\n",
       "      <td>154974</td>\n",
       "    </tr>\n",
       "  </tbody>\n",
       "</table>\n",
       "</div>"
      ],
      "text/plain": [
       "   year    state  congressional_district       party  candidatevotes  \\\n",
       "0  2014  Alabama                       1  REPUBLICAN          103758   \n",
       "1  2014  Alabama                       2  REPUBLICAN          113103   \n",
       "2  2014  Alabama                       3  REPUBLICAN          103558   \n",
       "3  2014  Alabama                       4  REPUBLICAN          132831   \n",
       "4  2014  Alabama                       5  REPUBLICAN          115338   \n",
       "\n",
       "   totalvotes  \n",
       "0      152234  \n",
       "1      167952  \n",
       "2      156620  \n",
       "3      134752  \n",
       "4      154974  "
      ]
     },
     "execution_count": 2,
     "metadata": {},
     "output_type": "execute_result"
    }
   ],
   "source": [
    "# Check if dataset loaded correctly\n",
    "#df_incident_du.head()\n",
    "#df_poverty_du.head()\n",
    "df_years_state_du.head()\n",
    "\n",
    "#df_incident_du.info()"
   ]
  },
  {
   "cell_type": "markdown",
   "metadata": {},
   "source": [
    "### Fix little problem with reimporting datasets\n",
    "\n",
    "CSV files do not store informations about categories and datatypes like the one we saved."
   ]
  },
  {
   "cell_type": "markdown",
   "metadata": {},
   "source": [
    "# Joining the datasets\n",
    "\n",
    "We have three dataset: the one with the incidents, one with poverty by state (just two columns) and one with year, state and how much votes each party got. We want to join the three datasets in order to have a single dataset with all the information we need. "
   ]
  },
  {
   "cell_type": "code",
   "execution_count": 3,
   "metadata": {},
   "outputs": [
    {
     "data": {
      "text/html": [
       "<div>\n",
       "<style scoped>\n",
       "    .dataframe tbody tr th:only-of-type {\n",
       "        vertical-align: middle;\n",
       "    }\n",
       "\n",
       "    .dataframe tbody tr th {\n",
       "        vertical-align: top;\n",
       "    }\n",
       "\n",
       "    .dataframe thead th {\n",
       "        text-align: right;\n",
       "    }\n",
       "</style>\n",
       "<table border=\"1\" class=\"dataframe\">\n",
       "  <thead>\n",
       "    <tr style=\"text-align: right;\">\n",
       "      <th></th>\n",
       "      <th>date</th>\n",
       "      <th>state</th>\n",
       "      <th>city_or_county</th>\n",
       "      <th>latitude</th>\n",
       "      <th>longitude</th>\n",
       "      <th>congressional_district</th>\n",
       "      <th>participant_age1</th>\n",
       "      <th>participant_age_group1</th>\n",
       "      <th>participant_gender1</th>\n",
       "      <th>min_age_participants</th>\n",
       "      <th>max_age_participants</th>\n",
       "      <th>n_participants_child</th>\n",
       "      <th>n_participants_teen</th>\n",
       "      <th>n_females</th>\n",
       "      <th>n_killed</th>\n",
       "      <th>n_injured</th>\n",
       "      <th>n_arrested</th>\n",
       "      <th>n_unharmed</th>\n",
       "      <th>n_participants</th>\n",
       "      <th>incident_characteristics1</th>\n",
       "      <th>year</th>\n",
       "      <th>povertyPercentage</th>\n",
       "    </tr>\n",
       "  </thead>\n",
       "  <tbody>\n",
       "    <tr>\n",
       "      <th>0</th>\n",
       "      <td>2014-01-01</td>\n",
       "      <td>Arkansas</td>\n",
       "      <td>Pine Bluff</td>\n",
       "      <td>34.2291</td>\n",
       "      <td>-91.9779</td>\n",
       "      <td>4</td>\n",
       "      <td>26</td>\n",
       "      <td>Adult 18+</td>\n",
       "      <td>Male</td>\n",
       "      <td>26</td>\n",
       "      <td>26</td>\n",
       "      <td>0</td>\n",
       "      <td>0</td>\n",
       "      <td>0</td>\n",
       "      <td>0</td>\n",
       "      <td>1</td>\n",
       "      <td>0</td>\n",
       "      <td>1</td>\n",
       "      <td>2</td>\n",
       "      <td>Shot - Wounded/Injured</td>\n",
       "      <td>2014</td>\n",
       "      <td>16.8</td>\n",
       "    </tr>\n",
       "    <tr>\n",
       "      <th>1</th>\n",
       "      <td>2014-01-01</td>\n",
       "      <td>California</td>\n",
       "      <td>Bakersfield</td>\n",
       "      <td>35.3229</td>\n",
       "      <td>-119.0380</td>\n",
       "      <td>23</td>\n",
       "      <td>28</td>\n",
       "      <td>Adult 18+</td>\n",
       "      <td>Male</td>\n",
       "      <td>28</td>\n",
       "      <td>28</td>\n",
       "      <td>0</td>\n",
       "      <td>0</td>\n",
       "      <td>0</td>\n",
       "      <td>0</td>\n",
       "      <td>2</td>\n",
       "      <td>0</td>\n",
       "      <td>0</td>\n",
       "      <td>2</td>\n",
       "      <td>Shot - Wounded/Injured</td>\n",
       "      <td>2014</td>\n",
       "      <td>14.5</td>\n",
       "    </tr>\n",
       "    <tr>\n",
       "      <th>2</th>\n",
       "      <td>2014-01-01</td>\n",
       "      <td>Iowa</td>\n",
       "      <td>Iowa City</td>\n",
       "      <td>41.6611</td>\n",
       "      <td>-91.5302</td>\n",
       "      <td>2</td>\n",
       "      <td>35</td>\n",
       "      <td>Adult 18+</td>\n",
       "      <td>Female</td>\n",
       "      <td>35</td>\n",
       "      <td>35</td>\n",
       "      <td>0</td>\n",
       "      <td>0</td>\n",
       "      <td>2</td>\n",
       "      <td>0</td>\n",
       "      <td>1</td>\n",
       "      <td>0</td>\n",
       "      <td>1</td>\n",
       "      <td>2</td>\n",
       "      <td>other</td>\n",
       "      <td>2014</td>\n",
       "      <td>10.1</td>\n",
       "    </tr>\n",
       "    <tr>\n",
       "      <th>3</th>\n",
       "      <td>2014-01-01</td>\n",
       "      <td>New York</td>\n",
       "      <td>Brooklyn</td>\n",
       "      <td>40.6505</td>\n",
       "      <td>-73.9573</td>\n",
       "      <td>9</td>\n",
       "      <td>28</td>\n",
       "      <td>Adult 18+</td>\n",
       "      <td>Male</td>\n",
       "      <td>28</td>\n",
       "      <td>30</td>\n",
       "      <td>0</td>\n",
       "      <td>0</td>\n",
       "      <td>1</td>\n",
       "      <td>0</td>\n",
       "      <td>3</td>\n",
       "      <td>0</td>\n",
       "      <td>0</td>\n",
       "      <td>3</td>\n",
       "      <td>Shot - Wounded/Injured</td>\n",
       "      <td>2014</td>\n",
       "      <td>13.4</td>\n",
       "    </tr>\n",
       "    <tr>\n",
       "      <th>4</th>\n",
       "      <td>2014-01-01</td>\n",
       "      <td>Colorado</td>\n",
       "      <td>Grand Junction</td>\n",
       "      <td>39.0496</td>\n",
       "      <td>-108.5250</td>\n",
       "      <td>3</td>\n",
       "      <td>47</td>\n",
       "      <td>Adult 18+</td>\n",
       "      <td>Male</td>\n",
       "      <td>47</td>\n",
       "      <td>47</td>\n",
       "      <td>0</td>\n",
       "      <td>0</td>\n",
       "      <td>0</td>\n",
       "      <td>1</td>\n",
       "      <td>0</td>\n",
       "      <td>0</td>\n",
       "      <td>0</td>\n",
       "      <td>1</td>\n",
       "      <td>Shot - Dead (murder, accidental, suicide)</td>\n",
       "      <td>2014</td>\n",
       "      <td>10.2</td>\n",
       "    </tr>\n",
       "  </tbody>\n",
       "</table>\n",
       "</div>"
      ],
      "text/plain": [
       "        date       state  city_or_county  latitude  longitude  \\\n",
       "0 2014-01-01    Arkansas      Pine Bluff   34.2291   -91.9779   \n",
       "1 2014-01-01  California     Bakersfield   35.3229  -119.0380   \n",
       "2 2014-01-01        Iowa       Iowa City   41.6611   -91.5302   \n",
       "3 2014-01-01    New York        Brooklyn   40.6505   -73.9573   \n",
       "4 2014-01-01    Colorado  Grand Junction   39.0496  -108.5250   \n",
       "\n",
       "   congressional_district  participant_age1 participant_age_group1  \\\n",
       "0                       4                26              Adult 18+   \n",
       "1                      23                28              Adult 18+   \n",
       "2                       2                35              Adult 18+   \n",
       "3                       9                28              Adult 18+   \n",
       "4                       3                47              Adult 18+   \n",
       "\n",
       "  participant_gender1  min_age_participants  max_age_participants  \\\n",
       "0                Male                    26                    26   \n",
       "1                Male                    28                    28   \n",
       "2              Female                    35                    35   \n",
       "3                Male                    28                    30   \n",
       "4                Male                    47                    47   \n",
       "\n",
       "   n_participants_child  n_participants_teen  n_females  n_killed  n_injured  \\\n",
       "0                     0                    0          0         0          1   \n",
       "1                     0                    0          0         0          2   \n",
       "2                     0                    0          2         0          1   \n",
       "3                     0                    0          1         0          3   \n",
       "4                     0                    0          0         1          0   \n",
       "\n",
       "   n_arrested  n_unharmed  n_participants  \\\n",
       "0           0           1               2   \n",
       "1           0           0               2   \n",
       "2           0           1               2   \n",
       "3           0           0               3   \n",
       "4           0           0               1   \n",
       "\n",
       "                   incident_characteristics1  year  povertyPercentage  \n",
       "0                     Shot - Wounded/Injured  2014               16.8  \n",
       "1                     Shot - Wounded/Injured  2014               14.5  \n",
       "2                                      other  2014               10.1  \n",
       "3                     Shot - Wounded/Injured  2014               13.4  \n",
       "4  Shot - Dead (murder, accidental, suicide)  2014               10.2  "
      ]
     },
     "execution_count": 3,
     "metadata": {},
     "output_type": "execute_result"
    }
   ],
   "source": [
    "# We need to do merge function from pandas\n",
    "\n",
    "df_merged_incident_poverty = pd.merge(df_incident_du ,df_poverty_du, on=['year', 'state'], how='left')\n",
    "\n",
    "# This produces nans on 70k party columns...\n",
    "#df_merged_incident_votes = pd.merge(df_merged_incident_poverty ,df_years_state_du, on=['year', 'state', 'congressional_district'], how='left')\n",
    "\n",
    "df_merged_incident_poverty.head()\n",
    "\n",
    "#df_merged_incident_votes.head()\n",
    "\n",
    "df_merged = df_merged_incident_poverty.copy()\n",
    "\n",
    "# drop from memory using\n",
    "del [[df_merged_incident_poverty]]\n",
    "\n",
    "# now merge the two merged\n",
    "#df_merged = pd.merge(df_merged_incident_votes ,df_poverty_du, on=['year', 'state'], how='left')\n",
    "\n",
    "df_merged.head()\n"
   ]
  },
  {
   "cell_type": "markdown",
   "metadata": {},
   "source": [
    "# Implementation of default indexes\n",
    "### 1. *How many males are involved in incidents w.r.t. the total number of males for the same city and in the same period?*"
   ]
  },
  {
   "cell_type": "code",
   "execution_count": 4,
   "metadata": {},
   "outputs": [],
   "source": [
    "# Filter the DataFrame to include only rows where gender is specified as male\n",
    "male_incidents = df_merged.copy()\n",
    "male_incidents['n_males'] = male_incidents['n_participants'] - male_incidents['n_females']\n",
    "\n",
    "male_incidents = male_incidents[male_incidents['n_males'] > 0]\n",
    "\n",
    "\n",
    "# Group by city and year, and count the number of males involved in incidents\n",
    "male_incidents_count = male_incidents.groupby(['state', 'city_or_county', 'year'])['n_participants'].sum().reset_index()\n",
    "\n",
    "# Total males and females for each city and year\n",
    "male_plus_female_count = df_merged.groupby(['state', 'city_or_county', 'year'])['n_participants'].sum().reset_index()\n",
    "\n",
    "# Merge the total number of males involved in incidents per city and year back to the original DataFrame\n",
    "merged_with_total_males = pd.merge(male_plus_female_count, male_incidents_count, on=['state', 'city_or_county', 'year'], suffixes=('_total', '_total_male'))\n",
    "\n",
    "\n",
    "# Calculate the indicator: number of males involved in incidents w.r.t. the total number of males for the same city and in the same period\n",
    "merged_with_total_males['males_indicator'] = merged_with_total_males['n_participants_total'] / merged_with_total_males['n_participants_total_male']\n",
    "\n",
    "# Drop unnecessary columns\n",
    "merged_with_total_males = merged_with_total_males.drop(['n_participants_total', 'n_participants_total_male'], axis=1)\n",
    "\n",
    "#Merge the new indicator to the original DataFrame\n",
    "df_merged = pd.merge(df_merged, merged_with_total_males, on=['state', 'city_or_county', 'year'])\n",
    "\n"
   ]
  },
  {
   "cell_type": "code",
   "execution_count": 5,
   "metadata": {},
   "outputs": [
    {
     "data": {
      "image/png": "[encoded data removed]",
      "text/plain": [
       "<Figure size 1000x600 with 1 Axes>"
      ]
     },
     "metadata": {},
     "output_type": "display_data"
    }
   ],
   "source": [
    "# Filter the indicator data for better visualization (optional step)\n",
    "indicator_data = merged_with_total_males[['state', 'city_or_county', 'year', 'males_indicator']]\n",
    "\n",
    "# Calculate the mean indicator value per city and year\n",
    "mean_indicator_per_city_year = indicator_data.groupby(['state', 'city_or_county', 'year'])['males_indicator'].mean().reset_index()\n",
    "\n",
    "# Plotting\n",
    "plt.figure(figsize=(10, 6))\n",
    "plt.bar(mean_indicator_per_city_year.index, mean_indicator_per_city_year['males_indicator'], color='skyblue')\n",
    "plt.xlabel('City-Year Index')\n",
    "plt.ylabel('Indicator Value')\n",
    "plt.title('Indicator: Males involved in incidents vs. Total Males in the Same City and Period')\n",
    "plt.xticks(rotation=45)\n",
    "plt.tight_layout()\n",
    "plt.show()"
   ]
  },
  {
   "cell_type": "markdown",
   "metadata": {},
   "source": [
    "In most of the incidents the ratio is equal to 1 but some incidents report an increased partecipation of mlaes respect to the total males in the smame period for the same city. Let's analyze in which state and in which city or county those incidents happens:"
   ]
  },
  {
   "cell_type": "code",
   "execution_count": 6,
   "metadata": {},
   "outputs": [
    {
     "name": "stdout",
     "output_type": "stream",
     "text": [
      "State with most incidents where indicator > 1: Florida\n",
      "City/County with most incidents where indicator > 1: Springfield\n"
     ]
    }
   ],
   "source": [
    "# Filter records where the indicator is greater than 1\n",
    "filtered_data = merged_with_total_males[merged_with_total_males['males_indicator'] > 1]\n",
    "\n",
    "# Count the occurrences of each state and city/county\n",
    "state_counts = filtered_data['state'].value_counts()\n",
    "city_counts = filtered_data['city_or_county'].value_counts()\n",
    "\n",
    "# Get the state and city/county with the highest occurrence\n",
    "state_with_most_incidents = state_counts.idxmax()\n",
    "city_with_most_incidents = city_counts.idxmax()\n",
    "\n",
    "# Output the state and city/county with the most incidents where the indicator is > 1\n",
    "print(\"State with most incidents where indicator > 1:\", state_with_most_incidents)\n",
    "print(\"City/County with most incidents where indicator > 1:\", city_with_most_incidents)\n",
    "\n",
    "del [[male_incidents]]\n",
    "del [[merged_with_total_males]]"
   ]
  },
  {
   "cell_type": "markdown",
   "metadata": {},
   "source": [
    "It's noticeable to highlight that the city of Springfield is not in the State of Florida, so can have a relevance for the record that refer the Springfield city."
   ]
  },
  {
   "cell_type": "markdown",
   "metadata": {},
   "source": [
    "\n",
    "## 2. Ratio of the number of the killed people in the incident w.r.t. the number of participants in the incident\n",
    "\n",
    "How we can see the majority of the incidents have a ratio of 0 and there are not a lot of different ration, they are just 7,\n",
    "we could try to discretize this feature in order to have a better visualization. By making this a categorical feature we can see that the majority of the incidents have a ratio of 0 and there are not a lot of different ration, they are just 7.\n",
    "\n",
    "Let's visualize it with a barplot."
   ]
  },
  {
   "cell_type": "code",
   "execution_count": 7,
   "metadata": {},
   "outputs": [],
   "source": [
    "\n",
    "# divide for each incident n_killed by n_participants\n",
    "df_merged['n_killed_per_participant'] = df_merged['n_killed'] / df_merged['n_participants']\n"
   ]
  },
  {
   "cell_type": "code",
   "execution_count": 8,
   "metadata": {},
   "outputs": [
    {
     "name": "stdout",
     "output_type": "stream",
     "text": [
      "n_killed_per_participant\n",
      "0.000000    91989\n",
      "0.250000     1830\n",
      "0.333333     4666\n",
      "0.500000    15824\n",
      "0.666667      860\n",
      "0.750000      136\n",
      "1.000000    18635\n",
      "dtype: int64\n"
     ]
    }
   ],
   "source": [
    "\n",
    "# groupby different value of n_killed_per_participant\n",
    "print(df_merged.groupby('n_killed_per_participant').size())"
   ]
  },
  {
   "cell_type": "markdown",
   "metadata": {},
   "source": [
    "### Discretization of the ratio\n",
    "\n",
    "Let's discretize these values into 3 main categories since we have a lot of incidents with ratio being 0 and this is first category: let's call it: **\"No deaths\"**, these can be those were someone just shot in the air or something like this, we could do more by using the **incidents_charactetistics1** and see what type of those is the majority.\n",
    "\n",
    "Then we have some of incidents with ratio from 0.25, 0.33, 0.5 (that is the majority), 0.66 and 0.75 and this is second category, so incidents where someone died but not all the people involved in the incident: let's call it: **\"Some deaths\"**.\n",
    "\n",
    "Then we have another category with lots of incidents with ratio being 1 and this is third category: **\"All deaths\"**."
   ]
  },
  {
   "cell_type": "code",
   "execution_count": 9,
   "metadata": {},
   "outputs": [
    {
     "data": {
      "text/plain": [
       "<Axes: ylabel='n_killed_per_participant'>"
      ]
     },
     "execution_count": 9,
     "metadata": {},
     "output_type": "execute_result"
    },
    {
     "data": {
      "image/png": "[encoded data removed]",
      "text/plain": [
       "<Figure size 1000x500 with 1 Axes>"
      ]
     },
     "metadata": {},
     "output_type": "display_data"
    }
   ],
   "source": [
    "# Barplot of n_killed_per_participant and number of incidents using our groupby rotated along the y axis\n",
    "df_merged.groupby('n_killed_per_participant').size().plot(kind='barh', figsize=(10, 5), rot=0)\n",
    "\n",
    "#df_merged.groupby('n_killed_per_participant').size().plot(kind='bar', figsize=(10, 5), rot=0)"
   ]
  },
  {
   "cell_type": "code",
   "execution_count": 10,
   "metadata": {},
   "outputs": [],
   "source": [
    "# Discretize by gathering the n_killed_per_participants into 3 categories as we discussed\n",
    "# If ration is [0,0.1), then label is 'No deaths', if ratio is [0.1, 0.75), then label is 'Some deaths', if ratio is [0.75, 1], then label is 'All deaths'\n",
    "\n",
    "ratios = {'No deaths': [0, 0.1], 'Some deaths': [0.1, 0.75], 'All deaths': [0.75, 1]}\n",
    "\n",
    "# map to n_killed_per_participant\n",
    "\n",
    "df_merged['n_killed_per_participant'] = df_merged['n_killed_per_participant'].map(\n",
    "    lambda x: 'No deaths' if x >= ratios['No deaths'][0] and x < ratios['No deaths'][1] else \n",
    "    ('Some deaths' if x >= ratios['Some deaths'][0] and x < ratios['Some deaths'][1] else 'All deaths'))\n"
   ]
  },
  {
   "cell_type": "code",
   "execution_count": 11,
   "metadata": {},
   "outputs": [
    {
     "data": {
      "text/plain": [
       "<Axes: ylabel='n_killed_per_participant'>"
      ]
     },
     "execution_count": 11,
     "metadata": {},
     "output_type": "execute_result"
    },
    {
     "data": {
      "image/png": "[encoded data removed]",
      "text/plain": [
       "<Figure size 1000x500 with 1 Axes>"
      ]
     },
     "metadata": {},
     "output_type": "display_data"
    }
   ],
   "source": [
    "#df_merged.head()\n",
    "# order the categories from 'No deaths' to 'All deaths'\n",
    "df_merged['n_killed_per_participant'] = pd.Categorical(df_merged['n_killed_per_participant'], \n",
    "                                                       categories=['No deaths', 'Some deaths', 'All deaths'], \n",
    "                                                       ordered=True)\n",
    "\n",
    "# Barplot after discretization\n",
    "df_merged.groupby('n_killed_per_participant').size().plot(kind='barh', figsize=(10, 5), rot=0)"
   ]
  },
  {
   "cell_type": "markdown",
   "metadata": {},
   "source": [
    "## 3. How many injured and killed people have been involved w.r.t the total injured and killed people in the same STATE during 2016 - 2018"
   ]
  },
  {
   "cell_type": "markdown",
   "metadata": {},
   "source": []
  },
  {
   "cell_type": "code",
   "execution_count": 12,
   "metadata": {},
   "outputs": [],
   "source": [
    "df_merged_incident_poverty = df_merged.copy()\n",
    "\n",
    "desired_years = [2016, 2017, 2018]\n",
    "\n",
    "df_filtered = df_merged_incident_poverty[df_merged_incident_poverty['year'].isin(desired_years)]\n",
    "# Group by congressional district\n",
    "grouped_district = df_filtered.groupby('state')\n",
    "\n",
    "#number of injured for each district\n",
    "total_injured_district = df_merged_incident_poverty.groupby('state')['n_injured'].sum().reset_index()\n",
    "\n",
    "#number of killed for each district\n",
    "total_killed_district = df_merged_incident_poverty.groupby('state')['n_killed'].sum().reset_index()\n",
    "\n",
    "# Calculate the total number of killed and injured people for each district\n",
    "total_killed_injured = grouped_district[['n_killed', 'n_injured']].sum().reset_index()\n",
    "\n",
    "# Calculate the total number of injured people relative to the total of injured and killed for each district\n",
    "total_killed_injured['percentage_injured'] = (total_killed_injured['n_injured'] / (total_killed_injured['n_killed'] + total_killed_injured['n_injured'])) * 100\n",
    "# Calculate the total number of injured people relative to the total of injured and killed for each district\n",
    "total_killed_injured['percentage_killed'] = (total_killed_injured['n_killed'] / (total_killed_injured['n_killed'] + total_killed_injured['n_injured'])) * 100\n",
    "\n",
    "# Drop the n_killed and n_injured columns as are useless and duplicated\n",
    "total_killed_injured.drop(['n_killed', 'n_injured'], axis=1, inplace=True)\n",
    "\n",
    "# Merge the total_killed_injured DataFrame with the total_killed_district DataFrame\n",
    "df_merged = pd.merge(df_merged, total_killed_injured, on=['state'])\n",
    "\n",
    "\n"
   ]
  },
  {
   "cell_type": "code",
   "execution_count": 13,
   "metadata": {},
   "outputs": [
    {
     "data": {
      "image/png": "[encoded data removed]",
      "text/plain": [
       "<Figure size 1800x500 with 1 Axes>"
      ]
     },
     "metadata": {},
     "output_type": "display_data"
    }
   ],
   "source": [
    "# Plot for combined percentage of killed and injured people\n",
    "plt.figure(figsize=(18, 5))\n",
    "\n",
    "# Order by percentage of killed people\n",
    "total_killed_injured = total_killed_injured.sort_values(by='percentage_killed', ascending=False)\n",
    "\n",
    "# Plotting killed percentage\n",
    "# Plotting injured percentage\n",
    "sns.barplot(x='state', y='percentage_injured', data=total_killed_injured, color='#99b3ff', label='Percentage Injured', alpha = 0.5)\n",
    "sns.barplot(x='state', y='percentage_killed', data=total_killed_injured, color='#ffb3b3', label='Percentage Killed' , alpha = 0.5)\n",
    "plt.title('Combined Percentage of KILLED and INJURED People in each state (2016-2018) wrt killed and injured')\n",
    "plt.xlabel('State')\n",
    "plt.xticks(rotation=90)\n",
    "plt.ylabel('Percentage')\n",
    "plt.legend()\n",
    "\n",
    "plt.show()\n",
    "\n",
    "del [[total_killed_injured]]\n"
   ]
  },
  {
   "cell_type": "markdown",
   "metadata": {},
   "source": [
    "## 4. *Ratio of unharmed people in the incident w.r.t. the average of unharmed people involved in incidents for the same period*"
   ]
  },
  {
   "cell_type": "markdown",
   "metadata": {},
   "source": [
    "Due to dataframe dimension we computed the fourth index in another Notebook to avoid kernel panic. \n",
    "\n",
    "We save the result and retrieve the aggregated dataset from the file `index_4_cleaned.csv` to join the new indicator with the already computed in DF `df_merged`."
   ]
  },
  {
   "cell_type": "code",
   "execution_count": 14,
   "metadata": {},
   "outputs": [],
   "source": [
    "df_merged_unharmed = pd.read_csv('../ds/cleaned/index_4_cleaned.csv')"
   ]
  },
  {
   "cell_type": "code",
   "execution_count": 15,
   "metadata": {},
   "outputs": [
    {
     "data": {
      "image/png": "[encoded data removed]",
      "text/plain": [
       "<Figure size 1000x600 with 1 Axes>"
      ]
     },
     "metadata": {},
     "output_type": "display_data"
    }
   ],
   "source": [
    "plt.figure(figsize=(10, 6))\n",
    "plt.plot(df_merged_unharmed['year'], df_merged_unharmed['unharmed_ratio'], marker='o', linestyle='-', color='skyblue')\n",
    "plt.xlabel('Year')\n",
    "plt.ylabel('Unharmed Ratio')\n",
    "plt.title('Ratio of Unharmed People in Incident vs. Average Unharmed People for the Year (Line Plot)')\n",
    "plt.grid(True)\n",
    "plt.show()"
   ]
  },
  {
   "cell_type": "markdown",
   "metadata": {},
   "source": [
    "Another visualization is by using the bar chart:"
   ]
  },
  {
   "cell_type": "code",
   "execution_count": 17,
   "metadata": {},
   "outputs": [],
   "source": [
    "\"\"\"\n",
    "plt.figure(figsize=(10, 6))\n",
    "plt.bar(df_merged_unharmed['year'], df_merged_unharmed['unharmed_ratio'], color='skyblue')\n",
    "plt.xlabel('Year')\n",
    "plt.ylabel('Unharmed Ratio')\n",
    "plt.title('Ratio of Unharmed People in Incident vs. Average Unharmed People for the Year (Bar Plot)')\n",
    "plt.show()\n",
    "\"\"\"\n",
    "\n",
    "df_merged = pd.merge(df_merged, df_merged_unharmed, on=['year'])\n"
   ]
  },
  {
   "cell_type": "code",
   "execution_count": 18,
   "metadata": {},
   "outputs": [
    {
     "data": {
      "text/html": [
       "<div>\n",
       "<style scoped>\n",
       "    .dataframe tbody tr th:only-of-type {\n",
       "        vertical-align: middle;\n",
       "    }\n",
       "\n",
       "    .dataframe tbody tr th {\n",
       "        vertical-align: top;\n",
       "    }\n",
       "\n",
       "    .dataframe thead th {\n",
       "        text-align: right;\n",
       "    }\n",
       "</style>\n",
       "<table border=\"1\" class=\"dataframe\">\n",
       "  <thead>\n",
       "    <tr style=\"text-align: right;\">\n",
       "      <th></th>\n",
       "      <th>date</th>\n",
       "      <th>state</th>\n",
       "      <th>city_or_county</th>\n",
       "      <th>latitude</th>\n",
       "      <th>longitude</th>\n",
       "      <th>congressional_district</th>\n",
       "      <th>participant_age1</th>\n",
       "      <th>participant_age_group1</th>\n",
       "      <th>participant_gender1</th>\n",
       "      <th>min_age_participants</th>\n",
       "      <th>max_age_participants</th>\n",
       "      <th>n_participants_child</th>\n",
       "      <th>n_participants_teen</th>\n",
       "      <th>n_females</th>\n",
       "      <th>n_killed</th>\n",
       "      <th>n_injured</th>\n",
       "      <th>n_arrested</th>\n",
       "      <th>n_unharmed</th>\n",
       "      <th>n_participants</th>\n",
       "      <th>incident_characteristics1</th>\n",
       "      <th>year</th>\n",
       "      <th>povertyPercentage</th>\n",
       "      <th>males_indicator</th>\n",
       "      <th>n_killed_per_participant</th>\n",
       "      <th>percentage_injured</th>\n",
       "      <th>percentage_killed</th>\n",
       "      <th>unharmed_ratio</th>\n",
       "    </tr>\n",
       "  </thead>\n",
       "  <tbody>\n",
       "    <tr>\n",
       "      <th>0</th>\n",
       "      <td>2014-01-01</td>\n",
       "      <td>Arkansas</td>\n",
       "      <td>Pine Bluff</td>\n",
       "      <td>34.2291</td>\n",
       "      <td>-91.9779</td>\n",
       "      <td>4</td>\n",
       "      <td>26</td>\n",
       "      <td>Adult 18+</td>\n",
       "      <td>Male</td>\n",
       "      <td>26</td>\n",
       "      <td>26</td>\n",
       "      <td>0</td>\n",
       "      <td>0</td>\n",
       "      <td>0</td>\n",
       "      <td>0</td>\n",
       "      <td>1</td>\n",
       "      <td>0</td>\n",
       "      <td>1</td>\n",
       "      <td>2</td>\n",
       "      <td>Shot - Wounded/Injured</td>\n",
       "      <td>2014</td>\n",
       "      <td>16.8</td>\n",
       "      <td>1.0</td>\n",
       "      <td>No deaths</td>\n",
       "      <td>58.850575</td>\n",
       "      <td>41.149425</td>\n",
       "      <td>0.000000</td>\n",
       "    </tr>\n",
       "    <tr>\n",
       "      <th>1</th>\n",
       "      <td>2014-01-01</td>\n",
       "      <td>Arkansas</td>\n",
       "      <td>Pine Bluff</td>\n",
       "      <td>34.2291</td>\n",
       "      <td>-91.9779</td>\n",
       "      <td>4</td>\n",
       "      <td>26</td>\n",
       "      <td>Adult 18+</td>\n",
       "      <td>Male</td>\n",
       "      <td>26</td>\n",
       "      <td>26</td>\n",
       "      <td>0</td>\n",
       "      <td>0</td>\n",
       "      <td>0</td>\n",
       "      <td>0</td>\n",
       "      <td>1</td>\n",
       "      <td>0</td>\n",
       "      <td>1</td>\n",
       "      <td>2</td>\n",
       "      <td>Shot - Wounded/Injured</td>\n",
       "      <td>2014</td>\n",
       "      <td>16.8</td>\n",
       "      <td>1.0</td>\n",
       "      <td>No deaths</td>\n",
       "      <td>58.850575</td>\n",
       "      <td>41.149425</td>\n",
       "      <td>1.172595</td>\n",
       "    </tr>\n",
       "    <tr>\n",
       "      <th>2</th>\n",
       "      <td>2014-01-01</td>\n",
       "      <td>Arkansas</td>\n",
       "      <td>Pine Bluff</td>\n",
       "      <td>34.2291</td>\n",
       "      <td>-91.9779</td>\n",
       "      <td>4</td>\n",
       "      <td>26</td>\n",
       "      <td>Adult 18+</td>\n",
       "      <td>Male</td>\n",
       "      <td>26</td>\n",
       "      <td>26</td>\n",
       "      <td>0</td>\n",
       "      <td>0</td>\n",
       "      <td>0</td>\n",
       "      <td>0</td>\n",
       "      <td>1</td>\n",
       "      <td>0</td>\n",
       "      <td>1</td>\n",
       "      <td>2</td>\n",
       "      <td>Shot - Wounded/Injured</td>\n",
       "      <td>2014</td>\n",
       "      <td>16.8</td>\n",
       "      <td>1.0</td>\n",
       "      <td>No deaths</td>\n",
       "      <td>58.850575</td>\n",
       "      <td>41.149425</td>\n",
       "      <td>2.345189</td>\n",
       "    </tr>\n",
       "    <tr>\n",
       "      <th>3</th>\n",
       "      <td>2014-01-01</td>\n",
       "      <td>Arkansas</td>\n",
       "      <td>Pine Bluff</td>\n",
       "      <td>34.2291</td>\n",
       "      <td>-91.9779</td>\n",
       "      <td>4</td>\n",
       "      <td>26</td>\n",
       "      <td>Adult 18+</td>\n",
       "      <td>Male</td>\n",
       "      <td>26</td>\n",
       "      <td>26</td>\n",
       "      <td>0</td>\n",
       "      <td>0</td>\n",
       "      <td>0</td>\n",
       "      <td>0</td>\n",
       "      <td>1</td>\n",
       "      <td>0</td>\n",
       "      <td>1</td>\n",
       "      <td>2</td>\n",
       "      <td>Shot - Wounded/Injured</td>\n",
       "      <td>2014</td>\n",
       "      <td>16.8</td>\n",
       "      <td>1.0</td>\n",
       "      <td>No deaths</td>\n",
       "      <td>58.850575</td>\n",
       "      <td>41.149425</td>\n",
       "      <td>3.517784</td>\n",
       "    </tr>\n",
       "    <tr>\n",
       "      <th>4</th>\n",
       "      <td>2014-01-01</td>\n",
       "      <td>Arkansas</td>\n",
       "      <td>Pine Bluff</td>\n",
       "      <td>34.2291</td>\n",
       "      <td>-91.9779</td>\n",
       "      <td>4</td>\n",
       "      <td>26</td>\n",
       "      <td>Adult 18+</td>\n",
       "      <td>Male</td>\n",
       "      <td>26</td>\n",
       "      <td>26</td>\n",
       "      <td>0</td>\n",
       "      <td>0</td>\n",
       "      <td>0</td>\n",
       "      <td>0</td>\n",
       "      <td>1</td>\n",
       "      <td>0</td>\n",
       "      <td>1</td>\n",
       "      <td>2</td>\n",
       "      <td>Shot - Wounded/Injured</td>\n",
       "      <td>2014</td>\n",
       "      <td>16.8</td>\n",
       "      <td>1.0</td>\n",
       "      <td>No deaths</td>\n",
       "      <td>58.850575</td>\n",
       "      <td>41.149425</td>\n",
       "      <td>4.690378</td>\n",
       "    </tr>\n",
       "  </tbody>\n",
       "</table>\n",
       "</div>"
      ],
      "text/plain": [
       "        date     state city_or_county  latitude  longitude  \\\n",
       "0 2014-01-01  Arkansas     Pine Bluff   34.2291   -91.9779   \n",
       "1 2014-01-01  Arkansas     Pine Bluff   34.2291   -91.9779   \n",
       "2 2014-01-01  Arkansas     Pine Bluff   34.2291   -91.9779   \n",
       "3 2014-01-01  Arkansas     Pine Bluff   34.2291   -91.9779   \n",
       "4 2014-01-01  Arkansas     Pine Bluff   34.2291   -91.9779   \n",
       "\n",
       "   congressional_district  participant_age1 participant_age_group1  \\\n",
       "0                       4                26              Adult 18+   \n",
       "1                       4                26              Adult 18+   \n",
       "2                       4                26              Adult 18+   \n",
       "3                       4                26              Adult 18+   \n",
       "4                       4                26              Adult 18+   \n",
       "\n",
       "  participant_gender1  min_age_participants  max_age_participants  \\\n",
       "0                Male                    26                    26   \n",
       "1                Male                    26                    26   \n",
       "2                Male                    26                    26   \n",
       "3                Male                    26                    26   \n",
       "4                Male                    26                    26   \n",
       "\n",
       "   n_participants_child  n_participants_teen  n_females  n_killed  n_injured  \\\n",
       "0                     0                    0          0         0          1   \n",
       "1                     0                    0          0         0          1   \n",
       "2                     0                    0          0         0          1   \n",
       "3                     0                    0          0         0          1   \n",
       "4                     0                    0          0         0          1   \n",
       "\n",
       "   n_arrested  n_unharmed  n_participants incident_characteristics1  year  \\\n",
       "0           0           1               2    Shot - Wounded/Injured  2014   \n",
       "1           0           1               2    Shot - Wounded/Injured  2014   \n",
       "2           0           1               2    Shot - Wounded/Injured  2014   \n",
       "3           0           1               2    Shot - Wounded/Injured  2014   \n",
       "4           0           1               2    Shot - Wounded/Injured  2014   \n",
       "\n",
       "   povertyPercentage  males_indicator n_killed_per_participant  \\\n",
       "0               16.8              1.0                No deaths   \n",
       "1               16.8              1.0                No deaths   \n",
       "2               16.8              1.0                No deaths   \n",
       "3               16.8              1.0                No deaths   \n",
       "4               16.8              1.0                No deaths   \n",
       "\n",
       "   percentage_injured  percentage_killed  unharmed_ratio  \n",
       "0           58.850575          41.149425        0.000000  \n",
       "1           58.850575          41.149425        1.172595  \n",
       "2           58.850575          41.149425        2.345189  \n",
       "3           58.850575          41.149425        3.517784  \n",
       "4           58.850575          41.149425        4.690378  "
      ]
     },
     "execution_count": 18,
     "metadata": {},
     "output_type": "execute_result"
    }
   ],
   "source": [
    "df_merged.head()\n"
   ]
  },
  {
   "cell_type": "markdown",
   "metadata": {},
   "source": [
    "## Number of incident density per state\n",
    "\n",
    "Let visualize with the map and the density of incidents per state."
   ]
  },
  {
   "cell_type": "code",
   "execution_count": 19,
   "metadata": {},
   "outputs": [
    {
     "data": {
      "application/vnd.plotly.v1+json": {
       "config": {
        "linkText": "Export to plot.ly",
        "plotlyServerURL": "https://plot.ly",
        "showLink": false
       },
       "data": [
        {
         "type": "bar",
         "x": [
          "Wyoming",
          "Hawaii",
          "Vermont",
          "South Dakota",
          "North Dakota",
          "Montana",
          "Idaho",
          "Maine",
          "New Hampshire",
          "Rhode Island",
          "District of Columbia",
          "Utah",
          "Alaska",
          "West Virginia",
          "New Mexico",
          "Nevada",
          "Nebraska",
          "Delaware",
          "Minnesota",
          "Kansas",
          "Arizona",
          "Oregon",
          "Iowa",
          "Colorado",
          "Connecticut",
          "Oklahoma",
          "Arkansas",
          "Mississippi",
          "Washington",
          "Kentucky",
          "Wisconsin",
          "Alabama",
          "Virginia",
          "Massachusetts",
          "Indiana",
          "Maryland",
          "Michigan",
          "New Jersey",
          "Tennessee",
          "Missouri",
          "South Carolina",
          "North Carolina",
          "Louisiana",
          "Georgia",
          "Pennsylvania",
          "Ohio",
          "New York",
          "Texas",
          "Florida",
          "California",
          "Illinois"
         ],
         "y": [
          0,
          0.003682024169184292,
          0.00878021148036254,
          0.008921827794561936,
          0.012603851963746223,
          0.017796450151057405,
          0.01954305135951662,
          0.02827605740181269,
          0.029078549848942602,
          0.03181646525679758,
          0.03394070996978852,
          0.03936933534743202,
          0.04399546827794562,
          0.05891238670694865,
          0.06283043806646525,
          0.06665407854984895,
          0.0680702416918429,
          0.07274358006042296,
          0.08006042296072508,
          0.08548904833836858,
          0.08766049848942599,
          0.09398602719033232,
          0.09677114803625378,
          0.09724320241691843,
          0.12820996978851965,
          0.12887084592145015,
          0.13562122356495468,
          0.14817787009063443,
          0.15766616314199397,
          0.17409365558912387,
          0.20642938066465258,
          0.23550793051359517,
          0.23659365558912387,
          0.2372545317220544,
          0.24424093655589127,
          0.24452416918429007,
          0.27020392749244715,
          0.271714501510574,
          0.2931929758308157,
          0.30027379154078554,
          0.3068353474320242,
          0.3888311933534743,
          0.41210347432024175,
          0.4129059667673716,
          0.42862537764350456,
          0.4647375377643505,
          0.5340351208459214,
          0.5801076283987916,
          0.6260857250755287,
          0.6389256042296073,
          1
         ]
        }
       ],
       "layout": {
        "template": {
         "data": {
          "bar": [
           {
            "error_x": {
             "color": "#2a3f5f"
            },
            "error_y": {
             "color": "#2a3f5f"
            },
            "marker": {
             "line": {
              "color": "#E5ECF6",
              "width": 0.5
             },
             "pattern": {
              "fillmode": "overlay",
              "size": 10,
              "solidity": 0.2
             }
            },
            "type": "bar"
           }
          ],
          "barpolar": [
           {
            "marker": {
             "line": {
              "color": "#E5ECF6",
              "width": 0.5
             },
             "pattern": {
              "fillmode": "overlay",
              "size": 10,
              "solidity": 0.2
             }
            },
            "type": "barpolar"
           }
          ],
          "carpet": [
           {
            "aaxis": {
             "endlinecolor": "#2a3f5f",
             "gridcolor": "white",
             "linecolor": "white",
             "minorgridcolor": "white",
             "startlinecolor": "#2a3f5f"
            },
            "baxis": {
             "endlinecolor": "#2a3f5f",
             "gridcolor": "white",
             "linecolor": "white",
             "minorgridcolor": "white",
             "startlinecolor": "#2a3f5f"
            },
            "type": "carpet"
           }
          ],
          "choropleth": [
           {
            "colorbar": {
             "outlinewidth": 0,
             "ticks": ""
            },
            "type": "choropleth"
           }
          ],
          "contour": [
           {
            "colorbar": {
             "outlinewidth": 0,
             "ticks": ""
            },
            "colorscale": [
             [
              0,
              "#0d0887"
             ],
             [
              0.1111111111111111,
              "#46039f"
             ],
             [
              0.2222222222222222,
              "#7201a8"
             ],
             [
              0.3333333333333333,
              "#9c179e"
             ],
             [
              0.4444444444444444,
              "#bd3786"
             ],
             [
              0.5555555555555556,
              "#d8576b"
             ],
             [
              0.6666666666666666,
              "#ed7953"
             ],
             [
              0.7777777777777778,
              "#fb9f3a"
             ],
             [
              0.8888888888888888,
              "#fdca26"
             ],
             [
              1,
              "#f0f921"
             ]
            ],
            "type": "contour"
           }
          ],
          "contourcarpet": [
           {
            "colorbar": {
             "outlinewidth": 0,
             "ticks": ""
            },
            "type": "contourcarpet"
           }
          ],
          "heatmap": [
           {
            "colorbar": {
             "outlinewidth": 0,
             "ticks": ""
            },
            "colorscale": [
             [
              0,
              "#0d0887"
             ],
             [
              0.1111111111111111,
              "#46039f"
             ],
             [
              0.2222222222222222,
              "#7201a8"
             ],
             [
              0.3333333333333333,
              "#9c179e"
             ],
             [
              0.4444444444444444,
              "#bd3786"
             ],
             [
              0.5555555555555556,
              "#d8576b"
             ],
             [
              0.6666666666666666,
              "#ed7953"
             ],
             [
              0.7777777777777778,
              "#fb9f3a"
             ],
             [
              0.8888888888888888,
              "#fdca26"
             ],
             [
              1,
              "#f0f921"
             ]
            ],
            "type": "heatmap"
           }
          ],
          "heatmapgl": [
           {
            "colorbar": {
             "outlinewidth": 0,
             "ticks": ""
            },
            "colorscale": [
             [
              0,
              "#0d0887"
             ],
             [
              0.1111111111111111,
              "#46039f"
             ],
             [
              0.2222222222222222,
              "#7201a8"
             ],
             [
              0.3333333333333333,
              "#9c179e"
             ],
             [
              0.4444444444444444,
              "#bd3786"
             ],
             [
              0.5555555555555556,
              "#d8576b"
             ],
             [
              0.6666666666666666,
              "#ed7953"
             ],
             [
              0.7777777777777778,
              "#fb9f3a"
             ],
             [
              0.8888888888888888,
              "#fdca26"
             ],
             [
              1,
              "#f0f921"
             ]
            ],
            "type": "heatmapgl"
           }
          ],
          "histogram": [
           {
            "marker": {
             "pattern": {
              "fillmode": "overlay",
              "size": 10,
              "solidity": 0.2
             }
            },
            "type": "histogram"
           }
          ],
          "histogram2d": [
           {
            "colorbar": {
             "outlinewidth": 0,
             "ticks": ""
            },
            "colorscale": [
             [
              0,
              "#0d0887"
             ],
             [
              0.1111111111111111,
              "#46039f"
             ],
             [
              0.2222222222222222,
              "#7201a8"
             ],
             [
              0.3333333333333333,
              "#9c179e"
             ],
             [
              0.4444444444444444,
              "#bd3786"
             ],
             [
              0.5555555555555556,
              "#d8576b"
             ],
             [
              0.6666666666666666,
              "#ed7953"
             ],
             [
              0.7777777777777778,
              "#fb9f3a"
             ],
             [
              0.8888888888888888,
              "#fdca26"
             ],
             [
              1,
              "#f0f921"
             ]
            ],
            "type": "histogram2d"
           }
          ],
          "histogram2dcontour": [
           {
            "colorbar": {
             "outlinewidth": 0,
             "ticks": ""
            },
            "colorscale": [
             [
              0,
              "#0d0887"
             ],
             [
              0.1111111111111111,
              "#46039f"
             ],
             [
              0.2222222222222222,
              "#7201a8"
             ],
             [
              0.3333333333333333,
              "#9c179e"
             ],
             [
              0.4444444444444444,
              "#bd3786"
             ],
             [
              0.5555555555555556,
              "#d8576b"
             ],
             [
              0.6666666666666666,
              "#ed7953"
             ],
             [
              0.7777777777777778,
              "#fb9f3a"
             ],
             [
              0.8888888888888888,
              "#fdca26"
             ],
             [
              1,
              "#f0f921"
             ]
            ],
            "type": "histogram2dcontour"
           }
          ],
          "mesh3d": [
           {
            "colorbar": {
             "outlinewidth": 0,
             "ticks": ""
            },
            "type": "mesh3d"
           }
          ],
          "parcoords": [
           {
            "line": {
             "colorbar": {
              "outlinewidth": 0,
              "ticks": ""
             }
            },
            "type": "parcoords"
           }
          ],
          "pie": [
           {
            "automargin": true,
            "type": "pie"
           }
          ],
          "scatter": [
           {
            "fillpattern": {
             "fillmode": "overlay",
             "size": 10,
             "solidity": 0.2
            },
            "type": "scatter"
           }
          ],
          "scatter3d": [
           {
            "line": {
             "colorbar": {
              "outlinewidth": 0,
              "ticks": ""
             }
            },
            "marker": {
             "colorbar": {
              "outlinewidth": 0,
              "ticks": ""
             }
            },
            "type": "scatter3d"
           }
          ],
          "scattercarpet": [
           {
            "marker": {
             "colorbar": {
              "outlinewidth": 0,
              "ticks": ""
             }
            },
            "type": "scattercarpet"
           }
          ],
          "scattergeo": [
           {
            "marker": {
             "colorbar": {
              "outlinewidth": 0,
              "ticks": ""
             }
            },
            "type": "scattergeo"
           }
          ],
          "scattergl": [
           {
            "marker": {
             "colorbar": {
              "outlinewidth": 0,
              "ticks": ""
             }
            },
            "type": "scattergl"
           }
          ],
          "scattermapbox": [
           {
            "marker": {
             "colorbar": {
              "outlinewidth": 0,
              "ticks": ""
             }
            },
            "type": "scattermapbox"
           }
          ],
          "scatterpolar": [
           {
            "marker": {
             "colorbar": {
              "outlinewidth": 0,
              "ticks": ""
             }
            },
            "type": "scatterpolar"
           }
          ],
          "scatterpolargl": [
           {
            "marker": {
             "colorbar": {
              "outlinewidth": 0,
              "ticks": ""
             }
            },
            "type": "scatterpolargl"
           }
          ],
          "scatterternary": [
           {
            "marker": {
             "colorbar": {
              "outlinewidth": 0,
              "ticks": ""
             }
            },
            "type": "scatterternary"
           }
          ],
          "surface": [
           {
            "colorbar": {
             "outlinewidth": 0,
             "ticks": ""
            },
            "colorscale": [
             [
              0,
              "#0d0887"
             ],
             [
              0.1111111111111111,
              "#46039f"
             ],
             [
              0.2222222222222222,
              "#7201a8"
             ],
             [
              0.3333333333333333,
              "#9c179e"
             ],
             [
              0.4444444444444444,
              "#bd3786"
             ],
             [
              0.5555555555555556,
              "#d8576b"
             ],
             [
              0.6666666666666666,
              "#ed7953"
             ],
             [
              0.7777777777777778,
              "#fb9f3a"
             ],
             [
              0.8888888888888888,
              "#fdca26"
             ],
             [
              1,
              "#f0f921"
             ]
            ],
            "type": "surface"
           }
          ],
          "table": [
           {
            "cells": {
             "fill": {
              "color": "#EBF0F8"
             },
             "line": {
              "color": "white"
             }
            },
            "header": {
             "fill": {
              "color": "#C8D4E3"
             },
             "line": {
              "color": "white"
             }
            },
            "type": "table"
           }
          ]
         },
         "layout": {
          "annotationdefaults": {
           "arrowcolor": "#2a3f5f",
           "arrowhead": 0,
           "arrowwidth": 1
          },
          "autotypenumbers": "strict",
          "coloraxis": {
           "colorbar": {
            "outlinewidth": 0,
            "ticks": ""
           }
          },
          "colorscale": {
           "diverging": [
            [
             0,
             "#8e0152"
            ],
            [
             0.1,
             "#c51b7d"
            ],
            [
             0.2,
             "#de77ae"
            ],
            [
             0.3,
             "#f1b6da"
            ],
            [
             0.4,
             "#fde0ef"
            ],
            [
             0.5,
             "#f7f7f7"
            ],
            [
             0.6,
             "#e6f5d0"
            ],
            [
             0.7,
             "#b8e186"
            ],
            [
             0.8,
             "#7fbc41"
            ],
            [
             0.9,
             "#4d9221"
            ],
            [
             1,
             "#276419"
            ]
           ],
           "sequential": [
            [
             0,
             "#0d0887"
            ],
            [
             0.1111111111111111,
             "#46039f"
            ],
            [
             0.2222222222222222,
             "#7201a8"
            ],
            [
             0.3333333333333333,
             "#9c179e"
            ],
            [
             0.4444444444444444,
             "#bd3786"
            ],
            [
             0.5555555555555556,
             "#d8576b"
            ],
            [
             0.6666666666666666,
             "#ed7953"
            ],
            [
             0.7777777777777778,
             "#fb9f3a"
            ],
            [
             0.8888888888888888,
             "#fdca26"
            ],
            [
             1,
             "#f0f921"
            ]
           ],
           "sequentialminus": [
            [
             0,
             "#0d0887"
            ],
            [
             0.1111111111111111,
             "#46039f"
            ],
            [
             0.2222222222222222,
             "#7201a8"
            ],
            [
             0.3333333333333333,
             "#9c179e"
            ],
            [
             0.4444444444444444,
             "#bd3786"
            ],
            [
             0.5555555555555556,
             "#d8576b"
            ],
            [
             0.6666666666666666,
             "#ed7953"
            ],
            [
             0.7777777777777778,
             "#fb9f3a"
            ],
            [
             0.8888888888888888,
             "#fdca26"
            ],
            [
             1,
             "#f0f921"
            ]
           ]
          },
          "colorway": [
           "#636efa",
           "#EF553B",
           "#00cc96",
           "#ab63fa",
           "#FFA15A",
           "#19d3f3",
           "#FF6692",
           "#B6E880",
           "#FF97FF",
           "#FECB52"
          ],
          "font": {
           "color": "#2a3f5f"
          },
          "geo": {
           "bgcolor": "white",
           "lakecolor": "white",
           "landcolor": "#E5ECF6",
           "showlakes": true,
           "showland": true,
           "subunitcolor": "white"
          },
          "hoverlabel": {
           "align": "left"
          },
          "hovermode": "closest",
          "mapbox": {
           "style": "light"
          },
          "paper_bgcolor": "white",
          "plot_bgcolor": "#E5ECF6",
          "polar": {
           "angularaxis": {
            "gridcolor": "white",
            "linecolor": "white",
            "ticks": ""
           },
           "bgcolor": "#E5ECF6",
           "radialaxis": {
            "gridcolor": "white",
            "linecolor": "white",
            "ticks": ""
           }
          },
          "scene": {
           "xaxis": {
            "backgroundcolor": "#E5ECF6",
            "gridcolor": "white",
            "gridwidth": 2,
            "linecolor": "white",
            "showbackground": true,
            "ticks": "",
            "zerolinecolor": "white"
           },
           "yaxis": {
            "backgroundcolor": "#E5ECF6",
            "gridcolor": "white",
            "gridwidth": 2,
            "linecolor": "white",
            "showbackground": true,
            "ticks": "",
            "zerolinecolor": "white"
           },
           "zaxis": {
            "backgroundcolor": "#E5ECF6",
            "gridcolor": "white",
            "gridwidth": 2,
            "linecolor": "white",
            "showbackground": true,
            "ticks": "",
            "zerolinecolor": "white"
           }
          },
          "shapedefaults": {
           "line": {
            "color": "#2a3f5f"
           }
          },
          "ternary": {
           "aaxis": {
            "gridcolor": "white",
            "linecolor": "white",
            "ticks": ""
           },
           "baxis": {
            "gridcolor": "white",
            "linecolor": "white",
            "ticks": ""
           },
           "bgcolor": "#E5ECF6",
           "caxis": {
            "gridcolor": "white",
            "linecolor": "white",
            "ticks": ""
           }
          },
          "title": {
           "x": 0.05
          },
          "xaxis": {
           "automargin": true,
           "gridcolor": "white",
           "linecolor": "white",
           "ticks": "",
           "title": {
            "standoff": 15
           },
           "zerolinecolor": "white",
           "zerolinewidth": 2
          },
          "yaxis": {
           "automargin": true,
           "gridcolor": "white",
           "linecolor": "white",
           "ticks": "",
           "title": {
            "standoff": 15
           },
           "zerolinecolor": "white",
           "zerolinewidth": 2
          }
         }
        }
       }
      }
     },
     "metadata": {},
     "output_type": "display_data"
    }
   ],
   "source": [
    "import plotly.graph_objs as go\n",
    "\n",
    "# density of incident per state\n",
    "\n",
    "# Densities are n_participants in that state divided by the total number of participants in the dataset\n",
    "densities = df_merged.groupby('state')['n_participants'].sum()/ df_merged['n_participants'].sum()\n",
    "\n",
    "# normalize densities using min-max normalization\n",
    "densities = (densities - densities.min()) / (densities.max() - densities.min())\n",
    "\n",
    "# order by density\n",
    "densities = densities.sort_values()\n",
    "\n",
    "# plot a bar plot\n",
    "\n",
    "data = [go.Bar(\n",
    "            x=densities.index, # assign x as the dataframe column 'x'\n",
    "            y=densities.values\n",
    "    )]  \n",
    "\n",
    "py.iplot(data, filename='basic-bar')\n",
    "\n",
    "# add this as index to the dataframe\n",
    "df_merged['density_incident_state'] = df_merged['state'].map(densities)\n"
   ]
  },
  {
   "cell_type": "code",
   "execution_count": 20,
   "metadata": {},
   "outputs": [
    {
     "data": {
      "text/html": [
       "<div>\n",
       "<style scoped>\n",
       "    .dataframe tbody tr th:only-of-type {\n",
       "        vertical-align: middle;\n",
       "    }\n",
       "\n",
       "    .dataframe tbody tr th {\n",
       "        vertical-align: top;\n",
       "    }\n",
       "\n",
       "    .dataframe thead th {\n",
       "        text-align: right;\n",
       "    }\n",
       "</style>\n",
       "<table border=\"1\" class=\"dataframe\">\n",
       "  <thead>\n",
       "    <tr style=\"text-align: right;\">\n",
       "      <th></th>\n",
       "      <th>date</th>\n",
       "      <th>state</th>\n",
       "      <th>city_or_county</th>\n",
       "      <th>latitude</th>\n",
       "      <th>longitude</th>\n",
       "      <th>congressional_district</th>\n",
       "      <th>participant_age1</th>\n",
       "      <th>participant_age_group1</th>\n",
       "      <th>participant_gender1</th>\n",
       "      <th>min_age_participants</th>\n",
       "      <th>max_age_participants</th>\n",
       "      <th>n_participants_child</th>\n",
       "      <th>n_participants_teen</th>\n",
       "      <th>n_females</th>\n",
       "      <th>n_killed</th>\n",
       "      <th>n_injured</th>\n",
       "      <th>n_arrested</th>\n",
       "      <th>n_unharmed</th>\n",
       "      <th>n_participants</th>\n",
       "      <th>incident_characteristics1</th>\n",
       "      <th>year</th>\n",
       "      <th>povertyPercentage</th>\n",
       "      <th>males_indicator</th>\n",
       "      <th>n_killed_per_participant</th>\n",
       "      <th>percentage_injured</th>\n",
       "      <th>percentage_killed</th>\n",
       "      <th>unharmed_ratio</th>\n",
       "      <th>density_incident_state</th>\n",
       "    </tr>\n",
       "  </thead>\n",
       "  <tbody>\n",
       "    <tr>\n",
       "      <th>0</th>\n",
       "      <td>2014-01-01</td>\n",
       "      <td>Arkansas</td>\n",
       "      <td>Pine Bluff</td>\n",
       "      <td>34.2291</td>\n",
       "      <td>-91.9779</td>\n",
       "      <td>4</td>\n",
       "      <td>26</td>\n",
       "      <td>Adult 18+</td>\n",
       "      <td>Male</td>\n",
       "      <td>26</td>\n",
       "      <td>26</td>\n",
       "      <td>0</td>\n",
       "      <td>0</td>\n",
       "      <td>0</td>\n",
       "      <td>0</td>\n",
       "      <td>1</td>\n",
       "      <td>0</td>\n",
       "      <td>1</td>\n",
       "      <td>2</td>\n",
       "      <td>Shot - Wounded/Injured</td>\n",
       "      <td>2014</td>\n",
       "      <td>16.8</td>\n",
       "      <td>1.0</td>\n",
       "      <td>No deaths</td>\n",
       "      <td>58.850575</td>\n",
       "      <td>41.149425</td>\n",
       "      <td>0.000000</td>\n",
       "      <td>0.135621</td>\n",
       "    </tr>\n",
       "    <tr>\n",
       "      <th>1</th>\n",
       "      <td>2014-01-01</td>\n",
       "      <td>Arkansas</td>\n",
       "      <td>Pine Bluff</td>\n",
       "      <td>34.2291</td>\n",
       "      <td>-91.9779</td>\n",
       "      <td>4</td>\n",
       "      <td>26</td>\n",
       "      <td>Adult 18+</td>\n",
       "      <td>Male</td>\n",
       "      <td>26</td>\n",
       "      <td>26</td>\n",
       "      <td>0</td>\n",
       "      <td>0</td>\n",
       "      <td>0</td>\n",
       "      <td>0</td>\n",
       "      <td>1</td>\n",
       "      <td>0</td>\n",
       "      <td>1</td>\n",
       "      <td>2</td>\n",
       "      <td>Shot - Wounded/Injured</td>\n",
       "      <td>2014</td>\n",
       "      <td>16.8</td>\n",
       "      <td>1.0</td>\n",
       "      <td>No deaths</td>\n",
       "      <td>58.850575</td>\n",
       "      <td>41.149425</td>\n",
       "      <td>1.172595</td>\n",
       "      <td>0.135621</td>\n",
       "    </tr>\n",
       "    <tr>\n",
       "      <th>2</th>\n",
       "      <td>2014-01-01</td>\n",
       "      <td>Arkansas</td>\n",
       "      <td>Pine Bluff</td>\n",
       "      <td>34.2291</td>\n",
       "      <td>-91.9779</td>\n",
       "      <td>4</td>\n",
       "      <td>26</td>\n",
       "      <td>Adult 18+</td>\n",
       "      <td>Male</td>\n",
       "      <td>26</td>\n",
       "      <td>26</td>\n",
       "      <td>0</td>\n",
       "      <td>0</td>\n",
       "      <td>0</td>\n",
       "      <td>0</td>\n",
       "      <td>1</td>\n",
       "      <td>0</td>\n",
       "      <td>1</td>\n",
       "      <td>2</td>\n",
       "      <td>Shot - Wounded/Injured</td>\n",
       "      <td>2014</td>\n",
       "      <td>16.8</td>\n",
       "      <td>1.0</td>\n",
       "      <td>No deaths</td>\n",
       "      <td>58.850575</td>\n",
       "      <td>41.149425</td>\n",
       "      <td>2.345189</td>\n",
       "      <td>0.135621</td>\n",
       "    </tr>\n",
       "    <tr>\n",
       "      <th>3</th>\n",
       "      <td>2014-01-01</td>\n",
       "      <td>Arkansas</td>\n",
       "      <td>Pine Bluff</td>\n",
       "      <td>34.2291</td>\n",
       "      <td>-91.9779</td>\n",
       "      <td>4</td>\n",
       "      <td>26</td>\n",
       "      <td>Adult 18+</td>\n",
       "      <td>Male</td>\n",
       "      <td>26</td>\n",
       "      <td>26</td>\n",
       "      <td>0</td>\n",
       "      <td>0</td>\n",
       "      <td>0</td>\n",
       "      <td>0</td>\n",
       "      <td>1</td>\n",
       "      <td>0</td>\n",
       "      <td>1</td>\n",
       "      <td>2</td>\n",
       "      <td>Shot - Wounded/Injured</td>\n",
       "      <td>2014</td>\n",
       "      <td>16.8</td>\n",
       "      <td>1.0</td>\n",
       "      <td>No deaths</td>\n",
       "      <td>58.850575</td>\n",
       "      <td>41.149425</td>\n",
       "      <td>3.517784</td>\n",
       "      <td>0.135621</td>\n",
       "    </tr>\n",
       "    <tr>\n",
       "      <th>4</th>\n",
       "      <td>2014-01-01</td>\n",
       "      <td>Arkansas</td>\n",
       "      <td>Pine Bluff</td>\n",
       "      <td>34.2291</td>\n",
       "      <td>-91.9779</td>\n",
       "      <td>4</td>\n",
       "      <td>26</td>\n",
       "      <td>Adult 18+</td>\n",
       "      <td>Male</td>\n",
       "      <td>26</td>\n",
       "      <td>26</td>\n",
       "      <td>0</td>\n",
       "      <td>0</td>\n",
       "      <td>0</td>\n",
       "      <td>0</td>\n",
       "      <td>1</td>\n",
       "      <td>0</td>\n",
       "      <td>1</td>\n",
       "      <td>2</td>\n",
       "      <td>Shot - Wounded/Injured</td>\n",
       "      <td>2014</td>\n",
       "      <td>16.8</td>\n",
       "      <td>1.0</td>\n",
       "      <td>No deaths</td>\n",
       "      <td>58.850575</td>\n",
       "      <td>41.149425</td>\n",
       "      <td>4.690378</td>\n",
       "      <td>0.135621</td>\n",
       "    </tr>\n",
       "  </tbody>\n",
       "</table>\n",
       "</div>"
      ],
      "text/plain": [
       "        date     state city_or_county  latitude  longitude  \\\n",
       "0 2014-01-01  Arkansas     Pine Bluff   34.2291   -91.9779   \n",
       "1 2014-01-01  Arkansas     Pine Bluff   34.2291   -91.9779   \n",
       "2 2014-01-01  Arkansas     Pine Bluff   34.2291   -91.9779   \n",
       "3 2014-01-01  Arkansas     Pine Bluff   34.2291   -91.9779   \n",
       "4 2014-01-01  Arkansas     Pine Bluff   34.2291   -91.9779   \n",
       "\n",
       "   congressional_district  participant_age1 participant_age_group1  \\\n",
       "0                       4                26              Adult 18+   \n",
       "1                       4                26              Adult 18+   \n",
       "2                       4                26              Adult 18+   \n",
       "3                       4                26              Adult 18+   \n",
       "4                       4                26              Adult 18+   \n",
       "\n",
       "  participant_gender1  min_age_participants  max_age_participants  \\\n",
       "0                Male                    26                    26   \n",
       "1                Male                    26                    26   \n",
       "2                Male                    26                    26   \n",
       "3                Male                    26                    26   \n",
       "4                Male                    26                    26   \n",
       "\n",
       "   n_participants_child  n_participants_teen  n_females  n_killed  n_injured  \\\n",
       "0                     0                    0          0         0          1   \n",
       "1                     0                    0          0         0          1   \n",
       "2                     0                    0          0         0          1   \n",
       "3                     0                    0          0         0          1   \n",
       "4                     0                    0          0         0          1   \n",
       "\n",
       "   n_arrested  n_unharmed  n_participants incident_characteristics1  year  \\\n",
       "0           0           1               2    Shot - Wounded/Injured  2014   \n",
       "1           0           1               2    Shot - Wounded/Injured  2014   \n",
       "2           0           1               2    Shot - Wounded/Injured  2014   \n",
       "3           0           1               2    Shot - Wounded/Injured  2014   \n",
       "4           0           1               2    Shot - Wounded/Injured  2014   \n",
       "\n",
       "   povertyPercentage  males_indicator n_killed_per_participant  \\\n",
       "0               16.8              1.0                No deaths   \n",
       "1               16.8              1.0                No deaths   \n",
       "2               16.8              1.0                No deaths   \n",
       "3               16.8              1.0                No deaths   \n",
       "4               16.8              1.0                No deaths   \n",
       "\n",
       "   percentage_injured  percentage_killed  unharmed_ratio  \\\n",
       "0           58.850575          41.149425        0.000000   \n",
       "1           58.850575          41.149425        1.172595   \n",
       "2           58.850575          41.149425        2.345189   \n",
       "3           58.850575          41.149425        3.517784   \n",
       "4           58.850575          41.149425        4.690378   \n",
       "\n",
       "   density_incident_state  \n",
       "0                0.135621  \n",
       "1                0.135621  \n",
       "2                0.135621  \n",
       "3                0.135621  \n",
       "4                0.135621  "
      ]
     },
     "execution_count": 20,
     "metadata": {},
     "output_type": "execute_result"
    }
   ],
   "source": [
    "df_merged.head()"
   ]
  },
  {
   "cell_type": "markdown",
   "metadata": {},
   "source": [
    "## n.Ratio males to females per incident\n",
    "\n",
    "This can arise some information with the other categorical variables.\n"
   ]
  },
  {
   "cell_type": "code",
   "execution_count": 21,
   "metadata": {},
   "outputs": [],
   "source": [
    "# ratio males to females participants in each incident\n",
    "# in order to get this ratio\n",
    "\n",
    "df_merged['males_to_females_ratio'] = (df_merged['n_participants']-df_merged['n_females']) / df_merged['n_females'].replace(0, 1)\n"
   ]
  },
  {
   "cell_type": "code",
   "execution_count": 22,
   "metadata": {},
   "outputs": [
    {
     "data": {
      "text/html": [
       "<div>\n",
       "<style scoped>\n",
       "    .dataframe tbody tr th:only-of-type {\n",
       "        vertical-align: middle;\n",
       "    }\n",
       "\n",
       "    .dataframe tbody tr th {\n",
       "        vertical-align: top;\n",
       "    }\n",
       "\n",
       "    .dataframe thead th {\n",
       "        text-align: right;\n",
       "    }\n",
       "</style>\n",
       "<table border=\"1\" class=\"dataframe\">\n",
       "  <thead>\n",
       "    <tr style=\"text-align: right;\">\n",
       "      <th></th>\n",
       "      <th>date</th>\n",
       "      <th>state</th>\n",
       "      <th>city_or_county</th>\n",
       "      <th>latitude</th>\n",
       "      <th>longitude</th>\n",
       "      <th>congressional_district</th>\n",
       "      <th>participant_age1</th>\n",
       "      <th>participant_age_group1</th>\n",
       "      <th>participant_gender1</th>\n",
       "      <th>min_age_participants</th>\n",
       "      <th>max_age_participants</th>\n",
       "      <th>n_participants_child</th>\n",
       "      <th>n_participants_teen</th>\n",
       "      <th>n_females</th>\n",
       "      <th>n_killed</th>\n",
       "      <th>n_injured</th>\n",
       "      <th>n_arrested</th>\n",
       "      <th>n_unharmed</th>\n",
       "      <th>n_participants</th>\n",
       "      <th>incident_characteristics1</th>\n",
       "      <th>year</th>\n",
       "      <th>povertyPercentage</th>\n",
       "      <th>males_indicator</th>\n",
       "      <th>n_killed_per_participant</th>\n",
       "      <th>percentage_injured</th>\n",
       "      <th>percentage_killed</th>\n",
       "      <th>unharmed_ratio</th>\n",
       "      <th>density_incident_state</th>\n",
       "      <th>males_to_females_ratio</th>\n",
       "    </tr>\n",
       "  </thead>\n",
       "  <tbody>\n",
       "    <tr>\n",
       "      <th>0</th>\n",
       "      <td>2014-01-01</td>\n",
       "      <td>Arkansas</td>\n",
       "      <td>Pine Bluff</td>\n",
       "      <td>34.2291</td>\n",
       "      <td>-91.9779</td>\n",
       "      <td>4</td>\n",
       "      <td>26</td>\n",
       "      <td>Adult 18+</td>\n",
       "      <td>Male</td>\n",
       "      <td>26</td>\n",
       "      <td>26</td>\n",
       "      <td>0</td>\n",
       "      <td>0</td>\n",
       "      <td>0</td>\n",
       "      <td>0</td>\n",
       "      <td>1</td>\n",
       "      <td>0</td>\n",
       "      <td>1</td>\n",
       "      <td>2</td>\n",
       "      <td>Shot - Wounded/Injured</td>\n",
       "      <td>2014</td>\n",
       "      <td>16.8</td>\n",
       "      <td>1.0</td>\n",
       "      <td>No deaths</td>\n",
       "      <td>58.850575</td>\n",
       "      <td>41.149425</td>\n",
       "      <td>0.000000</td>\n",
       "      <td>0.135621</td>\n",
       "      <td>2.0</td>\n",
       "    </tr>\n",
       "    <tr>\n",
       "      <th>1</th>\n",
       "      <td>2014-01-01</td>\n",
       "      <td>Arkansas</td>\n",
       "      <td>Pine Bluff</td>\n",
       "      <td>34.2291</td>\n",
       "      <td>-91.9779</td>\n",
       "      <td>4</td>\n",
       "      <td>26</td>\n",
       "      <td>Adult 18+</td>\n",
       "      <td>Male</td>\n",
       "      <td>26</td>\n",
       "      <td>26</td>\n",
       "      <td>0</td>\n",
       "      <td>0</td>\n",
       "      <td>0</td>\n",
       "      <td>0</td>\n",
       "      <td>1</td>\n",
       "      <td>0</td>\n",
       "      <td>1</td>\n",
       "      <td>2</td>\n",
       "      <td>Shot - Wounded/Injured</td>\n",
       "      <td>2014</td>\n",
       "      <td>16.8</td>\n",
       "      <td>1.0</td>\n",
       "      <td>No deaths</td>\n",
       "      <td>58.850575</td>\n",
       "      <td>41.149425</td>\n",
       "      <td>1.172595</td>\n",
       "      <td>0.135621</td>\n",
       "      <td>2.0</td>\n",
       "    </tr>\n",
       "    <tr>\n",
       "      <th>2</th>\n",
       "      <td>2014-01-01</td>\n",
       "      <td>Arkansas</td>\n",
       "      <td>Pine Bluff</td>\n",
       "      <td>34.2291</td>\n",
       "      <td>-91.9779</td>\n",
       "      <td>4</td>\n",
       "      <td>26</td>\n",
       "      <td>Adult 18+</td>\n",
       "      <td>Male</td>\n",
       "      <td>26</td>\n",
       "      <td>26</td>\n",
       "      <td>0</td>\n",
       "      <td>0</td>\n",
       "      <td>0</td>\n",
       "      <td>0</td>\n",
       "      <td>1</td>\n",
       "      <td>0</td>\n",
       "      <td>1</td>\n",
       "      <td>2</td>\n",
       "      <td>Shot - Wounded/Injured</td>\n",
       "      <td>2014</td>\n",
       "      <td>16.8</td>\n",
       "      <td>1.0</td>\n",
       "      <td>No deaths</td>\n",
       "      <td>58.850575</td>\n",
       "      <td>41.149425</td>\n",
       "      <td>2.345189</td>\n",
       "      <td>0.135621</td>\n",
       "      <td>2.0</td>\n",
       "    </tr>\n",
       "    <tr>\n",
       "      <th>3</th>\n",
       "      <td>2014-01-01</td>\n",
       "      <td>Arkansas</td>\n",
       "      <td>Pine Bluff</td>\n",
       "      <td>34.2291</td>\n",
       "      <td>-91.9779</td>\n",
       "      <td>4</td>\n",
       "      <td>26</td>\n",
       "      <td>Adult 18+</td>\n",
       "      <td>Male</td>\n",
       "      <td>26</td>\n",
       "      <td>26</td>\n",
       "      <td>0</td>\n",
       "      <td>0</td>\n",
       "      <td>0</td>\n",
       "      <td>0</td>\n",
       "      <td>1</td>\n",
       "      <td>0</td>\n",
       "      <td>1</td>\n",
       "      <td>2</td>\n",
       "      <td>Shot - Wounded/Injured</td>\n",
       "      <td>2014</td>\n",
       "      <td>16.8</td>\n",
       "      <td>1.0</td>\n",
       "      <td>No deaths</td>\n",
       "      <td>58.850575</td>\n",
       "      <td>41.149425</td>\n",
       "      <td>3.517784</td>\n",
       "      <td>0.135621</td>\n",
       "      <td>2.0</td>\n",
       "    </tr>\n",
       "    <tr>\n",
       "      <th>4</th>\n",
       "      <td>2014-01-01</td>\n",
       "      <td>Arkansas</td>\n",
       "      <td>Pine Bluff</td>\n",
       "      <td>34.2291</td>\n",
       "      <td>-91.9779</td>\n",
       "      <td>4</td>\n",
       "      <td>26</td>\n",
       "      <td>Adult 18+</td>\n",
       "      <td>Male</td>\n",
       "      <td>26</td>\n",
       "      <td>26</td>\n",
       "      <td>0</td>\n",
       "      <td>0</td>\n",
       "      <td>0</td>\n",
       "      <td>0</td>\n",
       "      <td>1</td>\n",
       "      <td>0</td>\n",
       "      <td>1</td>\n",
       "      <td>2</td>\n",
       "      <td>Shot - Wounded/Injured</td>\n",
       "      <td>2014</td>\n",
       "      <td>16.8</td>\n",
       "      <td>1.0</td>\n",
       "      <td>No deaths</td>\n",
       "      <td>58.850575</td>\n",
       "      <td>41.149425</td>\n",
       "      <td>4.690378</td>\n",
       "      <td>0.135621</td>\n",
       "      <td>2.0</td>\n",
       "    </tr>\n",
       "  </tbody>\n",
       "</table>\n",
       "</div>"
      ],
      "text/plain": [
       "        date     state city_or_county  latitude  longitude  \\\n",
       "0 2014-01-01  Arkansas     Pine Bluff   34.2291   -91.9779   \n",
       "1 2014-01-01  Arkansas     Pine Bluff   34.2291   -91.9779   \n",
       "2 2014-01-01  Arkansas     Pine Bluff   34.2291   -91.9779   \n",
       "3 2014-01-01  Arkansas     Pine Bluff   34.2291   -91.9779   \n",
       "4 2014-01-01  Arkansas     Pine Bluff   34.2291   -91.9779   \n",
       "\n",
       "   congressional_district  participant_age1 participant_age_group1  \\\n",
       "0                       4                26              Adult 18+   \n",
       "1                       4                26              Adult 18+   \n",
       "2                       4                26              Adult 18+   \n",
       "3                       4                26              Adult 18+   \n",
       "4                       4                26              Adult 18+   \n",
       "\n",
       "  participant_gender1  min_age_participants  max_age_participants  \\\n",
       "0                Male                    26                    26   \n",
       "1                Male                    26                    26   \n",
       "2                Male                    26                    26   \n",
       "3                Male                    26                    26   \n",
       "4                Male                    26                    26   \n",
       "\n",
       "   n_participants_child  n_participants_teen  n_females  n_killed  n_injured  \\\n",
       "0                     0                    0          0         0          1   \n",
       "1                     0                    0          0         0          1   \n",
       "2                     0                    0          0         0          1   \n",
       "3                     0                    0          0         0          1   \n",
       "4                     0                    0          0         0          1   \n",
       "\n",
       "   n_arrested  n_unharmed  n_participants incident_characteristics1  year  \\\n",
       "0           0           1               2    Shot - Wounded/Injured  2014   \n",
       "1           0           1               2    Shot - Wounded/Injured  2014   \n",
       "2           0           1               2    Shot - Wounded/Injured  2014   \n",
       "3           0           1               2    Shot - Wounded/Injured  2014   \n",
       "4           0           1               2    Shot - Wounded/Injured  2014   \n",
       "\n",
       "   povertyPercentage  males_indicator n_killed_per_participant  \\\n",
       "0               16.8              1.0                No deaths   \n",
       "1               16.8              1.0                No deaths   \n",
       "2               16.8              1.0                No deaths   \n",
       "3               16.8              1.0                No deaths   \n",
       "4               16.8              1.0                No deaths   \n",
       "\n",
       "   percentage_injured  percentage_killed  unharmed_ratio  \\\n",
       "0           58.850575          41.149425        0.000000   \n",
       "1           58.850575          41.149425        1.172595   \n",
       "2           58.850575          41.149425        2.345189   \n",
       "3           58.850575          41.149425        3.517784   \n",
       "4           58.850575          41.149425        4.690378   \n",
       "\n",
       "   density_incident_state  males_to_females_ratio  \n",
       "0                0.135621                     2.0  \n",
       "1                0.135621                     2.0  \n",
       "2                0.135621                     2.0  \n",
       "3                0.135621                     2.0  \n",
       "4                0.135621                     2.0  "
      ]
     },
     "execution_count": 22,
     "metadata": {},
     "output_type": "execute_result"
    }
   ],
   "source": [
    "df_merged.head()"
   ]
  },
  {
   "cell_type": "code",
   "execution_count": 23,
   "metadata": {},
   "outputs": [
    {
     "data": {
      "text/plain": [
       "date                         0\n",
       "state                        0\n",
       "city_or_county               0\n",
       "latitude                     0\n",
       "longitude                    0\n",
       "congressional_district       0\n",
       "participant_age1             0\n",
       "participant_age_group1       0\n",
       "participant_gender1          0\n",
       "min_age_participants         0\n",
       "max_age_participants         0\n",
       "n_participants_child         0\n",
       "n_participants_teen          0\n",
       "n_females                    0\n",
       "n_killed                     0\n",
       "n_injured                    0\n",
       "n_arrested                   0\n",
       "n_unharmed                   0\n",
       "n_participants               0\n",
       "incident_characteristics1    0\n",
       "year                         0\n",
       "povertyPercentage            0\n",
       "males_indicator              0\n",
       "n_killed_per_participant     0\n",
       "percentage_injured           0\n",
       "percentage_killed            0\n",
       "unharmed_ratio               0\n",
       "density_incident_state       0\n",
       "males_to_females_ratio       0\n",
       "dtype: int64"
      ]
     },
     "execution_count": 23,
     "metadata": {},
     "output_type": "execute_result"
    },
    {
     "data": {
      "image/png": "[encoded data removed]",
      "text/plain": [
       "<Figure size 1000x500 with 1 Axes>"
      ]
     },
     "metadata": {},
     "output_type": "display_data"
    }
   ],
   "source": [
    "# Group by ratio male females and do barplot\n",
    "\n",
    "# now the other way around\n",
    "df_merged.groupby('males_to_females_ratio')['participant_age_group1'].count().plot(kind='barh', figsize=(10, 5), rot=0) \n",
    "\n",
    "# We see very few incidents from 0 to 0.5, then a lot at 1, then half than the 1 for the ratio of 2, and so on until 4\n",
    "# We can say that in half of incidents the ratio is 1 and in the rest more man dies...\n",
    "\n",
    "df_merged_pca = df_merged.copy()\n",
    "\n",
    "# Check for nans\n",
    "df_merged_pca.isnull().sum()"
   ]
  },
  {
   "cell_type": "code",
   "execution_count": 24,
   "metadata": {},
   "outputs": [
    {
     "ename": "NameError",
     "evalue": "name 'plot_correlation' is not defined",
     "output_type": "error",
     "traceback": [
      "\u001b[0;31m---------------------------------------------------------------------------\u001b[0m",
      "\u001b[0;31mNameError\u001b[0m                                 Traceback (most recent call last)",
      "\u001b[1;32m/home/luca/Desktop/MsICTSA/DM/prj/DataMining2023/source/Task1_Data_Preparation_Indexes.ipynb Cell 39\u001b[0m line \u001b[0;36m1\n\u001b[0;32m----> <a href='vscode-notebook-cell:/home/luca/Desktop/MsICTSA/DM/prj/DataMining2023/source/Task1_Data_Preparation_Indexes.ipynb#X52sZmlsZQ%3D%3D?line=0'>1</a>\u001b[0m plot_correlation(df_merged\u001b[39m.\u001b[39mselect_dtypes(include\u001b[39m=\u001b[39m[np\u001b[39m.\u001b[39mnumber])\u001b[39m.\u001b[39mcolumns, df_merged)\n",
      "\u001b[0;31mNameError\u001b[0m: name 'plot_correlation' is not defined"
     ]
    }
   ],
   "source": [
    "\n",
    "plot_correlation(df_merged.select_dtypes(include=[np.number]).columns, df_merged)"
   ]
  },
  {
   "cell_type": "markdown",
   "metadata": {},
   "source": [
    "## PCA Analysis\n",
    "\n",
    "Let's perform a PCA analysis on the new data we have created.\n"
   ]
  },
  {
   "cell_type": "markdown",
   "metadata": {},
   "source": [
    "### Pairplot"
   ]
  },
  {
   "cell_type": "code",
   "execution_count": null,
   "metadata": {},
   "outputs": [],
   "source": [
    "df_merged.describe()"
   ]
  },
  {
   "cell_type": "markdown",
   "metadata": {},
   "source": [
    "## Before PCA we need to preprocess"
   ]
  },
  {
   "cell_type": "code",
   "execution_count": null,
   "metadata": {},
   "outputs": [],
   "source": [
    "from sklearn.preprocessing import StandardScaler\n",
    "from sklearn.decomposition import PCA\n",
    "\n",
    "scaler = StandardScaler()\n",
    "X_scaled = scaler.fit_transform(df_merged_pca.select_dtypes(include=[np.number]))\n",
    "\n",
    "pca = PCA(n_components=5)\n",
    "X_pca = pca.fit(X_scaled)\n",
    "\n",
    "# getting eigenvalues and eigenvectors\n",
    "eigenvalues = pca.explained_variance_\n",
    "eigenvectors = pca.components_\n",
    "\n",
    "explained_variance_ratio = pca.explained_variance_ratio_\n",
    "\n",
    "# Screeplot\n",
    "plt.figure(figsize=(10, 6))\n",
    "plt.plot(range(1, len(eigenvalues)+1), eigenvalues, marker='o')\n",
    "#add grid\n",
    "plt.grid()\n",
    "plt.xlabel('Principal Component')\n",
    "plt.ylabel('Eigenvalue')\n",
    "plt.show()\n",
    "\n",
    "\n",
    "# print categorical columns\n",
    "print(df_merged_pca.select_dtypes(include=['category']).columns)\n",
    "\n",
    "\n",
    "\"\"\" \n",
    "# project the two more separated components\n",
    "plt.figure(figsize=(10, 8))\n",
    "plt.scatter(X_pca[:, 0], X_pca[:, 1], c=df_merged_pca['n_killed_per_participant'].cat.codes, cmap='viridis')\n",
    "plt.xlabel('First principal component')\n",
    "plt.ylabel('Second principal component')\n",
    "plt.title('Projection of incidents on the first two principal components')\n",
    "plt.show()\n",
    "\n",
    " \"\"\""
   ]
  },
  {
   "cell_type": "code",
   "execution_count": null,
   "metadata": {},
   "outputs": [],
   "source": [
    "# take first 3 components\n",
    "pca = PCA(n_components = 3)\n",
    "\n",
    "principal_components = pca.fit_transform(X_scaled)\n",
    "\n",
    "# transform original dataframe with the new components\n",
    "df_merged_pca = pd.DataFrame(principal_components, columns=['PC1', 'PC2', 'PC3'])\n",
    "\n",
    "MAX_SAMPLES = len(df_merged_pca)\n",
    "# sample 4000 incidents\n",
    "df_merged_pca = df_merged_pca.sample(n=40000, random_state=42)\n",
    "\n",
    "\"\"\" plt.scatter(df_merged_pca['PC1'], df_merged_pca['PC2'], cmap=plt.cm.Set1, edgecolor='k', s=4)\n",
    "plt.xlabel(\"1st eigenvector\")\n",
    "plt.ylabel(\"2nd eigenvector\")\n",
    "plt.show() \"\"\""
   ]
  },
  {
   "cell_type": "code",
   "execution_count": null,
   "metadata": {},
   "outputs": [],
   "source": [
    "df_merged_pca.head()\n",
    "\n",
    "# Plots comulative explained variance ratio\n",
    "plt.figure(figsize=(10, 6))\n",
    "plt.plot(range(1, len(explained_variance_ratio)+1), np.cumsum(explained_variance_ratio), marker='o')\n",
    "plt.grid()\n",
    "plt.xlabel('Principal Component')\n",
    "plt.ylabel('Explained Variance Ratio')\n",
    "plt.show()"
   ]
  },
  {
   "cell_type": "code",
   "execution_count": null,
   "metadata": {},
   "outputs": [],
   "source": [
    "# Scatter plot of the first two components\n",
    "plt.figure(figsize=(10, 8))\n",
    "plt.scatter(df_merged_pca['PC1'], df_merged_pca['PC2'], s=0.1)\n",
    "plt.xlabel('First principal component')\n",
    "plt.ylabel('Second principal component')\n",
    "plt.title('Projection of incidents on the first two principal components')\n",
    "plt.show()"
   ]
  },
  {
   "cell_type": "code",
   "execution_count": null,
   "metadata": {},
   "outputs": [],
   "source": [
    "#Scatter plot of second and third components\n",
    "plt.figure(figsize=(10, 8))\n",
    "plt.scatter(df_merged_pca['PC2'], df_merged_pca['PC3'], s=0.1)\n",
    "plt.xlabel('Second principal component')\n",
    "plt.ylabel('Third principal component')\n",
    "plt.title('Projection of incidents on the second and third principal components')"
   ]
  },
  {
   "cell_type": "code",
   "execution_count": null,
   "metadata": {},
   "outputs": [],
   "source": [
    "# Overlap three components\n",
    "from mpl_toolkits.mplot3d import Axes3D\n",
    "# color each component with different color\n",
    "\n",
    "\n",
    "fig = plt.figure(figsize=(10, 8))\n",
    "plt.clf()\n",
    "ax = Axes3D(fig, rect=[0, 1, .95, 1], elev=15, azim=35)\n",
    "plt.cla()\n",
    "ax.scatter(df_merged_pca['PC1'], df_merged_pca['PC2'], df_merged_pca['PC3'], c=df_merged_pca['PC1'], cmap='viridis', s=0.1)\n",
    "ax.set_xlabel('First principal component')\n",
    "ax.set_ylabel('Second principal component')\n",
    "ax.set_zlabel('Third principal component')\n",
    "plt.show()\n",
    "\n",
    "\n",
    "# Print what are the most important features for each component"
   ]
  },
  {
   "cell_type": "markdown",
   "metadata": {},
   "source": [
    "# Clustering Analysis\n"
   ]
  },
  {
   "cell_type": "markdown",
   "metadata": {},
   "source": [
    "## Geographical Clustering\n",
    "\n",
    "1. We want to cluster the states based on the number of incidents per state. We will use the K-Means algorithm.\n",
    "2. We can explore if some regions or states have similar incidents characteristics."
   ]
  },
  {
   "cell_type": "code",
   "execution_count": null,
   "metadata": {},
   "outputs": [],
   "source": [
    "# Before Kmeans let's do some feature engineering\n",
    "\n",
    "# We want to cluster state based on the number of incidents per state: we can use the density we computed before\n",
    "# Now let's see the elbow method to see how many clusters we should use\n"
   ]
  },
  {
   "cell_type": "code",
   "execution_count": null,
   "metadata": {},
   "outputs": [],
   "source": [
    "# Import libraries for K-means clustering\n",
    "from sklearn.cluster import KMeans\n",
    "from sklearn.metrics import silhouette_score\n",
    "from sklearn.preprocessing import StandardScaler\n",
    "from tqdm import tqdm\n",
    "\n",
    "\n",
    "\n",
    "# Select the features we want to use for clustering: States because we want incidents per state\n",
    "# Let's encode the states with coordinate of our tuples of latitude and longitude\n",
    "\n",
    "\"\"\" The way kmeans algorithm works is as follows:\n",
    "\n",
    "    Specify number of clusters K.\n",
    "    Initialize centroids by first shuffling the dataset and then randomly selecting K data points for the centroids without replacement.\n",
    "    Keep iterating until there is no change to the centroids. i.e assignment of data points to clusters isn’t changing.\n",
    "\n",
    "    Compute the sum of the squared distance between data points and all centroids.\n",
    "    Assign each data point to the closest cluster (centroid).\n",
    "    Compute the centroids for the clusters by taking the average of the all data points that belong to each cluster.\n",
    "\n",
    "DENSITY_INCIDENT_STATE = False\n",
    "\n",
    "if DENSITY_INCIDENT_STATE:\n",
    "    ## KMenas clustering for incident x state using the density of incidents per state\n",
    "    X = df_merged[['density_incident_state']].values\n",
    "else:\n",
    "    # Assuming df is your DataFrame with latitude and longitude columns\n",
    "    X = df[['latitude', 'longitude']]\n",
    "\n",
    "# Standardize the features (important for KMeans)\n",
    "scaler = StandardScaler()\n",
    "X_scaled = scaler.fit_transform(X)\n",
    "\n",
    "# We want to cluster the states based on the number of incidents per state\n",
    "# We want to find the optimal number of clusters using the elbow method\n",
    "# We want to use the silhouette score to evaluate the quality of the clusters\n",
    "\n",
    "# We will try different number of clusters from 2 to 10\n",
    "n_clusters = np.arange(2, 11)\n",
    "\n",
    "silhouette_scores = []\n",
    "inertia_scores = []\n",
    "kmeans_models = []\n",
    "elbow_scores = []\n",
    "\n",
    "# For each number of clusters\n",
    "for n in tqdm(n_clusters):\n",
    "    # Initialize the KMeans model with n_clusters=n\n",
    "    # Use KMenans++ initialization for faster convergence\n",
    "    kmeans = KMeans(n_clusters=n, random_state=42,\n",
    "                    n_init=10, max_iter=100, algorithm='lloyd', init='k-means++')\n",
    "\n",
    "    # Fit the model\n",
    "    kmeans.fit(X)\n",
    "    print(\"Current model:\", kmeans)\n",
    "    \n",
    "    # Get the inertia score\n",
    "    inertia_scores.append(kmeans.inertia_)\n",
    "    print(\"Current inertia score:\", kmeans.inertia_)\n",
    "    \n",
    "    # Get the silhouette score\n",
    "    #silhouette_scores.append(silhouette_score(X, kmeans.labels_))\n",
    "    #print(\"Current silhouette score:\", silhouette_score(X, kmeans.labels_))\n",
    "    \n",
    "    # Store the model\n",
    "    kmeans_models.append(kmeans)\n",
    "    \"\"\""
   ]
  },
  {
   "cell_type": "markdown",
   "metadata": {},
   "source": [
    "# Eblow method to get ideal number of clusters\n",
    "\n",
    "We can see that the ideal number of clusters is 5."
   ]
  },
  {
   "cell_type": "code",
   "execution_count": null,
   "metadata": {},
   "outputs": [],
   "source": [
    "# Plot the inertia score for each number of clusters o\n",
    "plt.figure(figsize=(10, 6))\n",
    "plt.plot(n_clusters, inertia_scores)\n",
    "plt.xlabel('Number of clusters')\n",
    "plt.ylabel('Inertia score')\n",
    "plt.title('Inertia score for different number of clusters')\n",
    "plt.show()\n",
    "\n",
    "\n"
   ]
  },
  {
   "cell_type": "code",
   "execution_count": null,
   "metadata": {},
   "outputs": [],
   "source": [
    "\n",
    "N_CLUSTER_PREDICT = 5\n",
    "\n",
    "df_clusters = df_merged.copy()\n",
    "\n",
    "# Add the cluster labels to the dataframe\n",
    "df_clusters['cluster'] = kmeans_models[N_CLUSTER_PREDICT].labels_\n",
    "\n",
    "# centroids\n",
    "centroids = kmeans_models[N_CLUSTER_PREDICT].cluster_centers_\n"
   ]
  },
  {
   "cell_type": "markdown",
   "metadata": {},
   "source": [
    "# For logitude and latitude clustering visualization"
   ]
  },
  {
   "cell_type": "code",
   "execution_count": null,
   "metadata": {},
   "outputs": [],
   "source": [
    "# Visualize the clusters (scatter plot of latitude and longitude with different colors for each cluster)\n",
    "plt.figure(figsize=(10, 6))\n",
    "\n",
    "plt.scatter(df_clusters['longitude'], df_clusters['latitude'], c=df_clusters['cluster'], cmap='viridis', alpha=0.5)\n",
    "plt.title('KMeans Clustering of Incidents')\n",
    "plt.xlabel('Longitude')\n",
    "plt.ylabel('Latitude')\n",
    "plt.show()\n",
    "\n"
   ]
  },
  {
   "cell_type": "markdown",
   "metadata": {},
   "source": [
    "## For density incident state\n"
   ]
  },
  {
   "cell_type": "code",
   "execution_count": null,
   "metadata": {},
   "outputs": [],
   "source": [
    "\n",
    "# Not execute this cell if DENSITY_INCIDENT_STATE is False to do it in ipynb use: \n",
    "\n",
    "\n",
    "# Visualizing cluster\n",
    "plt.figure(figsize=(10, 6))\n",
    "\n",
    "# Plot the clusters\n",
    "plt.scatter(df_clusters['density_incident_state'], df_clusters['n_participants'], c=df_clusters['cluster'], cmap='rainbow')\n",
    "# add centroids\n",
    "plt.scatter(centroids[:, 0], centroids[:, 1], c='black', s=100, alpha=0.5)\n",
    "plt.xlabel('density_incident_state')\n",
    "plt.ylabel('n_participants')\n",
    "plt.title('Clusters of states based on density of incidents per state and number of participants')\n",
    "plt.show()\n",
    "\n"
   ]
  }
 ],
 "metadata": {
  "kernelspec": {
   "display_name": "Python 3",
   "language": "python",
   "name": "python3"
  },
  "language_info": {
   "codemirror_mode": {
    "name": "ipython",
    "version": 3
   },
   "file_extension": ".py",
   "mimetype": "text/x-python",
   "name": "python",
   "nbconvert_exporter": "python",
   "pygments_lexer": "ipython3",
   "version": "3.10.12"
  }
 },
 "nbformat": 4,
 "nbformat_minor": 2
}
