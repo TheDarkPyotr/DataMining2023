{
 "cells": [
  {
   "cell_type": "markdown",
   "metadata": {},
   "source": [
    "## Task 3: Predictive Analysis - WIP\n",
    "Consider the problem of predicting for each incident (considering the whole dataset for this task) the label which is a **binary variable** that indicates if in the incident there have been at least a killed person or not.\n"
   ]
  },
  {
   "cell_type": "code",
   "execution_count": 74,
   "metadata": {},
   "outputs": [],
   "source": [
    "# This will take a while\n",
    "import pandas as pd\n",
    "import numpy as np\n",
    "import matplotlib.pyplot as plt\n",
    "import seaborn as sns\n",
    "import os\n",
    "\n",
    "import plotly.offline as py\n",
    "\n",
    "\n",
    "# Set a seed for reproducibility\n",
    "np.random.seed(42)\n",
    "\n"
   ]
  },
  {
   "cell_type": "code",
   "execution_count": 75,
   "metadata": {},
   "outputs": [
    {
     "name": "stdout",
     "output_type": "stream",
     "text": [
      "<class 'pandas.core.frame.DataFrame'>\n",
      "Int64Index: 131618 entries, 0 to 134578\n",
      "Data columns (total 27 columns):\n",
      " #   Column                     Non-Null Count   Dtype         \n",
      "---  ------                     --------------   -----         \n",
      " 0   date                       131618 non-null  datetime64[ns]\n",
      " 1   state                      131618 non-null  object        \n",
      " 2   city_or_county             131618 non-null  object        \n",
      " 3   latitude                   131618 non-null  float64       \n",
      " 4   longitude                  131618 non-null  float64       \n",
      " 5   congressional_district     131618 non-null  int64         \n",
      " 6   participant_age_group1     131618 non-null  category      \n",
      " 7   participant_gender1        131618 non-null  category      \n",
      " 8   avg_age_participants       131618 non-null  int64         \n",
      " 9   n_participants_child       131618 non-null  int64         \n",
      " 10  n_participants_teen        131618 non-null  int64         \n",
      " 11  n_females                  131618 non-null  int64         \n",
      " 12  n_killed                   131618 non-null  int64         \n",
      " 13  n_injured                  131618 non-null  int64         \n",
      " 14  n_arrested                 131618 non-null  int64         \n",
      " 15  n_unharmed                 131618 non-null  int64         \n",
      " 16  incident_characteristics1  131618 non-null  category      \n",
      " 17  povertyPercentage          131618 non-null  float64       \n",
      " 18  party                      131618 non-null  object        \n",
      " 19  candidatevotes             131618 non-null  float64       \n",
      " 20  totalvotes                 131618 non-null  float64       \n",
      " 21  ratio_killed               131618 non-null  float64       \n",
      " 22  death_level                131618 non-null  category      \n",
      " 23  percentage_injured         131618 non-null  float64       \n",
      " 24  unharmed_ratio             131618 non-null  float64       \n",
      " 25  density_incident_state     131618 non-null  float64       \n",
      " 26  males_to_females_ratio     131618 non-null  float64       \n",
      "dtypes: category(4), datetime64[ns](1), float64(10), int64(9), object(3)\n",
      "memory usage: 24.6+ MB\n"
     ]
    }
   ],
   "source": [
    "# Import the datasets\n",
    "\n",
    "# Gun incidents data\n",
    "df_incidents_cleaned = pd.read_hdf('../ds/cleaned/reduced_for_clustering.h5', key = 'df')\n",
    "\n",
    "# Visualize data table\n",
    "df_incidents_cleaned.info()\n"
   ]
  },
  {
   "cell_type": "code",
   "execution_count": 76,
   "metadata": {},
   "outputs": [
    {
     "name": "stdout",
     "output_type": "stream",
     "text": [
      "<class 'pandas.core.frame.DataFrame'>\n",
      "Int64Index: 131618 entries, 0 to 134578\n",
      "Data columns (total 15 columns):\n",
      " #   Column                  Non-Null Count   Dtype   \n",
      "---  ------                  --------------   -----   \n",
      " 0   state                   131618 non-null  object  \n",
      " 1   avg_age_participants    131618 non-null  int64   \n",
      " 2   n_participants_child    131618 non-null  int64   \n",
      " 3   n_participants_teen     131618 non-null  int64   \n",
      " 4   n_females               131618 non-null  int64   \n",
      " 5   n_killed                131618 non-null  int64   \n",
      " 6   n_arrested              131618 non-null  int64   \n",
      " 7   n_unharmed              131618 non-null  int64   \n",
      " 8   povertyPercentage       131618 non-null  float64 \n",
      " 9   ratio_killed            131618 non-null  float64 \n",
      " 10  death_level             131618 non-null  category\n",
      " 11  percentage_injured      131618 non-null  float64 \n",
      " 12  unharmed_ratio          131618 non-null  float64 \n",
      " 13  density_incident_state  131618 non-null  float64 \n",
      " 14  males_to_females_ratio  131618 non-null  float64 \n",
      "dtypes: category(1), float64(6), int64(7), object(1)\n",
      "memory usage: 15.2+ MB\n"
     ]
    }
   ],
   "source": [
    "\n",
    "df_incidents_dt = df_incidents_cleaned.copy()\n",
    "#df_incidents_dt['n_participant_adult'] = (df_incidents_dt['n_participants'] - (df_incidents_dt['n_participants_child'] + df_incidents_dt['n_participants_teen'])).astype('int')\n",
    "columns_to_drop_dt = ['longitude',\n",
    "                   'latitude', \n",
    "                   'congressional_district',\n",
    "                   'participant_age_group1',\n",
    "                   'participant_gender1',\n",
    "                   'incident_characteristics1',\n",
    "                   'city_or_county',\n",
    "                   'date',\n",
    "                   'n_injured',\n",
    "                   'party',\n",
    "                   'candidatevotes',\n",
    "                   'totalvotes'\n",
    "\n",
    "                   ]\n",
    "\n",
    "df_incidents_dt.drop(columns_to_drop_dt, axis = 1, inplace = True)\n",
    "df_incidents_dt.info()"
   ]
  },
  {
   "cell_type": "code",
   "execution_count": 99,
   "metadata": {},
   "outputs": [
    {
     "data": {
      "text/plain": [
       "False    90540\n",
       "True     41078\n",
       "Name: isKilled, dtype: int64"
      ]
     },
     "execution_count": 99,
     "metadata": {},
     "output_type": "execute_result"
    },
    {
     "data": {
      "image/png": "[encoded data removed]",
      "text/plain": [
       "<Figure size 640x480 with 1 Axes>"
      ]
     },
     "metadata": {},
     "output_type": "display_data"
    }
   ],
   "source": [
    "df_incidents_dt['isKilled'] = df_incidents_dt['n_killed'] > 0\n",
    "df_incidents_dt['isKilled'].value_counts().plot.pie(autopct='%1.1f%%', startangle=90, title = 'Percentage of incidents with killed people')\n"
   ]
  },
  {
   "cell_type": "markdown",
   "metadata": {},
   "source": [
    "### Decision Tree"
   ]
  },
  {
   "cell_type": "code",
   "execution_count": 101,
   "metadata": {},
   "outputs": [
    {
     "name": "stdout",
     "output_type": "stream",
     "text": [
      "<class 'pandas.core.frame.DataFrame'>\n",
      "RangeIndex: 200 entries, 0 to 199\n",
      "Data columns (total 57 columns):\n",
      " #   Column                   Non-Null Count  Dtype  \n",
      "---  ------                   --------------  -----  \n",
      " 0   avg_age_participants     200 non-null    int64  \n",
      " 1   n_participants_child     200 non-null    int64  \n",
      " 2   n_participants_teen      200 non-null    int64  \n",
      " 3   n_females                200 non-null    int64  \n",
      " 4   n_arrested               200 non-null    int64  \n",
      " 5   n_unharmed               200 non-null    int64  \n",
      " 6   povertyPercentage        200 non-null    float64\n",
      " 7   ratio_killed             200 non-null    float64\n",
      " 8   percentage_injured       200 non-null    float64\n",
      " 9   unharmed_ratio           200 non-null    float64\n",
      " 10  density_incident_state   200 non-null    float64\n",
      " 11  males_to_females_ratio   200 non-null    float64\n",
      " 12  state_Alabama            200 non-null    uint8  \n",
      " 13  state_Alaska             200 non-null    uint8  \n",
      " 14  state_Arkansas           200 non-null    uint8  \n",
      " 15  state_California         200 non-null    uint8  \n",
      " 16  state_Colorado           200 non-null    uint8  \n",
      " 17  state_Connecticut        200 non-null    uint8  \n",
      " 18  state_Delaware           200 non-null    uint8  \n",
      " 19  state_Florida            200 non-null    uint8  \n",
      " 20  state_Georgia            200 non-null    uint8  \n",
      " 21  state_Idaho              200 non-null    uint8  \n",
      " 22  state_Illinois           200 non-null    uint8  \n",
      " 23  state_Indiana            200 non-null    uint8  \n",
      " 24  state_Iowa               200 non-null    uint8  \n",
      " 25  state_Kentucky           200 non-null    uint8  \n",
      " 26  state_Louisiana          200 non-null    uint8  \n",
      " 27  state_Maine              200 non-null    uint8  \n",
      " 28  state_Maryland           200 non-null    uint8  \n",
      " 29  state_Massachusetts      200 non-null    uint8  \n",
      " 30  state_Michigan           200 non-null    uint8  \n",
      " 31  state_Minnesota          200 non-null    uint8  \n",
      " 32  state_Mississippi        200 non-null    uint8  \n",
      " 33  state_Missouri           200 non-null    uint8  \n",
      " 34  state_Montana            200 non-null    uint8  \n",
      " 35  state_Nebraska           200 non-null    uint8  \n",
      " 36  state_Nevada             200 non-null    uint8  \n",
      " 37  state_New Hampshire      200 non-null    uint8  \n",
      " 38  state_New Jersey         200 non-null    uint8  \n",
      " 39  state_New Mexico         200 non-null    uint8  \n",
      " 40  state_New York           200 non-null    uint8  \n",
      " 41  state_North Carolina     200 non-null    uint8  \n",
      " 42  state_Ohio               200 non-null    uint8  \n",
      " 43  state_Oklahoma           200 non-null    uint8  \n",
      " 44  state_Oregon             200 non-null    uint8  \n",
      " 45  state_Pennsylvania       200 non-null    uint8  \n",
      " 46  state_South Carolina     200 non-null    uint8  \n",
      " 47  state_Tennessee          200 non-null    uint8  \n",
      " 48  state_Texas              200 non-null    uint8  \n",
      " 49  state_Utah               200 non-null    uint8  \n",
      " 50  state_Virginia           200 non-null    uint8  \n",
      " 51  state_Washington         200 non-null    uint8  \n",
      " 52  state_West Virginia      200 non-null    uint8  \n",
      " 53  state_Wisconsin          200 non-null    uint8  \n",
      " 54  death_level_No deaths    200 non-null    uint8  \n",
      " 55  death_level_Some deaths  200 non-null    uint8  \n",
      " 56  death_level_All deaths   200 non-null    uint8  \n",
      "dtypes: float64(6), int64(6), uint8(45)\n",
      "memory usage: 27.7 KB\n"
     ]
    },
    {
     "data": {
      "text/plain": [
       "True     100\n",
       "False    100\n",
       "Name: isKilled, dtype: int64"
      ]
     },
     "execution_count": 101,
     "metadata": {},
     "output_type": "execute_result"
    }
   ],
   "source": [
    "import numpy as np\n",
    "import matplotlib.pyplot as plt\n",
    "from sklearn.tree import DecisionTreeClassifier\n",
    "from sklearn.model_selection import train_test_split\n",
    "from sklearn.metrics import accuracy_score, precision_score, recall_score, confusion_matrix\n",
    "from sklearn.discriminant_analysis import StandardScaler\n",
    "\n",
    "import pandas as pd\n",
    "\n",
    "# Assuming df_incidents_cleaned is your original DataFrame\n",
    "\n",
    "# Select 100 samples where isKilled is True\n",
    "killed_samples = df_incidents_dt[df_incidents_dt['isKilled'] == True].sample(n=100, random_state=42)\n",
    "\n",
    "# Select 100 samples where isKilled is False\n",
    "not_killed_samples = df_incidents_dt[df_incidents_dt['isKilled'] == False].sample(n=100, random_state=42)\n",
    "\n",
    "# Concatenate the balanced samples into a new DataFrame\n",
    "balanced_df = pd.concat([killed_samples, not_killed_samples])\n",
    "\n",
    "# Shuffle the rows in the new DataFrame\n",
    "balanced_df = balanced_df.sample(frac=1, random_state=42).reset_index(drop=True)\n",
    "\n",
    "# Display the balanced DataFrame\n",
    "#print(balanced_df.head())  # You can replace this with your desired way of using the balanced dataset\n",
    "\n",
    "\n",
    "\n",
    "target = balanced_df['isKilled']\n",
    "df_dt = balanced_df.drop(['isKilled', 'n_killed'], axis = 1)\n",
    "df_dt = pd.get_dummies(df_dt)\n",
    "df_dt.info()\n",
    "\n",
    "random_state = 42\n",
    "test_size = 0.2\n",
    "max_depth = 40\n",
    "#X_train, X_test, y_train, y_test = train_test_split(df_dt, target, test_size=test_size, random_state=random_state)\n",
    "train_set, test_set, train_label, test_label = train_test_split(df_dt, target, stratify =target, test_size=0.30)\n",
    "train_set_cplumns = train_set.columns\n",
    "#scaler = StandardScaler()\n",
    "#train_set = scaler.fit_transform(train_set)\n",
    "balanced_df['isKilled'].value_counts()\n"
   ]
  },
  {
   "cell_type": "code",
   "execution_count": 79,
   "metadata": {},
   "outputs": [],
   "source": [
    "#define a decision tree and fit it\n",
    "from sklearn import tree\n",
    "dt = tree.DecisionTreeClassifier(criterion='entropy', splitter='best', \n",
    "                                  max_depth=20, \n",
    "                                  min_samples_split=50, min_samples_leaf=20)\n",
    "dt = dt.fit(train_set, train_label)"
   ]
  },
  {
   "cell_type": "code",
   "execution_count": 80,
   "metadata": {},
   "outputs": [
    {
     "data": {
      "image/png": "[encoded data removed]",
      "text/plain": [
       "<IPython.core.display.Image object>"
      ]
     },
     "execution_count": 80,
     "metadata": {},
     "output_type": "execute_result"
    }
   ],
   "source": [
    "#visualize the actual decision tree obtained \n",
    "import pydotplus \n",
    "from IPython.display import Image  \n",
    "dot_data = tree.export_graphviz(dt, out_file=None, \n",
    "                         feature_names=list(train_set_cplumns),  \n",
    "                         class_names=['<=50', '>50'],  \n",
    "                         filled=True, rounded=True)  \n",
    "graph = pydotplus.graph_from_dot_data(dot_data)  \n",
    "Image(graph.create_png())"
   ]
  },
  {
   "cell_type": "code",
   "execution_count": 81,
   "metadata": {},
   "outputs": [],
   "source": [
    "#predict using the decision tree\n",
    "#the predict function returns the actual predicted labels: we need them for the evaluation phase\n",
    "train_pred_dt = dt.predict(train_set)\n",
    "test_pred_dt = dt.predict(test_set)"
   ]
  },
  {
   "cell_type": "code",
   "execution_count": 82,
   "metadata": {},
   "outputs": [
    {
     "name": "stdout",
     "output_type": "stream",
     "text": [
      "Accuracy train set  1.0\n",
      "Accuracy test set  1.0\n",
      "Precision train set  1.0\n",
      "Recall train set  1.0\n",
      "F1 score train set  1.0\n",
      "Support train set  (array([1., 1.]), array([1., 1.]), array([1., 1.]), array([70, 70]))\n"
     ]
    }
   ],
   "source": [
    "#evaulate the accuracy on the train set and the test set\n",
    "#metrics also contains precision, recall, f1 and the support\n",
    "from sklearn import metrics\n",
    "print('Accuracy train set ', metrics.accuracy_score(train_label, train_pred_dt))\n",
    "print('Accuracy test set ', metrics.accuracy_score(test_label, test_pred_dt))\n",
    "print('Precision train set ', metrics.precision_score(train_label, train_pred_dt, average='weighted'))\n",
    "print('Recall train set ', metrics.recall_score(train_label, train_pred_dt, average='weighted'))\n",
    "print('F1 score train set ', metrics.f1_score(train_label, train_pred_dt, average='weighted'))\n",
    "print('Support train set ', metrics.precision_recall_fscore_support(train_label, train_pred_dt))"
   ]
  },
  {
   "cell_type": "code",
   "execution_count": 83,
   "metadata": {},
   "outputs": [],
   "source": [
    "#metrics computed on the test set\n",
    "from sklearn.metrics import classification_report\n",
    "def report_scores(test_label, test_pred):\n",
    "    print(classification_report(test_label, \n",
    "                            test_pred, \n",
    "                            target_names=['0', '1']))"
   ]
  },
  {
   "cell_type": "code",
   "execution_count": 84,
   "metadata": {},
   "outputs": [
    {
     "name": "stdout",
     "output_type": "stream",
     "text": [
      "              precision    recall  f1-score   support\n",
      "\n",
      "           0       1.00      1.00      1.00        30\n",
      "           1       1.00      1.00      1.00        30\n",
      "\n",
      "    accuracy                           1.00        60\n",
      "   macro avg       1.00      1.00      1.00        60\n",
      "weighted avg       1.00      1.00      1.00        60\n",
      "\n"
     ]
    }
   ],
   "source": [
    "report_scores(test_label, test_pred_dt)\n"
   ]
  },
  {
   "cell_type": "markdown",
   "metadata": {},
   "source": [
    "# Neural Network"
   ]
  },
  {
   "cell_type": "code",
   "execution_count": 92,
   "metadata": {},
   "outputs": [],
   "source": [
    "import tensorflow as tf\n",
    "import numpy as np\n",
    "#train_set, test_set, train_label, test_label\n",
    "\n",
    "model = tf.keras.models.Sequential([\n",
    "  tf.keras.layers.Flatten(input_shape=(1, 57)),\n",
    "  tf.keras.layers.Dense(32, activation='relu'),  \n",
    "  tf.keras.layers.Dense(1, activation='relu')\n",
    "])\n",
    "\n",
    "\n",
    "\n",
    "model.compile(optimizer='adamax',\n",
    "              loss='mean_squared_error',\n",
    "              metrics=['accuracy'])"
   ]
  },
  {
   "cell_type": "code",
   "execution_count": null,
   "metadata": {},
   "outputs": [],
   "source": []
  },
  {
   "cell_type": "code",
   "execution_count": 93,
   "metadata": {},
   "outputs": [
    {
     "name": "stdout",
     "output_type": "stream",
     "text": [
      "Epoch 1/20\n"
     ]
    },
    {
     "name": "stdout",
     "output_type": "stream",
     "text": [
      "1/1 [==============================] - 1s 1s/step - loss: 141.8788 - accuracy: 0.4821 - val_loss: 122.8072 - val_accuracy: 0.5714\n",
      "Epoch 2/20\n",
      "1/1 [==============================] - 0s 54ms/step - loss: 129.2370 - accuracy: 0.4821 - val_loss: 111.6240 - val_accuracy: 0.5714\n",
      "Epoch 3/20\n",
      "1/1 [==============================] - 0s 134ms/step - loss: 117.5665 - accuracy: 0.4821 - val_loss: 101.3636 - val_accuracy: 0.5714\n",
      "Epoch 4/20\n",
      "1/1 [==============================] - 0s 142ms/step - loss: 106.7893 - accuracy: 0.4821 - val_loss: 91.8880 - val_accuracy: 0.5714\n",
      "Epoch 5/20\n",
      "1/1 [==============================] - 0s 109ms/step - loss: 96.8687 - accuracy: 0.4821 - val_loss: 83.1653 - val_accuracy: 0.5714\n",
      "Epoch 6/20\n",
      "1/1 [==============================] - 0s 150ms/step - loss: 87.7465 - accuracy: 0.4821 - val_loss: 75.1525 - val_accuracy: 0.5714\n",
      "Epoch 7/20\n",
      "1/1 [==============================] - 0s 132ms/step - loss: 79.3608 - accuracy: 0.4821 - val_loss: 67.7892 - val_accuracy: 0.5714\n",
      "Epoch 8/20\n",
      "1/1 [==============================] - 0s 109ms/step - loss: 71.6570 - accuracy: 0.4821 - val_loss: 61.0363 - val_accuracy: 0.5714\n",
      "Epoch 9/20\n",
      "1/1 [==============================] - 0s 82ms/step - loss: 64.5939 - accuracy: 0.4821 - val_loss: 54.8541 - val_accuracy: 0.5714\n",
      "Epoch 10/20\n",
      "1/1 [==============================] - 0s 111ms/step - loss: 58.1234 - accuracy: 0.4821 - val_loss: 49.2186 - val_accuracy: 0.5714\n",
      "Epoch 11/20\n",
      "1/1 [==============================] - 0s 93ms/step - loss: 52.2114 - accuracy: 0.4821 - val_loss: 44.0750 - val_accuracy: 0.5714\n",
      "Epoch 12/20\n",
      "1/1 [==============================] - 0s 86ms/step - loss: 46.8279 - accuracy: 0.4821 - val_loss: 39.4025 - val_accuracy: 0.5714\n",
      "Epoch 13/20\n",
      "1/1 [==============================] - 0s 134ms/step - loss: 41.9399 - accuracy: 0.4821 - val_loss: 35.1778 - val_accuracy: 0.5714\n",
      "Epoch 14/20\n",
      "1/1 [==============================] - 0s 85ms/step - loss: 37.5061 - accuracy: 0.4821 - val_loss: 31.3559 - val_accuracy: 0.5714\n",
      "Epoch 15/20\n",
      "1/1 [==============================] - 0s 116ms/step - loss: 33.4871 - accuracy: 0.4821 - val_loss: 27.9063 - val_accuracy: 0.5714\n",
      "Epoch 16/20\n",
      "1/1 [==============================] - 0s 95ms/step - loss: 29.8517 - accuracy: 0.4821 - val_loss: 24.7920 - val_accuracy: 0.5714\n",
      "Epoch 17/20\n",
      "1/1 [==============================] - 0s 122ms/step - loss: 26.5701 - accuracy: 0.4821 - val_loss: 21.9927 - val_accuracy: 0.5714\n",
      "Epoch 18/20\n",
      "1/1 [==============================] - 0s 120ms/step - loss: 23.6158 - accuracy: 0.4821 - val_loss: 19.4826 - val_accuracy: 0.5714\n",
      "Epoch 19/20\n",
      "1/1 [==============================] - 0s 94ms/step - loss: 20.9600 - accuracy: 0.4821 - val_loss: 17.2353 - val_accuracy: 0.5714\n",
      "Epoch 20/20\n",
      "1/1 [==============================] - 0s 85ms/step - loss: 18.5782 - accuracy: 0.4821 - val_loss: 15.2258 - val_accuracy: 0.5714\n"
     ]
    }
   ],
   "source": [
    "y_train = np.asarray(train_label).astype('float32').reshape((-1,1))\n",
    "x_train = np.reshape(train_set.values, (len(train_set), 1, len(train_set.columns)))\n",
    "history = model.fit(x_train, y_train,\n",
    "                    epochs=20,\n",
    "                    batch_size=512,\n",
    "                    validation_split=0.2)"
   ]
  },
  {
   "cell_type": "code",
   "execution_count": 94,
   "metadata": {},
   "outputs": [
    {
     "name": "stdout",
     "output_type": "stream",
     "text": [
      "Model: \"sequential_6\"\n",
      "_________________________________________________________________\n",
      " Layer (type)                Output Shape              Param #   \n",
      "=================================================================\n",
      " flatten_6 (Flatten)         (None, 57)                0         \n",
      "                                                                 \n",
      " dense_12 (Dense)            (None, 32)                1856      \n",
      "                                                                 \n",
      " dense_13 (Dense)            (None, 1)                 33        \n",
      "                                                                 \n",
      "=================================================================\n",
      "Total params: 1889 (7.38 KB)\n",
      "Trainable params: 1889 (7.38 KB)\n",
      "Non-trainable params: 0 (0.00 Byte)\n",
      "_________________________________________________________________\n"
     ]
    }
   ],
   "source": [
    "model.summary()"
   ]
  },
  {
   "cell_type": "code",
   "execution_count": 95,
   "metadata": {},
   "outputs": [
    {
     "data": {
      "image/png": "[encoded data removed]",
      "text/plain": [
       "<Figure size 640x480 with 1 Axes>"
      ]
     },
     "metadata": {},
     "output_type": "display_data"
    }
   ],
   "source": [
    "import matplotlib.pyplot as plt\n",
    "acc = history.history['accuracy']\n",
    "val_acc = history.history['val_accuracy']\n",
    "loss = history.history['loss']\n",
    "val_loss = history.history['val_loss']\n",
    "epochs = range(1, len(acc) + 1)\n",
    "plt.plot(epochs, acc, 'bo', label='Training Acc')\n",
    "plt.plot(epochs, val_acc, 'b', label='Validation Acc')\n",
    "plt.title('Training and validation Acc')\n",
    "plt.xlabel('Epochs')\n",
    "plt.ylabel('Acc')\n",
    "plt.legend()\n",
    "plt.show()"
   ]
  },
  {
   "cell_type": "code",
   "execution_count": 96,
   "metadata": {},
   "outputs": [
    {
     "name": "stdout",
     "output_type": "stream",
     "text": [
      "2/2 [==============================] - 0s 4ms/step\n"
     ]
    }
   ],
   "source": [
    "x_test = np.reshape(test_set.values, (len(test_set), 1, 57))\n",
    "test_pred_nn = (model.predict(x_test) > 0.5).astype(\"int32\")"
   ]
  },
  {
   "cell_type": "code",
   "execution_count": 97,
   "metadata": {},
   "outputs": [
    {
     "name": "stdout",
     "output_type": "stream",
     "text": [
      "              precision    recall  f1-score   support\n",
      "\n",
      "           0       0.00      0.00      0.00        30\n",
      "           1       0.50      1.00      0.67        30\n",
      "\n",
      "    accuracy                           0.50        60\n",
      "   macro avg       0.25      0.50      0.33        60\n",
      "weighted avg       0.25      0.50      0.33        60\n",
      "\n"
     ]
    },
    {
     "name": "stderr",
     "output_type": "stream",
     "text": [
      "/home/luca/.local/lib/python3.10/site-packages/sklearn/metrics/_classification.py:1469: UndefinedMetricWarning:\n",
      "\n",
      "Precision and F-score are ill-defined and being set to 0.0 in labels with no predicted samples. Use `zero_division` parameter to control this behavior.\n",
      "\n",
      "/home/luca/.local/lib/python3.10/site-packages/sklearn/metrics/_classification.py:1469: UndefinedMetricWarning:\n",
      "\n",
      "Precision and F-score are ill-defined and being set to 0.0 in labels with no predicted samples. Use `zero_division` parameter to control this behavior.\n",
      "\n",
      "/home/luca/.local/lib/python3.10/site-packages/sklearn/metrics/_classification.py:1469: UndefinedMetricWarning:\n",
      "\n",
      "Precision and F-score are ill-defined and being set to 0.0 in labels with no predicted samples. Use `zero_division` parameter to control this behavior.\n",
      "\n"
     ]
    }
   ],
   "source": [
    "report_scores(test_label, test_pred_nn)"
   ]
  },
  {
   "cell_type": "code",
   "execution_count": 98,
   "metadata": {},
   "outputs": [
    {
     "ename": "ModuleNotFoundError",
     "evalue": "No module named 'elm'",
     "output_type": "error",
     "traceback": [
      "\u001b[0;31m---------------------------------------------------------------------------\u001b[0m",
      "\u001b[0;31mModuleNotFoundError\u001b[0m                       Traceback (most recent call last)",
      "Cell \u001b[0;32mIn[98], line 11\u001b[0m\n\u001b[1;32m      9\u001b[0m \u001b[38;5;28;01mfrom\u001b[39;00m \u001b[38;5;21;01mkeras\u001b[39;00m \u001b[38;5;28;01mimport\u001b[39;00m backend \u001b[38;5;28;01mas\u001b[39;00m K\n\u001b[1;32m     10\u001b[0m \u001b[38;5;28;01mfrom\u001b[39;00m \u001b[38;5;21;01msklearn\u001b[39;00m\u001b[38;5;21;01m.\u001b[39;00m\u001b[38;5;21;01mmetrics\u001b[39;00m \u001b[38;5;28;01mimport\u001b[39;00m make_scorer\n\u001b[0;32m---> 11\u001b[0m \u001b[38;5;28;01mfrom\u001b[39;00m \u001b[38;5;21;01melm\u001b[39;00m \u001b[38;5;28;01mimport\u001b[39;00m ELM\n\u001b[1;32m     13\u001b[0m \u001b[38;5;28;01mfrom\u001b[39;00m \u001b[38;5;21;01mmatplotlib\u001b[39;00m \u001b[38;5;28;01mimport\u001b[39;00m pyplot \u001b[38;5;28;01mas\u001b[39;00m plt\n\u001b[1;32m     16\u001b[0m \u001b[38;5;28;01mdef\u001b[39;00m \u001b[38;5;21mread_tr\u001b[39m(file_path, test_size\u001b[38;5;241m=\u001b[39m\u001b[38;5;241m0.15\u001b[39m, random_state\u001b[38;5;241m=\u001b[39m\u001b[38;5;241m42\u001b[39m):\n",
      "\u001b[0;31mModuleNotFoundError\u001b[0m: No module named 'elm'"
     ]
    }
   ],
   "source": [
    "from keras.layers import Dense\n",
    "from keras.models import Sequential\n",
    "from keras.regularizers import l1, l2, l1_l2\n",
    "from keras.optimizers import SGD, Adam\n",
    "from keras.callbacks import  EarlyStopping\n",
    "from sklearn.model_selection import train_test_split\n",
    "import numpy as np\n",
    "from numpy import loadtxt\n",
    "from keras import backend as K\n",
    "from sklearn.metrics import make_scorer\n",
    "from elm import ELM\n",
    "\n",
    "from matplotlib import pyplot as plt\n",
    "\n",
    "\n",
    "def read_tr(file_path, test_size=0.15, random_state=42):\n",
    "    \"\"\"Load training data and compute the validation split.\n",
    "    Parameters:\n",
    "        file_path: string containing the complete path where the training dataset is stored\n",
    "        test_size: float between 0.0 and 1.0 defining the amount of dataset to be kept for the validation set\n",
    "        random_state: integer that allows the replicability of the analysis\n",
    "    \"\"\"\n",
    "    train = loadtxt(file_path, delimiter=',', usecols=range(1, 14), dtype=np.float64)\n",
    "\n",
    "    # Esclude la prima colonna e le ultime tre colonne (target)\n",
    "    x = train[:, :-3]\n",
    "    y = train[:, -3:]  # Le ultime tre colonne rappresentano i target\n",
    "\n",
    "    # Suddivide il dataset in set di addestramento e test\n",
    "    x_train, x_test, y_train, y_test = train_test_split(x, y, test_size=test_size, random_state=random_state)\n",
    "\n",
    "    return x_train, y_train, x_test, y_test\n",
    "\n",
    "\n",
    "def read_ts(file: str = \"./cup/ds/ML-CUP23-TS.csv\"):\n",
    "    \"\"\"Load and return the 'blind test' dataset given its full path.\"\"\"\n",
    "    test = loadtxt(file, delimiter=',', usecols=range(1, 11), dtype=np.float64)\n",
    "\n",
    "    return test\n",
    "\n",
    "\n",
    "def euclidean_distance_loss(y_true, y_pred):\n",
    "    \"\"\"Compute the Euclidean distance, used in training and evaluation of the model.\"\"\"\n",
    "    return K.sqrt(K.sum(K.square(y_pred - y_true), axis=-1))\n",
    "\n",
    "\n",
    "def create_model(lmb=0.0001, lmb2=0.0001,\n",
    "                 n_units=20,\n",
    "                 n_layers=3,\n",
    "                 init_mode='glorot_normal',\n",
    "                 activation_fx='tanh',\n",
    "                 regularizer=l1_l2):\n",
    "    \"\"\"This function returns a brand-new model every time is called, so it's useful for gridsearch.\n",
    "\n",
    "    Args:\n",
    "      lmb: lambda for the L1/L2 regularizer\n",
    "      lmb2: if L1L2 is used, this is the lambda of the L2 regularizer, while the previous one of the L1\n",
    "      n_units: number of units of the dense layers\n",
    "      n_layers: number of dense layers to add to the neural network\n",
    "      init_mode: initialization method to use for the layers. Default is 'glorot_normal' but any of those accepted\n",
    "        by Keras can be used\n",
    "      activation_fx: activation function for the hidden layers. Default is 'tanh' but any of those accepted by Keras\n",
    "        can be used. The activation function for the output layer is predefined as linear and cannot be modified\n",
    "      regularizer: regularizer applied to each dense layer.\n",
    "    \"\"\"\n",
    "    model = Sequential()\n",
    "\n",
    "    # Create hidden layers\n",
    "    for i in range(n_layers):\n",
    "        model.add(Dense(n_units,\n",
    "                        kernel_initializer=init_mode,\n",
    "                        activation=activation_fx,\n",
    "                        kernel_regularizer=regularizer(lmb, lmb2)))\n",
    "\n",
    "        # create output layer with 3 neurons for x, y, z\n",
    "    model.add(Dense(3, activation='linear', kernel_initializer=init_mode))\n",
    "    return model\n",
    "\n",
    "\n",
    "def euclidean_distance_score(y_true, y_pred):\n",
    "    \"\"\"It retrieves the mean value of all the passed losses\"\"\"\n",
    "    return np.mean(euclidean_distance_loss(y_true, y_pred))\n",
    "\n",
    "\n",
    "scorer = make_scorer(euclidean_distance_score, greater_is_better=False)\n",
    "\n",
    "\n",
    "def model_selection(x, y, epochs: int = 100):\n",
    "    \"\"\"Computed the gridsearch over some parameters and returns the best model.\"\"\"\n",
    "    # Evaluation list contains each tested model and relatives parameters into a dictionary\n",
    "    evaluation = []\n",
    "    learning_rate = np.arange(start=0.01, stop=0.4, step=0.01)\n",
    "    learning_rate = [float(round(i, 4)) for i in list(learning_rate)]\n",
    "\n",
    "    momentum = np.arange(start=0.9, stop=1, step=0.1)\n",
    "    momentum = [float(round(i, 1)) for i in list(momentum)]\n",
    "\n",
    "    lmb = np.arange(start=0.0001, stop=0.001, step=0.0001)\n",
    "    lmb = [float(round(i, 5)) for i in list(lmb)]\n",
    "    lmb2 = np.arange(start=0.0001, stop=0.001, step=0.0004)\n",
    "    lmb2 = [float(round(i, 5)) for i in list(lmb)]\n",
    "\n",
    "    total = len(learning_rate) * len(momentum) * len(lmb)\n",
    "    print(f\"Total {total} fits.\")\n",
    "    learning_rate = [0.02]\n",
    "    momentum = [0.9]\n",
    "    bs = 50\n",
    "\n",
    "    for lr in learning_rate:\n",
    "        for mom in [1]:\n",
    "            for lm in lmb:\n",
    "                for lm2 in lmb2:\n",
    "                    # optimizer = SGD(learning_rate=lr, momentum=mom)\n",
    "                    optimizer = Adam(learning_rate=lr)\n",
    "                    model = create_model(lmb=lm, lmb2=lm2, regularizer=l1_l2)\n",
    "                    model.compile(optimizer=optimizer, loss=euclidean_distance_loss)\n",
    "                    history = model.fit(x, y, batch_size=bs, epochs=epochs, validation_split=0.3)\n",
    "\n",
    "                    model_loss = [np.mean(history.history[\"val_loss\"]), np.mean(history.history[\"loss\"])]\n",
    "                    metrics = dict(learning_rate=lr,\n",
    "                                   momentum=mom,\n",
    "                                   lmb=lm,\n",
    "                                   lmb2=lm2,\n",
    "                                   batch_size=bs,\n",
    "                                   val_score=model_loss[0],\n",
    "                                   train_score=model_loss[1])\n",
    "                    evaluation.append(metrics)\n",
    "                    print(f\"Testing model→ Learning_rate: {lr}, momentum: {mom}, \"\n",
    "                          f\"L2: {lm}, batch_size: {bs}, val_score: {model_loss[0]}\")\n",
    "\n",
    "    print(\"Evaluating best model...\")\n",
    "    best = 10000\n",
    "    for mod in evaluation:\n",
    "        if mod[\"val_score\"] < best:\n",
    "            best = mod[\"val_score\"]\n",
    "            bestm = mod\n",
    "\n",
    "    print(f\"Best model: {bestm}\")\n",
    "\n",
    "    return dict(learning_rate=bestm[\"learning_rate\"],\n",
    "                momentum=bestm[\"momentum\"],\n",
    "                lmb=bestm[\"lmb\"],\n",
    "                lmb2=bestm[\"lmb2\"],\n",
    "                epochs=epochs,\n",
    "                batch_size=bestm[\"batch_size\"],\n",
    "                regularizer=l1_l2)\n",
    "\n",
    "\n",
    "def predict(model, x_ts, x_its, y_its):\n",
    "    # predict on internal test set\n",
    "    y_ipred = model.predict(x_its)\n",
    "    iloss = euclidean_distance_loss(y_its, y_ipred)\n",
    "\n",
    "    # predict on blind test set\n",
    "    y_pred = model.predict(x_ts)\n",
    "\n",
    "    # Return predicted target on blind test set and losses on internal test set\n",
    "    # y_pred is a matrix where each column represents predictions for one of the three target variables.\n",
    "    # The function returns a list of arrays, one for each column.\n",
    "    return [y_pred[:, i] for i in range(y_pred.shape[1])], K.eval(iloss)\n",
    "\n",
    "\n",
    "\n",
    "def plot_learning_curve(history, start_epoch=1, **kwargs):\n",
    "    lgd = ['Loss TR']\n",
    "    plt.plot(range(start_epoch, kwargs['epochs']), history['loss'][start_epoch:])\n",
    "\n",
    "    if \"val_loss\" in history:\n",
    "        plt.plot(range(start_epoch, kwargs['epochs']), history['val_loss'][start_epoch:])\n",
    "        lgd.append('Loss VL')\n",
    "\n",
    "    plt.xlabel(\"Epoch\")\n",
    "    plt.ylabel(\"Loss\")\n",
    "    plt.title(f'Keras Learning Curve \\n {kwargs}')\n",
    "    plt.legend(lgd)\n",
    "\n",
    "    # Check if predictions are available in the history\n",
    "    if 'predictions' in history:\n",
    "        predictions = history['predictions']\n",
    "\n",
    "        # Plot predictions for each variable\n",
    "        for i in range(predictions.shape[1]):\n",
    "            plt.figure()\n",
    "            plt.plot(range(start_epoch, kwargs['epochs']), predictions[:, i][start_epoch:])\n",
    "            plt.xlabel(\"Epoch\")\n",
    "            plt.ylabel(f\"Prediction Variable {i + 1}\")\n",
    "            plt.title(f'Keras Learning Curve \\n {kwargs} - Prediction Variable {i + 1}')\n",
    "\n",
    "    plt.show()\n",
    "\n",
    "\n",
    "\n",
    "\n",
    "\n",
    "def extremelm():\n",
    "    \"\"\"Create and fit an extreme learning machine using the Moore-Penrose pseudo inverse as shown in the original\n",
    "    aper.\"\"\"\n",
    "    file_path_tr = \"./cup/ds/ML-CUP23-TR.csv\"\n",
    "    x_train, y_train, x_test, y_test = read_tr(file_path_tr)\n",
    "    num_classes = 3\n",
    "    num_hidden_units = 300\n",
    "\n",
    "    # Create instance of our model\n",
    "    model = ELM(\n",
    "        num_input_nodes=10,\n",
    "        num_hidden_units=num_hidden_units,\n",
    "        num_out_units=num_classes,\n",
    "        activation=\"sigmoid\",\n",
    "        loss=\"mse\"\n",
    "    )\n",
    "\n",
    "    # Train\n",
    "    model.fit(x_train, y_train, True)\n",
    "    train_loss, train_acc = model.evaluate(x_train, y_train)\n",
    "    print('train loss: %f' % train_loss)\n",
    "    print('train acc: %f' % train_acc)\n",
    "\n",
    "    # Validation\n",
    "    val_loss, val_acc = model.evaluate(x_test, y_test)\n",
    "    print('val loss: %f' % val_loss)\n",
    "    print('val acc: %f' % val_acc)\n",
    "\n",
    "\n",
    "extremelm()"
   ]
  },
  {
   "cell_type": "code",
   "execution_count": null,
   "metadata": {},
   "outputs": [],
   "source": [
    "ms=False\n",
    "print(\"keras start\")\n",
    "    # read training set\n",
    "x, y, x_its, y_its = train_set, test_set, train_label, test_label\n",
    "    # choose model selection or hand-given parameters\n",
    "if ms:\n",
    "    params = model_selection(x, y)\n",
    "else:\n",
    "        # Best model with Lasso/Ridge regulatization\n",
    "        # params = dict(learning_rate=0.016, momentum=0.9, lmb=0.0005, epochs=1000, batch_size=50, regularizer=l2)\n",
    "        # Best model with ElasticNet regularization\n",
    "    params = dict(learning_rate=0.02, momentum=0.9, lmb=0.0005, lmb2=0.0005, epochs=5000, batch_size=50, regularizer=l1_l2)\n",
    "\n",
    "    # Create and fit the model\n",
    "    cb = EarlyStopping(monitor=\"val_loss\", patience=10)\n",
    "    model = create_model(lmb=params['lmb'], lmb2=params[\"lmb2\"], regularizer=params[\"regularizer\"])\n",
    "    # model.compile(optimizer=SGD(learning_rate=params[\"learning_rate\"], momentum=params[\"momentum\"]))\n",
    "    model.compile(optimizer=Adam(learning_rate=params[\"learning_rate\"]))\n",
    "    res = model.fit(x, y,\n",
    "                    validation_split=0.3,\n",
    "                    epochs=params['epochs'],\n",
    "                    batch_size=params['batch_size'],\n",
    "                    callbacks=[cb],\n",
    "                    verbose=1)\n",
    "\n",
    "    tr_losses = res.history['loss']\n",
    "    val_losses = res.history['val_loss']\n",
    "    # Prediction for the three variables\n",
    "    y_pred, ts_losses = predict(model=model, x_ts=read_ts(), x_its=x_its, y_its=y_its)\n",
    "\n",
    "    print(\"TR Loss: \", tr_losses[-1])\n",
    "    print(\"VL Loss: \", val_losses[-1])\n",
    "    print(\"TS Loss: \", np.mean(ts_losses))\n",
    "\n",
    "    # Extract predictions for each variable\n",
    "    '''\n",
    "    y_pred_x, y_pred_y, y_pred_z = y_pred\n",
    "\n",
    "    print(\"Predictions for X: \", y_pred_x)\n",
    "    print(\"Predictions for Y: \", y_pred_y)\n",
    "    print(\"Predictions for Z: \", y_pred_z)\n",
    "    '''\n",
    "    print(\"keras end\")\n",
    "    params[\"epochs\"] = len(tr_losses)\n",
    "    plot_learning_curve(res.history, savefig=True, **params)"
   ]
  }
 ],
 "metadata": {
  "kernelspec": {
   "display_name": "Python 3",
   "language": "python",
   "name": "python3"
  },
  "language_info": {
   "codemirror_mode": {
    "name": "ipython",
    "version": 3
   },
   "file_extension": ".py",
   "mimetype": "text/x-python",
   "name": "python",
   "nbconvert_exporter": "python",
   "pygments_lexer": "ipython3",
   "version": "3.10.12"
  }
 },
 "nbformat": 4,
 "nbformat_minor": 2
}
