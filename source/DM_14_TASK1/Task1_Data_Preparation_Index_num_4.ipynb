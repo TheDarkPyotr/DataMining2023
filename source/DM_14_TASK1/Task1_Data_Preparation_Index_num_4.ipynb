{
 "cells": [
  {
   "cell_type": "markdown",
   "metadata": {},
   "source": [
    "## Definition of Index number 4\n",
    "\n",
    "This notebook is only being used for definition of the fourth index since it caused clashes with the other notebooks.\n"
   ]
  },
  {
   "cell_type": "code",
   "execution_count": 1,
   "metadata": {},
   "outputs": [
    {
     "name": "stdout",
     "output_type": "stream",
     "text": [
      "<class 'pandas.core.frame.DataFrame'>\n",
      "RangeIndex: 357 entries, 0 to 356\n",
      "Data columns (total 3 columns):\n",
      " #   Column             Non-Null Count  Dtype  \n",
      "---  ------             --------------  -----  \n",
      " 0   state              357 non-null    object \n",
      " 1   year               357 non-null    int64  \n",
      " 2   povertyPercentage  357 non-null    float64\n",
      "dtypes: float64(1), int64(1), object(1)\n",
      "memory usage: 8.5+ KB\n"
     ]
    }
   ],
   "source": [
    "# This will take a while\n",
    "import pandas as pd\n",
    "import numpy as np\n",
    "import matplotlib.pyplot as plt\n",
    "import seaborn as sns\n",
    "import os\n",
    "\n",
    "import plotly.offline as py\n",
    "\n",
    "\n",
    "# Set a seed for reproducibility\n",
    "np.random.seed(42)\n",
    "\n",
    "# Load dataset from data understanding\n",
    "df_incident_du = pd.read_csv('../ds/cleaned/incidents_cleaned.csv')\n",
    "df_poverty_du = pd.read_csv('../ds/cleaned/poverty_cleaned.csv')\n",
    "df_years_state_du = pd.read_csv('../ds/cleaned/year_state_votes_cleaned.csv')\n",
    "\n",
    "df_poverty_du.info()\n",
    "\n"
   ]
  },
  {
   "cell_type": "code",
   "execution_count": 2,
   "metadata": {},
   "outputs": [],
   "source": [
    "# We need to do merge function from pandas\n",
    "df_merged = pd.merge(df_incident_du ,df_poverty_du, on=['state', 'year'], how='left')\n",
    "\n",
    "# Assuming df_merged is your DataFrame\n",
    "df_merged = pd.merge(df_merged, df_years_state_du, on=['state', 'year', 'congressional_district'], how='left')\n"
   ]
  },
  {
   "cell_type": "markdown",
   "metadata": {},
   "source": [
    "### 4. *Ratio of unharmed people in the incident w.r.t. the average of unharmed people involved in incidents for the same period*"
   ]
  },
  {
   "cell_type": "code",
   "execution_count": 3,
   "metadata": {},
   "outputs": [],
   "source": [
    "# Grouping by year and calculating the average number of unharmed people involved in incidents for each year\n",
    "average_unharmed_per_year = df_merged.groupby('year')['n_unharmed'].mean()\n",
    "\n",
    "# Merging the average back to the original DataFrame based on the 'year' column\n",
    "df_merged_unharmed = df_merged.merge(average_unharmed_per_year, on='year', suffixes=('', '_avg'))\n"
   ]
  },
  {
   "cell_type": "code",
   "execution_count": 4,
   "metadata": {},
   "outputs": [
    {
     "data": {
      "text/html": [
       "<div>\n",
       "<style scoped>\n",
       "    .dataframe tbody tr th:only-of-type {\n",
       "        vertical-align: middle;\n",
       "    }\n",
       "\n",
       "    .dataframe tbody tr th {\n",
       "        vertical-align: top;\n",
       "    }\n",
       "\n",
       "    .dataframe thead th {\n",
       "        text-align: right;\n",
       "    }\n",
       "</style>\n",
       "<table border=\"1\" class=\"dataframe\">\n",
       "  <thead>\n",
       "    <tr style=\"text-align: right;\">\n",
       "      <th></th>\n",
       "      <th>year</th>\n",
       "      <th>n_unharmed</th>\n",
       "      <th>unharmed_ratio</th>\n",
       "    </tr>\n",
       "  </thead>\n",
       "  <tbody>\n",
       "    <tr>\n",
       "      <th>0</th>\n",
       "      <td>2014</td>\n",
       "      <td>1</td>\n",
       "      <td>1.172595</td>\n",
       "    </tr>\n",
       "    <tr>\n",
       "      <th>1</th>\n",
       "      <td>2014</td>\n",
       "      <td>0</td>\n",
       "      <td>0.000000</td>\n",
       "    </tr>\n",
       "    <tr>\n",
       "      <th>2</th>\n",
       "      <td>2014</td>\n",
       "      <td>1</td>\n",
       "      <td>1.172595</td>\n",
       "    </tr>\n",
       "    <tr>\n",
       "      <th>3</th>\n",
       "      <td>2014</td>\n",
       "      <td>0</td>\n",
       "      <td>0.000000</td>\n",
       "    </tr>\n",
       "    <tr>\n",
       "      <th>4</th>\n",
       "      <td>2014</td>\n",
       "      <td>0</td>\n",
       "      <td>0.000000</td>\n",
       "    </tr>\n",
       "    <tr>\n",
       "      <th>...</th>\n",
       "      <td>...</td>\n",
       "      <td>...</td>\n",
       "      <td>...</td>\n",
       "    </tr>\n",
       "    <tr>\n",
       "      <th>195</th>\n",
       "      <td>2014</td>\n",
       "      <td>2</td>\n",
       "      <td>2.345189</td>\n",
       "    </tr>\n",
       "    <tr>\n",
       "      <th>196</th>\n",
       "      <td>2014</td>\n",
       "      <td>1</td>\n",
       "      <td>1.172595</td>\n",
       "    </tr>\n",
       "    <tr>\n",
       "      <th>197</th>\n",
       "      <td>2014</td>\n",
       "      <td>2</td>\n",
       "      <td>2.345189</td>\n",
       "    </tr>\n",
       "    <tr>\n",
       "      <th>198</th>\n",
       "      <td>2014</td>\n",
       "      <td>0</td>\n",
       "      <td>0.000000</td>\n",
       "    </tr>\n",
       "    <tr>\n",
       "      <th>199</th>\n",
       "      <td>2014</td>\n",
       "      <td>0</td>\n",
       "      <td>0.000000</td>\n",
       "    </tr>\n",
       "  </tbody>\n",
       "</table>\n",
       "<p>200 rows × 3 columns</p>\n",
       "</div>"
      ],
      "text/plain": [
       "     year  n_unharmed  unharmed_ratio\n",
       "0    2014           1        1.172595\n",
       "1    2014           0        0.000000\n",
       "2    2014           1        1.172595\n",
       "3    2014           0        0.000000\n",
       "4    2014           0        0.000000\n",
       "..    ...         ...             ...\n",
       "195  2014           2        2.345189\n",
       "196  2014           1        1.172595\n",
       "197  2014           2        2.345189\n",
       "198  2014           0        0.000000\n",
       "199  2014           0        0.000000\n",
       "\n",
       "[200 rows x 3 columns]"
      ]
     },
     "execution_count": 4,
     "metadata": {},
     "output_type": "execute_result"
    }
   ],
   "source": [
    "# Computing the ratio of unharmed people in each incident to the average for the respective year\n",
    "df_merged_unharmed['unharmed_ratio'] = df_merged_unharmed['n_unharmed'] / df_merged_unharmed['n_unharmed_avg']\n",
    "\n",
    "df_merged_unharmed = df_merged_unharmed[['year', 'n_unharmed', 'unharmed_ratio']]\n",
    "df_merged_unharmed.head(200)"
   ]
  },
  {
   "cell_type": "code",
   "execution_count": 7,
   "metadata": {},
   "outputs": [],
   "source": [
    "# Save the indicator dataframe to csv\n",
    "\n",
    "#Group by year and unharm ratio\n",
    "df_merged_unharmed = df_merged_unharmed.groupby(['year', 'unharmed_ratio']).size().reset_index(name='counts')\n",
    "df_merged_unharmed = df_merged_unharmed[['year', 'unharmed_ratio']]\n",
    "\n",
    "file_path = \"../ds/cleaned/index_4_cleaned.csv\"\n",
    "df_merged_unharmed.to_csv(file_path, index=False)"
   ]
  }
 ],
 "metadata": {
  "kernelspec": {
   "display_name": "Python 3",
   "language": "python",
   "name": "python3"
  },
  "language_info": {
   "codemirror_mode": {
    "name": "ipython",
    "version": 3
   },
   "file_extension": ".py",
   "mimetype": "text/x-python",
   "name": "python",
   "nbconvert_exporter": "python",
   "pygments_lexer": "ipython3",
   "version": "3.10.12"
  }
 },
 "nbformat": 4,
 "nbformat_minor": 2
}
