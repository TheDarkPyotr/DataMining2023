{
 "cells": [
  {
   "cell_type": "markdown",
   "metadata": {},
   "source": [
    "# Task 1.1 - Data Understanding `povertyByState.csv`"
   ]
  },
  {
   "cell_type": "code",
   "execution_count": 1,
   "metadata": {},
   "outputs": [],
   "source": [
    "# This will take a while\n",
    "import pandas as pd\n",
    "import numpy as np\n",
    "import matplotlib.pyplot as plt\n",
    "import seaborn as sns\n",
    "import os\n",
    "\n",
    "import plotly.offline as py\n",
    "\n",
    "\n",
    "# Set a seed for reproducibility\n",
    "np.random.seed(42)\n",
    "\n",
    "# Import the dataset\n",
    "# Poverty by state and year\n",
    "df_poverty = pd.read_csv('../source/ds/povertyByStateYear.csv')\n"
   ]
  },
  {
   "cell_type": "code",
   "execution_count": 2,
   "metadata": {},
   "outputs": [
    {
     "name": "stdout",
     "output_type": "stream",
     "text": [
      "----------------------------------------------------------------------------------------------------\n",
      "<class 'pandas.core.frame.DataFrame'>\n",
      "RangeIndex: 884 entries, 0 to 883\n",
      "Data columns (total 3 columns):\n",
      " #   Column             Non-Null Count  Dtype  \n",
      "---  ------             --------------  -----  \n",
      " 0   state              884 non-null    object \n",
      " 1   year               884 non-null    int64  \n",
      " 2   povertyPercentage  832 non-null    float64\n",
      "dtypes: float64(1), int64(1), object(1)\n",
      "memory usage: 20.8+ KB\n"
     ]
    }
   ],
   "source": [
    "print(\"--\"*50)\n",
    "df_poverty.info()"
   ]
  },
  {
   "cell_type": "markdown",
   "metadata": {},
   "source": []
  },
  {
   "cell_type": "code",
   "execution_count": 3,
   "metadata": {},
   "outputs": [
    {
     "name": "stdout",
     "output_type": "stream",
     "text": [
      "           state  year  povertyPercentage\n",
      "0  United States  2020               11.5\n",
      "1        Alabama  2020               14.8\n",
      "2         Alaska  2020               11.5\n",
      "3        Arizona  2020               12.1\n",
      "4       Arkansas  2020               15.8\n",
      "<class 'pandas.core.frame.DataFrame'>\n",
      "RangeIndex: 884 entries, 0 to 883\n",
      "Data columns (total 3 columns):\n",
      " #   Column             Non-Null Count  Dtype  \n",
      "---  ------             --------------  -----  \n",
      " 0   state              884 non-null    object \n",
      " 1   year               884 non-null    int64  \n",
      " 2   povertyPercentage  832 non-null    float64\n",
      "dtypes: float64(1), int64(1), object(1)\n",
      "memory usage: 20.8+ KB\n",
      "None\n",
      "##########################################\n",
      "Counts unique values for each column\n",
      "state                 52\n",
      "year                  17\n",
      "povertyPercentage    146\n",
      "dtype: int64\n",
      "##########################################\n",
      "List of alle the values for the feature 'state'\n",
      "['United States' 'Alabama' 'Alaska' 'Arizona' 'Arkansas' 'California'\n",
      " 'Colorado' 'Connecticut' 'Delaware' 'District of Columbia' 'Florida'\n",
      " 'Georgia' 'Hawaii' 'Idaho' 'Illinois' 'Indiana' 'Iowa' 'Kansas'\n",
      " 'Kentucky' 'Louisiana' 'Maine' 'Maryland' 'Massachusetts' 'Michigan'\n",
      " 'Minnesota' 'Mississippi' 'Missouri' 'Montana' 'Nebraska' 'Nevada'\n",
      " 'New Hampshire' 'New Jersey' 'New Mexico' 'New York' 'North Carolina'\n",
      " 'North Dakota' 'Ohio' 'Oklahoma' 'Oregon' 'Pennsylvania' 'Rhode Island'\n",
      " 'South Carolina' 'South Dakota' 'Tennessee' 'Texas' 'Utah' 'Vermont'\n",
      " 'Virginia' 'Washington' 'West Virginia' 'Wisconsin' 'Wyoming']\n",
      "##########################################\n",
      "values for us\n",
      "             state  year  povertyPercentage\n",
      "0    United States  2020               11.5\n",
      "52   United States  2019               11.2\n",
      "104  United States  2018               11.2\n",
      "156  United States  2017               11.5\n",
      "208  United States  2016               12.3\n",
      "260  United States  2015               12.8\n",
      "312  United States  2014               13.7\n",
      "364  United States  2013               14.4\n",
      "416  United States  2012                NaN\n",
      "468  United States  2011               14.8\n",
      "520  United States  2010               15.0\n",
      "572  United States  2009               14.8\n",
      "624  United States  2008               14.2\n",
      "676  United States  2007               13.4\n",
      "728  United States  2006               12.7\n",
      "780  United States  2005               12.5\n",
      "832  United States  2004               12.5\n",
      "##########################################\n",
      "Ristampo valori univoci per ciascuna colonna\n",
      "state                 51\n",
      "year                  17\n",
      "povertyPercentage    146\n",
      "dtype: int64\n"
     ]
    }
   ],
   "source": [
    "## LOOK AROUND:\n",
    "print(df_poverty.head())\n",
    "\n",
    "# Informazioni sulle colonne, tipi di dati e presenza di valori nulli\n",
    "print(df_poverty.info())\n",
    "\n",
    "# Statistiche descrittive per colonne numeriche\n",
    "#print(df_poverty.describe())\n",
    "\n",
    "\n",
    "\n",
    "# Conteggio dei valori unici per ogni colonna\n",
    "print(\"##########################################\")\n",
    "print(\"Counts unique values for each column\")\n",
    "print(df_poverty.nunique())\n",
    "\n",
    "print(\"##########################################\")\n",
    "print(\"List of alle the values for the feature 'state'\")\n",
    "#problem: there are 52 states\n",
    "unique_state_values = df_poverty['state'].unique()\n",
    "print(unique_state_values)\n",
    "print(\"##########################################\")\n",
    "#vedo il caso state = 'United States'\n",
    "# Seleziona le righe in cui 'state' è 'United States'\n",
    "print(\"values for us\")\n",
    "df_united_states = df_poverty[df_poverty['state'] == 'United States']\n",
    "print(df_united_states)\n",
    "##Dato che non posso ricavarci alcunchè -> elimino le righe con United States per quanto riguarda la feature State\n",
    "df_poverty_filtered = df_poverty[df_poverty['state'] != 'United States']\n",
    "print(\"##########################################\")\n",
    "print(\"Ristampo valori univoci per ciascuna colonna\")\n",
    "print(df_poverty_filtered.nunique())\n",
    "##!!!!!\n",
    "# terrei il district of columbia (Washington dc che non è uno stato dei 50 ma ha una popolazione decisamente numerosa e ha senso tenerlo in considerazione nell'analisi\n",
    "##!!!!!\n",
    "\n",
    "#print(\"##########################################\")\n",
    "#print()\n",
    "# Conteggio dei valori unici per ogni colonna\n",
    "#print(\"###Counts unique values for each column\")\n",
    "#print(df_poverty_filtered.nunique())\n",
    "#print()\n",
    "#unique_state_values = df_poverty_filtered['state'].unique()\n",
    "#print(unique_state_values)\n",
    "\n",
    "#####  step 2\n",
    "\n",
    "# Conteggio dei dati mancanti per ogni colonna\n",
    "#print(\"###Missing values for each column\")\n",
    "#print(df_poverty_filtered.isnull().sum())\n",
    "\n",
    "## visualizzo i dati mancanti\n",
    "#column_missing_values = 'povertyPercentage'\n",
    "# Seleziona le righe con dati mancanti nella colonna specifica\n",
    "#df_poverty_missing_povertyPercentage = df_poverty_filtered[df_poverty_filtered[column_missing_values].isnull()]\n",
    "\n",
    "# Stampa le righe selezionate\n",
    "#print(df_poverty_missing_povertyPercentage)"
   ]
  },
  {
   "cell_type": "markdown",
   "metadata": {},
   "source": [
    "Data types for this dataset are correct: object for the state is ok, int for the year column and foat for povertyPercebtae by definition.\n",
    "Problem: there are 52 states -> for district of columbia: make sense include it for the analysis but the value 'United states' can't be reshaped in a more fine grained value, so is dropped. \n",
    "NB: the choice of keepin' the DoColumbia value may be re-evaluated when the join of the 3 datasets will be performed"
   ]
  },
  {
   "cell_type": "code",
   "execution_count": 4,
   "metadata": {},
   "outputs": [
    {
     "name": "stdout",
     "output_type": "stream",
     "text": [
      "The range of the year for this dataset is 2004;2020\n",
      "The range of the povertyPercentage for this dataset is 5.4;21.8\n"
     ]
    }
   ],
   "source": [
    "max_value_year = df_poverty_filtered['year'].max()\n",
    "min_value_year = df_poverty_filtered['year'].min()\n",
    "print(f\"The range of the year for this dataset is {min_value_year};{max_value_year}\")\n",
    "\n",
    "max_value_perc = df_poverty_filtered['povertyPercentage'].max()\n",
    "min_value_perc = df_poverty_filtered['povertyPercentage'].min()\n",
    "print(f\"The range of the povertyPercentage for this dataset is {min_value_perc};{max_value_perc}\")"
   ]
  },
  {
   "cell_type": "markdown",
   "metadata": {},
   "source": [
    "Now let's see some info regarding missing values"
   ]
  },
  {
   "cell_type": "code",
   "execution_count": 5,
   "metadata": {},
   "outputs": [
    {
     "name": "stdout",
     "output_type": "stream",
     "text": [
      "Missing values for each column:\n",
      "state                 0\n",
      "year                  0\n",
      "povertyPercentage    51\n",
      "dtype: int64\n",
      "                    state  year  povertyPercentage\n",
      "417               Alabama  2012                NaN\n",
      "418                Alaska  2012                NaN\n",
      "419               Arizona  2012                NaN\n",
      "420              Arkansas  2012                NaN\n",
      "421            California  2012                NaN\n",
      "422              Colorado  2012                NaN\n",
      "423           Connecticut  2012                NaN\n",
      "424              Delaware  2012                NaN\n",
      "425  District of Columbia  2012                NaN\n",
      "426               Florida  2012                NaN\n",
      "427               Georgia  2012                NaN\n",
      "428                Hawaii  2012                NaN\n",
      "429                 Idaho  2012                NaN\n",
      "430              Illinois  2012                NaN\n",
      "431               Indiana  2012                NaN\n",
      "432                  Iowa  2012                NaN\n",
      "433                Kansas  2012                NaN\n",
      "434              Kentucky  2012                NaN\n",
      "435             Louisiana  2012                NaN\n",
      "436                 Maine  2012                NaN\n",
      "437              Maryland  2012                NaN\n",
      "438         Massachusetts  2012                NaN\n",
      "439              Michigan  2012                NaN\n",
      "440             Minnesota  2012                NaN\n",
      "441           Mississippi  2012                NaN\n",
      "442              Missouri  2012                NaN\n",
      "443               Montana  2012                NaN\n",
      "444              Nebraska  2012                NaN\n",
      "445                Nevada  2012                NaN\n",
      "446         New Hampshire  2012                NaN\n",
      "447            New Jersey  2012                NaN\n",
      "448            New Mexico  2012                NaN\n",
      "449              New York  2012                NaN\n",
      "450        North Carolina  2012                NaN\n",
      "451          North Dakota  2012                NaN\n",
      "452                  Ohio  2012                NaN\n",
      "453              Oklahoma  2012                NaN\n",
      "454                Oregon  2012                NaN\n",
      "455          Pennsylvania  2012                NaN\n",
      "456          Rhode Island  2012                NaN\n",
      "457        South Carolina  2012                NaN\n",
      "458          South Dakota  2012                NaN\n",
      "459             Tennessee  2012                NaN\n",
      "460                 Texas  2012                NaN\n",
      "461                  Utah  2012                NaN\n",
      "462               Vermont  2012                NaN\n",
      "463              Virginia  2012                NaN\n",
      "464            Washington  2012                NaN\n",
      "465         West Virginia  2012                NaN\n",
      "466             Wisconsin  2012                NaN\n",
      "467               Wyoming  2012                NaN\n"
     ]
    }
   ],
   "source": [
    "# Conteggio dei dati mancanti per ogni colonna\n",
    "print(\"Missing values for each column:\")\n",
    "print(df_poverty_filtered.isnull().sum())\n",
    "\n",
    "## visualizzo i dati mancanti\n",
    "\n",
    "column_missing_values = 'povertyPercentage'\n",
    "# Seleziona le righe con dati mancanti nella colonna specifica\n",
    "df_poverty_missing_povertyPercentage = df_poverty_filtered[df_poverty_filtered[column_missing_values].isnull()]\n",
    "\n",
    "# Stampa le righe selezionate\n",
    "print(df_poverty_missing_povertyPercentage)"
   ]
  },
  {
   "cell_type": "code",
   "execution_count": 6,
   "metadata": {},
   "outputs": [
    {
     "name": "stdout",
     "output_type": "stream",
     "text": [
      "alternative poverty percentage year\n",
      "2004    12.074510\n",
      "2005    11.970588\n",
      "2006    12.058824\n",
      "2007    12.635294\n",
      "2008    13.447059\n",
      "2009    13.973077\n",
      "2010    14.376000\n",
      "2011    14.209804\n",
      "2012          NaN\n",
      "2013    13.715686\n",
      "2014    13.135294\n",
      "2015    12.498039\n",
      "2016    12.033333\n",
      "2017    11.270588\n",
      "2018    10.972549\n",
      "2019    10.884314\n",
      "2020    11.170588\n",
      "Name: povertyPercentage, dtype: float64\n",
      "gaussian weighting\n",
      "[0.13533528 0.21626517 0.32465247 0.45783336 0.60653066 0.7548396\n",
      " 0.8824969  0.96923323 0.96923323 0.8824969  0.7548396  0.60653066\n",
      " 0.45783336 0.32465247 0.21626517 0.13533528]\n",
      "expected poverty percentage \n",
      " 13.03046576793185\n",
      "gaussian weighting\n",
      "[0.13533528 0.21626517 0.32465247 0.45783336 0.60653066 0.7548396\n",
      " 0.8824969  0.96923323 0.96923323 0.8824969  0.7548396  0.60653066\n",
      " 0.45783336 0.32465247 0.21626517 0.13533528]\n",
      "expected poverty percentage\n",
      " 13.03046576793185\n",
      "Missing values for each column\n",
      "state                0\n",
      "year                 0\n",
      "povertyPercentage    0\n",
      "dtype: int64\n"
     ]
    }
   ],
   "source": [
    "\n",
    "alternative_poverty_percentage = df_poverty_filtered.groupby('year')['povertyPercentage'].mean()\n",
    "print(\"alternative poverty percentage\", alternative_poverty_percentage)\n",
    "\n",
    "median_poverty_percentage = df_poverty_filtered[df_poverty_filtered['year'] != 2012]['povertyPercentage'].median()\n",
    "\n",
    "\n",
    "# Farei una media pesata con i valori degli anni successivi e precedenti dando imoportanza agli anni più vicini\n",
    "# Weight the years from 2004 to 2020, for each years of distance the weights is a gaussian centered in 2012 but without having 2012 \n",
    "# So we spread a gaussian going from center (2012 to estremes 2004 and 2020)\n",
    "\n",
    "years_list = df_poverty_filtered['year'].unique()\n",
    "years_list = np.sort(years_list)\n",
    "\n",
    "sigma = 4\n",
    "# This step take the years and substract then take the square to make the differences all positive\n",
    "# then we divide by 2*sigma^2 in order to have a gaussian centered in 2012\n",
    "gaussian_weighting = np.exp(-np.square(years_list - 2012)/(2*sigma**2))\n",
    "\n",
    "# remove 12th value from the gaussian weighting\n",
    "gaussian_weighting = np.delete(gaussian_weighting, 8)\n",
    "print(\"gaussian weighting\")\n",
    "print(gaussian_weighting)\n",
    "# remove 2012 from alternative poverty percentage\n",
    "alternative_poverty_percentage = alternative_poverty_percentage.drop(2012)\n",
    "\n",
    "# apply gaussian weighting to the poverty percentage b multipling each year for the corresponding weight and then divide by the sum of the weights\n",
    "expected_poverty_percentage = np.sum(alternative_poverty_percentage * gaussian_weighting) / np.sum(gaussian_weighting)\n",
    "\n",
    "print(\"expected poverty percentage \\n\", expected_poverty_percentage)\n",
    "\n",
    "\n",
    "years_list = df_poverty_filtered['year'].unique()\n",
    "years_list = np.sort(years_list)\n",
    "\n",
    "sigma = 4\n",
    "# This step take the years and substract then take the square to make the differences all positive\n",
    "# then we divide by 2*sigma^2 in order to have a gaussian centered in 2012\n",
    "gaussian_weighting = np.exp(-np.square(years_list - 2012)/(2*sigma**2))\n",
    "\n",
    "# remove 12th value from the gaussian weighting\n",
    "gaussian_weighting = np.delete(gaussian_weighting, 8)\n",
    "print(\"gaussian weighting\")\n",
    "print(gaussian_weighting)\n",
    "# remove 2012 from alternative poverty percentage\n",
    "\n",
    "# apply gaussian weighting to the poverty percentage b multipling each year for the corresponding weight and then divide by the sum of the weights\n",
    "expected_poverty_percentage = np.sum(alternative_poverty_percentage * gaussian_weighting) / np.sum(gaussian_weighting)\n",
    "\n",
    "print(\"expected poverty percentage\\n\", expected_poverty_percentage)\n",
    "\n",
    "df_poverty_filtered.loc[df_poverty_filtered['year'] == 2012, 'povertyPercentage'] = expected_poverty_percentage\n",
    "print(\"Missing values for each column\")\n",
    "print(df_poverty_filtered.isnull().sum())\n",
    "\n"
   ]
  },
  {
   "cell_type": "markdown",
   "metadata": {},
   "source": [
    "Spiegazione gaussian weighted method #todo\n",
    "In alterantiva, mostriamo il metodo semplice di sostituzione del valore con la mediana:"
   ]
  },
  {
   "cell_type": "code",
   "execution_count": 7,
   "metadata": {},
   "outputs": [
    {
     "name": "stdout",
     "output_type": "stream",
     "text": [
      "Missing values for each column\n",
      "state                0\n",
      "year                 0\n",
      "povertyPercentage    0\n",
      "dtype: int64\n"
     ]
    }
   ],
   "source": [
    "\n",
    "# Calcola la mediana della poverty percentage escludendo il 2012\n",
    "median_poverty_percentage = df_poverty_filtered[df_poverty_filtered['year'] != 2012]['povertyPercentage'].median()\n",
    "\n",
    "# Imputa i dati mancanti nel 2012 con la mediana calcolata\n",
    "df_poverty_filtered.loc[df_poverty_filtered['year'] == 2012, 'povertyPercentage'] = median_poverty_percentage\n",
    "\n",
    "# controllo se andato a buon fine:\n",
    "print(\"Missing values for each column\")\n",
    "print(df_poverty_filtered.isnull().sum())\n"
   ]
  },
  {
   "cell_type": "markdown",
   "metadata": {},
   "source": [
    "## Poverty percentage of states"
   ]
  },
  {
   "cell_type": "code",
   "execution_count": 8,
   "metadata": {},
   "outputs": [
    {
     "data": {
      "text/plain": [
       "'\\nsns.set(style=\"whitegrid\")\\n\\n# Create a boxplot to visualize the distribution\\nplt.boxplot(df_poverty[\\'povertyPercentage\\'], vert=True)  # vert=False makes it horizontal\\nplt.xlabel(\\'poverty %\\')\\nplt.title(\\'Boxplot of Povery percentage\\')\\nplt.show()\\n'"
      ]
     },
     "execution_count": 8,
     "metadata": {},
     "output_type": "execute_result"
    }
   ],
   "source": [
    "#todo \n",
    "\"\"\"\n",
    "sns.set(style=\"whitegrid\")\n",
    "\n",
    "# Create a boxplot to visualize the distribution\n",
    "plt.boxplot(df_poverty['povertyPercentage'], vert=True)  # vert=False makes it horizontal\n",
    "plt.xlabel('poverty %')\n",
    "plt.title('Boxplot of Povery percentage')\n",
    "plt.show()\n",
    "\"\"\"\n"
   ]
  },
  {
   "cell_type": "code",
   "execution_count": 9,
   "metadata": {},
   "outputs": [
    {
     "name": "stdout",
     "output_type": "stream",
     "text": [
      "             state  year  povertyPercentage\n",
      "396     New Mexico  2013               21.8\n",
      "500     New Mexico  2011               21.4\n",
      "701    Mississippi  2007               21.3\n",
      "649    Mississippi  2008               21.2\n",
      "539      Louisiana  2010               21.2\n",
      "..             ...   ...                ...\n",
      "186  New Hampshire  2017                5.6\n",
      "810  New Hampshire  2005                5.6\n",
      "82   New Hampshire  2019                5.6\n",
      "862  New Hampshire  2004                5.5\n",
      "134  New Hampshire  2018                5.4\n",
      "\n",
      "[867 rows x 3 columns]\n"
     ]
    },
    {
     "data": {
      "image/png": "[encoded data removed]",
      "text/plain": [
       "<Figure size 1200x800 with 1 Axes>"
      ]
     },
     "metadata": {},
     "output_type": "display_data"
    },
    {
     "name": "stdout",
     "output_type": "stream",
     "text": [
      "                    state  year  povertyPercentage\n",
      "396            New Mexico  2013               21.8\n",
      "500            New Mexico  2011               21.4\n",
      "701           Mississippi  2007               21.3\n",
      "649           Mississippi  2008               21.2\n",
      "539             Louisiana  2010               21.2\n",
      "805           Mississippi  2005               21.1\n",
      "383             Louisiana  2013               21.0\n",
      "597           Mississippi  2009               21.0\n",
      "337           Mississippi  2014               20.8\n",
      "493           Mississippi  2011               20.6\n",
      "545           Mississippi  2010               20.6\n",
      "331             Louisiana  2014               20.6\n",
      "382              Kentucky  2013               20.5\n",
      "487             Louisiana  2011               20.5\n",
      "753           Mississippi  2006               20.5\n",
      "552            New Mexico  2010               20.3\n",
      "389           Mississippi  2013               20.1\n",
      "279             Louisiana  2015               20.0\n",
      "604            New Mexico  2009               19.9\n",
      "477  District of Columbia  2011               19.9\n",
      "227             Louisiana  2016               19.8\n",
      "857           Mississippi  2004               19.8\n",
      "233           Mississippi  2016               19.8\n",
      "373  District of Columbia  2013               19.6\n",
      "285           Mississippi  2015               19.5\n",
      "627               Arizona  2008               19.3\n",
      "529  District of Columbia  2010               19.3\n",
      "181           Mississippi  2017               19.1\n",
      "575               Arizona  2009               19.1\n",
      "581  District of Columbia  2009               19.1\n",
      "175             Louisiana  2017               19.1\n",
      "789  District of Columbia  2005               19.1\n",
      "344            New Mexico  2014               19.1\n",
      "656            New Mexico  2008               19.0\n",
      "591             Louisiana  2009               18.9\n",
      "129           Mississippi  2018               18.8\n",
      "471               Arizona  2011               18.8\n",
      "841  District of Columbia  2004               18.8\n",
      "367               Arizona  2013               18.7\n",
      "240            New Mexico  2016               18.7\n",
      "292            New Mexico  2015               18.7\n",
      "472              Arkansas  2011               18.6\n",
      "583               Georgia  2009               18.5\n",
      "531               Georgia  2010               18.4\n",
      "32             New Mexico  2020               18.3\n",
      "523               Arizona  2010               18.3\n",
      "413         West Virginia  2013               18.3\n",
      "330              Kentucky  2014               18.2\n",
      "77            Mississippi  2019               18.1\n",
      "315               Arizona  2014               18.1\n",
      "633  District of Columbia  2008               18.0\n",
      "524              Arkansas  2010               18.0\n",
      "643             Louisiana  2008               18.0\n",
      "486              Kentucky  2011               18.0\n",
      "679               Arizona  2007               17.9\n",
      "375               Georgia  2013               17.8\n",
      "25            Mississippi  2020               17.8\n",
      "511             Tennessee  2011               17.7\n",
      "616                 Texas  2009               17.7\n",
      "361         West Virginia  2014               17.7\n",
      "737  District of Columbia  2006               17.6\n",
      "576              Arkansas  2009               17.6\n",
      "635               Georgia  2008               17.6\n",
      "479               Georgia  2011               17.6\n",
      "564                 Texas  2010               17.6\n",
      "708            New Mexico  2007               17.6\n",
      "365               Alabama  2013               17.5\n",
      "123             Louisiana  2018               17.5\n",
      "685  District of Columbia  2007               17.5\n",
      "401              Oklahoma  2013               17.5\n",
      "561        South Carolina  2010               17.5\n",
      "851             Louisiana  2004               17.4\n",
      "71              Louisiana  2019               17.3\n",
      "321  District of Columbia  2014               17.3\n",
      "563             Tennessee  2010               17.2\n",
      "509        South Carolina  2011               17.2\n",
      "517         West Virginia  2011               17.2\n",
      "257         West Virginia  2016               17.2\n",
      "642              Kentucky  2008               17.2\n",
      "188            New Mexico  2017               17.2\n",
      "668                 Texas  2008               17.2\n",
      "538              Kentucky  2010               17.2\n",
      "864            New Mexico  2004               17.1\n",
      "502        North Carolina  2011               17.1\n",
      "512                 Texas  2011               17.1\n",
      "799             Louisiana  2005               17.1\n",
      "747             Louisiana  2006               17.1\n",
      "569         West Virginia  2010               17.0\n",
      "19              Louisiana  2020               16.9\n",
      "590              Kentucky  2009               16.9\n",
      "316              Arkansas  2014               16.8\n",
      "313               Alabama  2014               16.8\n",
      "323               Georgia  2014               16.8\n",
      "621         West Virginia  2009               16.7\n",
      "84             New Mexico  2019               16.7\n",
      "405        South Carolina  2013               16.7\n",
      "760            New Mexico  2006               16.7\n",
      "554        North Carolina  2010               16.7\n",
      "720                 Texas  2007               16.6\n",
      "309         West Virginia  2015               16.6\n",
      "613        South Carolina  2009               16.6\n",
      "606        North Carolina  2009               16.6\n",
      "694              Kentucky  2007               16.5\n",
      "746              Kentucky  2006               16.5\n",
      "615             Tennessee  2009               16.5\n",
      "628              Arkansas  2008               16.5\n",
      "850              Kentucky  2004               16.5\n",
      "553              New York  2010               16.4\n",
      "824                 Texas  2005               16.4\n",
      "573               Alabama  2009               16.4\n",
      "278              Kentucky  2015               16.4\n",
      "876                 Texas  2004               16.4\n",
      "525            California  2010               16.4\n",
      "812            New Mexico  2005               16.3\n",
      "772                 Texas  2006               16.3\n",
      "577            California  2009               16.2\n",
      "521               Alabama  2010               16.2\n",
      "136            New Mexico  2018               16.2\n",
      "695             Louisiana  2007               16.2\n",
      "497                Nevada  2011               16.2\n",
      "658        North Carolina  2008               16.1\n",
      "557              Oklahoma  2010               16.1\n",
      "667             Tennessee  2008               16.1\n",
      "368              Arkansas  2013               16.1\n",
      "469               Alabama  2011               16.1\n",
      "833               Alabama  2004               16.0\n",
      "587               Indiana  2009               16.0\n",
      "625               Alabama  2008               16.0\n",
      "680              Arkansas  2007               16.0\n",
      "209               Alabama  2016               16.0\n",
      "408                 Texas  2013               16.0\n",
      "549                Nevada  2010               15.9\n",
      "501              New York  2011               15.9\n",
      "605              New York  2009               15.9\n",
      "374               Florida  2013               15.9\n",
      "473            California  2011               15.9\n",
      "407             Tennessee  2013               15.8\n",
      "4                Arkansas  2020               15.8\n",
      "687               Georgia  2007               15.8\n",
      "261               Alabama  2015               15.8\n",
      "18               Kentucky  2020               15.8\n",
      "37               Oklahoma  2020               15.8\n",
      "398        North Carolina  2013               15.7\n",
      "535               Indiana  2010               15.7\n",
      "798              Kentucky  2005               15.7\n",
      "673         West Virginia  2008               15.7\n",
      "271               Georgia  2015               15.6\n",
      "836              Arkansas  2004               15.6\n",
      "264              Arkansas  2015               15.6\n",
      "731               Arizona  2006               15.6\n",
      "639               Indiana  2008               15.6\n",
      "732              Arkansas  2006               15.6\n",
      "355             Tennessee  2014               15.6\n",
      "205         West Virginia  2017               15.6\n",
      "212              Arkansas  2016               15.5\n",
      "49          West Virginia  2020               15.5\n",
      "269  District of Columbia  2015               15.5\n",
      "263               Arizona  2015               15.5\n",
      "710        North Carolina  2007               15.4\n",
      "719             Tennessee  2007               15.4\n",
      "629            California  2008               15.4\n",
      "530               Florida  2010               15.4\n",
      "346        North Carolina  2014               15.3\n",
      "349              Oklahoma  2014               15.3\n",
      "505              Oklahoma  2011               15.3\n",
      "657              New York  2008               15.3\n",
      "226              Kentucky  2016               15.3\n",
      "598              Missouri  2009               15.3\n",
      "556                  Ohio  2010               15.3\n",
      "781               Alabama  2005               15.2\n",
      "829         West Virginia  2005               15.2\n",
      "546              Missouri  2010               15.2\n",
      "875             Tennessee  2004               15.2\n",
      "322               Florida  2014               15.2\n",
      "582               Florida  2009               15.2\n",
      "784              Arkansas  2005               15.1\n",
      "56               Arkansas  2019               15.1\n",
      "397              New York  2013               15.1\n",
      "677               Alabama  2007               15.1\n",
      "601                Nevada  2009               15.0\n",
      "725         West Virginia  2007               15.0\n",
      "160              Arkansas  2017               15.0\n",
      "881         West Virginia  2004               15.0\n",
      "478               Florida  2011               15.0\n",
      "101         West Virginia  2019               15.0\n",
      "353        South Carolina  2014               14.9\n",
      "217  District of Columbia  2016               14.9\n",
      "379               Indiana  2013               14.9\n",
      "369            California  2013               14.9\n",
      "777         West Virginia  2006               14.9\n",
      "665        South Carolina  2008               14.9\n",
      "595              Michigan  2009               14.9\n",
      "356                 Texas  2014               14.9\n",
      "771             Tennessee  2006               14.9\n",
      "823             Tennessee  2005               14.8\n",
      "494              Missouri  2011               14.8\n",
      "547               Montana  2010               14.8\n",
      "543              Michigan  2010               14.8\n",
      "393                Nevada  2013               14.8\n",
      "599               Montana  2009               14.8\n",
      "1                 Alabama  2020               14.8\n",
      "495               Montana  2011               14.8\n",
      "709              New York  2007               14.8\n",
      "817              Oklahoma  2005               14.7\n",
      "219               Georgia  2016               14.7\n",
      "835               Arizona  2004               14.7\n",
      "533                 Idaho  2010               14.7\n",
      "400                  Ohio  2013               14.7\n",
      "113  District of Columbia  2018               14.7\n",
      "9    District of Columbia  2020               14.7\n",
      "504                  Ohio  2011               14.7\n",
      "157               Alabama  2017               14.7\n",
      "108              Arkansas  2018               14.7\n",
      "301        South Carolina  2015               14.6\n",
      "608                  Ohio  2009               14.6\n",
      "70               Kentucky  2019               14.6\n",
      "634               Florida  2008               14.6\n",
      "650              Missouri  2008               14.6\n",
      "105               Alabama  2018               14.6\n",
      "153         West Virginia  2018               14.6\n",
      "783               Arizona  2005               14.6\n",
      "53                Alabama  2019               14.5\n",
      "865              New York  2004               14.5\n",
      "317            California  2014               14.5\n",
      "762        North Carolina  2006               14.4\n",
      "61   District of Columbia  2019               14.4\n",
      "294        North Carolina  2015               14.4\n",
      "729               Alabama  2006               14.4\n",
      "122              Kentucky  2018               14.4\n",
      "813              New York  2005               14.4\n",
      "491              Michigan  2011               14.4\n",
      "585                 Idaho  2009               14.4\n",
      "609              Oklahoma  2009               14.4\n",
      "481                 Idaho  2011               14.4\n",
      "197        South Carolina  2017               14.4\n",
      "211               Arizona  2016               14.4\n",
      "270               Florida  2015               14.3\n",
      "348                  Ohio  2014               14.3\n",
      "661              Oklahoma  2008               14.3\n",
      "537                Kansas  2010               14.3\n",
      "506                Oregon  2011               14.3\n",
      "174              Kentucky  2017               14.2\n",
      "647              Michigan  2008               14.2\n",
      "814        North Carolina  2005               14.2\n",
      "761              New York  2006               14.2\n",
      "589                Kansas  2009               14.2\n",
      "681            California  2007               14.2\n",
      "242        North Carolina  2016               14.1\n",
      "660                  Ohio  2008               14.1\n",
      "249        South Carolina  2016               14.1\n",
      "691               Indiana  2007               14.1\n",
      "614          South Dakota  2009               14.1\n",
      "483               Indiana  2011               14.1\n",
      "558                Oregon  2010               14.1\n",
      "765              Oklahoma  2006               14.1\n",
      "610                Oregon  2009               14.0\n",
      "245              Oklahoma  2016               14.0\n",
      "304                 Texas  2015               14.0\n",
      "93         South Carolina  2019               14.0\n",
      "869              Oklahoma  2004               13.9\n",
      "702              Missouri  2007               13.9\n",
      "739               Georgia  2006               13.9\n",
      "717        South Carolina  2007               13.9\n",
      "297              Oklahoma  2015               13.8\n",
      "89               Oklahoma  2019               13.8\n",
      "866        North Carolina  2004               13.8\n",
      "859               Montana  2004               13.8\n",
      "485                Kansas  2011               13.8\n",
      "586              Illinois  2009               13.8\n",
      "165  District of Columbia  2017               13.7\n",
      "252                 Texas  2016               13.7\n",
      "145        South Carolina  2018               13.7\n",
      "354          South Dakota  2014               13.7\n",
      "476              Delaware  2011               13.7\n",
      "303             Tennessee  2015               13.7\n",
      "873        South Carolina  2004               13.7\n",
      "560          Rhode Island  2010               13.7\n",
      "44                  Texas  2020               13.7\n",
      "562          South Dakota  2010               13.6\n",
      "651               Montana  2008               13.6\n",
      "641                Kansas  2008               13.6\n",
      "666          South Dakota  2008               13.6\n",
      "190        North Carolina  2017               13.6\n",
      "534              Illinois  2010               13.6\n",
      "218               Florida  2016               13.6\n",
      "612          Rhode Island  2009               13.5\n",
      "653                Nevada  2008               13.5\n",
      "508          Rhode Island  2011               13.5\n",
      "791               Georgia  2005               13.5\n",
      "482              Illinois  2011               13.4\n",
      "686               Florida  2007               13.4\n",
      "345              New York  2014               13.4\n",
      "115               Georgia  2018               13.4\n",
      "821        South Carolina  2005               13.4\n",
      "402                Oregon  2013               13.4\n",
      "807               Montana  2005               13.4\n",
      "387              Michigan  2013               13.4\n",
      "265            California  2015               13.4\n",
      "277                Kansas  2015               13.4\n",
      "713              Oklahoma  2007               13.3\n",
      "712                  Ohio  2007               13.3\n",
      "167               Georgia  2017               13.3\n",
      "141              Oklahoma  2018               13.3\n",
      "843               Georgia  2004               13.3\n",
      "327               Indiana  2014               13.3\n",
      "34         North Carolina  2020               13.3\n",
      "341                Nevada  2014               13.3\n",
      "41         South Carolina  2020               13.3\n",
      "296                  Ohio  2015               13.3\n",
      "406          South Dakota  2013               13.3\n",
      "332                 Maine  2014               13.2\n",
      "733            California  2006               13.2\n",
      "638              Illinois  2008               13.2\n",
      "293              New York  2015               13.2\n",
      "138        North Carolina  2018               13.2\n",
      "637                 Idaho  2008               13.2\n",
      "664          Rhode Island  2008               13.2\n",
      "10                Florida  2020               13.1\n",
      "703               Montana  2007               13.1\n",
      "755               Montana  2006               13.1\n",
      "528              Delaware  2010               13.1\n",
      "769        South Carolina  2006               13.1\n",
      "63                Georgia  2019               13.1\n",
      "507          Pennsylvania  2011               13.0\n",
      "540                 Maine  2010               13.0\n",
      "11                Georgia  2020               13.0\n",
      "302          South Dakota  2015               12.9\n",
      "335              Michigan  2014               12.9\n",
      "96                  Texas  2019               12.9\n",
      "764                  Ohio  2006               12.9\n",
      "559          Pennsylvania  2010               12.9\n",
      "148                 Texas  2018               12.9\n",
      "837            California  2004               12.9\n",
      "855              Michigan  2004               12.9\n",
      "166               Florida  2017               12.8\n",
      "384                 Maine  2013               12.8\n",
      "488                 Maine  2011               12.8\n",
      "244                  Ohio  2016               12.8\n",
      "86         North Carolina  2019               12.8\n",
      "532                Hawaii  2010               12.8\n",
      "114               Florida  2018               12.8\n",
      "785            California  2005               12.7\n",
      "350                Oregon  2014               12.7\n",
      "378              Illinois  2013               12.7\n",
      "580              Delaware  2009               12.7\n",
      "147             Tennessee  2018               12.7\n",
      "662                Oregon  2008               12.7\n",
      "693                Kansas  2007               12.7\n",
      "29                 Nevada  2020               12.6\n",
      "578              Colorado  2009               12.6\n",
      "251             Tennessee  2016               12.6\n",
      "390              Missouri  2013               12.6\n",
      "699              Michigan  2007               12.6\n",
      "381                Kansas  2013               12.6\n",
      "228                 Maine  2016               12.6\n",
      "200                 Texas  2017               12.6\n",
      "526              Colorado  2010               12.5\n",
      "592                 Maine  2009               12.5\n",
      "213            California  2016               12.5\n",
      "329                Kansas  2014               12.5\n",
      "754              Missouri  2006               12.5\n",
      "510          South Dakota  2011               12.5\n",
      "62                Florida  2019               12.5\n",
      "193              Oklahoma  2017               12.4\n",
      "738               Florida  2006               12.4\n",
      "751              Michigan  2006               12.4\n",
      "386         Massachusetts  2013               12.4\n",
      "377                 Idaho  2013               12.4\n",
      "33               New York  2020               12.4\n",
      "816                  Ohio  2005               12.4\n",
      "192                  Ohio  2017               12.4\n",
      "745                Kansas  2006               12.4\n",
      "106                Alaska  2018               12.3\n",
      "480                Hawaii  2011               12.3\n",
      "584                Hawaii  2009               12.3\n",
      "743               Indiana  2006               12.3\n",
      "140                  Ohio  2018               12.3\n",
      "85               New York  2019               12.3\n",
      "289                Nevada  2015               12.3\n",
      "280                 Maine  2015               12.3\n",
      "797                Kansas  2005               12.3\n",
      "95              Tennessee  2019               12.3\n",
      "275               Indiana  2015               12.3\n",
      "718          South Dakota  2007               12.2\n",
      "210                Alaska  2016               12.2\n",
      "283              Michigan  2015               12.2\n",
      "849                Kansas  2004               12.2\n",
      "326              Illinois  2014               12.2\n",
      "237                Nevada  2016               12.2\n",
      "88                   Ohio  2019               12.2\n",
      "185                Nevada  2017               12.2\n",
      "818                Oregon  2005               12.2\n",
      "714                Oregon  2007               12.2\n",
      "189              New York  2017               12.1\n",
      "159               Arizona  2017               12.1\n",
      "81                 Nevada  2019               12.1\n",
      "3                 Arizona  2020               12.1\n",
      "262                Alaska  2015               12.1\n",
      "133                Nevada  2018               12.1\n",
      "199             Tennessee  2017               12.1\n",
      "455          Pennsylvania  2012               12.0\n",
      "454                Oregon  2012               12.0\n",
      "456          Rhode Island  2012               12.0\n",
      "453              Oklahoma  2012               12.0\n",
      "452                  Ohio  2012               12.0\n",
      "457        South Carolina  2012               12.0\n",
      "458          South Dakota  2012               12.0\n",
      "449              New York  2012               12.0\n",
      "451          North Dakota  2012               12.0\n",
      "450        North Carolina  2012               12.0\n",
      "460                 Texas  2012               12.0\n",
      "448            New Mexico  2012               12.0\n",
      "447            New Jersey  2012               12.0\n",
      "446         New Hampshire  2012               12.0\n",
      "445                Nevada  2012               12.0\n",
      "459             Tennessee  2012               12.0\n",
      "611          Pennsylvania  2009               12.0\n",
      "461                  Utah  2012               12.0\n",
      "462               Vermont  2012               12.0\n",
      "463              Virginia  2012               12.0\n",
      "464            Washington  2012               12.0\n",
      "465         West Virginia  2012               12.0\n",
      "466             Wisconsin  2012               12.0\n",
      "467               Wyoming  2012               12.0\n",
      "874          South Dakota  2004               12.0\n",
      "868                  Ohio  2004               12.0\n",
      "689                 Idaho  2007               12.0\n",
      "516            Washington  2011               12.0\n",
      "803              Michigan  2005               12.0\n",
      "443               Montana  2012               12.0\n",
      "574                Alaska  2009               12.0\n",
      "644                 Maine  2008               12.0\n",
      "444              Nebraska  2012               12.0\n",
      "442              Missouri  2012               12.0\n",
      "426               Florida  2012               12.0\n",
      "351          Pennsylvania  2014               12.0\n",
      "417               Alabama  2012               12.0\n",
      "418                Alaska  2012               12.0\n",
      "419               Arizona  2012               12.0\n",
      "420              Arkansas  2012               12.0\n",
      "421            California  2012               12.0\n",
      "422              Colorado  2012               12.0\n",
      "423           Connecticut  2012               12.0\n",
      "424              Delaware  2012               12.0\n",
      "425  District of Columbia  2012               12.0\n",
      "403          Pennsylvania  2013               12.0\n",
      "427               Georgia  2012               12.0\n",
      "428                Hawaii  2012               12.0\n",
      "429                 Idaho  2012               12.0\n",
      "430              Illinois  2012               12.0\n",
      "431               Indiana  2012               12.0\n",
      "432                  Iowa  2012               12.0\n",
      "433                Kansas  2012               12.0\n",
      "434              Kentucky  2012               12.0\n",
      "435             Louisiana  2012               12.0\n",
      "436                 Maine  2012               12.0\n",
      "437              Maryland  2012               12.0\n",
      "438         Massachusetts  2012               12.0\n",
      "439              Michigan  2012               12.0\n",
      "440             Minnesota  2012               12.0\n",
      "441           Mississippi  2012               12.0\n",
      "568            Washington  2010               11.9\n",
      "806              Missouri  2005               11.9\n",
      "325                 Idaho  2014               11.9\n",
      "234              Missouri  2016               11.9\n",
      "630              Colorado  2008               11.9\n",
      "339               Montana  2014               11.9\n",
      "474              Colorado  2011               11.9\n",
      "870                Oregon  2004               11.9\n",
      "414             Wisconsin  2013               11.9\n",
      "412            Washington  2013               11.9\n",
      "620            Washington  2009               11.9\n",
      "518             Wisconsin  2011               11.8\n",
      "241              New York  2016               11.8\n",
      "300          Rhode Island  2015               11.8\n",
      "659          North Dakota  2008               11.8\n",
      "158                Alaska  2017               11.8\n",
      "137              New York  2018               11.8\n",
      "690              Illinois  2007               11.8\n",
      "223               Indiana  2016               11.8\n",
      "250          South Dakota  2016               11.8\n",
      "766                Oregon  2006               11.7\n",
      "716          Rhode Island  2007               11.7\n",
      "790               Florida  2005               11.7\n",
      "795               Indiana  2005               11.7\n",
      "54                 Alaska  2019               11.7\n",
      "858              Missouri  2004               11.7\n",
      "273                 Idaho  2015               11.7\n",
      "23               Michigan  2020               11.7\n",
      "847               Indiana  2004               11.6\n",
      "636                Hawaii  2008               11.6\n",
      "570             Wisconsin  2010               11.5\n",
      "352          Rhode Island  2014               11.5\n",
      "299          Pennsylvania  2015               11.5\n",
      "247          Pennsylvania  2016               11.5\n",
      "2                  Alaska  2020               11.5\n",
      "360            Washington  2014               11.5\n",
      "176                 Maine  2017               11.5\n",
      "750         Massachusetts  2006               11.5\n",
      "391               Montana  2013               11.5\n",
      "334         Massachusetts  2014               11.5\n",
      "26               Missouri  2020               11.5\n",
      "852                 Maine  2004               11.5\n",
      "632              Delaware  2008               11.4\n",
      "161            California  2017               11.4\n",
      "696                 Maine  2007               11.4\n",
      "259               Wyoming  2016               11.4\n",
      "43              Tennessee  2020               11.4\n",
      "842               Florida  2004               11.4\n",
      "846              Illinois  2004               11.4\n",
      "5              California  2020               11.4\n",
      "36                   Ohio  2020               11.4\n",
      "663          Pennsylvania  2008               11.4\n",
      "522                Alaska  2010               11.4\n",
      "274              Illinois  2015               11.3\n",
      "622             Wisconsin  2009               11.3\n",
      "871          Pennsylvania  2004               11.3\n",
      "872          Rhode Island  2004               11.3\n",
      "555          North Dakota  2010               11.3\n",
      "286              Missouri  2015               11.3\n",
      "490         Massachusetts  2011               11.3\n",
      "380                  Iowa  2013               11.3\n",
      "298                Oregon  2015               11.3\n",
      "221                 Idaho  2016               11.3\n",
      "672            Washington  2008               11.2\n",
      "566               Vermont  2010               11.2\n",
      "107               Arizona  2018               11.2\n",
      "399          North Dakota  2013               11.2\n",
      "496              Nebraska  2011               11.2\n",
      "119               Indiana  2018               11.2\n",
      "607          North Dakota  2009               11.2\n",
      "800                 Maine  2005               11.2\n",
      "705                Nevada  2007               11.2\n",
      "55                Arizona  2019               11.2\n",
      "314                Alaska  2014               11.2\n",
      "320              Delaware  2014               11.2\n",
      "287               Montana  2015               11.1\n",
      "770          South Dakota  2006               11.1\n",
      "171               Indiana  2017               11.1\n",
      "802         Massachusetts  2005               11.1\n",
      "698         Massachusetts  2007               11.1\n",
      "372              Delaware  2013               11.1\n",
      "682              Colorado  2007               11.1\n",
      "370              Colorado  2013               11.0\n",
      "362             Wisconsin  2014               11.0\n",
      "311               Wyoming  2015               11.0\n",
      "182              Missouri  2017               11.0\n",
      "646         Massachusetts  2008               11.0\n",
      "57             California  2019               11.0\n",
      "295          North Dakota  2015               11.0\n",
      "109            California  2018               11.0\n",
      "748                 Maine  2006               11.0\n",
      "146          South Dakota  2018               11.0\n",
      "742              Illinois  2006               11.0\n",
      "338              Missouri  2014               11.0\n",
      "231              Michigan  2016               11.0\n",
      "75               Michigan  2019               11.0\n",
      "819          Pennsylvania  2005               11.0\n",
      "619              Virginia  2009               10.9\n",
      "470                Alaska  2011               10.9\n",
      "243          North Dakota  2016               10.9\n",
      "222              Illinois  2016               10.9\n",
      "882             Wisconsin  2004               10.9\n",
      "567              Virginia  2010               10.9\n",
      "768          Rhode Island  2006               10.9\n",
      "392              Nebraska  2013               10.9\n",
      "767          Pennsylvania  2006               10.9\n",
      "15                Indiana  2020               10.9\n",
      "542         Massachusetts  2010               10.9\n",
      "548              Nebraska  2010               10.9\n",
      "594         Massachusetts  2009               10.8\n",
      "715          Pennsylvania  2007               10.8\n",
      "39           Pennsylvania  2020               10.8\n",
      "78               Missouri  2019               10.8\n",
      "848                  Iowa  2004               10.8\n",
      "724            Washington  2007               10.8\n",
      "395            New Jersey  2013               10.8\n",
      "67                Indiana  2019               10.8\n",
      "404          Rhode Island  2013               10.8\n",
      "359              Virginia  2014               10.8\n",
      "515              Virginia  2011               10.8\n",
      "626                Alaska  2008               10.8\n",
      "307              Virginia  2015               10.8\n",
      "130              Missouri  2018               10.8\n",
      "376                Hawaii  2013               10.8\n",
      "763          North Dakota  2006               10.8\n",
      "225                Kansas  2016               10.8\n",
      "794              Illinois  2005               10.7\n",
      "179              Michigan  2017               10.7\n",
      "565                  Utah  2010               10.7\n",
      "308            Washington  2015               10.7\n",
      "711          North Dakota  2007               10.7\n",
      "820          Rhode Island  2005               10.7\n",
      "492             Minnesota  2011               10.7\n",
      "519               Wyoming  2011               10.7\n",
      "255              Virginia  2016               10.7\n",
      "343            New Jersey  2014               10.7\n",
      "867          North Dakota  2004               10.7\n",
      "27                Montana  2020               10.7\n",
      "475           Connecticut  2011               10.6\n",
      "340              Nebraska  2014               10.6\n",
      "198          South Dakota  2017               10.6\n",
      "551            New Jersey  2010               10.6\n",
      "282         Massachusetts  2015               10.6\n",
      "268              Delaware  2015               10.6\n",
      "671              Virginia  2008               10.6\n",
      "648             Minnesota  2008               10.6\n",
      "741                 Idaho  2006               10.6\n",
      "127              Michigan  2018               10.6\n",
      "815          North Dakota  2005               10.6\n",
      "246                Oregon  2016               10.6\n",
      "618               Vermont  2009               10.6\n",
      "603            New Jersey  2009               10.6\n",
      "596             Minnesota  2009               10.6\n",
      "822          South Dakota  2005               10.6\n",
      "499            New Jersey  2011               10.6\n",
      "347          North Dakota  2014               10.5\n",
      "8                Delaware  2020               10.5\n",
      "310             Wisconsin  2015               10.5\n",
      "588                  Iowa  2009               10.5\n",
      "484                  Iowa  2011               10.5\n",
      "514               Vermont  2011               10.5\n",
      "207               Wyoming  2017               10.5\n",
      "726             Wisconsin  2007               10.5\n",
      "195          Pennsylvania  2017               10.5\n",
      "854         Massachusetts  2004               10.5\n",
      "409                  Utah  2013               10.5\n",
      "831               Wyoming  2005               10.5\n",
      "173                Kansas  2017               10.4\n",
      "170              Illinois  2017               10.4\n",
      "143          Pennsylvania  2018               10.4\n",
      "684              Delaware  2007               10.4\n",
      "830             Wisconsin  2005               10.4\n",
      "838              Colorado  2004               10.4\n",
      "79                Montana  2019               10.4\n",
      "236              Nebraska  2016               10.4\n",
      "503          North Dakota  2011               10.4\n",
      "235               Montana  2016               10.4\n",
      "786              Colorado  2005               10.3\n",
      "256            Washington  2016               10.3\n",
      "248          Rhode Island  2016               10.3\n",
      "415               Wyoming  2013               10.3\n",
      "544             Minnesota  2010               10.3\n",
      "779               Wyoming  2006               10.3\n",
      "861                Nevada  2004               10.3\n",
      "778             Wisconsin  2006               10.3\n",
      "131               Montana  2018               10.3\n",
      "536                  Iowa  2010               10.3\n",
      "324                Hawaii  2014               10.3\n",
      "184              Nebraska  2017               10.3\n",
      "411              Virginia  2013               10.3\n",
      "674             Wisconsin  2008               10.2\n",
      "12                 Hawaii  2020               10.2\n",
      "306               Vermont  2015               10.2\n",
      "318              Colorado  2014               10.2\n",
      "94           South Dakota  2019               10.2\n",
      "272                Hawaii  2015               10.2\n",
      "640                  Iowa  2008               10.2\n",
      "796                  Iowa  2005               10.2\n",
      "617                  Utah  2009               10.2\n",
      "652              Nebraska  2008               10.2\n",
      "734              Colorado  2006               10.2\n",
      "366                Alaska  2013               10.2\n",
      "756              Nebraska  2006               10.2\n",
      "883               Wyoming  2004               10.2\n",
      "700             Minnesota  2007               10.1\n",
      "64                 Hawaii  2019               10.1\n",
      "727               Wyoming  2007               10.1\n",
      "704              Nebraska  2007               10.1\n",
      "183               Montana  2017               10.1\n",
      "363               Wyoming  2014               10.1\n",
      "328                  Iowa  2014               10.1\n",
      "191          North Dakota  2017               10.1\n",
      "600              Nebraska  2009               10.1\n",
      "288              Nebraska  2015               10.1\n",
      "513                  Utah  2011               10.1\n",
      "385              Maryland  2013               10.0\n",
      "541              Maryland  2010               10.0\n",
      "809                Nevada  2005               10.0\n",
      "169                 Idaho  2017               10.0\n",
      "757                Nevada  2006               10.0\n",
      "124                 Maine  2018               10.0\n",
      "91           Pennsylvania  2019               10.0\n",
      "571               Wyoming  2009               10.0\n",
      "111           Connecticut  2018                9.9\n",
      "808              Nebraska  2005                9.9\n",
      "215           Connecticut  2016                9.9\n",
      "267           Connecticut  2015                9.9\n",
      "655            New Jersey  2008                9.9\n",
      "723              Virginia  2007                9.9\n",
      "593              Maryland  2009                9.9\n",
      "688                Hawaii  2007                9.9\n",
      "358               Vermont  2014                9.9\n",
      "793                 Idaho  2005                9.8\n",
      "489              Maryland  2011                9.8\n",
      "7             Connecticut  2020                9.8\n",
      "623               Wyoming  2009                9.8\n",
      "845                 Idaho  2004                9.8\n",
      "196          Rhode Island  2017                9.8\n",
      "230         Massachusetts  2016                9.8\n",
      "880            Washington  2004                9.8\n",
      "194                Oregon  2017                9.8\n",
      "860              Nebraska  2004                9.7\n",
      "645              Maryland  2008                9.7\n",
      "203              Virginia  2017                9.7\n",
      "163           Connecticut  2017                9.7\n",
      "291            New Jersey  2015                9.7\n",
      "670               Vermont  2008                9.7\n",
      "42           South Dakota  2020                9.7\n",
      "527           Connecticut  2010                9.7\n",
      "692                  Iowa  2007                9.7\n",
      "276                  Iowa  2015                9.7\n",
      "60               Delaware  2019                9.6\n",
      "254               Vermont  2016                9.6\n",
      "216              Delaware  2016                9.6\n",
      "744                  Iowa  2006                9.6\n",
      "675               Wyoming  2008                9.6\n",
      "35           North Dakota  2020                9.6\n",
      "139          North Dakota  2018                9.5\n",
      "371           Connecticut  2013                9.5\n",
      "258             Wisconsin  2016                9.5\n",
      "38                 Oregon  2020                9.5\n",
      "116                Hawaii  2018                9.5\n",
      "776            Washington  2006                9.5\n",
      "68                   Iowa  2019                9.5\n",
      "877                  Utah  2004                9.5\n",
      "220                Hawaii  2016                9.5\n",
      "16                   Iowa  2020                9.4\n",
      "828            Washington  2005                9.4\n",
      "103               Wyoming  2019                9.4\n",
      "825                  Utah  2005                9.4\n",
      "14               Illinois  2020                9.4\n",
      "168                Hawaii  2017                9.4\n",
      "155               Wyoming  2018                9.4\n",
      "722               Vermont  2007                9.4\n",
      "736              Delaware  2006                9.4\n",
      "66               Illinois  2019                9.3\n",
      "788              Delaware  2005                9.3\n",
      "834                Alaska  2004                9.3\n",
      "853              Maryland  2004                9.3\n",
      "357                  Utah  2014                9.3\n",
      "110              Colorado  2018                9.3\n",
      "117                 Idaho  2018                9.2\n",
      "840              Delaware  2004                9.2\n",
      "118              Illinois  2018                9.2\n",
      "678                Alaska  2007                9.2\n",
      "132              Nebraska  2018                9.2\n",
      "120                  Iowa  2018                9.2\n",
      "59            Connecticut  2019                9.2\n",
      "775              Virginia  2006                9.2\n",
      "178         Massachusetts  2017                9.2\n",
      "224                  Iowa  2016                9.2\n",
      "319           Connecticut  2014                9.2\n",
      "72                  Maine  2019                9.2\n",
      "162              Colorado  2017                9.1\n",
      "707            New Jersey  2007                9.1\n",
      "87           North Dakota  2019                9.1\n",
      "839           Connecticut  2004                9.1\n",
      "879              Virginia  2004                9.1\n",
      "669                  Utah  2008                9.1\n",
      "239            New Jersey  2016                9.1\n",
      "142                Oregon  2018                9.1\n",
      "752             Minnesota  2006                9.1\n",
      "801              Maryland  2005                9.0\n",
      "697              Maryland  2007                9.0\n",
      "150               Vermont  2018                9.0\n",
      "579           Connecticut  2009                9.0\n",
      "388             Minnesota  2013                9.0\n",
      "721                  Utah  2007                9.0\n",
      "92           Rhode Island  2019                9.0\n",
      "202               Vermont  2017                9.0\n",
      "144          Rhode Island  2018                8.9\n",
      "17                 Kansas  2020                8.9\n",
      "740                Hawaii  2006                8.9\n",
      "58               Colorado  2019                8.9\n",
      "333              Maryland  2014                8.9\n",
      "20                  Maine  2020                8.9\n",
      "774               Vermont  2006                8.9\n",
      "90                 Oregon  2019                8.9\n",
      "410               Vermont  2013                8.9\n",
      "214              Colorado  2016                8.9\n",
      "13                  Idaho  2020                8.9\n",
      "759            New Jersey  2006                8.9\n",
      "844                Hawaii  2004                8.8\n",
      "827              Virginia  2005                8.8\n",
      "151              Virginia  2018                8.8\n",
      "99               Virginia  2019                8.8\n",
      "773                  Utah  2006                8.8\n",
      "782                Alaska  2005                8.8\n",
      "305                  Utah  2015                8.8\n",
      "40           Rhode Island  2020                8.8\n",
      "204            Washington  2017                8.8\n",
      "787           Connecticut  2005                8.7\n",
      "51                Wyoming  2020                8.7\n",
      "232             Minnesota  2016                8.7\n",
      "121                Kansas  2018                8.7\n",
      "172                  Iowa  2017                8.7\n",
      "266              Colorado  2015                8.7\n",
      "206             Wisconsin  2017                8.7\n",
      "749              Maryland  2006                8.6\n",
      "102             Wisconsin  2019                8.6\n",
      "21               Maryland  2020                8.6\n",
      "47               Virginia  2020                8.6\n",
      "69                 Kansas  2019                8.6\n",
      "284             Minnesota  2015                8.6\n",
      "22          Massachusetts  2020                8.6\n",
      "6                Colorado  2020                8.5\n",
      "683           Connecticut  2007                8.5\n",
      "804             Minnesota  2005                8.5\n",
      "65                  Idaho  2019                8.5\n",
      "80               Nebraska  2019                8.4\n",
      "826               Vermont  2005                8.4\n",
      "46                Vermont  2020                8.4\n",
      "792                Hawaii  2005                8.4\n",
      "154             Wisconsin  2018                8.3\n",
      "498         New Hampshire  2011                8.3\n",
      "735           Connecticut  2006                8.3\n",
      "98                Vermont  2019                8.3\n",
      "631           Connecticut  2008                8.3\n",
      "336             Minnesota  2014                8.3\n",
      "48             Washington  2020                8.3\n",
      "126         Massachusetts  2018                8.2\n",
      "31             New Jersey  2020                8.2\n",
      "187            New Jersey  2017                8.2\n",
      "730                Alaska  2006                8.2\n",
      "281              Maryland  2015                8.2\n",
      "112              Delaware  2018                8.1\n",
      "125              Maryland  2018                8.1\n",
      "28               Nebraska  2020                8.1\n",
      "811            New Jersey  2005                8.1\n",
      "50              Wisconsin  2020                8.0\n",
      "73               Maryland  2019                8.0\n",
      "253                  Utah  2016                7.9\n",
      "863            New Jersey  2004                7.9\n",
      "152            Washington  2018                7.9\n",
      "74          Massachusetts  2019                7.9\n",
      "856             Minnesota  2004                7.7\n",
      "24              Minnesota  2020                7.7\n",
      "878               Vermont  2004                7.7\n",
      "164              Delaware  2017                7.6\n",
      "135            New Jersey  2018                7.6\n",
      "201                  Utah  2017                7.6\n",
      "100            Washington  2019                7.6\n",
      "97                   Utah  2019                7.5\n",
      "177              Maryland  2017                7.5\n",
      "550         New Hampshire  2010                7.4\n",
      "180             Minnesota  2017                7.4\n",
      "128             Minnesota  2018                7.4\n",
      "83             New Jersey  2019                7.3\n",
      "602         New Hampshire  2009                7.3\n",
      "149                  Utah  2018                7.2\n",
      "654         New Hampshire  2008                7.1\n",
      "45                   Utah  2020                7.1\n",
      "229              Maryland  2016                7.1\n",
      "30          New Hampshire  2020                7.1\n",
      "76              Minnesota  2019                7.0\n",
      "342         New Hampshire  2014                6.9\n",
      "706         New Hampshire  2007                6.9\n",
      "290         New Hampshire  2015                6.7\n",
      "394         New Hampshire  2013                6.6\n",
      "238         New Hampshire  2016                6.4\n",
      "758         New Hampshire  2006                6.1\n",
      "186         New Hampshire  2017                5.6\n",
      "810         New Hampshire  2005                5.6\n",
      "82          New Hampshire  2019                5.6\n",
      "862         New Hampshire  2004                5.5\n",
      "134         New Hampshire  2018                5.4\n"
     ]
    }
   ],
   "source": [
    "df_poverty_sorted = df_poverty_filtered.sort_values(by='povertyPercentage', ascending=False)\n",
    "print(df_poverty_sorted)\n",
    "# Creazione di un grafico a barre della poverty percentage per ogni stato\n",
    "plt.figure(figsize=(12, 8))\n",
    "plt.bar(df_poverty_sorted['state'], df_poverty_sorted['povertyPercentage'], color='skyblue')\n",
    "plt.title('Poverty Percentage per State (Sorted)')\n",
    "plt.xlabel('State')\n",
    "plt.ylabel('Poverty Percentage')\n",
    "plt.xticks(rotation=90, ha='right')  # Rotazione delle etichette degli stati per una migliore leggibilità\n",
    "plt.tight_layout()\n",
    "\n",
    "# Mostra il grafico\n",
    "plt.show()\n",
    "\n",
    "pd.set_option('display.max_rows', None)\n",
    "pd.set_option('display.max_columns', None)\n",
    "print(df_poverty_sorted)\n",
    "# Ripristina le opzioni predefinite dopo la stampa\n",
    "pd.reset_option('display.max_rows')\n",
    "pd.reset_option('display.max_columns')"
   ]
  },
  {
   "cell_type": "markdown",
   "metadata": {},
   "source": [
    "# Visualization are nice, let's visualize poverty\n",
    "\n"
   ]
  },
  {
   "cell_type": "code",
   "execution_count": 6,
   "metadata": {},
   "outputs": [
    {
     "name": "stdout",
     "output_type": "stream",
     "text": [
      "number of states 51\n",
      "number of nans state                0\n",
      "year                 0\n",
      "povertyPercentage    0\n",
      "dtype: int64\n"
     ]
    },
    {
     "data": {
      "application/vnd.plotly.v1+json": {
       "config": {
        "plotlyServerURL": "https://plot.ly"
       },
       "data": [
        {
         "coloraxis": "coloraxis",
         "geo": "geo",
         "hovertemplate": "locations=%{location}<br>color=%{z}<extra></extra>",
         "locationmode": "USA-states",
         "locations": [
          "AL",
          "AK",
          "AZ",
          "AR",
          "CA",
          "CO",
          "CT",
          "DE",
          "DC",
          "FL",
          "GA",
          "HI",
          "ID",
          "IL",
          "IN",
          "IA",
          "KS",
          "KY",
          "LA",
          "ME",
          "MD",
          "MA",
          "MI",
          "MN",
          "MS",
          "MO",
          "MT",
          "NE",
          "NV",
          "NH",
          "NJ",
          "NM",
          "NY",
          "NC",
          "ND",
          "OH",
          "OK",
          "OR",
          "PA",
          "RI",
          "SC",
          "SD",
          "TN",
          "TX",
          "UT",
          "VT",
          "VA",
          "WA",
          "WV",
          "WI",
          "WY"
         ],
         "name": "",
         "type": "choropleth",
         "z": [
          15.63125,
          10.85,
          15.725,
          16.1,
          13.5625,
          10.34375,
          9.33125,
          10.46875,
          17.13125,
          13.70625,
          15.39375,
          10.3125,
          11.425,
          11.51875,
          12.9625,
          9.93125,
          11.9625,
          16.49375,
          18.6625,
          11.61875,
          8.85625,
          10.4,
          12.60625,
          8.85625,
          20.00625,
          12.55,
          12.3625,
          10.01875,
          12.73125,
          6.53125,
          9.206249999999999,
          18.4375,
          13.96875,
          14.79375,
          10.5875,
          13.29375,
          14.5,
          11.775,
          11.375,
          11.2125,
          14.75,
          12.05625,
          14.625,
          15.375,
          8.91875,
          9.35625,
          9.91875,
          10.21875,
          16.075,
          10.2125,
          10.125
         ]
        }
       ],
       "layout": {
        "coloraxis": {
         "cmax": 20.00625,
         "cmin": 6.53125,
         "colorbar": {
          "title": {
           "text": "color"
          }
         },
         "colorscale": [
          [
           0,
           "rgb(255,245,240)"
          ],
          [
           0.125,
           "rgb(254,224,210)"
          ],
          [
           0.25,
           "rgb(252,187,161)"
          ],
          [
           0.375,
           "rgb(252,146,114)"
          ],
          [
           0.5,
           "rgb(251,106,74)"
          ],
          [
           0.625,
           "rgb(239,59,44)"
          ],
          [
           0.75,
           "rgb(203,24,29)"
          ],
          [
           0.875,
           "rgb(165,15,21)"
          ],
          [
           1,
           "rgb(103,0,13)"
          ]
         ]
        },
        "geo": {
         "center": {},
         "domain": {
          "x": [
           0,
           1
          ],
          "y": [
           0,
           1
          ]
         },
         "scope": "usa"
        },
        "legend": {
         "tracegroupgap": 0
        },
        "template": {
         "data": {
          "bar": [
           {
            "error_x": {
             "color": "#2a3f5f"
            },
            "error_y": {
             "color": "#2a3f5f"
            },
            "marker": {
             "line": {
              "color": "#E5ECF6",
              "width": 0.5
             },
             "pattern": {
              "fillmode": "overlay",
              "size": 10,
              "solidity": 0.2
             }
            },
            "type": "bar"
           }
          ],
          "barpolar": [
           {
            "marker": {
             "line": {
              "color": "#E5ECF6",
              "width": 0.5
             },
             "pattern": {
              "fillmode": "overlay",
              "size": 10,
              "solidity": 0.2
             }
            },
            "type": "barpolar"
           }
          ],
          "carpet": [
           {
            "aaxis": {
             "endlinecolor": "#2a3f5f",
             "gridcolor": "white",
             "linecolor": "white",
             "minorgridcolor": "white",
             "startlinecolor": "#2a3f5f"
            },
            "baxis": {
             "endlinecolor": "#2a3f5f",
             "gridcolor": "white",
             "linecolor": "white",
             "minorgridcolor": "white",
             "startlinecolor": "#2a3f5f"
            },
            "type": "carpet"
           }
          ],
          "choropleth": [
           {
            "colorbar": {
             "outlinewidth": 0,
             "ticks": ""
            },
            "type": "choropleth"
           }
          ],
          "contour": [
           {
            "colorbar": {
             "outlinewidth": 0,
             "ticks": ""
            },
            "colorscale": [
             [
              0,
              "#0d0887"
             ],
             [
              0.1111111111111111,
              "#46039f"
             ],
             [
              0.2222222222222222,
              "#7201a8"
             ],
             [
              0.3333333333333333,
              "#9c179e"
             ],
             [
              0.4444444444444444,
              "#bd3786"
             ],
             [
              0.5555555555555556,
              "#d8576b"
             ],
             [
              0.6666666666666666,
              "#ed7953"
             ],
             [
              0.7777777777777778,
              "#fb9f3a"
             ],
             [
              0.8888888888888888,
              "#fdca26"
             ],
             [
              1,
              "#f0f921"
             ]
            ],
            "type": "contour"
           }
          ],
          "contourcarpet": [
           {
            "colorbar": {
             "outlinewidth": 0,
             "ticks": ""
            },
            "type": "contourcarpet"
           }
          ],
          "heatmap": [
           {
            "colorbar": {
             "outlinewidth": 0,
             "ticks": ""
            },
            "colorscale": [
             [
              0,
              "#0d0887"
             ],
             [
              0.1111111111111111,
              "#46039f"
             ],
             [
              0.2222222222222222,
              "#7201a8"
             ],
             [
              0.3333333333333333,
              "#9c179e"
             ],
             [
              0.4444444444444444,
              "#bd3786"
             ],
             [
              0.5555555555555556,
              "#d8576b"
             ],
             [
              0.6666666666666666,
              "#ed7953"
             ],
             [
              0.7777777777777778,
              "#fb9f3a"
             ],
             [
              0.8888888888888888,
              "#fdca26"
             ],
             [
              1,
              "#f0f921"
             ]
            ],
            "type": "heatmap"
           }
          ],
          "heatmapgl": [
           {
            "colorbar": {
             "outlinewidth": 0,
             "ticks": ""
            },
            "colorscale": [
             [
              0,
              "#0d0887"
             ],
             [
              0.1111111111111111,
              "#46039f"
             ],
             [
              0.2222222222222222,
              "#7201a8"
             ],
             [
              0.3333333333333333,
              "#9c179e"
             ],
             [
              0.4444444444444444,
              "#bd3786"
             ],
             [
              0.5555555555555556,
              "#d8576b"
             ],
             [
              0.6666666666666666,
              "#ed7953"
             ],
             [
              0.7777777777777778,
              "#fb9f3a"
             ],
             [
              0.8888888888888888,
              "#fdca26"
             ],
             [
              1,
              "#f0f921"
             ]
            ],
            "type": "heatmapgl"
           }
          ],
          "histogram": [
           {
            "marker": {
             "pattern": {
              "fillmode": "overlay",
              "size": 10,
              "solidity": 0.2
             }
            },
            "type": "histogram"
           }
          ],
          "histogram2d": [
           {
            "colorbar": {
             "outlinewidth": 0,
             "ticks": ""
            },
            "colorscale": [
             [
              0,
              "#0d0887"
             ],
             [
              0.1111111111111111,
              "#46039f"
             ],
             [
              0.2222222222222222,
              "#7201a8"
             ],
             [
              0.3333333333333333,
              "#9c179e"
             ],
             [
              0.4444444444444444,
              "#bd3786"
             ],
             [
              0.5555555555555556,
              "#d8576b"
             ],
             [
              0.6666666666666666,
              "#ed7953"
             ],
             [
              0.7777777777777778,
              "#fb9f3a"
             ],
             [
              0.8888888888888888,
              "#fdca26"
             ],
             [
              1,
              "#f0f921"
             ]
            ],
            "type": "histogram2d"
           }
          ],
          "histogram2dcontour": [
           {
            "colorbar": {
             "outlinewidth": 0,
             "ticks": ""
            },
            "colorscale": [
             [
              0,
              "#0d0887"
             ],
             [
              0.1111111111111111,
              "#46039f"
             ],
             [
              0.2222222222222222,
              "#7201a8"
             ],
             [
              0.3333333333333333,
              "#9c179e"
             ],
             [
              0.4444444444444444,
              "#bd3786"
             ],
             [
              0.5555555555555556,
              "#d8576b"
             ],
             [
              0.6666666666666666,
              "#ed7953"
             ],
             [
              0.7777777777777778,
              "#fb9f3a"
             ],
             [
              0.8888888888888888,
              "#fdca26"
             ],
             [
              1,
              "#f0f921"
             ]
            ],
            "type": "histogram2dcontour"
           }
          ],
          "mesh3d": [
           {
            "colorbar": {
             "outlinewidth": 0,
             "ticks": ""
            },
            "type": "mesh3d"
           }
          ],
          "parcoords": [
           {
            "line": {
             "colorbar": {
              "outlinewidth": 0,
              "ticks": ""
             }
            },
            "type": "parcoords"
           }
          ],
          "pie": [
           {
            "automargin": true,
            "type": "pie"
           }
          ],
          "scatter": [
           {
            "fillpattern": {
             "fillmode": "overlay",
             "size": 10,
             "solidity": 0.2
            },
            "type": "scatter"
           }
          ],
          "scatter3d": [
           {
            "line": {
             "colorbar": {
              "outlinewidth": 0,
              "ticks": ""
             }
            },
            "marker": {
             "colorbar": {
              "outlinewidth": 0,
              "ticks": ""
             }
            },
            "type": "scatter3d"
           }
          ],
          "scattercarpet": [
           {
            "marker": {
             "colorbar": {
              "outlinewidth": 0,
              "ticks": ""
             }
            },
            "type": "scattercarpet"
           }
          ],
          "scattergeo": [
           {
            "marker": {
             "colorbar": {
              "outlinewidth": 0,
              "ticks": ""
             }
            },
            "type": "scattergeo"
           }
          ],
          "scattergl": [
           {
            "marker": {
             "colorbar": {
              "outlinewidth": 0,
              "ticks": ""
             }
            },
            "type": "scattergl"
           }
          ],
          "scattermapbox": [
           {
            "marker": {
             "colorbar": {
              "outlinewidth": 0,
              "ticks": ""
             }
            },
            "type": "scattermapbox"
           }
          ],
          "scatterpolar": [
           {
            "marker": {
             "colorbar": {
              "outlinewidth": 0,
              "ticks": ""
             }
            },
            "type": "scatterpolar"
           }
          ],
          "scatterpolargl": [
           {
            "marker": {
             "colorbar": {
              "outlinewidth": 0,
              "ticks": ""
             }
            },
            "type": "scatterpolargl"
           }
          ],
          "scatterternary": [
           {
            "marker": {
             "colorbar": {
              "outlinewidth": 0,
              "ticks": ""
             }
            },
            "type": "scatterternary"
           }
          ],
          "surface": [
           {
            "colorbar": {
             "outlinewidth": 0,
             "ticks": ""
            },
            "colorscale": [
             [
              0,
              "#0d0887"
             ],
             [
              0.1111111111111111,
              "#46039f"
             ],
             [
              0.2222222222222222,
              "#7201a8"
             ],
             [
              0.3333333333333333,
              "#9c179e"
             ],
             [
              0.4444444444444444,
              "#bd3786"
             ],
             [
              0.5555555555555556,
              "#d8576b"
             ],
             [
              0.6666666666666666,
              "#ed7953"
             ],
             [
              0.7777777777777778,
              "#fb9f3a"
             ],
             [
              0.8888888888888888,
              "#fdca26"
             ],
             [
              1,
              "#f0f921"
             ]
            ],
            "type": "surface"
           }
          ],
          "table": [
           {
            "cells": {
             "fill": {
              "color": "#EBF0F8"
             },
             "line": {
              "color": "white"
             }
            },
            "header": {
             "fill": {
              "color": "#C8D4E3"
             },
             "line": {
              "color": "white"
             }
            },
            "type": "table"
           }
          ]
         },
         "layout": {
          "annotationdefaults": {
           "arrowcolor": "#2a3f5f",
           "arrowhead": 0,
           "arrowwidth": 1
          },
          "autotypenumbers": "strict",
          "coloraxis": {
           "colorbar": {
            "outlinewidth": 0,
            "ticks": ""
           }
          },
          "colorscale": {
           "diverging": [
            [
             0,
             "#8e0152"
            ],
            [
             0.1,
             "#c51b7d"
            ],
            [
             0.2,
             "#de77ae"
            ],
            [
             0.3,
             "#f1b6da"
            ],
            [
             0.4,
             "#fde0ef"
            ],
            [
             0.5,
             "#f7f7f7"
            ],
            [
             0.6,
             "#e6f5d0"
            ],
            [
             0.7,
             "#b8e186"
            ],
            [
             0.8,
             "#7fbc41"
            ],
            [
             0.9,
             "#4d9221"
            ],
            [
             1,
             "#276419"
            ]
           ],
           "sequential": [
            [
             0,
             "#0d0887"
            ],
            [
             0.1111111111111111,
             "#46039f"
            ],
            [
             0.2222222222222222,
             "#7201a8"
            ],
            [
             0.3333333333333333,
             "#9c179e"
            ],
            [
             0.4444444444444444,
             "#bd3786"
            ],
            [
             0.5555555555555556,
             "#d8576b"
            ],
            [
             0.6666666666666666,
             "#ed7953"
            ],
            [
             0.7777777777777778,
             "#fb9f3a"
            ],
            [
             0.8888888888888888,
             "#fdca26"
            ],
            [
             1,
             "#f0f921"
            ]
           ],
           "sequentialminus": [
            [
             0,
             "#0d0887"
            ],
            [
             0.1111111111111111,
             "#46039f"
            ],
            [
             0.2222222222222222,
             "#7201a8"
            ],
            [
             0.3333333333333333,
             "#9c179e"
            ],
            [
             0.4444444444444444,
             "#bd3786"
            ],
            [
             0.5555555555555556,
             "#d8576b"
            ],
            [
             0.6666666666666666,
             "#ed7953"
            ],
            [
             0.7777777777777778,
             "#fb9f3a"
            ],
            [
             0.8888888888888888,
             "#fdca26"
            ],
            [
             1,
             "#f0f921"
            ]
           ]
          },
          "colorway": [
           "#636efa",
           "#EF553B",
           "#00cc96",
           "#ab63fa",
           "#FFA15A",
           "#19d3f3",
           "#FF6692",
           "#B6E880",
           "#FF97FF",
           "#FECB52"
          ],
          "font": {
           "color": "#2a3f5f"
          },
          "geo": {
           "bgcolor": "white",
           "lakecolor": "white",
           "landcolor": "#E5ECF6",
           "showlakes": true,
           "showland": true,
           "subunitcolor": "white"
          },
          "hoverlabel": {
           "align": "left"
          },
          "hovermode": "closest",
          "mapbox": {
           "style": "light"
          },
          "paper_bgcolor": "white",
          "plot_bgcolor": "#E5ECF6",
          "polar": {
           "angularaxis": {
            "gridcolor": "white",
            "linecolor": "white",
            "ticks": ""
           },
           "bgcolor": "#E5ECF6",
           "radialaxis": {
            "gridcolor": "white",
            "linecolor": "white",
            "ticks": ""
           }
          },
          "scene": {
           "xaxis": {
            "backgroundcolor": "#E5ECF6",
            "gridcolor": "white",
            "gridwidth": 2,
            "linecolor": "white",
            "showbackground": true,
            "ticks": "",
            "zerolinecolor": "white"
           },
           "yaxis": {
            "backgroundcolor": "#E5ECF6",
            "gridcolor": "white",
            "gridwidth": 2,
            "linecolor": "white",
            "showbackground": true,
            "ticks": "",
            "zerolinecolor": "white"
           },
           "zaxis": {
            "backgroundcolor": "#E5ECF6",
            "gridcolor": "white",
            "gridwidth": 2,
            "linecolor": "white",
            "showbackground": true,
            "ticks": "",
            "zerolinecolor": "white"
           }
          },
          "shapedefaults": {
           "line": {
            "color": "#2a3f5f"
           }
          },
          "ternary": {
           "aaxis": {
            "gridcolor": "white",
            "linecolor": "white",
            "ticks": ""
           },
           "baxis": {
            "gridcolor": "white",
            "linecolor": "white",
            "ticks": ""
           },
           "bgcolor": "#E5ECF6",
           "caxis": {
            "gridcolor": "white",
            "linecolor": "white",
            "ticks": ""
           }
          },
          "title": {
           "x": 0.05
          },
          "xaxis": {
           "automargin": true,
           "gridcolor": "white",
           "linecolor": "white",
           "ticks": "",
           "title": {
            "standoff": 15
           },
           "zerolinecolor": "white",
           "zerolinewidth": 2
          },
          "yaxis": {
           "automargin": true,
           "gridcolor": "white",
           "linecolor": "white",
           "ticks": "",
           "title": {
            "standoff": 15
           },
           "zerolinecolor": "white",
           "zerolinewidth": 2
          }
         }
        },
        "title": {
         "text": "Poverty percentage in the USA"
        }
       }
      },
      "text/html": [
       "<div>                            <div id=\"2c448210-7284-426b-9a4c-fb7963ddad64\" class=\"plotly-graph-div\" style=\"height:525px; width:100%;\"></div>            <script type=\"text/javascript\">                require([\"plotly\"], function(Plotly) {                    window.PLOTLYENV=window.PLOTLYENV || {};                                    if (document.getElementById(\"2c448210-7284-426b-9a4c-fb7963ddad64\")) {                    Plotly.newPlot(                        \"2c448210-7284-426b-9a4c-fb7963ddad64\",                        [{\"coloraxis\":\"coloraxis\",\"geo\":\"geo\",\"hovertemplate\":\"locations=%{location}\\u003cbr\\u003ecolor=%{z}\\u003cextra\\u003e\\u003c\\u002fextra\\u003e\",\"locationmode\":\"USA-states\",\"locations\":[\"AL\",\"AK\",\"AZ\",\"AR\",\"CA\",\"CO\",\"CT\",\"DE\",\"DC\",\"FL\",\"GA\",\"HI\",\"ID\",\"IL\",\"IN\",\"IA\",\"KS\",\"KY\",\"LA\",\"ME\",\"MD\",\"MA\",\"MI\",\"MN\",\"MS\",\"MO\",\"MT\",\"NE\",\"NV\",\"NH\",\"NJ\",\"NM\",\"NY\",\"NC\",\"ND\",\"OH\",\"OK\",\"OR\",\"PA\",\"RI\",\"SC\",\"SD\",\"TN\",\"TX\",\"UT\",\"VT\",\"VA\",\"WA\",\"WV\",\"WI\",\"WY\"],\"name\":\"\",\"z\":[15.63125,10.85,15.725,16.1,13.5625,10.34375,9.33125,10.46875,17.13125,13.70625,15.39375,10.3125,11.425,11.51875,12.9625,9.93125,11.9625,16.49375,18.6625,11.61875,8.85625,10.4,12.60625,8.85625,20.00625,12.55,12.3625,10.01875,12.73125,6.53125,9.206249999999999,18.4375,13.96875,14.79375,10.5875,13.29375,14.5,11.775,11.375,11.2125,14.75,12.05625,14.625,15.375,8.91875,9.35625,9.91875,10.21875,16.075,10.2125,10.125],\"type\":\"choropleth\"}],                        {\"template\":{\"data\":{\"histogram2dcontour\":[{\"type\":\"histogram2dcontour\",\"colorbar\":{\"outlinewidth\":0,\"ticks\":\"\"},\"colorscale\":[[0.0,\"#0d0887\"],[0.1111111111111111,\"#46039f\"],[0.2222222222222222,\"#7201a8\"],[0.3333333333333333,\"#9c179e\"],[0.4444444444444444,\"#bd3786\"],[0.5555555555555556,\"#d8576b\"],[0.6666666666666666,\"#ed7953\"],[0.7777777777777778,\"#fb9f3a\"],[0.8888888888888888,\"#fdca26\"],[1.0,\"#f0f921\"]]}],\"choropleth\":[{\"type\":\"choropleth\",\"colorbar\":{\"outlinewidth\":0,\"ticks\":\"\"}}],\"histogram2d\":[{\"type\":\"histogram2d\",\"colorbar\":{\"outlinewidth\":0,\"ticks\":\"\"},\"colorscale\":[[0.0,\"#0d0887\"],[0.1111111111111111,\"#46039f\"],[0.2222222222222222,\"#7201a8\"],[0.3333333333333333,\"#9c179e\"],[0.4444444444444444,\"#bd3786\"],[0.5555555555555556,\"#d8576b\"],[0.6666666666666666,\"#ed7953\"],[0.7777777777777778,\"#fb9f3a\"],[0.8888888888888888,\"#fdca26\"],[1.0,\"#f0f921\"]]}],\"heatmap\":[{\"type\":\"heatmap\",\"colorbar\":{\"outlinewidth\":0,\"ticks\":\"\"},\"colorscale\":[[0.0,\"#0d0887\"],[0.1111111111111111,\"#46039f\"],[0.2222222222222222,\"#7201a8\"],[0.3333333333333333,\"#9c179e\"],[0.4444444444444444,\"#bd3786\"],[0.5555555555555556,\"#d8576b\"],[0.6666666666666666,\"#ed7953\"],[0.7777777777777778,\"#fb9f3a\"],[0.8888888888888888,\"#fdca26\"],[1.0,\"#f0f921\"]]}],\"heatmapgl\":[{\"type\":\"heatmapgl\",\"colorbar\":{\"outlinewidth\":0,\"ticks\":\"\"},\"colorscale\":[[0.0,\"#0d0887\"],[0.1111111111111111,\"#46039f\"],[0.2222222222222222,\"#7201a8\"],[0.3333333333333333,\"#9c179e\"],[0.4444444444444444,\"#bd3786\"],[0.5555555555555556,\"#d8576b\"],[0.6666666666666666,\"#ed7953\"],[0.7777777777777778,\"#fb9f3a\"],[0.8888888888888888,\"#fdca26\"],[1.0,\"#f0f921\"]]}],\"contourcarpet\":[{\"type\":\"contourcarpet\",\"colorbar\":{\"outlinewidth\":0,\"ticks\":\"\"}}],\"contour\":[{\"type\":\"contour\",\"colorbar\":{\"outlinewidth\":0,\"ticks\":\"\"},\"colorscale\":[[0.0,\"#0d0887\"],[0.1111111111111111,\"#46039f\"],[0.2222222222222222,\"#7201a8\"],[0.3333333333333333,\"#9c179e\"],[0.4444444444444444,\"#bd3786\"],[0.5555555555555556,\"#d8576b\"],[0.6666666666666666,\"#ed7953\"],[0.7777777777777778,\"#fb9f3a\"],[0.8888888888888888,\"#fdca26\"],[1.0,\"#f0f921\"]]}],\"surface\":[{\"type\":\"surface\",\"colorbar\":{\"outlinewidth\":0,\"ticks\":\"\"},\"colorscale\":[[0.0,\"#0d0887\"],[0.1111111111111111,\"#46039f\"],[0.2222222222222222,\"#7201a8\"],[0.3333333333333333,\"#9c179e\"],[0.4444444444444444,\"#bd3786\"],[0.5555555555555556,\"#d8576b\"],[0.6666666666666666,\"#ed7953\"],[0.7777777777777778,\"#fb9f3a\"],[0.8888888888888888,\"#fdca26\"],[1.0,\"#f0f921\"]]}],\"mesh3d\":[{\"type\":\"mesh3d\",\"colorbar\":{\"outlinewidth\":0,\"ticks\":\"\"}}],\"scatter\":[{\"fillpattern\":{\"fillmode\":\"overlay\",\"size\":10,\"solidity\":0.2},\"type\":\"scatter\"}],\"parcoords\":[{\"type\":\"parcoords\",\"line\":{\"colorbar\":{\"outlinewidth\":0,\"ticks\":\"\"}}}],\"scatterpolargl\":[{\"type\":\"scatterpolargl\",\"marker\":{\"colorbar\":{\"outlinewidth\":0,\"ticks\":\"\"}}}],\"bar\":[{\"error_x\":{\"color\":\"#2a3f5f\"},\"error_y\":{\"color\":\"#2a3f5f\"},\"marker\":{\"line\":{\"color\":\"#E5ECF6\",\"width\":0.5},\"pattern\":{\"fillmode\":\"overlay\",\"size\":10,\"solidity\":0.2}},\"type\":\"bar\"}],\"scattergeo\":[{\"type\":\"scattergeo\",\"marker\":{\"colorbar\":{\"outlinewidth\":0,\"ticks\":\"\"}}}],\"scatterpolar\":[{\"type\":\"scatterpolar\",\"marker\":{\"colorbar\":{\"outlinewidth\":0,\"ticks\":\"\"}}}],\"histogram\":[{\"marker\":{\"pattern\":{\"fillmode\":\"overlay\",\"size\":10,\"solidity\":0.2}},\"type\":\"histogram\"}],\"scattergl\":[{\"type\":\"scattergl\",\"marker\":{\"colorbar\":{\"outlinewidth\":0,\"ticks\":\"\"}}}],\"scatter3d\":[{\"type\":\"scatter3d\",\"line\":{\"colorbar\":{\"outlinewidth\":0,\"ticks\":\"\"}},\"marker\":{\"colorbar\":{\"outlinewidth\":0,\"ticks\":\"\"}}}],\"scattermapbox\":[{\"type\":\"scattermapbox\",\"marker\":{\"colorbar\":{\"outlinewidth\":0,\"ticks\":\"\"}}}],\"scatterternary\":[{\"type\":\"scatterternary\",\"marker\":{\"colorbar\":{\"outlinewidth\":0,\"ticks\":\"\"}}}],\"scattercarpet\":[{\"type\":\"scattercarpet\",\"marker\":{\"colorbar\":{\"outlinewidth\":0,\"ticks\":\"\"}}}],\"carpet\":[{\"aaxis\":{\"endlinecolor\":\"#2a3f5f\",\"gridcolor\":\"white\",\"linecolor\":\"white\",\"minorgridcolor\":\"white\",\"startlinecolor\":\"#2a3f5f\"},\"baxis\":{\"endlinecolor\":\"#2a3f5f\",\"gridcolor\":\"white\",\"linecolor\":\"white\",\"minorgridcolor\":\"white\",\"startlinecolor\":\"#2a3f5f\"},\"type\":\"carpet\"}],\"table\":[{\"cells\":{\"fill\":{\"color\":\"#EBF0F8\"},\"line\":{\"color\":\"white\"}},\"header\":{\"fill\":{\"color\":\"#C8D4E3\"},\"line\":{\"color\":\"white\"}},\"type\":\"table\"}],\"barpolar\":[{\"marker\":{\"line\":{\"color\":\"#E5ECF6\",\"width\":0.5},\"pattern\":{\"fillmode\":\"overlay\",\"size\":10,\"solidity\":0.2}},\"type\":\"barpolar\"}],\"pie\":[{\"automargin\":true,\"type\":\"pie\"}]},\"layout\":{\"autotypenumbers\":\"strict\",\"colorway\":[\"#636efa\",\"#EF553B\",\"#00cc96\",\"#ab63fa\",\"#FFA15A\",\"#19d3f3\",\"#FF6692\",\"#B6E880\",\"#FF97FF\",\"#FECB52\"],\"font\":{\"color\":\"#2a3f5f\"},\"hovermode\":\"closest\",\"hoverlabel\":{\"align\":\"left\"},\"paper_bgcolor\":\"white\",\"plot_bgcolor\":\"#E5ECF6\",\"polar\":{\"bgcolor\":\"#E5ECF6\",\"angularaxis\":{\"gridcolor\":\"white\",\"linecolor\":\"white\",\"ticks\":\"\"},\"radialaxis\":{\"gridcolor\":\"white\",\"linecolor\":\"white\",\"ticks\":\"\"}},\"ternary\":{\"bgcolor\":\"#E5ECF6\",\"aaxis\":{\"gridcolor\":\"white\",\"linecolor\":\"white\",\"ticks\":\"\"},\"baxis\":{\"gridcolor\":\"white\",\"linecolor\":\"white\",\"ticks\":\"\"},\"caxis\":{\"gridcolor\":\"white\",\"linecolor\":\"white\",\"ticks\":\"\"}},\"coloraxis\":{\"colorbar\":{\"outlinewidth\":0,\"ticks\":\"\"}},\"colorscale\":{\"sequential\":[[0.0,\"#0d0887\"],[0.1111111111111111,\"#46039f\"],[0.2222222222222222,\"#7201a8\"],[0.3333333333333333,\"#9c179e\"],[0.4444444444444444,\"#bd3786\"],[0.5555555555555556,\"#d8576b\"],[0.6666666666666666,\"#ed7953\"],[0.7777777777777778,\"#fb9f3a\"],[0.8888888888888888,\"#fdca26\"],[1.0,\"#f0f921\"]],\"sequentialminus\":[[0.0,\"#0d0887\"],[0.1111111111111111,\"#46039f\"],[0.2222222222222222,\"#7201a8\"],[0.3333333333333333,\"#9c179e\"],[0.4444444444444444,\"#bd3786\"],[0.5555555555555556,\"#d8576b\"],[0.6666666666666666,\"#ed7953\"],[0.7777777777777778,\"#fb9f3a\"],[0.8888888888888888,\"#fdca26\"],[1.0,\"#f0f921\"]],\"diverging\":[[0,\"#8e0152\"],[0.1,\"#c51b7d\"],[0.2,\"#de77ae\"],[0.3,\"#f1b6da\"],[0.4,\"#fde0ef\"],[0.5,\"#f7f7f7\"],[0.6,\"#e6f5d0\"],[0.7,\"#b8e186\"],[0.8,\"#7fbc41\"],[0.9,\"#4d9221\"],[1,\"#276419\"]]},\"xaxis\":{\"gridcolor\":\"white\",\"linecolor\":\"white\",\"ticks\":\"\",\"title\":{\"standoff\":15},\"zerolinecolor\":\"white\",\"automargin\":true,\"zerolinewidth\":2},\"yaxis\":{\"gridcolor\":\"white\",\"linecolor\":\"white\",\"ticks\":\"\",\"title\":{\"standoff\":15},\"zerolinecolor\":\"white\",\"automargin\":true,\"zerolinewidth\":2},\"scene\":{\"xaxis\":{\"backgroundcolor\":\"#E5ECF6\",\"gridcolor\":\"white\",\"linecolor\":\"white\",\"showbackground\":true,\"ticks\":\"\",\"zerolinecolor\":\"white\",\"gridwidth\":2},\"yaxis\":{\"backgroundcolor\":\"#E5ECF6\",\"gridcolor\":\"white\",\"linecolor\":\"white\",\"showbackground\":true,\"ticks\":\"\",\"zerolinecolor\":\"white\",\"gridwidth\":2},\"zaxis\":{\"backgroundcolor\":\"#E5ECF6\",\"gridcolor\":\"white\",\"linecolor\":\"white\",\"showbackground\":true,\"ticks\":\"\",\"zerolinecolor\":\"white\",\"gridwidth\":2}},\"shapedefaults\":{\"line\":{\"color\":\"#2a3f5f\"}},\"annotationdefaults\":{\"arrowcolor\":\"#2a3f5f\",\"arrowhead\":0,\"arrowwidth\":1},\"geo\":{\"bgcolor\":\"white\",\"landcolor\":\"#E5ECF6\",\"subunitcolor\":\"white\",\"showland\":true,\"showlakes\":true,\"lakecolor\":\"white\"},\"title\":{\"x\":0.05},\"mapbox\":{\"style\":\"light\"}}},\"geo\":{\"domain\":{\"x\":[0.0,1.0],\"y\":[0.0,1.0]},\"center\":{},\"scope\":\"usa\"},\"coloraxis\":{\"colorbar\":{\"title\":{\"text\":\"color\"}},\"colorscale\":[[0.0,\"rgb(255,245,240)\"],[0.125,\"rgb(254,224,210)\"],[0.25,\"rgb(252,187,161)\"],[0.375,\"rgb(252,146,114)\"],[0.5,\"rgb(251,106,74)\"],[0.625,\"rgb(239,59,44)\"],[0.75,\"rgb(203,24,29)\"],[0.875,\"rgb(165,15,21)\"],[1.0,\"rgb(103,0,13)\"]],\"cmin\":6.53125,\"cmax\":20.00625},\"legend\":{\"tracegroupgap\":0},\"title\":{\"text\":\"Poverty percentage in the USA\"}},                        {\"responsive\": true}                    ).then(function(){\n",
       "                            \n",
       "var gd = document.getElementById('2c448210-7284-426b-9a4c-fb7963ddad64');\n",
       "var x = new MutationObserver(function (mutations, observer) {{\n",
       "        var display = window.getComputedStyle(gd).display;\n",
       "        if (!display || display === 'none') {{\n",
       "            console.log([gd, 'removed!']);\n",
       "            Plotly.purge(gd);\n",
       "            observer.disconnect();\n",
       "        }}\n",
       "}});\n",
       "\n",
       "// Listen for the removal of the full notebook cells\n",
       "var notebookContainer = gd.closest('#notebook-container');\n",
       "if (notebookContainer) {{\n",
       "    x.observe(notebookContainer, {childList: true});\n",
       "}}\n",
       "\n",
       "// Listen for the clearing of the current output cell\n",
       "var outputEl = gd.closest('.output');\n",
       "if (outputEl) {{\n",
       "    x.observe(outputEl, {childList: true});\n",
       "}}\n",
       "\n",
       "                        })                };                });            </script>        </div>"
      ]
     },
     "metadata": {},
     "output_type": "display_data"
    }
   ],
   "source": [
    "import plotly.express as px\n",
    "import pandas as pd\n",
    "import numpy as np\n",
    "\n",
    "\n",
    "# dataset poverty\n",
    "df_poverty = pd.read_csv('../source/ds/povertyByStateYear.csv')\n",
    "\n",
    "df_poverty.head()\n",
    "\n",
    "# Create dictionary state (two letter)\n",
    "dict_state = {\n",
    "    'Alabama': 'AL',\n",
    "    'Alaska': 'AK',\n",
    "    'Arizona': 'AZ',\n",
    "    'Arkansas': 'AR',\n",
    "    'California': 'CA',\n",
    "    'Colorado': 'CO',\n",
    "    'Connecticut': 'CT',\n",
    "    'Delaware': 'DE',\n",
    "    'District of Columbia': 'DC',\n",
    "    'Florida': 'FL',\n",
    "    'Georgia': 'GA',\n",
    "    'Hawaii': 'HI',\n",
    "    'Idaho': 'ID',\n",
    "    'Illinois': 'IL',\n",
    "    'Indiana': 'IN',\n",
    "    'Iowa': 'IA',\n",
    "    'Kansas': 'KS',\n",
    "    'Kentucky': 'KY',\n",
    "    'Louisiana': 'LA',\n",
    "    'Maine': 'ME',\n",
    "    'Maryland': 'MD',\n",
    "    'Massachusetts': 'MA',\n",
    "    'Michigan': 'MI',\n",
    "    'Minnesota': 'MN',\n",
    "    'Mississippi': 'MS',\n",
    "    'Missouri': 'MO',\n",
    "    'Montana': 'MT',\n",
    "    'Nebraska': 'NE',\n",
    "    'Nevada': 'NV',\n",
    "    'New Hampshire': 'NH',\n",
    "    'New Jersey': 'NJ',\n",
    "    'New Mexico': 'NM',\n",
    "    'New York': 'NY',\n",
    "    'North Carolina': 'NC',\n",
    "    'North Dakota': 'ND',\n",
    "    'Ohio': 'OH',\n",
    "    'Oklahoma': 'OK',\n",
    "    'Oregon': 'OR',\n",
    "    'Pennsylvania': 'PA',\n",
    "    'Rhode Island': 'RI',\n",
    "    'South Carolina': 'SC',\n",
    "    'South Dakota': 'SD',\n",
    "    'Tennessee': 'TN',\n",
    "    'Texas': 'TX',\n",
    "    'Utah': 'UT',\n",
    "    'Vermont': 'VT',\n",
    "    'Virginia': 'VA',\n",
    "    'Washington': 'WA',\n",
    "    'West Virginia': 'WV',\n",
    "    'Wisconsin': 'WI',\n",
    "    'Wyoming': 'WY'\n",
    "} \n",
    "\n",
    "print(\"number of states\", len(df_poverty[df_poverty.state!='United States'].state.unique()))\n",
    "\n",
    "poverties = df_poverty[df_poverty.state!='United States'].groupby('state').povertyPercentage.mean()\n",
    "states = df_poverty[df_poverty.state!='United States'].state.unique()\n",
    "states_abb = [dict_state[st] for st in df_poverty[df_poverty.state != 'United States'].state.unique()]\n",
    "fig= px.choropleth(locations=states_abb, locationmode='USA-states', color=poverties, scope='usa', color_continuous_scale='Reds', range_color=(np.min(poverties), np.max(poverties)), title='Poverty percentage in the USA')\n",
    "fig.show()"
   ]
  },
  {
   "cell_type": "markdown",
   "metadata": {},
   "source": []
  },
  {
   "cell_type": "markdown",
   "metadata": {},
   "source": [
    "# # Task 1.1 - Data Understanding `year_state_district_house.csv`"
   ]
  },
  {
   "cell_type": "code",
   "execution_count": 11,
   "metadata": {},
   "outputs": [
    {
     "name": "stdout",
     "output_type": "stream",
     "text": [
      "   year    state  congressional_district       party  candidatevotes  \\\n",
      "0  1976  ALABAMA                       1  REPUBLICAN           98257   \n",
      "1  1976  ALABAMA                       2  REPUBLICAN           90069   \n",
      "2  1976  ALABAMA                       3    DEMOCRAT          106935   \n",
      "3  1976  ALABAMA                       4    DEMOCRAT          141490   \n",
      "4  1976  ALABAMA                       5    DEMOCRAT          113553   \n",
      "\n",
      "   totalvotes  \n",
      "0      157170  \n",
      "1      156362  \n",
      "2      108048  \n",
      "3      176022  \n",
      "4      113560  \n",
      "<class 'pandas.core.frame.DataFrame'>\n",
      "RangeIndex: 10441 entries, 0 to 10440\n",
      "Data columns (total 6 columns):\n",
      " #   Column                  Non-Null Count  Dtype \n",
      "---  ------                  --------------  ----- \n",
      " 0   year                    10441 non-null  int64 \n",
      " 1   state                   10441 non-null  object\n",
      " 2   congressional_district  10441 non-null  int64 \n",
      " 3   party                   10441 non-null  object\n",
      " 4   candidatevotes          10441 non-null  int64 \n",
      " 5   totalvotes              10441 non-null  int64 \n",
      "dtypes: int64(4), object(2)\n",
      "memory usage: 489.5+ KB\n",
      "None\n"
     ]
    }
   ],
   "source": [
    "\n",
    "# Year-state-district-house\n",
    "df_ys = pd.read_csv('../source/ds/year_state_district_house.csv')\n",
    "\n",
    "print(df_ys.head())\n",
    "print(df_ys.info())"
   ]
  },
  {
   "cell_type": "markdown",
   "metadata": {},
   "source": [
    "Convert the column party in categorical since it is object:"
   ]
  },
  {
   "cell_type": "code",
   "execution_count": 12,
   "metadata": {},
   "outputs": [
    {
     "name": "stdout",
     "output_type": "stream",
     "text": [
      "<class 'pandas.core.frame.DataFrame'>\n",
      "RangeIndex: 10441 entries, 0 to 10440\n",
      "Data columns (total 6 columns):\n",
      " #   Column                  Non-Null Count  Dtype   \n",
      "---  ------                  --------------  -----   \n",
      " 0   year                    10441 non-null  int64   \n",
      " 1   state                   10441 non-null  object  \n",
      " 2   congressional_district  10441 non-null  int64   \n",
      " 3   party                   10441 non-null  category\n",
      " 4   candidatevotes          10441 non-null  int64   \n",
      " 5   totalvotes              10441 non-null  int64   \n",
      "dtypes: category(1), int64(4), object(1)\n",
      "memory usage: 418.4+ KB\n",
      "None\n"
     ]
    }
   ],
   "source": [
    "df_ys['party'] = df_ys['party'].astype('category')\n",
    "print(df_ys.info())"
   ]
  },
  {
   "cell_type": "code",
   "execution_count": 13,
   "metadata": {},
   "outputs": [
    {
     "name": "stdout",
     "output_type": "stream",
     "text": [
      "##########################################\n",
      "Counts unique values for each column\n",
      "year                         24\n",
      "state                        51\n",
      "congressional_district       54\n",
      "party                         6\n",
      "candidatevotes             9927\n",
      "totalvotes                10033\n",
      "dtype: int64\n",
      "##########################################\n",
      "List of alle the values for the feature 'party'\n",
      "['REPUBLICAN', 'DEMOCRAT', 'FOGLIETTA (DEMOCRAT)', 'DEMOCRATIC-FARMER-LABOR', 'INDEPENDENT', 'INDEPENDENT-REPUBLICAN']\n",
      "Categories (6, object): ['DEMOCRAT', 'DEMOCRATIC-FARMER-LABOR', 'FOGLIETTA (DEMOCRAT)', 'INDEPENDENT', 'INDEPENDENT-REPUBLICAN', 'REPUBLICAN']\n"
     ]
    }
   ],
   "source": [
    "# Conteggio dei valori unici per ogni colonna\n",
    "print(\"##########################################\")\n",
    "print(\"Counts unique values for each column\")\n",
    "print(df_ys.nunique())\n",
    "print(\"##########################################\")\n",
    "print(\"List of alle the values for the feature 'party'\")\n",
    "unique_state_values = df_ys['party'].unique()\n",
    "print(unique_state_values)\n"
   ]
  },
  {
   "cell_type": "markdown",
   "metadata": {},
   "source": [
    "PARTY\n",
    "Since FOGLIETTA (DEMOCRAT)' (value for column party) is a democrat and represent a categorty, it will be replaced with DEMOCRAT\n",
    "Also 'DEMOCRATIC-FARMER-LABOR' need to be replaced cuz is just local affiliate of the natioal party DEMOCRAT\n",
    "Since 'INDEPENDENT-REPUBLICAN'is a better specification on 'INDEPENDET' will keep just 'INDEPENDENT'"
   ]
  },
  {
   "cell_type": "code",
   "execution_count": 14,
   "metadata": {},
   "outputs": [
    {
     "name": "stdout",
     "output_type": "stream",
     "text": [
      "##########################################\n",
      "Counts unique values for each column\n",
      "year                         24\n",
      "state                        51\n",
      "congressional_district       54\n",
      "party                         3\n",
      "candidatevotes             9927\n",
      "totalvotes                10033\n",
      "dtype: int64\n",
      "##########################################\n",
      "List of alle the values for the feature 'party'\n",
      "['REPUBLICAN', 'DEMOCRAT', 'INDEPENDENT']\n",
      "Categories (3, object): ['DEMOCRAT', 'INDEPENDENT', 'REPUBLICAN']\n"
     ]
    }
   ],
   "source": [
    "df_ys.replace({'FOGLIETTA (DEMOCRAT)': 'DEMOCRAT'}, inplace=True)\n",
    "df_ys.replace({'DEMOCRATIC-FARMER-LABOR': 'DEMOCRAT'}, inplace=True)\n",
    "df_ys.replace({'INDEPENDENT-REPUBLICAN': 'INDEPENDENT'}, inplace=True)\n",
    "\n",
    "# Conteggio dei valori unici per ogni colonna\n",
    "print(\"##########################################\")\n",
    "print(\"Counts unique values for each column\")\n",
    "print(df_ys.nunique())\n",
    "print(\"##########################################\")\n",
    "print(\"List of alle the values for the feature 'party'\")\n",
    "unique_state_values = df_ys['party'].unique()\n",
    "print(unique_state_values)\n"
   ]
  },
  {
   "cell_type": "markdown",
   "metadata": {},
   "source": [
    "Check if the state are correct:"
   ]
  },
  {
   "cell_type": "code",
   "execution_count": 17,
   "metadata": {},
   "outputs": [
    {
     "name": "stdout",
     "output_type": "stream",
     "text": [
      "##########################################\n",
      "List of alle the values for the feature ''\n",
      "['ALABAMA' 'ALASKA' 'ARIZONA' 'ARKANSAS' 'CALIFORNIA' 'COLORADO'\n",
      " 'CONNECTICUT' 'DELAWARE' 'FLORIDA' 'GEORGIA' 'HAWAII' 'IDAHO' 'ILLINOIS'\n",
      " 'INDIANA' 'IOWA' 'KANSAS' 'KENTUCKY' 'LOUISIANA' 'MAINE' 'MARYLAND'\n",
      " 'MASSACHUSETTS' 'MICHIGAN' 'MINNESOTA' 'MISSISSIPPI' 'MISSOURI' 'MONTANA'\n",
      " 'NEBRASKA' 'NEVADA' 'NEW HAMPSHIRE' 'NEW JERSEY' 'NEW MEXICO' 'NEW YORK'\n",
      " 'NORTH CAROLINA' 'NORTH DAKOTA' 'OHIO' 'OKLAHOMA' 'OREGON' 'PENNSYLVANIA'\n",
      " 'RHODE ISLAND' 'SOUTH CAROLINA' 'SOUTH DAKOTA' 'TENNESSEE' 'TEXAS' 'UTAH'\n",
      " 'VERMONT' 'VIRGINIA' 'WASHINGTON' 'WEST VIRGINIA' 'WISCONSIN' 'WYOMING'\n",
      " 'DISTRICT OF COLUMBIA']\n"
     ]
    }
   ],
   "source": [
    "print(\"##########################################\")\n",
    "print(\"List of alle the values for the feature ''\")\n",
    "unique_state_values = df_ys['state'].unique()\n",
    "print(unique_state_values)"
   ]
  },
  {
   "cell_type": "markdown",
   "metadata": {},
   "source": [
    "States are 51 including as a stase the District of columbia. Let's also check the `year`:\n"
   ]
  },
  {
   "cell_type": "code",
   "execution_count": 19,
   "metadata": {},
   "outputs": [
    {
     "name": "stdout",
     "output_type": "stream",
     "text": [
      "The range of the year for this dataset is 1976;2022\n",
      "Data Minima: 1976\n",
      "Data Massima: 2022\n"
     ]
    }
   ],
   "source": [
    "max_value_year = df_ys['year'].max()\n",
    "min_value_year = df_ys['year'].min()\n",
    "print(f\"The range of the year for this dataset is {min_value_year};{max_value_year}\")\n",
    "#range of poverty ds is year 2004-2020\n",
    "\n",
    "# Stampa la data minima e massima\n",
    "print(\"Data Minima:\", min_value_year)\n",
    "print(\"Data Massima:\", max_value_year)"
   ]
  },
  {
   "cell_type": "markdown",
   "metadata": {},
   "source": [
    "IMPORTANTE: le date del dataset `incidents` vanno 2013-2020; di `povertyByState` 2004-2020; di `state house` 1976-2020.\n",
    "In tanto per lavorarci rimuovo le date di state house ds dal '76 al 2004."
   ]
  },
  {
   "cell_type": "code",
   "execution_count": 20,
   "metadata": {},
   "outputs": [
    {
     "name": "stdout",
     "output_type": "stream",
     "text": [
      "The range of the year for this dataset is 2004;2022\n"
     ]
    }
   ],
   "source": [
    "df_ys_date = df_ys[df_ys['year'] >=2004]\n",
    "max_value_year = df_ys_date['year'].max()\n",
    "min_value_year = df_ys_date['year'].min()\n",
    "print(f\"The range of the year for this dataset is {min_value_year};{max_value_year}\")"
   ]
  },
  {
   "cell_type": "markdown",
   "metadata": {},
   "source": [
    "Check on null values  and duplicates for the dataset:"
   ]
  },
  {
   "cell_type": "code",
   "execution_count": 22,
   "metadata": {},
   "outputs": [
    {
     "name": "stdout",
     "output_type": "stream",
     "text": [
      "year                      0\n",
      "state                     0\n",
      "congressional_district    0\n",
      "party                     0\n",
      "candidatevotes            0\n",
      "totalvotes                0\n",
      "dtype: int64\n",
      "Righe duplicate:\n",
      "Empty DataFrame\n",
      "Columns: [year, state, congressional_district, party, candidatevotes, totalvotes]\n",
      "Index: []\n"
     ]
    }
   ],
   "source": [
    "# Stampa il numero di valori nulli per ciascuna colonna\n",
    "print(df_ys_date.isnull().sum())\n",
    "\n",
    "# Controlla i valori duplicati in tutto il DataFrame\n",
    "duplicati = df_ys_date.duplicated()\n",
    "\n",
    "# Stampa le righe duplicate\n",
    "print(\"Righe duplicate:\")\n",
    "print(df_ys_date[duplicati])"
   ]
  },
  {
   "cell_type": "markdown",
   "metadata": {},
   "source": [
    "### Frequency of party winning in each states"
   ]
  },
  {
   "cell_type": "code",
   "execution_count": 23,
   "metadata": {},
   "outputs": [
    {
     "data": {
      "image/png": "[encoded data removed]",
      "text/plain": [
       "<Figure size 1500x800 with 1 Axes>"
      ]
     },
     "metadata": {},
     "output_type": "display_data"
    },
    {
     "name": "stdout",
     "output_type": "stream",
     "text": [
      "         state        party  conteggio\n",
      "0      ALABAMA     DEMOCRAT         14\n",
      "1      ALABAMA  INDEPENDENT          0\n",
      "2      ALABAMA   REPUBLICAN         56\n",
      "3       ALASKA     DEMOCRAT          1\n",
      "4       ALASKA  INDEPENDENT          0\n",
      "..         ...          ...        ...\n",
      "148  WISCONSIN  INDEPENDENT          0\n",
      "149  WISCONSIN   REPUBLICAN         46\n",
      "150    WYOMING     DEMOCRAT          0\n",
      "151    WYOMING  INDEPENDENT          0\n",
      "152    WYOMING   REPUBLICAN         10\n",
      "\n",
      "[153 rows x 3 columns]\n"
     ]
    }
   ],
   "source": [
    "#toreview\n",
    "# Raggruppa i dati per 'state' e 'party' e conta il numero di occorrenze\n",
    "grouped_data = df_ys_date.groupby(['state', 'party']).size().unstack()\n",
    "\n",
    "# Visualizza un grafico a barre\n",
    "grouped_data.plot(kind='bar', stacked=True, figsize=(15, 8))\n",
    "plt.xlabel('State')\n",
    "plt.ylabel('Number of Occurrences')\n",
    "plt.title('Party Wins by State')\n",
    "plt.legend(title='Party', bbox_to_anchor=(1.05, 1), loc='upper left')\n",
    "plt.show()\n",
    "\n",
    "conteggio_party_per_stato = df_ys_date .groupby(['state', 'party']).size().reset_index(name='conteggio')\n",
    "# Visualizza il conteggio\n",
    "print(conteggio_party_per_stato)"
   ]
  },
  {
   "cell_type": "code",
   "execution_count": 24,
   "metadata": {},
   "outputs": [
    {
     "data": {
      "image/png": "[encoded data removed]",
      "text/plain": [
       "<Figure size 1500x800 with 1 Axes>"
      ]
     },
     "metadata": {},
     "output_type": "display_data"
    },
    {
     "name": "stdout",
     "output_type": "stream",
     "text": [
      "Mean wins per party:\n",
      "         party   cont\n",
      "0     DEMOCRAT  215.0\n",
      "1  INDEPENDENT    0.1\n",
      "2   REPUBLICAN  220.0\n",
      "\n",
      "stnd deviation wins per party:\n",
      "         party       cont\n",
      "0     DEMOCRAT  22.395436\n",
      "1  INDEPENDENT   0.316228\n",
      "2   REPUBLICAN  22.295989\n"
     ]
    }
   ],
   "source": [
    "#todo: fare considerazioni sui numeri e su informazioni aggiuntive \n",
    "#occ per la combinazione di year e party\n",
    "wins_per_year = df_ys_date.groupby(['year', 'party']).size().reset_index(name='cont')\n",
    "# Pivot: 'party' come colonne\n",
    "pivot_df = wins_per_year.pivot(index='year', columns='party', values='cont').fillna(0)\n",
    "pivot_df.plot(kind='line', figsize=(15, 8))\n",
    "plt.xlabel('Year')\n",
    "plt.ylabel('Number of Wins')\n",
    "plt.title('Party Wins Over the Years')\n",
    "plt.legend(title='Party', bbox_to_anchor=(1.05, 1), loc='upper left')\n",
    "plt.show()\n",
    "\n",
    "\n",
    "mean_wins_party = wins_per_year.groupby('party')['cont'].mean().reset_index()\n",
    "dev_st_wins_party = wins_per_year.groupby('party')['cont'].std().reset_index()\n",
    "\n",
    "print(\"Mean wins per party:\")\n",
    "print(mean_wins_party)\n",
    "\n",
    "print(\"\\nstnd deviation wins per party:\")\n",
    "print(dev_st_wins_party)\n",
    "\n",
    "\n"
   ]
  }
 ],
 "metadata": {
  "kernelspec": {
   "display_name": "Python 3",
   "language": "python",
   "name": "python3"
  },
  "language_info": {
   "codemirror_mode": {
    "name": "ipython",
    "version": 3
   },
   "file_extension": ".py",
   "mimetype": "text/x-python",
   "name": "python",
   "nbconvert_exporter": "python",
   "pygments_lexer": "ipython3",
   "version": "3.10.12"
  }
 },
 "nbformat": 4,
 "nbformat_minor": 2
}
