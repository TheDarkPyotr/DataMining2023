{
 "cells": [
  {
   "cell_type": "markdown",
   "metadata": {},
   "source": [
    "### Visualizing results of $\\chi^2$ test\n",
    "\n",
    "Wrote a little function that emulates how R show result of a statistical test"
   ]
  },
  {
   "cell_type": "code",
   "execution_count": null,
   "metadata": {},
   "outputs": [],
   "source": [
    "\n",
    "from scipy.stats import chi2_contingency\n",
    "\n",
    "# get contingency table\n",
    "contingency_table = pd.crosstab(df_incidents_copy['n_males'], df_incidents_copy['n_participants'])\n",
    "\n",
    "# perform chi-square test\n",
    "chi2, p, dof, expected = chi2_contingency(contingency_table.values)\n",
    "\n",
    "# Visualize the result of the test\n",
    "# print max vaues of n_participants\n",
    "\n",
    "# Heatmap of expected against observed frequencies\n",
    "fig, (ax1, ax2) = plt.subplots(ncols=2, figsize=(15, 6), sharey=True)\n",
    "\n",
    "sns.heatmap(expected, annot=True, fmt='.2f', cmap='Blues', ax=ax1)\n",
    "sns.heatmap(contingency_table, annot=True, fmt='d', cmap='Reds', ax=ax2)\n",
    "\n",
    "ax1.set_xlabel('n_participants')\n",
    "ax1.set_ylabel('n_males')\n",
    "ax1.set_title('Expected Frequencies')\n",
    "\n",
    "ax2.set_xlabel('n_participants')\n",
    "ax2.set_title('Observed Frequencies')\n",
    "\n",
    "plt.suptitle('Contingency Table with Expected Frequencies (Blue) and Observed Frequencies (Red)', fontsize=16)\n",
    "plt.show()\n"
   ]
  },
  {
   "cell_type": "code",
   "execution_count": null,
   "metadata": {},
   "outputs": [],
   "source": [
    "def print_chi2_results(chi2, p, dof, expected):\n",
    "    print(\"Chi-squared test results:\")\n",
    "    print(f\"  Chi-squared = {chi2:.20f}\")\n",
    "    print(f\"  Degrees of freedom = {dof}\")\n",
    "    print(f\"  p-value = {p:.20f}\")\n",
    "    print(\"  Expected frequencies:\")\n",
    "    for i in range(expected.shape[0]):\n",
    "        for j in range(expected.shape[1]):\n",
    "            print(f\"    {contingency_table.index[i]} vs {contingency_table.columns[j]}: {expected[i][j]:.2f}\")"
   ]
  },
  {
   "cell_type": "code",
   "execution_count": null,
   "metadata": {},
   "outputs": [],
   "source": [
    "# Visualizing Chi2 #WIP\n",
    "print_chi2_results(chi2, p, dof, expected)"
   ]
  },
  {
   "cell_type": "markdown",
   "metadata": {},
   "source": [
    "\n",
    "# COLORMAP POVERTY\n",
    "\n"
   ]
  },
  {
   "cell_type": "code",
   "execution_count": null,
   "metadata": {},
   "outputs": [],
   "source": [
    "from urllib.request import urlopen\n",
    "import plotly.express as px\n",
    "import json\n",
    "import pandas as pd\n",
    "\n",
    "# Load dataset poverty\n",
    "df_poverty = pd.read_csv('../source/ds/povertyByStateYear.csv')\n",
    "\n",
    "map_fips = pd.read_csv('../source/ds/fips-unemp-16.csv')\n",
    "\n",
    "\n",
    "# Show poverty by state with coloring\n",
    "# fips files are in this format fips,povertyPercentage\n",
    "# Let's convert our df_poverty to this format using pandas groupby\n",
    "\n",
    "df_poverty_grouped = df_poverty.groupby(['state', 'year'])['povertyPercentage'].mean().reset_index()\n",
    "\n",
    "df_poverty.head()\n",
    "\n"
   ]
  },
  {
   "cell_type": "markdown",
   "metadata": {},
   "source": []
  }
 ],
 "metadata": {
  "language_info": {
   "name": "python"
  }
 },
 "nbformat": 4,
 "nbformat_minor": 2
}
