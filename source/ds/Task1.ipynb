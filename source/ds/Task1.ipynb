{
 "cells": [
  {
   "cell_type": "markdown",
   "metadata": {},
   "source": [
    "#### Task 1.1: Data Understanding\n",
    "\n",
    "Explore the incidents dataset using analytical tools and write a concise \"data understanding\" report that assesses data quality, the distribution of variables, and pairwise correlations."
   ]
  },
  {
   "cell_type": "markdown",
   "metadata": {},
   "source": [
    "#### Task 1.2: Data Preparation\n",
    "\n",
    "Improve the quality of your data and prepare it by extracting new features interesting for describing the incidents. Some examples of indicators to be computed are:\n",
    "\n",
    "- How many males are involved in incidents relative to the total number of males for the same city and in the same period?\n",
    "- How many injured and killed people have been involved relative to the total injured and killed people in the same congressional district in a given period of time?\n",
    "- Ratio of the number of killed people in the incidents relative to the number of participants in the incident\n",
    "- Ratio of unharmed people in the incidents relative to the average of unharmed people in the same period\n",
    "\n",
    "Note that these examples are not mandatory, and teams can define their own indicators. Each indicator must be correlated with a description and, when necessary, its mathematical formulation. The extracted variables will be useful for the clustering analysis in the second project's task. Once the set of indicators is computed, the team should explore the new features for a statistical analysis, including distributions, outliers, visualizations, and correlations.\n",
    "\n",
    "Subtasks of Data Understanding:\n",
    "\n",
    "- Data semantics for each feature not described above and the new ones defined by the team\n",
    "- Distribution of the variables and statistics\n",
    "- Assessing data quality (missing values, outliers, duplicated records, errors)\n",
    "- Variables transformations\n",
    "- Pairwise correlations and eventual elimination of redundant variables\n",
    "\n",
    "Nice visualization and insights can be obtained by exploiting the latitude and longitude features ([example](https://plotly.com/python/getting-started/))."
   ]
  }
 ],
 "metadata": {
  "language_info": {
   "name": "python"
  }
 },
 "nbformat": 4,
 "nbformat_minor": 2
}
