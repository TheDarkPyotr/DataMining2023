{
 "cells": [
  {
   "cell_type": "markdown",
   "metadata": {},
   "source": [
    "## Task 3: Predictive Analysis - WIP\n",
    "Consider the problem of predicting for each incident (considering the whole dataset for this task) the label which is a **binary variable** that indicates if in the incident there have been at least a killed person or not.\n"
   ]
  },
  {
   "cell_type": "code",
   "execution_count": 1,
   "metadata": {},
   "outputs": [
    {
     "name": "stderr",
     "output_type": "stream",
     "text": [
      "/usr/lib/python3/dist-packages/scipy/__init__.py:146: UserWarning: A NumPy version >=1.17.3 and <1.25.0 is required for this version of SciPy (detected version 1.26.1\n",
      "  warnings.warn(f\"A NumPy version >={np_minversion} and <{np_maxversion}\"\n"
     ]
    }
   ],
   "source": [
    "# This will take a while\n",
    "import pandas as pd\n",
    "import numpy as np\n",
    "import matplotlib.pyplot as plt\n",
    "import seaborn as sns\n",
    "import os\n",
    "\n",
    "import plotly.offline as py\n",
    "\n",
    "\n",
    "# Set a seed for reproducibility\n",
    "np.random.seed(42)\n",
    "\n"
   ]
  },
  {
   "cell_type": "code",
   "execution_count": 2,
   "metadata": {},
   "outputs": [
    {
     "name": "stdout",
     "output_type": "stream",
     "text": [
      "<class 'pandas.core.frame.DataFrame'>\n",
      "Int64Index: 131618 entries, 0 to 134578\n",
      "Data columns (total 27 columns):\n",
      " #   Column                     Non-Null Count   Dtype         \n",
      "---  ------                     --------------   -----         \n",
      " 0   date                       131618 non-null  datetime64[ns]\n",
      " 1   state                      131618 non-null  object        \n",
      " 2   city_or_county             131618 non-null  object        \n",
      " 3   latitude                   131618 non-null  float64       \n",
      " 4   longitude                  131618 non-null  float64       \n",
      " 5   congressional_district     131618 non-null  int64         \n",
      " 6   participant_age_group1     131618 non-null  category      \n",
      " 7   participant_gender1        131618 non-null  category      \n",
      " 8   avg_age_participants       131618 non-null  int64         \n",
      " 9   n_participants_child       131618 non-null  int64         \n",
      " 10  n_participants_teen        131618 non-null  int64         \n",
      " 11  n_females                  131618 non-null  int64         \n",
      " 12  n_killed                   131618 non-null  int64         \n",
      " 13  n_injured                  131618 non-null  int64         \n",
      " 14  n_arrested                 131618 non-null  int64         \n",
      " 15  n_unharmed                 131618 non-null  int64         \n",
      " 16  incident_characteristics1  131618 non-null  category      \n",
      " 17  povertyPercentage          131618 non-null  float64       \n",
      " 18  party                      131618 non-null  object        \n",
      " 19  candidatevotes             131618 non-null  float64       \n",
      " 20  totalvotes                 131618 non-null  float64       \n",
      " 21  ratio_killed               131618 non-null  float64       \n",
      " 22  death_level                131618 non-null  category      \n",
      " 23  percentage_injured         131618 non-null  float64       \n",
      " 24  unharmed_ratio             131618 non-null  float64       \n",
      " 25  density_incident_state     131618 non-null  float64       \n",
      " 26  males_to_females_ratio     131618 non-null  float64       \n",
      "dtypes: category(4), datetime64[ns](1), float64(10), int64(9), object(3)\n",
      "memory usage: 24.6+ MB\n"
     ]
    }
   ],
   "source": [
    "# Import the datasets\n",
    "\n",
    "# Gun incidents data\n",
    "df_incidents_cleaned = pd.read_hdf('../../ds/cleaned/reduced_for_clustering.h5', key = 'df')\n",
    "\n",
    "# Visualize data table\n",
    "df_incidents_cleaned.info()\n"
   ]
  },
  {
   "cell_type": "code",
   "execution_count": 3,
   "metadata": {},
   "outputs": [],
   "source": [
    "\n",
    "df_incidents_dt = df_incidents_cleaned.copy()\n",
    "#df_incidents_dt['n_participant_adult'] = (df_incidents_dt['n_participants'] - (df_incidents_dt['n_participants_child'] + df_incidents_dt['n_participants_teen'])).astype('int')\n"
   ]
  },
  {
   "cell_type": "code",
   "execution_count": 4,
   "metadata": {},
   "outputs": [
    {
     "data": {
      "text/plain": [
       "<AxesSubplot:title={'center':'Percentage of incidents with killed people'}, ylabel='isKilled'>"
      ]
     },
     "execution_count": 4,
     "metadata": {},
     "output_type": "execute_result"
    },
    {
     "data": {
      "image/png": "[encoded data removed]",
      "text/plain": [
       "<Figure size 432x288 with 1 Axes>"
      ]
     },
     "metadata": {},
     "output_type": "display_data"
    }
   ],
   "source": [
    "df_incidents_dt['isKilled'] = df_incidents_dt['n_killed'] > 0\n",
    "df_incidents_dt['isKilled'].value_counts().plot.pie(autopct='%1.1f%%', startangle=90, title = 'Percentage of incidents with killed people')\n"
   ]
  },
  {
   "cell_type": "code",
   "execution_count": 5,
   "metadata": {},
   "outputs": [
    {
     "name": "stdout",
     "output_type": "stream",
     "text": [
      "<class 'pandas.core.frame.DataFrame'>\n",
      "Int64Index: 131618 entries, 0 to 134578\n",
      "Data columns (total 7 columns):\n",
      " #   Column                  Non-Null Count   Dtype  \n",
      "---  ------                  --------------   -----  \n",
      " 0   state                   131618 non-null  object \n",
      " 1   avg_age_participants    131618 non-null  int64  \n",
      " 2   n_females               131618 non-null  int64  \n",
      " 3   n_injured               131618 non-null  int64  \n",
      " 4   n_arrested              131618 non-null  int64  \n",
      " 5   density_incident_state  131618 non-null  float64\n",
      " 6   isKilled                131618 non-null  bool   \n",
      "dtypes: bool(1), float64(1), int64(4), object(1)\n",
      "memory usage: 7.2+ MB\n"
     ]
    }
   ],
   "source": [
    "coumns_not_to_drop_dt = ['isKilled', 'n_arrested', 'n_females',\n",
    "                         'avg_age_participants', \n",
    "                         'density_incident_state', 'state', 'n_injured']\n",
    "\n",
    "# broke all if you add n_killed since is higly correlated : 0.94\n",
    "\n",
    "all_columns_dt = df_incidents_dt.columns\n",
    "\n",
    "columns_to_drop_dt = [x for x in all_columns_dt if x not in coumns_not_to_drop_dt]\n",
    "\n",
    "df_incidents_dt.drop(columns_to_drop_dt, axis = 1, inplace = True)\n",
    "df_incidents_dt.info()"
   ]
  },
  {
   "cell_type": "code",
   "execution_count": 6,
   "metadata": {},
   "outputs": [],
   "source": [
    "\n",
    "columns_to_drop_dt = ['longitude',\n",
    "                   'latitude', \n",
    "                   'congressional_district',\n",
    "                   'participant_age_group1',\n",
    "                   'participant_gender1',\n",
    "                   'incident_characteristics1',\n",
    "                   'city_or_county',\n",
    "                   'date',\n",
    "                   'n_injured',\n",
    "                   'party',\n",
    "                   'candidatevotes',\n",
    "                   'totalvotes',\n",
    "                   'n_killed',\n",
    "                   'ratio_killed'\n",
    "                   ]\n"
   ]
  },
  {
   "cell_type": "code",
   "execution_count": 7,
   "metadata": {},
   "outputs": [
    {
     "name": "stderr",
     "output_type": "stream",
     "text": [
      "/tmp/ipykernel_55237/458054139.py:4: FutureWarning:\n",
      "\n",
      "The default value of numeric_only in DataFrame.corr is deprecated. In a future version, it will default to False. Select only valid columns or specify the value of numeric_only to silence this warning.\n",
      "\n"
     ]
    },
    {
     "data": {
      "image/png": "[encoded data removed]",
      "text/plain": [
       "<Figure size 1440x1080 with 2 Axes>"
      ]
     },
     "metadata": {
      "needs_background": "light"
     },
     "output_type": "display_data"
    }
   ],
   "source": [
    "def plot_correlation(df_columns, df):\n",
    "    \n",
    "    # Compute the correlation matrix\n",
    "    corr = df[df_columns].corr()\n",
    "\n",
    "    # Generate a mask for the upper triangle\n",
    "    #do not use np.bool is deprecated\n",
    "    mask = np.zeros_like(corr, dtype=bool)\n",
    "     \n",
    "    # Set up the matplotlib figure\n",
    "    f, ax = plt.subplots(figsize=(20, 15))\n",
    "    \n",
    "    # Generate a custom diverging colormap\n",
    "    cmap = sns.diverging_palette(220, 5, as_cmap=True)\n",
    "\n",
    "    # Put numbers in squares that have correlation > 0.5 or < -0.5\n",
    "    # Iterate over the correlation matrix and get the columns indices\n",
    "    for i in range(corr.shape[0]):\n",
    "        for j in range(corr.shape[1]):\n",
    "            if (corr.iloc[i, j] > 0.5 or corr.iloc[i, j] < -0.5) and i != j:\n",
    "                # put text in square\n",
    "                ax.text(j+0.5, i+0.5, '{:.2f}'.format(corr.iloc[i, j]), ha='center', va='center',\n",
    "                        bbox=dict(boxstyle='round', facecolor='white', edgecolor='black'))\n",
    "    \n",
    "    # Draw the heatmap with the mask and correct aspect ratio\n",
    "    sns.heatmap(corr, mask=mask, cmap=cmap, vmax=1, vmin=-1, center=0,\n",
    "                square=True, linewidths=.5, cbar_kws={\"shrink\": .6})\n",
    "    \n",
    "plot_correlation(df_incidents_dt.columns, df_incidents_dt)\n"
   ]
  },
  {
   "cell_type": "code",
   "execution_count": 8,
   "metadata": {},
   "outputs": [
    {
     "name": "stdout",
     "output_type": "stream",
     "text": [
      "<class 'pandas.core.frame.DataFrame'>\n",
      "RangeIndex: 60000 entries, 0 to 59999\n",
      "Data columns (total 55 columns):\n",
      " #   Column                  Non-Null Count  Dtype  \n",
      "---  ------                  --------------  -----  \n",
      " 0   avg_age_participants    60000 non-null  int64  \n",
      " 1   n_females               60000 non-null  int64  \n",
      " 2   n_injured               60000 non-null  int64  \n",
      " 3   n_arrested              60000 non-null  int64  \n",
      " 4   density_incident_state  60000 non-null  float64\n",
      " 5   state_Alabama           60000 non-null  uint8  \n",
      " 6   state_Alaska            60000 non-null  uint8  \n",
      " 7   state_Arizona           60000 non-null  uint8  \n",
      " 8   state_Arkansas          60000 non-null  uint8  \n",
      " 9   state_California        60000 non-null  uint8  \n",
      " 10  state_Colorado          60000 non-null  uint8  \n",
      " 11  state_Connecticut       60000 non-null  uint8  \n",
      " 12  state_Delaware          60000 non-null  uint8  \n",
      " 13  state_Florida           60000 non-null  uint8  \n",
      " 14  state_Georgia           60000 non-null  uint8  \n",
      " 15  state_Hawaii            60000 non-null  uint8  \n",
      " 16  state_Idaho             60000 non-null  uint8  \n",
      " 17  state_Illinois          60000 non-null  uint8  \n",
      " 18  state_Indiana           60000 non-null  uint8  \n",
      " 19  state_Iowa              60000 non-null  uint8  \n",
      " 20  state_Kansas            60000 non-null  uint8  \n",
      " 21  state_Kentucky          60000 non-null  uint8  \n",
      " 22  state_Louisiana         60000 non-null  uint8  \n",
      " 23  state_Maine             60000 non-null  uint8  \n",
      " 24  state_Maryland          60000 non-null  uint8  \n",
      " 25  state_Massachusetts     60000 non-null  uint8  \n",
      " 26  state_Michigan          60000 non-null  uint8  \n",
      " 27  state_Minnesota         60000 non-null  uint8  \n",
      " 28  state_Mississippi       60000 non-null  uint8  \n",
      " 29  state_Missouri          60000 non-null  uint8  \n",
      " 30  state_Montana           60000 non-null  uint8  \n",
      " 31  state_Nebraska          60000 non-null  uint8  \n",
      " 32  state_Nevada            60000 non-null  uint8  \n",
      " 33  state_New Hampshire     60000 non-null  uint8  \n",
      " 34  state_New Jersey        60000 non-null  uint8  \n",
      " 35  state_New Mexico        60000 non-null  uint8  \n",
      " 36  state_New York          60000 non-null  uint8  \n",
      " 37  state_North Carolina    60000 non-null  uint8  \n",
      " 38  state_North Dakota      60000 non-null  uint8  \n",
      " 39  state_Ohio              60000 non-null  uint8  \n",
      " 40  state_Oklahoma          60000 non-null  uint8  \n",
      " 41  state_Oregon            60000 non-null  uint8  \n",
      " 42  state_Pennsylvania      60000 non-null  uint8  \n",
      " 43  state_Rhode Island      60000 non-null  uint8  \n",
      " 44  state_South Carolina    60000 non-null  uint8  \n",
      " 45  state_South Dakota      60000 non-null  uint8  \n",
      " 46  state_Tennessee         60000 non-null  uint8  \n",
      " 47  state_Texas             60000 non-null  uint8  \n",
      " 48  state_Utah              60000 non-null  uint8  \n",
      " 49  state_Vermont           60000 non-null  uint8  \n",
      " 50  state_Virginia          60000 non-null  uint8  \n",
      " 51  state_Washington        60000 non-null  uint8  \n",
      " 52  state_West Virginia     60000 non-null  uint8  \n",
      " 53  state_Wisconsin         60000 non-null  uint8  \n",
      " 54  state_Wyoming           60000 non-null  uint8  \n",
      "dtypes: float64(1), int64(4), uint8(50)\n",
      "memory usage: 5.1 MB\n"
     ]
    }
   ],
   "source": [
    "import numpy as np\n",
    "import matplotlib.pyplot as plt\n",
    "from sklearn.tree import DecisionTreeClassifier\n",
    "from sklearn.model_selection import train_test_split\n",
    "from sklearn.metrics import accuracy_score, precision_score, recall_score, confusion_matrix\n",
    "from sklearn.discriminant_analysis import StandardScaler\n",
    "from sklearn.preprocessing import MinMaxScaler\n",
    "\n",
    "import pandas as pd\n",
    "\n",
    "# Assuming df_incidents_cleaned is your original DataFrame\n",
    "\n",
    "UMBALANCE_DATA = False\n",
    "\n",
    "if not UMBALANCE_DATA:\n",
    "\n",
    "    # Select 100 samples where isKilled is True\n",
    "    killed_samples = df_incidents_dt[df_incidents_dt['isKilled'] == True].sample(n=30000, random_state=42)\n",
    "    \n",
    "    killed_samples_small = df_incidents_dt[df_incidents_dt['isKilled'] == True].sample(n=7000, random_state=42)\n",
    "    # Select 100 samples where isKilled is False\n",
    "    not_killed_samples = df_incidents_dt[df_incidents_dt['isKilled'] == False].sample(n=30000, random_state=42)\n",
    "    \n",
    "    not_killed_samples_small = df_incidents_dt[df_incidents_dt['isKilled'] == False].sample(n=7000, random_state=42)\n",
    "else:\n",
    "    \n",
    "    killed_samples = df_incidents_dt[df_incidents_dt['isKilled'] == True].sample(n=500, random_state=42)\n",
    "    \n",
    "    not_killed_samples = df_incidents_dt[df_incidents_dt['isKilled'] == False].sample(n=3000, random_state=42) \n",
    "\n",
    "\n",
    "# Concatenate the balanced samples into a new DataFrame\n",
    "balanced_df = pd.concat([killed_samples, not_killed_samples])\n",
    "balanced_df_small = pd.concat([killed_samples_small, not_killed_samples_small])\n",
    "# Shuffle the rows in the new DataFrame\n",
    "balanced_df = balanced_df.sample(frac=1, random_state=42).reset_index(drop=True)\n",
    "balanced_df_small = balanced_df_small.sample(frac=1, random_state=42).reset_index(drop=True)\n",
    "# Display the balanced DataFrame\n",
    "#print(balanced_df.head())  # You can replace this with your desired way of using the balanced dataset\n",
    "\n",
    "\n",
    "\n",
    "target = balanced_df['isKilled']\n",
    "target_small = balanced_df_small['isKilled']\n",
    "df_dt = balanced_df.drop(['isKilled'], axis = 1)\n",
    "df_dt_small = balanced_df_small.drop(['isKilled'], axis = 1)\n",
    "df_dt = pd.get_dummies(df_dt)\n",
    "df_dt_small = pd.get_dummies(df_dt_small)\n",
    "df_dt.info()\n",
    "\n",
    "\n",
    "#X_train, X_test, y_train, y_test = train_test_split(df_dt, target, test_size=test_size, random_state=random_state)\n",
    "train_set, test_set, train_label, test_label = train_test_split(df_dt, target, stratify = target, test_size=0.30)\n",
    "train_set_small, test_set_small, train_label_small, test_label_small = train_test_split(df_dt_small, target_small, stratify = target_small, test_size=0.30)\n",
    "# check"
   ]
  },
  {
   "cell_type": "markdown",
   "metadata": {},
   "source": [
    "# Regression"
   ]
  },
  {
   "cell_type": "code",
   "execution_count": 9,
   "metadata": {},
   "outputs": [
    {
     "name": "stdout",
     "output_type": "stream",
     "text": [
      "Accuracy score:  0.7525\n",
      "Precision score:  0.7363986268594611\n",
      "Recall score:  0.7865555555555556\n"
     ]
    }
   ],
   "source": [
    "# import linear regression from sklearn\n",
    "from sklearn.linear_model import LinearRegression\n",
    "from sklearn.linear_model import LogisticRegression\n",
    "# add grid search CV\n",
    "from sklearn.model_selection import GridSearchCV\n",
    "\n",
    "clf = LogisticRegression(random_state=0, max_iter=700, penalty='l2').fit(train_set, train_label)\n",
    "\n",
    "clf.predict(test_set)\n",
    "\n",
    "clf.predict_proba(test_set)\n",
    "\n",
    "clf.score\n",
    "\n",
    "\n",
    "# print scores\n",
    "print('Accuracy score: ', accuracy_score(test_label, clf.predict(test_set)))\n",
    "print('Precision score: ', precision_score(test_label, clf.predict(test_set)))\n",
    "print('Recall score: ', recall_score(test_label, clf.predict(test_set)))"
   ]
  },
  {
   "cell_type": "markdown",
   "metadata": {},
   "source": [
    "# Decision Tree\n"
   ]
  },
  {
   "cell_type": "code",
   "execution_count": 10,
   "metadata": {},
   "outputs": [],
   "source": [
    "#define a decision tree and fit it\n",
    "from sklearn import tree\n",
    "dt = tree.DecisionTreeClassifier(criterion='entropy', splitter='best', \n",
    "                                  max_depth=10, \n",
    "                                  min_samples_split=60, min_samples_leaf=30)\n",
    "dt = dt.fit(train_set, train_label)"
   ]
  },
  {
   "cell_type": "code",
   "execution_count": 11,
   "metadata": {},
   "outputs": [],
   "source": [
    "#visualize the actual decision tree obtained \n",
    "#import pydotplus \n",
    "##from IPython.display import Image  \n",
    "#dot_data = tree.export_graphviz(dt, out_file=None, \n",
    "#                         feature_names=list(train_set.columns),  \n",
    "#                         class_names=['<=50', '>50'],  \n",
    "#                         filled=True, rounded=True)  \n",
    "#graph = pydotplus.graph_from_dot_data(dot_data)  \n",
    "#Image(graph.create_png())"
   ]
  },
  {
   "cell_type": "code",
   "execution_count": 12,
   "metadata": {},
   "outputs": [],
   "source": [
    "#predict using the decision tree\n",
    "#the predict function returns the actual predicted labels: we need them for the evaluation phase\n",
    "train_pred_dt = dt.predict(train_set)\n",
    "test_pred_dt = dt.predict(test_set)"
   ]
  },
  {
   "cell_type": "code",
   "execution_count": 13,
   "metadata": {},
   "outputs": [
    {
     "name": "stdout",
     "output_type": "stream",
     "text": [
      "Accuracy train set  0.7680476190476191\n",
      "Accuracy test set  0.7625555555555555\n",
      "Precision train set  0.7779824338824911\n",
      "Recall train set  0.7680476190476191\n",
      "F1 score train set  0.7659564987420772\n",
      "Support train set  (array([0.72543052, 0.83053435]), array([0.86257143, 0.67352381]), array([0.78807918, 0.74383382]), array([21000, 21000]))\n"
     ]
    }
   ],
   "source": [
    "#evaulate the accuracy on the train set and the test set\n",
    "#metrics also contains precision, recall, f1 and the support\n",
    "from sklearn import metrics\n",
    "\n",
    "print('Accuracy train set ', metrics.accuracy_score(train_label, train_pred_dt))\n",
    "print('Accuracy test set ', metrics.accuracy_score(test_label, test_pred_dt))\n",
    "print('Precision train set ', metrics.precision_score(train_label, train_pred_dt, average='weighted'))\n",
    "print('Recall train set ', metrics.recall_score(train_label, train_pred_dt, average='weighted'))\n",
    "print('F1 score train set ', metrics.f1_score(train_label, train_pred_dt, average='weighted'))\n",
    "print('Support train set ', metrics.precision_recall_fscore_support(train_label, train_pred_dt))"
   ]
  },
  {
   "cell_type": "code",
   "execution_count": 14,
   "metadata": {},
   "outputs": [],
   "source": [
    "#metrics computed on the test set\n",
    "from sklearn.metrics import classification_report\n",
    "def report_scores(test_label, test_pred):\n",
    "    print(classification_report(test_label, \n",
    "                            test_pred, \n",
    "                            target_names=['0', '1']))"
   ]
  },
  {
   "cell_type": "code",
   "execution_count": 15,
   "metadata": {},
   "outputs": [
    {
     "name": "stdout",
     "output_type": "stream",
     "text": [
      "              precision    recall  f1-score   support\n",
      "\n",
      "           0       0.72      0.86      0.78      9000\n",
      "           1       0.82      0.67      0.74      9000\n",
      "\n",
      "    accuracy                           0.76     18000\n",
      "   macro avg       0.77      0.76      0.76     18000\n",
      "weighted avg       0.77      0.76      0.76     18000\n",
      "\n"
     ]
    }
   ],
   "source": [
    "report_scores(test_label, test_pred_dt)\n"
   ]
  },
  {
   "cell_type": "markdown",
   "metadata": {},
   "source": [
    "# Neural Network: MLP"
   ]
  },
  {
   "cell_type": "code",
   "execution_count": 16,
   "metadata": {},
   "outputs": [
    {
     "name": "stderr",
     "output_type": "stream",
     "text": [
      "2023-12-31 15:32:03.849412: I tensorflow/core/util/port.cc:113] oneDNN custom operations are on. You may see slightly different numerical results due to floating-point round-off errors from different computation orders. To turn them off, set the environment variable `TF_ENABLE_ONEDNN_OPTS=0`.\n",
      "2023-12-31 15:32:03.852169: I external/local_tsl/tsl/cuda/cudart_stub.cc:31] Could not find cuda drivers on your machine, GPU will not be used.\n",
      "2023-12-31 15:32:03.888796: E external/local_xla/xla/stream_executor/cuda/cuda_dnn.cc:9261] Unable to register cuDNN factory: Attempting to register factory for plugin cuDNN when one has already been registered\n",
      "2023-12-31 15:32:03.888899: E external/local_xla/xla/stream_executor/cuda/cuda_fft.cc:607] Unable to register cuFFT factory: Attempting to register factory for plugin cuFFT when one has already been registered\n",
      "2023-12-31 15:32:03.891241: E external/local_xla/xla/stream_executor/cuda/cuda_blas.cc:1515] Unable to register cuBLAS factory: Attempting to register factory for plugin cuBLAS when one has already been registered\n",
      "2023-12-31 15:32:03.898166: I external/local_tsl/tsl/cuda/cudart_stub.cc:31] Could not find cuda drivers on your machine, GPU will not be used.\n",
      "2023-12-31 15:32:03.899377: I tensorflow/core/platform/cpu_feature_guard.cc:182] This TensorFlow binary is optimized to use available CPU instructions in performance-critical operations.\n",
      "To enable the following instructions: AVX2 AVX512F AVX512_VNNI FMA, in other operations, rebuild TensorFlow with the appropriate compiler flags.\n",
      "2023-12-31 15:32:04.789005: W tensorflow/compiler/tf2tensorrt/utils/py_utils.cc:38] TF-TRT Warning: Could not find TensorRT\n",
      "2023-12-31 15:32:05.614779: I external/local_xla/xla/stream_executor/cuda/cuda_executor.cc:887] could not open file to read NUMA node: /sys/bus/pci/devices/0000:01:00.0/numa_node\n",
      "Your kernel may have been built without NUMA support.\n",
      "2023-12-31 15:32:05.615090: W tensorflow/core/common_runtime/gpu/gpu_device.cc:2256] Cannot dlopen some GPU libraries. Please make sure the missing libraries mentioned above are installed properly if you would like to use GPU. Follow the guide at https://www.tensorflow.org/install/gpu for how to download and setup the required libraries for your platform.\n",
      "Skipping registering GPU devices...\n"
     ]
    }
   ],
   "source": [
    "import tensorflow as tf\n",
    "import numpy as np\n",
    "#train_set, test_set, train_label, test_label\n",
    "\n",
    "model = tf.keras.models.Sequential([\n",
    "  tf.keras.layers.Flatten(input_shape=(1, 55)),\n",
    "  tf.keras.layers.Dense(32, activation='sigmoid'),  \n",
    "  tf.keras.layers.Dense(1, activation='sigmoid')\n",
    "])\n",
    "\n",
    "\n",
    "\n",
    "model.compile(optimizer='adamax',\n",
    "              loss='mean_squared_error',\n",
    "              metrics=['accuracy'])"
   ]
  },
  {
   "cell_type": "code",
   "execution_count": 17,
   "metadata": {},
   "outputs": [
    {
     "name": "stdout",
     "output_type": "stream",
     "text": [
      "Epoch 1/30\n",
      "132/132 [==============================] - 1s 4ms/step - loss: 0.2567 - accuracy: 0.5364 - val_loss: 0.2440 - val_accuracy: 0.5796\n",
      "Epoch 2/30\n",
      "132/132 [==============================] - 0s 2ms/step - loss: 0.2410 - accuracy: 0.5928 - val_loss: 0.2384 - val_accuracy: 0.6023\n",
      "Epoch 3/30\n",
      "132/132 [==============================] - 0s 3ms/step - loss: 0.2346 - accuracy: 0.6172 - val_loss: 0.2320 - val_accuracy: 0.6254\n",
      "Epoch 4/30\n",
      "132/132 [==============================] - 0s 4ms/step - loss: 0.2269 - accuracy: 0.6484 - val_loss: 0.2242 - val_accuracy: 0.6585\n",
      "Epoch 5/30\n",
      "132/132 [==============================] - 0s 2ms/step - loss: 0.2186 - accuracy: 0.6815 - val_loss: 0.2163 - val_accuracy: 0.6905\n",
      "Epoch 6/30\n",
      "132/132 [==============================] - 0s 2ms/step - loss: 0.2099 - accuracy: 0.7123 - val_loss: 0.2086 - val_accuracy: 0.7102\n",
      "Epoch 7/30\n",
      "132/132 [==============================] - 0s 2ms/step - loss: 0.2016 - accuracy: 0.7319 - val_loss: 0.2010 - val_accuracy: 0.7283\n",
      "Epoch 8/30\n",
      "132/132 [==============================] - 0s 2ms/step - loss: 0.1934 - accuracy: 0.7459 - val_loss: 0.1942 - val_accuracy: 0.7393\n",
      "Epoch 9/30\n",
      "132/132 [==============================] - 0s 2ms/step - loss: 0.1867 - accuracy: 0.7520 - val_loss: 0.1894 - val_accuracy: 0.7445\n",
      "Epoch 10/30\n",
      "132/132 [==============================] - 0s 2ms/step - loss: 0.1822 - accuracy: 0.7547 - val_loss: 0.1861 - val_accuracy: 0.7485\n",
      "Epoch 11/30\n",
      "132/132 [==============================] - 0s 2ms/step - loss: 0.1790 - accuracy: 0.7555 - val_loss: 0.1838 - val_accuracy: 0.7495\n",
      "Epoch 12/30\n",
      "132/132 [==============================] - 0s 2ms/step - loss: 0.1766 - accuracy: 0.7575 - val_loss: 0.1823 - val_accuracy: 0.7493\n",
      "Epoch 13/30\n",
      "132/132 [==============================] - 0s 2ms/step - loss: 0.1751 - accuracy: 0.7574 - val_loss: 0.1817 - val_accuracy: 0.7504\n",
      "Epoch 14/30\n",
      "132/132 [==============================] - 0s 2ms/step - loss: 0.1740 - accuracy: 0.7582 - val_loss: 0.1808 - val_accuracy: 0.7463\n",
      "Epoch 15/30\n",
      "132/132 [==============================] - 0s 2ms/step - loss: 0.1732 - accuracy: 0.7589 - val_loss: 0.1800 - val_accuracy: 0.7501\n",
      "Epoch 16/30\n",
      "132/132 [==============================] - 0s 2ms/step - loss: 0.1725 - accuracy: 0.7602 - val_loss: 0.1799 - val_accuracy: 0.7470\n",
      "Epoch 17/30\n",
      "132/132 [==============================] - 0s 2ms/step - loss: 0.1721 - accuracy: 0.7603 - val_loss: 0.1794 - val_accuracy: 0.7502\n",
      "Epoch 18/30\n",
      "132/132 [==============================] - 0s 2ms/step - loss: 0.1717 - accuracy: 0.7603 - val_loss: 0.1791 - val_accuracy: 0.7508\n",
      "Epoch 19/30\n",
      "132/132 [==============================] - 0s 2ms/step - loss: 0.1714 - accuracy: 0.7605 - val_loss: 0.1789 - val_accuracy: 0.7495\n",
      "Epoch 20/30\n",
      "132/132 [==============================] - 0s 2ms/step - loss: 0.1711 - accuracy: 0.7634 - val_loss: 0.1787 - val_accuracy: 0.7514\n",
      "Epoch 21/30\n",
      "132/132 [==============================] - 0s 2ms/step - loss: 0.1709 - accuracy: 0.7628 - val_loss: 0.1786 - val_accuracy: 0.7510\n",
      "Epoch 22/30\n",
      "132/132 [==============================] - 0s 2ms/step - loss: 0.1707 - accuracy: 0.7635 - val_loss: 0.1785 - val_accuracy: 0.7513\n",
      "Epoch 23/30\n",
      "132/132 [==============================] - 0s 3ms/step - loss: 0.1705 - accuracy: 0.7631 - val_loss: 0.1783 - val_accuracy: 0.7499\n",
      "Epoch 24/30\n",
      "132/132 [==============================] - 0s 2ms/step - loss: 0.1704 - accuracy: 0.7635 - val_loss: 0.1783 - val_accuracy: 0.7526\n",
      "Epoch 25/30\n",
      "132/132 [==============================] - 0s 2ms/step - loss: 0.1702 - accuracy: 0.7649 - val_loss: 0.1784 - val_accuracy: 0.7501\n",
      "Epoch 26/30\n",
      "132/132 [==============================] - 0s 3ms/step - loss: 0.1701 - accuracy: 0.7645 - val_loss: 0.1780 - val_accuracy: 0.7500\n",
      "Epoch 27/30\n",
      "132/132 [==============================] - 0s 2ms/step - loss: 0.1699 - accuracy: 0.7652 - val_loss: 0.1778 - val_accuracy: 0.7507\n",
      "Epoch 28/30\n",
      "132/132 [==============================] - 0s 2ms/step - loss: 0.1698 - accuracy: 0.7647 - val_loss: 0.1777 - val_accuracy: 0.7510\n",
      "Epoch 29/30\n",
      "132/132 [==============================] - 0s 2ms/step - loss: 0.1696 - accuracy: 0.7649 - val_loss: 0.1776 - val_accuracy: 0.7529\n",
      "Epoch 30/30\n",
      "132/132 [==============================] - 0s 2ms/step - loss: 0.1695 - accuracy: 0.7658 - val_loss: 0.1777 - val_accuracy: 0.7511\n"
     ]
    }
   ],
   "source": [
    "y_train = np.asarray(train_label).astype('float32').reshape((-1,1))\n",
    "x_train = np.reshape(train_set.values, (len(train_set), 1, len(train_set.columns)))\n",
    "history = model.fit(x_train, y_train,\n",
    "                    epochs=30,\n",
    "                    batch_size=256,\n",
    "                    validation_split=0.2)"
   ]
  },
  {
   "cell_type": "code",
   "execution_count": 18,
   "metadata": {},
   "outputs": [
    {
     "name": "stdout",
     "output_type": "stream",
     "text": [
      "Model: \"sequential\"\n",
      "_________________________________________________________________\n",
      " Layer (type)                Output Shape              Param #   \n",
      "=================================================================\n",
      " flatten (Flatten)           (None, 55)                0         \n",
      "                                                                 \n",
      " dense (Dense)               (None, 32)                1792      \n",
      "                                                                 \n",
      " dense_1 (Dense)             (None, 1)                 33        \n",
      "                                                                 \n",
      "=================================================================\n",
      "Total params: 1825 (7.13 KB)\n",
      "Trainable params: 1825 (7.13 KB)\n",
      "Non-trainable params: 0 (0.00 Byte)\n",
      "_________________________________________________________________\n"
     ]
    }
   ],
   "source": [
    "model.summary()"
   ]
  },
  {
   "cell_type": "code",
   "execution_count": 19,
   "metadata": {},
   "outputs": [
    {
     "data": {
      "image/png": "[encoded data removed]",
      "text/plain": [
       "<Figure size 432x288 with 1 Axes>"
      ]
     },
     "metadata": {
      "needs_background": "light"
     },
     "output_type": "display_data"
    }
   ],
   "source": [
    "import matplotlib.pyplot as plt\n",
    "acc = history.history['accuracy']\n",
    "val_acc = history.history['val_accuracy']\n",
    "loss = history.history['loss']\n",
    "val_loss = history.history['val_loss']\n",
    "epochs = range(1, len(acc) + 1)\n",
    "plt.plot(epochs, acc, 'bo', label='Training Acc')\n",
    "plt.plot(epochs, val_acc, 'b', label='Validation Acc')\n",
    "plt.title('Training and validation Acc')\n",
    "plt.xlabel('Epochs')\n",
    "plt.ylabel('Acc')\n",
    "plt.legend()\n",
    "plt.show()"
   ]
  },
  {
   "cell_type": "code",
   "execution_count": 20,
   "metadata": {},
   "outputs": [
    {
     "name": "stdout",
     "output_type": "stream",
     "text": [
      "563/563 [==============================] - 1s 875us/step\n"
     ]
    }
   ],
   "source": [
    "x_test = np.reshape(test_set.values, (len(test_set), 1, 55))\n",
    "test_pred_nn = (model.predict(x_test) > 0.6).astype(\"int32\")"
   ]
  },
  {
   "cell_type": "code",
   "execution_count": 21,
   "metadata": {},
   "outputs": [
    {
     "name": "stdout",
     "output_type": "stream",
     "text": [
      "              precision    recall  f1-score   support\n",
      "\n",
      "           0       0.73      0.86      0.79      9000\n",
      "           1       0.82      0.68      0.74      9000\n",
      "\n",
      "    accuracy                           0.77     18000\n",
      "   macro avg       0.77      0.77      0.76     18000\n",
      "weighted avg       0.77      0.77      0.76     18000\n",
      "\n"
     ]
    }
   ],
   "source": [
    "report_scores(test_label, test_pred_nn)"
   ]
  },
  {
   "cell_type": "markdown",
   "metadata": {},
   "source": [
    "# Trying now models that can't scale really well with data size"
   ]
  },
  {
   "cell_type": "markdown",
   "metadata": {},
   "source": [
    "## K-NN Classifier\n"
   ]
  },
  {
   "cell_type": "code",
   "execution_count": 22,
   "metadata": {},
   "outputs": [
    {
     "name": "stderr",
     "output_type": "stream",
     "text": [
      "100%|██████████| 19/19 [00:08<00:00,  2.22it/s]\n"
     ]
    }
   ],
   "source": [
    "from sklearn.neighbors import KNeighborsClassifier\n",
    "# use tqdm\n",
    "import tqdm\n",
    "\n",
    "k_list = [x for x in range(1, 25)]\n",
    "\n",
    "knn_list = []\n",
    "for k in tqdm.tqdm(k_list):\n",
    "    knn = KNeighborsClassifier(n_neighbors=k)\n",
    "    knn.fit(train_set_small, train_label_small)\n",
    "    knn_list.append(knn.score(test_set_small, test_label_small))\n",
    "    \n",
    "    # predictions\n",
    "    prediction_train = knn.predict(train_set_small)\n",
    "    prediction_test = knn.predict(test_set_small)\n",
    "    \n",
    "    #accuracy\n",
    "    accuracy_train = metrics.accuracy_score(train_label_small, prediction_train)\n",
    "    accuracy_test = metrics.accuracy_score(test_label_small, prediction_test)\n",
    "    \n",
    "    "
   ]
  },
  {
   "cell_type": "code",
   "execution_count": 23,
   "metadata": {},
   "outputs": [
    {
     "name": "stdout",
     "output_type": "stream",
     "text": [
      "0.7444897959183674\n",
      "0.7114285714285714\n"
     ]
    }
   ],
   "source": [
    "# print accuracy\n",
    "print(accuracy_train)\n",
    "print(accuracy_test)"
   ]
  },
  {
   "cell_type": "code",
   "execution_count": 24,
   "metadata": {},
   "outputs": [
    {
     "data": {
      "image/png": "[encoded data removed]",
      "text/plain": [
       "<Figure size 432x288 with 1 Axes>"
      ]
     },
     "metadata": {
      "needs_background": "light"
     },
     "output_type": "display_data"
    }
   ],
   "source": [
    "# plot results knn on x axis and accuracy on y axis\n",
    "plt.plot(k_list, knn_list)\n",
    "plt.xlabel('k')\n",
    "plt.ylabel('Accuracy')\n",
    "#track each k only\n",
    "plt.xticks(k_list)\n",
    "plt.title('Accuracy for different values of k')\n",
    "plt.show()  "
   ]
  },
  {
   "cell_type": "markdown",
   "metadata": {},
   "source": []
  },
  {
   "cell_type": "markdown",
   "metadata": {},
   "source": [
    "# SVM:"
   ]
  },
  {
   "cell_type": "code",
   "execution_count": 25,
   "metadata": {},
   "outputs": [
    {
     "data": {
      "text/html": [
       "<style>#sk-container-id-1 {color: black;}#sk-container-id-1 pre{padding: 0;}#sk-container-id-1 div.sk-toggleable {background-color: white;}#sk-container-id-1 label.sk-toggleable__label {cursor: pointer;display: block;width: 100%;margin-bottom: 0;padding: 0.3em;box-sizing: border-box;text-align: center;}#sk-container-id-1 label.sk-toggleable__label-arrow:before {content: \"▸\";float: left;margin-right: 0.25em;color: #696969;}#sk-container-id-1 label.sk-toggleable__label-arrow:hover:before {color: black;}#sk-container-id-1 div.sk-estimator:hover label.sk-toggleable__label-arrow:before {color: black;}#sk-container-id-1 div.sk-toggleable__content {max-height: 0;max-width: 0;overflow: hidden;text-align: left;background-color: #f0f8ff;}#sk-container-id-1 div.sk-toggleable__content pre {margin: 0.2em;color: black;border-radius: 0.25em;background-color: #f0f8ff;}#sk-container-id-1 input.sk-toggleable__control:checked~div.sk-toggleable__content {max-height: 200px;max-width: 100%;overflow: auto;}#sk-container-id-1 input.sk-toggleable__control:checked~label.sk-toggleable__label-arrow:before {content: \"▾\";}#sk-container-id-1 div.sk-estimator input.sk-toggleable__control:checked~label.sk-toggleable__label {background-color: #d4ebff;}#sk-container-id-1 div.sk-label input.sk-toggleable__control:checked~label.sk-toggleable__label {background-color: #d4ebff;}#sk-container-id-1 input.sk-hidden--visually {border: 0;clip: rect(1px 1px 1px 1px);clip: rect(1px, 1px, 1px, 1px);height: 1px;margin: -1px;overflow: hidden;padding: 0;position: absolute;width: 1px;}#sk-container-id-1 div.sk-estimator {font-family: monospace;background-color: #f0f8ff;border: 1px dotted black;border-radius: 0.25em;box-sizing: border-box;margin-bottom: 0.5em;}#sk-container-id-1 div.sk-estimator:hover {background-color: #d4ebff;}#sk-container-id-1 div.sk-parallel-item::after {content: \"\";width: 100%;border-bottom: 1px solid gray;flex-grow: 1;}#sk-container-id-1 div.sk-label:hover label.sk-toggleable__label {background-color: #d4ebff;}#sk-container-id-1 div.sk-serial::before {content: \"\";position: absolute;border-left: 1px solid gray;box-sizing: border-box;top: 0;bottom: 0;left: 50%;z-index: 0;}#sk-container-id-1 div.sk-serial {display: flex;flex-direction: column;align-items: center;background-color: white;padding-right: 0.2em;padding-left: 0.2em;position: relative;}#sk-container-id-1 div.sk-item {position: relative;z-index: 1;}#sk-container-id-1 div.sk-parallel {display: flex;align-items: stretch;justify-content: center;background-color: white;position: relative;}#sk-container-id-1 div.sk-item::before, #sk-container-id-1 div.sk-parallel-item::before {content: \"\";position: absolute;border-left: 1px solid gray;box-sizing: border-box;top: 0;bottom: 0;left: 50%;z-index: -1;}#sk-container-id-1 div.sk-parallel-item {display: flex;flex-direction: column;z-index: 1;position: relative;background-color: white;}#sk-container-id-1 div.sk-parallel-item:first-child::after {align-self: flex-end;width: 50%;}#sk-container-id-1 div.sk-parallel-item:last-child::after {align-self: flex-start;width: 50%;}#sk-container-id-1 div.sk-parallel-item:only-child::after {width: 0;}#sk-container-id-1 div.sk-dashed-wrapped {border: 1px dashed gray;margin: 0 0.4em 0.5em 0.4em;box-sizing: border-box;padding-bottom: 0.4em;background-color: white;}#sk-container-id-1 div.sk-label label {font-family: monospace;font-weight: bold;display: inline-block;line-height: 1.2em;}#sk-container-id-1 div.sk-label-container {text-align: center;}#sk-container-id-1 div.sk-container {/* jupyter's `normalize.less` sets `[hidden] { display: none; }` but bootstrap.min.css set `[hidden] { display: none !important; }` so we also need the `!important` here to be able to override the default hidden behavior on the sphinx rendered scikit-learn.org. See: https://github.com/scikit-learn/scikit-learn/issues/21755 */display: inline-block !important;position: relative;}#sk-container-id-1 div.sk-text-repr-fallback {display: none;}</style><div id=\"sk-container-id-1\" class=\"sk-top-container\"><div class=\"sk-text-repr-fallback\"><pre>SVC(C=1, gamma=0.1)</pre><b>In a Jupyter environment, please rerun this cell to show the HTML representation or trust the notebook. <br />On GitHub, the HTML representation is unable to render, please try loading this page with nbviewer.org.</b></div><div class=\"sk-container\" hidden><div class=\"sk-item\"><div class=\"sk-estimator sk-toggleable\"><input class=\"sk-toggleable__control sk-hidden--visually\" id=\"sk-estimator-id-1\" type=\"checkbox\" checked><label for=\"sk-estimator-id-1\" class=\"sk-toggleable__label sk-toggleable__label-arrow\">SVC</label><div class=\"sk-toggleable__content\"><pre>SVC(C=1, gamma=0.1)</pre></div></div></div></div></div>"
      ],
      "text/plain": [
       "SVC(C=1, gamma=0.1)"
      ]
     },
     "execution_count": 25,
     "metadata": {},
     "output_type": "execute_result"
    }
   ],
   "source": [
    "import numpy as np\n",
    "import pandas as pd\n",
    "from sklearn.model_selection import train_test_split\n",
    "from sklearn.svm import SVC\n",
    "from sklearn.metrics import accuracy_score, classification_report\n",
    "from sklearn import svm\n",
    "\n",
    "#train_set, test_set, train_label, test_label = train_test_split(df_dt, target, stratify = target, test_size=0.30)\n",
    "# X_train, X_test, y_train, y_test = train_test_split(df_dt, target, test_size=test_size, random_state=random_state)\n",
    "\n",
    "#x_train_reshaped = train_set.reshape(train_set.shape[0], -1)\n",
    "\n",
    "\n",
    "svm_classifier = SVC(kernel='linear')\n",
    "\n",
    "svm_classifier_rbf = SVC(kernel='rbf', C=1, gamma=0.1)\n",
    "\n",
    "svm_classifier.fit(train_set_small, train_label_small)\n",
    "\n",
    "svm_classifier_rbf.fit(train_set_small, train_label_small)"
   ]
  },
  {
   "cell_type": "code",
   "execution_count": 26,
   "metadata": {},
   "outputs": [],
   "source": [
    "def print_svm_scores(svm_classifier):\n",
    "    print(\"Accuracy on training set: {:.3f}\".format(svm_classifier.score(train_set_small, train_label_small)))\n",
    "    print(\"Accuracy on test set: {:.3f}\".format(svm_classifier.score(test_set_small, test_label_small)))\n",
    "    \n",
    "    # Make predictions\n",
    "    y_pred = svm_classifier.predict(test_set_small)\n",
    "\n",
    "    # Evaluate the model\n",
    "    accuracy = accuracy_score(test_label_small, y_pred)\n",
    "    report = classification_report(test_label_small, y_pred)\n",
    "\n",
    "    print(f\"Accuracy: {accuracy:.2f}\")\n",
    "    print(\"Classification Report:\")\n",
    "    print(report)"
   ]
  },
  {
   "cell_type": "code",
   "execution_count": 27,
   "metadata": {},
   "outputs": [
    {
     "name": "stdout",
     "output_type": "stream",
     "text": [
      "Accuracy on training set: 0.736\n",
      "Accuracy on test set: 0.727\n",
      "Accuracy: 0.73\n",
      "Classification Report:\n",
      "              precision    recall  f1-score   support\n",
      "\n",
      "       False       0.76      0.66      0.71      2100\n",
      "        True       0.70      0.80      0.75      2100\n",
      "\n",
      "    accuracy                           0.73      4200\n",
      "   macro avg       0.73      0.73      0.73      4200\n",
      "weighted avg       0.73      0.73      0.73      4200\n",
      "\n"
     ]
    }
   ],
   "source": [
    "print_svm_scores(svm_classifier)"
   ]
  },
  {
   "cell_type": "code",
   "execution_count": 28,
   "metadata": {},
   "outputs": [
    {
     "name": "stdout",
     "output_type": "stream",
     "text": [
      "Accuracy on training set: 0.784\n",
      "Accuracy on test set: 0.754\n",
      "Accuracy: 0.75\n",
      "Classification Report:\n",
      "              precision    recall  f1-score   support\n",
      "\n",
      "       False       0.73      0.81      0.77      2100\n",
      "        True       0.79      0.70      0.74      2100\n",
      "\n",
      "    accuracy                           0.75      4200\n",
      "   macro avg       0.76      0.75      0.75      4200\n",
      "weighted avg       0.76      0.75      0.75      4200\n",
      "\n"
     ]
    }
   ],
   "source": [
    "print_svm_scores(svm_classifier_rbf)"
   ]
  },
  {
   "cell_type": "markdown",
   "metadata": {},
   "source": [
    "## Radom Forest"
   ]
  },
  {
   "cell_type": "code",
   "execution_count": 29,
   "metadata": {},
   "outputs": [
    {
     "name": "stderr",
     "output_type": "stream",
     "text": [
      "[Parallel(n_jobs=-1)]: Using backend LokyBackend with 12 concurrent workers.\n"
     ]
    },
    {
     "name": "stderr",
     "output_type": "stream",
     "text": [
      "/usr/lib/python3/dist-packages/scipy/__init__.py:146: UserWarning: A NumPy version >=1.17.3 and <1.25.0 is required for this version of SciPy (detected version 1.26.1\n",
      "  warnings.warn(f\"A NumPy version >={np_minversion} and <{np_maxversion}\"\n",
      "/usr/lib/python3/dist-packages/scipy/__init__.py:146: UserWarning: A NumPy version >=1.17.3 and <1.25.0 is required for this version of SciPy (detected version 1.26.1\n",
      "  warnings.warn(f\"A NumPy version >={np_minversion} and <{np_maxversion}\"\n",
      "/usr/lib/python3/dist-packages/scipy/__init__.py:146: UserWarning: A NumPy version >=1.17.3 and <1.25.0 is required for this version of SciPy (detected version 1.26.1\n",
      "  warnings.warn(f\"A NumPy version >={np_minversion} and <{np_maxversion}\"\n",
      "/usr/lib/python3/dist-packages/scipy/__init__.py:146: UserWarning: A NumPy version >=1.17.3 and <1.25.0 is required for this version of SciPy (detected version 1.26.1\n",
      "  warnings.warn(f\"A NumPy version >={np_minversion} and <{np_maxversion}\"\n",
      "/usr/lib/python3/dist-packages/scipy/__init__.py:146: UserWarning: A NumPy version >=1.17.3 and <1.25.0 is required for this version of SciPy (detected version 1.26.1\n",
      "  warnings.warn(f\"A NumPy version >={np_minversion} and <{np_maxversion}\"\n",
      "/usr/lib/python3/dist-packages/scipy/__init__.py:146: UserWarning: A NumPy version >=1.17.3 and <1.25.0 is required for this version of SciPy (detected version 1.26.1\n",
      "  warnings.warn(f\"A NumPy version >={np_minversion} and <{np_maxversion}\"\n"
     ]
    },
    {
     "name": "stdout",
     "output_type": "stream",
     "text": [
      "[CV] START .....................................................................\n",
      "[CV] START .....................................................................\n",
      "[CV] START .....................................................................\n",
      "[CV] START .....................................................................\n",
      "[CV] START .....................................................................\n",
      "[CV] START .....................................................................\n",
      "[CV] END ................................ score: (test=0.728) total time=   2.3s\n",
      "[CV] END ................................ score: (test=0.725) total time=   2.3s\n",
      "[CV] END ................................ score: (test=0.733) total time=   2.3s\n",
      "[CV] END ................................ score: (test=0.729) total time=   2.3s\n",
      "[CV] END ................................ score: (test=0.739) total time=   2.4s\n",
      "[CV] END ................................ score: (test=0.750) total time=   2.4s\n"
     ]
    },
    {
     "name": "stderr",
     "output_type": "stream",
     "text": [
      "[Parallel(n_jobs=-1)]: Done   2 out of   6 | elapsed:    3.5s remaining:    7.0s\n",
      "[Parallel(n_jobs=-1)]: Done   3 out of   6 | elapsed:    3.5s remaining:    3.5s\n",
      "[Parallel(n_jobs=-1)]: Done   4 out of   6 | elapsed:    3.5s remaining:    1.8s\n",
      "[Parallel(n_jobs=-1)]: Done   6 out of   6 | elapsed:    3.6s finished\n"
     ]
    },
    {
     "name": "stdout",
     "output_type": "stream",
     "text": [
      "RF - Fixed parameters used:\n",
      "Max Depth: None, Max Features: None, Min Samples Leaf: 1, n_estimators: 100\n",
      "RF - Accuracy score:\n",
      "0.7340808817926273\n",
      "              precision    recall  f1-score   support\n",
      "\n",
      "           0       0.91      0.91      0.91      4900\n",
      "           1       0.91      0.91      0.91      4900\n",
      "\n",
      "    accuracy                           0.91      9800\n",
      "   macro avg       0.91      0.91      0.91      9800\n",
      "weighted avg       0.91      0.91      0.91      9800\n",
      "\n"
     ]
    }
   ],
   "source": [
    "from sklearn.ensemble import RandomForestClassifier\n",
    "from sklearn.model_selection import cross_val_score, KFold, StratifiedKFold, train_test_split\n",
    "from sklearn.model_selection import GridSearchCV, cross_validate\n",
    "\n",
    "def build_random_forest(X, y, max_depth=None, max_features=None, min_samples_leaf=1, n_estimators=100, cv=6, print_res=True):\n",
    "    clf = RandomForestClassifier(max_depth=max_depth, max_features=max_features, min_samples_leaf=min_samples_leaf, n_estimators=n_estimators)\n",
    "\n",
    "    scores = cross_val_score(clf, X, y, cv=cv, scoring='accuracy', n_jobs=-1, verbose=10)\n",
    "    best_score = scores.mean()\n",
    "\n",
    "    if print_res:\n",
    "        print(\"RF - Fixed parameters used:\")\n",
    "        print(f\"Max Depth: {max_depth}, Max Features: {max_features}, Min Samples Leaf: {min_samples_leaf}, n_estimators: {n_estimators}\")\n",
    "        print(\"RF - Accuracy score:\")\n",
    "        print(best_score)\n",
    "\n",
    "    clf.fit(X, y)\n",
    "    return best_score, clf\n",
    "\n",
    "\n",
    "from sklearn.preprocessing import StandardScaler\n",
    "\n",
    "scaler = StandardScaler()\n",
    "\n",
    "train_set_scaled = scaler.fit_transform(train_set_small)\n",
    "best_score_rf, best_rf = build_random_forest(train_set_scaled, train_label_small)\n",
    "\n",
    "#metrics computed on the test set\n",
    "from sklearn.metrics import classification_report\n",
    "def report_scores(test_label, test_pred):\n",
    "    print(classification_report(test_label, \n",
    "                            test_pred, \n",
    "                            target_names=['0', '1']))\n",
    "y_pred_test = best_rf.predict(train_set_scaled)\n",
    "report_scores(train_label_small, y_pred_test)\n"
   ]
  },
  {
   "cell_type": "code",
   "execution_count": null,
   "metadata": {},
   "outputs": [],
   "source": []
  }
 ],
 "metadata": {
  "kernelspec": {
   "display_name": "Python 3",
   "language": "python",
   "name": "python3"
  },
  "language_info": {
   "codemirror_mode": {
    "name": "ipython",
    "version": 3
   },
   "file_extension": ".py",
   "mimetype": "text/x-python",
   "name": "python",
   "nbconvert_exporter": "python",
   "pygments_lexer": "ipython3",
   "version": "3.10.12"
  }
 },
 "nbformat": 4,
 "nbformat_minor": 2
}
