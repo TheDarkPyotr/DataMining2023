{
 "cells": [
  {
   "cell_type": "markdown",
   "metadata": {},
   "source": [
    "## Task 3: Predictive Analysis - WIP\n",
    "Consider the problem of predicting for each incident (considering the whole dataset for this task) the label which is a **binary variable** that indicates if in the incident there have been at least a killed person or not.\n"
   ]
  },
  {
   "cell_type": "code",
   "execution_count": 9,
   "metadata": {},
   "outputs": [],
   "source": [
    "import pandas as pd\n",
    "import numpy as np\n",
    "import matplotlib.pyplot as plt\n",
    "import seaborn as sns\n",
    "import os\n",
    "\n",
    "import plotly.offline as py\n",
    "np.random.seed(42)\n",
    "\n"
   ]
  },
  {
   "cell_type": "code",
   "execution_count": 10,
   "metadata": {},
   "outputs": [
    {
     "name": "stdout",
     "output_type": "stream",
     "text": [
      "<class 'pandas.core.frame.DataFrame'>\n",
      "Index: 131618 entries, 0 to 134578\n",
      "Data columns (total 26 columns):\n",
      " #   Column                     Non-Null Count   Dtype         \n",
      "---  ------                     --------------   -----         \n",
      " 0   date                       131618 non-null  datetime64[ns]\n",
      " 1   state                      131618 non-null  object        \n",
      " 2   city_or_county             131618 non-null  object        \n",
      " 3   latitude                   131618 non-null  float64       \n",
      " 4   longitude                  131618 non-null  float64       \n",
      " 5   congressional_district     131618 non-null  int64         \n",
      " 6   participant_age_group1     131618 non-null  category      \n",
      " 7   participant_gender1        131618 non-null  category      \n",
      " 8   avg_age_participants       131618 non-null  int64         \n",
      " 9   n_participants_child       131618 non-null  int64         \n",
      " 10  n_participants_teen        131618 non-null  int64         \n",
      " 11  n_females                  131618 non-null  int64         \n",
      " 12  n_injured                  131618 non-null  int64         \n",
      " 13  n_arrested                 131618 non-null  int64         \n",
      " 14  n_unharmed                 131618 non-null  int64         \n",
      " 15  incident_characteristics1  131618 non-null  category      \n",
      " 16  povertyPercentage          131618 non-null  float64       \n",
      " 17  party                      131618 non-null  object        \n",
      " 18  candidatevotes             131618 non-null  float64       \n",
      " 19  male_indicator             131618 non-null  float64       \n",
      " 20  ratio_killed               131618 non-null  float64       \n",
      " 21  death_level                131618 non-null  category      \n",
      " 22  percentage_injured         131618 non-null  float64       \n",
      " 23  unharmed_ratio             131618 non-null  float64       \n",
      " 24  density_incident_state     131618 non-null  float64       \n",
      " 25  males_to_females_ratio     131618 non-null  float64       \n",
      "dtypes: category(4), datetime64[ns](1), float64(10), int64(8), object(3)\n",
      "memory usage: 23.6+ MB\n"
     ]
    }
   ],
   "source": [
    "# Import the datasets\n",
    "df_incidents_cleaned = pd.read_hdf('../../ds/cleaned/reduced_for_clustering.h5', key = 'df')\n",
    "\n",
    "# Visualize data table\n",
    "df_incidents_cleaned.info()"
   ]
  },
  {
   "cell_type": "code",
   "execution_count": 11,
   "metadata": {},
   "outputs": [],
   "source": [
    "\n",
    "df_incidents_dt = df_incidents_cleaned.copy()\n",
    "#df_incidents_dt['n_participant_adult'] = (df_incidents_dt['n_participants'] - (df_incidents_dt['n_participants_child'] + df_incidents_dt['n_participants_teen'])).astype('int')\n"
   ]
  },
  {
   "cell_type": "code",
   "execution_count": 12,
   "metadata": {},
   "outputs": [
    {
     "data": {
      "text/plain": [
       "<Axes: title={'center': 'Percentage of incidents with killed people'}, ylabel='count'>"
      ]
     },
     "execution_count": 12,
     "metadata": {},
     "output_type": "execute_result"
    },
    {
     "data": {
      "image/png": "[encoded data removed]",
      "text/plain": [
       "<Figure size 640x480 with 1 Axes>"
      ]
     },
     "metadata": {},
     "output_type": "display_data"
    }
   ],
   "source": [
    "df_incidents_dt['isKilled'] = df_incidents_dt['ratio_killed'] > 0\n",
    "\n",
    "#todo decide if mantain or drop the plot\n",
    "df_incidents_dt['isKilled'].value_counts().plot.pie(autopct='%1.1f%%', startangle=90, title = 'Percentage of incidents with killed people')\n"
   ]
  },
  {
   "cell_type": "code",
   "execution_count": 13,
   "metadata": {},
   "outputs": [
    {
     "name": "stdout",
     "output_type": "stream",
     "text": [
      "<class 'pandas.core.frame.DataFrame'>\n",
      "Index: 131618 entries, 0 to 134578\n",
      "Data columns (total 7 columns):\n",
      " #   Column                  Non-Null Count   Dtype  \n",
      "---  ------                  --------------   -----  \n",
      " 0   state                   131618 non-null  object \n",
      " 1   avg_age_participants    131618 non-null  int64  \n",
      " 2   n_females               131618 non-null  int64  \n",
      " 3   n_injured               131618 non-null  int64  \n",
      " 4   n_arrested              131618 non-null  int64  \n",
      " 5   density_incident_state  131618 non-null  float64\n",
      " 6   isKilled                131618 non-null  bool   \n",
      "dtypes: bool(1), float64(1), int64(4), object(1)\n",
      "memory usage: 7.2+ MB\n"
     ]
    }
   ],
   "source": [
    "coumns_not_to_drop_dt = [\n",
    "                        'isKilled', \n",
    "                        'n_arrested', \n",
    "                        'n_females',\n",
    "                        'avg_age_participants', \n",
    "                        'density_incident_state', \n",
    "                        'state', \n",
    "                        'n_injured',\n",
    "                        'male_indicator'\n",
    "                        'ratio_killed'\n",
    "                        ]\n",
    "\n",
    "# broke all if you add n_killed since is higly correlated : 0.94 <-- report consideration\n",
    "\n",
    "all_columns_dt = df_incidents_dt.columns\n",
    "\n",
    "columns_to_drop_dt = [x for x in all_columns_dt if x not in coumns_not_to_drop_dt]\n",
    "\n",
    "df_incidents_dt.drop(columns_to_drop_dt, axis = 1, inplace = True)\n",
    "df_incidents_dt.info()"
   ]
  },
  {
   "cell_type": "code",
   "execution_count": 14,
   "metadata": {},
   "outputs": [],
   "source": [
    "\n",
    "#make consideration about why we drop this columns and how they influence the models results\n",
    "column_to_drop =  [\n",
    "                   'longitude',\n",
    "                   'latitude', \n",
    "                   'congressional_district',\n",
    "                   'participant_age_group1',\n",
    "                   'participant_gender1',\n",
    "                   'incident_characteristics1',\n",
    "                   'city_or_county',\n",
    "                   'date',\n",
    "                   'n_injured',\n",
    "                   'party',\n",
    "                   'candidatevotes',\n",
    "                   'totalvotes',\n",
    "                   'n_killed',\n",
    "                   #'ratio_killed'\n",
    "                   ]\n"
   ]
  },
  {
   "cell_type": "code",
   "execution_count": 15,
   "metadata": {},
   "outputs": [],
   "source": [
    "import numpy as np\n",
    "import matplotlib.pyplot as plt\n",
    "from sklearn.tree import DecisionTreeClassifier\n",
    "from sklearn.model_selection import train_test_split\n",
    "from sklearn.metrics import accuracy_score, precision_score, recall_score, confusion_matrix\n",
    "from sklearn.discriminant_analysis import StandardScaler\n",
    "from sklearn.preprocessing import MinMaxScaler\n",
    "\n",
    "import pandas as pd\n",
    "\n",
    "# Assuming df_incidents_cleaned is your original DataFrame\n",
    "\n",
    "UMBALANCE_DATA =  True\n",
    "\n",
    "if not UMBALANCE_DATA:\n",
    "\n",
    "    # Select 100 samples where isKilled is True\n",
    "    killed_samples = df_incidents_dt[df_incidents_dt['isKilled'] == True].sample(n=30000, random_state=42)\n",
    "    \n",
    "    killed_samples_small = df_incidents_dt[df_incidents_dt['isKilled'] == True].sample(n=7000, random_state=42)\n",
    "    # Select 100 samples where isKilled is False\n",
    "    not_killed_samples = df_incidents_dt[df_incidents_dt['isKilled'] == False].sample(n=30000, random_state=42)\n",
    "    \n",
    "    not_killed_samples_small = df_incidents_dt[df_incidents_dt['isKilled'] == False].sample(n=7000, random_state=42)\n",
    "else:\n",
    "    \n",
    "    killed_samples = df_incidents_dt[df_incidents_dt['isKilled'] == True].sample(n=500, random_state=42)\n",
    "    \n",
    "    not_killed_samples = df_incidents_dt[df_incidents_dt['isKilled'] == False].sample(n=3000, random_state=42) \n",
    "\n",
    "\n",
    "# Concatenate the balanced samples into a new DataFrame\n",
    "balanced_df = pd.concat([killed_samples, not_killed_samples])\n",
    "balanced_df_small = pd.concat([killed_samples_small, not_killed_samples_small])\n",
    "# Shuffle the rows in the new DataFrame\n",
    "balanced_df = balanced_df.sample(frac=1, random_state=42).reset_index(drop=True)\n",
    "balanced_df_small = balanced_df_small.sample(frac=1, random_state=42).reset_index(drop=True)\n",
    "# Display the balanced DataFrame\n",
    "#print(balanced_df.head())  # You can replace this with your desired way of using the balanced dataset\n"
   ]
  },
  {
   "cell_type": "code",
   "execution_count": 16,
   "metadata": {},
   "outputs": [
    {
     "name": "stdout",
     "output_type": "stream",
     "text": [
      "<class 'pandas.core.frame.DataFrame'>\n",
      "RangeIndex: 14000 entries, 0 to 13999\n",
      "Data columns (total 55 columns):\n",
      " #   Column                  Non-Null Count  Dtype  \n",
      "---  ------                  --------------  -----  \n",
      " 0   avg_age_participants    14000 non-null  int64  \n",
      " 1   n_females               14000 non-null  int64  \n",
      " 2   n_injured               14000 non-null  int64  \n",
      " 3   n_arrested              14000 non-null  int64  \n",
      " 4   density_incident_state  14000 non-null  float64\n",
      " 5   state_Alabama           14000 non-null  bool   \n",
      " 6   state_Alaska            14000 non-null  bool   \n",
      " 7   state_Arizona           14000 non-null  bool   \n",
      " 8   state_Arkansas          14000 non-null  bool   \n",
      " 9   state_California        14000 non-null  bool   \n",
      " 10  state_Colorado          14000 non-null  bool   \n",
      " 11  state_Connecticut       14000 non-null  bool   \n",
      " 12  state_Delaware          14000 non-null  bool   \n",
      " 13  state_Florida           14000 non-null  bool   \n",
      " 14  state_Georgia           14000 non-null  bool   \n",
      " 15  state_Hawaii            14000 non-null  bool   \n",
      " 16  state_Idaho             14000 non-null  bool   \n",
      " 17  state_Illinois          14000 non-null  bool   \n",
      " 18  state_Indiana           14000 non-null  bool   \n",
      " 19  state_Iowa              14000 non-null  bool   \n",
      " 20  state_Kansas            14000 non-null  bool   \n",
      " 21  state_Kentucky          14000 non-null  bool   \n",
      " 22  state_Louisiana         14000 non-null  bool   \n",
      " 23  state_Maine             14000 non-null  bool   \n",
      " 24  state_Maryland          14000 non-null  bool   \n",
      " 25  state_Massachusetts     14000 non-null  bool   \n",
      " 26  state_Michigan          14000 non-null  bool   \n",
      " 27  state_Minnesota         14000 non-null  bool   \n",
      " 28  state_Mississippi       14000 non-null  bool   \n",
      " 29  state_Missouri          14000 non-null  bool   \n",
      " 30  state_Montana           14000 non-null  bool   \n",
      " 31  state_Nebraska          14000 non-null  bool   \n",
      " 32  state_Nevada            14000 non-null  bool   \n",
      " 33  state_New Hampshire     14000 non-null  bool   \n",
      " 34  state_New Jersey        14000 non-null  bool   \n",
      " 35  state_New Mexico        14000 non-null  bool   \n",
      " 36  state_New York          14000 non-null  bool   \n",
      " 37  state_North Carolina    14000 non-null  bool   \n",
      " 38  state_North Dakota      14000 non-null  bool   \n",
      " 39  state_Ohio              14000 non-null  bool   \n",
      " 40  state_Oklahoma          14000 non-null  bool   \n",
      " 41  state_Oregon            14000 non-null  bool   \n",
      " 42  state_Pennsylvania      14000 non-null  bool   \n",
      " 43  state_Rhode Island      14000 non-null  bool   \n",
      " 44  state_South Carolina    14000 non-null  bool   \n",
      " 45  state_South Dakota      14000 non-null  bool   \n",
      " 46  state_Tennessee         14000 non-null  bool   \n",
      " 47  state_Texas             14000 non-null  bool   \n",
      " 48  state_Utah              14000 non-null  bool   \n",
      " 49  state_Vermont           14000 non-null  bool   \n",
      " 50  state_Virginia          14000 non-null  bool   \n",
      " 51  state_Washington        14000 non-null  bool   \n",
      " 52  state_West Virginia     14000 non-null  bool   \n",
      " 53  state_Wisconsin         14000 non-null  bool   \n",
      " 54  state_Wyoming           14000 non-null  bool   \n",
      "dtypes: bool(50), float64(1), int64(4)\n",
      "memory usage: 1.2 MB\n"
     ]
    }
   ],
   "source": [
    "\n",
    "target = balanced_df['isKilled']\n",
    "target_small = balanced_df_small['isKilled']\n",
    "df_dt = balanced_df.drop(['isKilled'], axis = 1)\n",
    "df_dt_small = balanced_df_small.drop(['isKilled'], axis = 1)\n",
    "df_dt = pd.get_dummies(df_dt)\n",
    "df_dt_small = pd.get_dummies(df_dt_small)\n",
    "df_dt_small.info()\n"
   ]
  },
  {
   "cell_type": "code",
   "execution_count": 17,
   "metadata": {},
   "outputs": [],
   "source": [
    "\n",
    "#X_train, X_test, y_train, y_test = train_test_split(df_dt, target, test_size=test_size, random_state=random_state)\n",
    "train_set, test_set, train_label, test_label = train_test_split(df_dt, target, stratify = target, test_size=0.30)\n",
    "train_set_small, test_set_small, train_label_small, test_label_small = train_test_split(df_dt_small, target_small, stratify = target_small, test_size=0.30)\n"
   ]
  },
  {
   "cell_type": "markdown",
   "metadata": {},
   "source": [
    "### Todo\n",
    "- Evaluate Normalization for each model as specific pre-processing (Y)\n",
    "- Confusion matrix for each model (Y)\n",
    "- ROC Curve for each model or general comparison between all models's ROC curve (Y)\n",
    "- Decision tree grid search (Y)\n",
    "    - Evaluate split based on GINI, Entropy and Misclassification error (Y)\n",
    "    - Hunt’s algorithm for semi-optimal DT on large dataset (N)\n",
    "    - Trees comparison by plot error vs number of nodes of DT in train and test (Y)\n",
    "    - Evaluate complexity using Minimum Description Length (BOH)\n",
    "- For NN, evaluate sampling strategies (even simplest one like stratified, over/under) (N)\n",
    "- Ensemble methods (?)\n",
    "    - AdaBoost (explained) (boh, se cè tempo)"
   ]
  },
  {
   "cell_type": "markdown",
   "metadata": {},
   "source": [
    "# Regression"
   ]
  },
  {
   "cell_type": "code",
   "execution_count": 18,
   "metadata": {},
   "outputs": [
    {
     "name": "stdout",
     "output_type": "stream",
     "text": [
      "Accuracy score:  0.8428571428571429\n",
      "Precision score:  0.36363636363636365\n",
      "Recall score:  0.13333333333333333\n"
     ]
    }
   ],
   "source": [
    "# import linear regression from sklearn\n",
    "from sklearn.linear_model import LinearRegression\n",
    "from sklearn.linear_model import LogisticRegression\n",
    "# add grid search CV\n",
    "from sklearn.model_selection import GridSearchCV\n",
    "\n",
    "clf = LogisticRegression(random_state=0, max_iter=700, penalty='l2').fit(train_set, train_label)\n",
    "\n",
    "clf.predict(test_set)\n",
    "\n",
    "clf.predict_proba(test_set)\n",
    "\n",
    "clf.score\n",
    "\n",
    "\n",
    "# print scores\n",
    "print('Accuracy score: ', accuracy_score(test_label, clf.predict(test_set)))\n",
    "print('Precision score: ', precision_score(test_label, clf.predict(test_set)))\n",
    "print('Recall score: ', recall_score(test_label, clf.predict(test_set)))"
   ]
  },
  {
   "cell_type": "markdown",
   "metadata": {},
   "source": [
    "# Decision Tree\n"
   ]
  },
  {
   "cell_type": "code",
   "execution_count": 19,
   "metadata": {},
   "outputs": [],
   "source": [
    "#define a decision tree and fit it\n",
    "from sklearn import tree\n",
    "dt = tree.DecisionTreeClassifier(criterion='entropy', \n",
    "                                splitter='best', \n",
    "                                max_depth=10, \n",
    "                                min_samples_split=60, \n",
    "                                min_samples_leaf=30)\n",
    "dt = dt.fit(train_set, train_label)"
   ]
  },
  {
   "cell_type": "code",
   "execution_count": 20,
   "metadata": {},
   "outputs": [],
   "source": [
    "#visualize the actual decision tree obtained \n",
    "#import pydotplus \n",
    "##from IPython.display import Image  \n",
    "#dot_data = tree.export_graphviz(dt, out_file=None, \n",
    "#                         feature_names=list(train_set.columns),  \n",
    "#                         class_names=['<=50', '>50'],  \n",
    "#                         filled=True, rounded=True)  \n",
    "#graph = pydotplus.graph_from_dot_data(dot_data)  \n",
    "#Image(graph.create_png())"
   ]
  },
  {
   "cell_type": "code",
   "execution_count": 21,
   "metadata": {},
   "outputs": [],
   "source": [
    "#predict using the decision tree\n",
    "#the predict function returns the actual predicted labels: we need them for the evaluation phase\n",
    "train_pred_dt = dt.predict(train_set)\n",
    "test_pred_dt = dt.predict(test_set)"
   ]
  },
  {
   "cell_type": "code",
   "execution_count": 22,
   "metadata": {},
   "outputs": [
    {
     "name": "stdout",
     "output_type": "stream",
     "text": [
      "Accuracy train set  0.88\n",
      "Accuracy test set  0.8657142857142858\n",
      "Precision train set  0.8637976929902396\n",
      "Recall train set  0.88\n",
      "F1 score train set  0.8651991095720999\n",
      "Support train set  (array([0.90062112, 0.64285714]), array([0.96666667, 0.36      ]), array([0.93247588, 0.46153846]), array([2100,  350]))\n"
     ]
    }
   ],
   "source": [
    "#evaulate the accuracy on the train set and the test set\n",
    "#metrics also contains precision, recall, f1 and the support\n",
    "from sklearn import metrics\n",
    "\n",
    "print('Accuracy train set ', metrics.accuracy_score(train_label, train_pred_dt))\n",
    "print('Accuracy test set ', metrics.accuracy_score(test_label, test_pred_dt))\n",
    "print('Precision train set ', metrics.precision_score(train_label, train_pred_dt, average='weighted'))\n",
    "print('Recall train set ', metrics.recall_score(train_label, train_pred_dt, average='weighted'))\n",
    "print('F1 score train set ', metrics.f1_score(train_label, train_pred_dt, average='weighted'))\n",
    "print('Support train set ', metrics.precision_recall_fscore_support(train_label, train_pred_dt))"
   ]
  },
  {
   "cell_type": "code",
   "execution_count": 23,
   "metadata": {},
   "outputs": [],
   "source": [
    "#metrics computed on the test set\n",
    "from sklearn.metrics import classification_report\n",
    "def report_scores(test_label, test_pred):\n",
    "    print(classification_report(test_label, \n",
    "                            test_pred, \n",
    "                            target_names=['0', '1']))"
   ]
  },
  {
   "cell_type": "code",
   "execution_count": 24,
   "metadata": {},
   "outputs": [
    {
     "name": "stdout",
     "output_type": "stream",
     "text": [
      "              precision    recall  f1-score   support\n",
      "\n",
      "           0       0.89      0.96      0.92       900\n",
      "           1       0.55      0.31      0.40       150\n",
      "\n",
      "    accuracy                           0.87      1050\n",
      "   macro avg       0.72      0.64      0.66      1050\n",
      "weighted avg       0.84      0.87      0.85      1050\n",
      "\n"
     ]
    }
   ],
   "source": [
    "report_scores(test_label, test_pred_dt)\n"
   ]
  },
  {
   "cell_type": "markdown",
   "metadata": {},
   "source": [
    "# Neural Network: MLP"
   ]
  },
  {
   "cell_type": "code",
   "execution_count": 25,
   "metadata": {},
   "outputs": [
    {
     "name": "stderr",
     "output_type": "stream",
     "text": [
      "2024-01-07 09:30:06.346818: I tensorflow/core/util/port.cc:113] oneDNN custom operations are on. You may see slightly different numerical results due to floating-point round-off errors from different computation orders. To turn them off, set the environment variable `TF_ENABLE_ONEDNN_OPTS=0`.\n",
      "2024-01-07 09:30:06.376180: I external/local_tsl/tsl/cuda/cudart_stub.cc:31] Could not find cuda drivers on your machine, GPU will not be used.\n",
      "2024-01-07 09:30:06.498346: E external/local_xla/xla/stream_executor/cuda/cuda_dnn.cc:9261] Unable to register cuDNN factory: Attempting to register factory for plugin cuDNN when one has already been registered\n",
      "2024-01-07 09:30:06.498418: E external/local_xla/xla/stream_executor/cuda/cuda_fft.cc:607] Unable to register cuFFT factory: Attempting to register factory for plugin cuFFT when one has already been registered\n",
      "2024-01-07 09:30:06.519232: E external/local_xla/xla/stream_executor/cuda/cuda_blas.cc:1515] Unable to register cuBLAS factory: Attempting to register factory for plugin cuBLAS when one has already been registered\n",
      "2024-01-07 09:30:06.567770: I external/local_tsl/tsl/cuda/cudart_stub.cc:31] Could not find cuda drivers on your machine, GPU will not be used.\n",
      "2024-01-07 09:30:06.569242: I tensorflow/core/platform/cpu_feature_guard.cc:182] This TensorFlow binary is optimized to use available CPU instructions in performance-critical operations.\n",
      "To enable the following instructions: AVX2 AVX_VNNI FMA, in other operations, rebuild TensorFlow with the appropriate compiler flags.\n",
      "2024-01-07 09:30:07.416673: W tensorflow/compiler/tf2tensorrt/utils/py_utils.cc:38] TF-TRT Warning: Could not find TensorRT\n"
     ]
    }
   ],
   "source": [
    "import tensorflow as tf\n",
    "import numpy as np\n",
    "#train_set, test_set, train_label, test_label\n",
    "\n",
    "model = tf.keras.models.Sequential([\n",
    "  tf.keras.layers.Flatten(input_shape=(1, 55)),\n",
    "  tf.keras.layers.Dense(32, activation='sigmoid'),  \n",
    "  tf.keras.layers.Dense(1, activation='sigmoid')\n",
    "])\n",
    "\n",
    "\n",
    "\n",
    "model.compile(optimizer='adamax',\n",
    "              loss='mean_squared_error',\n",
    "              metrics=['accuracy'])"
   ]
  },
  {
   "cell_type": "code",
   "execution_count": 26,
   "metadata": {},
   "outputs": [
    {
     "name": "stdout",
     "output_type": "stream",
     "text": [
      "Epoch 1/30\n",
      "8/8 [==============================] - 0s 21ms/step - loss: 0.1397 - accuracy: 0.8592 - val_loss: 0.1389 - val_accuracy: 0.8490\n",
      "Epoch 2/30\n",
      "8/8 [==============================] - 0s 6ms/step - loss: 0.1310 - accuracy: 0.8592 - val_loss: 0.1336 - val_accuracy: 0.8490\n",
      "Epoch 3/30\n",
      "8/8 [==============================] - 0s 5ms/step - loss: 0.1265 - accuracy: 0.8592 - val_loss: 0.1308 - val_accuracy: 0.8490\n",
      "Epoch 4/30\n",
      "8/8 [==============================] - 0s 5ms/step - loss: 0.1241 - accuracy: 0.8592 - val_loss: 0.1293 - val_accuracy: 0.8490\n",
      "Epoch 5/30\n",
      "8/8 [==============================] - 0s 5ms/step - loss: 0.1225 - accuracy: 0.8592 - val_loss: 0.1286 - val_accuracy: 0.8490\n",
      "Epoch 6/30\n",
      "8/8 [==============================] - 0s 5ms/step - loss: 0.1218 - accuracy: 0.8592 - val_loss: 0.1282 - val_accuracy: 0.8490\n",
      "Epoch 7/30\n",
      "8/8 [==============================] - 0s 6ms/step - loss: 0.1213 - accuracy: 0.8592 - val_loss: 0.1280 - val_accuracy: 0.8490\n",
      "Epoch 8/30\n",
      "8/8 [==============================] - 0s 5ms/step - loss: 0.1210 - accuracy: 0.8592 - val_loss: 0.1279 - val_accuracy: 0.8490\n",
      "Epoch 9/30\n",
      "8/8 [==============================] - 0s 5ms/step - loss: 0.1208 - accuracy: 0.8592 - val_loss: 0.1278 - val_accuracy: 0.8490\n",
      "Epoch 10/30\n",
      "8/8 [==============================] - 0s 6ms/step - loss: 0.1207 - accuracy: 0.8592 - val_loss: 0.1277 - val_accuracy: 0.8490\n",
      "Epoch 11/30\n",
      "8/8 [==============================] - 0s 5ms/step - loss: 0.1205 - accuracy: 0.8592 - val_loss: 0.1277 - val_accuracy: 0.8490\n",
      "Epoch 12/30\n",
      "8/8 [==============================] - 0s 5ms/step - loss: 0.1204 - accuracy: 0.8592 - val_loss: 0.1276 - val_accuracy: 0.8490\n",
      "Epoch 13/30\n",
      "8/8 [==============================] - 0s 8ms/step - loss: 0.1204 - accuracy: 0.8592 - val_loss: 0.1276 - val_accuracy: 0.8490\n",
      "Epoch 14/30\n",
      "8/8 [==============================] - 0s 4ms/step - loss: 0.1203 - accuracy: 0.8592 - val_loss: 0.1275 - val_accuracy: 0.8490\n",
      "Epoch 15/30\n",
      "8/8 [==============================] - 0s 8ms/step - loss: 0.1202 - accuracy: 0.8592 - val_loss: 0.1275 - val_accuracy: 0.8490\n",
      "Epoch 16/30\n",
      "8/8 [==============================] - 0s 5ms/step - loss: 0.1201 - accuracy: 0.8592 - val_loss: 0.1274 - val_accuracy: 0.8490\n",
      "Epoch 17/30\n",
      "8/8 [==============================] - 0s 5ms/step - loss: 0.1200 - accuracy: 0.8592 - val_loss: 0.1274 - val_accuracy: 0.8490\n",
      "Epoch 18/30\n",
      "8/8 [==============================] - 0s 5ms/step - loss: 0.1200 - accuracy: 0.8592 - val_loss: 0.1273 - val_accuracy: 0.8490\n",
      "Epoch 19/30\n",
      "8/8 [==============================] - 0s 5ms/step - loss: 0.1199 - accuracy: 0.8592 - val_loss: 0.1273 - val_accuracy: 0.8490\n",
      "Epoch 20/30\n",
      "8/8 [==============================] - 0s 5ms/step - loss: 0.1198 - accuracy: 0.8592 - val_loss: 0.1272 - val_accuracy: 0.8490\n",
      "Epoch 21/30\n",
      "8/8 [==============================] - 0s 4ms/step - loss: 0.1197 - accuracy: 0.8592 - val_loss: 0.1272 - val_accuracy: 0.8490\n",
      "Epoch 22/30\n",
      "8/8 [==============================] - 0s 5ms/step - loss: 0.1196 - accuracy: 0.8592 - val_loss: 0.1271 - val_accuracy: 0.8490\n",
      "Epoch 23/30\n",
      "8/8 [==============================] - 0s 4ms/step - loss: 0.1196 - accuracy: 0.8592 - val_loss: 0.1270 - val_accuracy: 0.8490\n",
      "Epoch 24/30\n",
      "8/8 [==============================] - 0s 5ms/step - loss: 0.1195 - accuracy: 0.8592 - val_loss: 0.1270 - val_accuracy: 0.8490\n",
      "Epoch 25/30\n",
      "8/8 [==============================] - 0s 5ms/step - loss: 0.1194 - accuracy: 0.8592 - val_loss: 0.1269 - val_accuracy: 0.8490\n",
      "Epoch 26/30\n",
      "8/8 [==============================] - 0s 5ms/step - loss: 0.1193 - accuracy: 0.8592 - val_loss: 0.1268 - val_accuracy: 0.8490\n",
      "Epoch 27/30\n",
      "8/8 [==============================] - 0s 5ms/step - loss: 0.1192 - accuracy: 0.8592 - val_loss: 0.1268 - val_accuracy: 0.8490\n",
      "Epoch 28/30\n",
      "8/8 [==============================] - 0s 5ms/step - loss: 0.1192 - accuracy: 0.8592 - val_loss: 0.1267 - val_accuracy: 0.8490\n",
      "Epoch 29/30\n",
      "8/8 [==============================] - 0s 4ms/step - loss: 0.1191 - accuracy: 0.8592 - val_loss: 0.1266 - val_accuracy: 0.8490\n",
      "Epoch 30/30\n",
      "8/8 [==============================] - 0s 5ms/step - loss: 0.1190 - accuracy: 0.8592 - val_loss: 0.1266 - val_accuracy: 0.8490\n"
     ]
    }
   ],
   "source": [
    "y_train = np.asarray(train_label).astype('float32').reshape((-1,1))\n",
    "x_train = np.reshape(train_set.values, (len(train_set), 1, len(train_set.columns)))\n",
    "x_train = x_train.astype(np.float32)\n",
    "y_train = y_train.astype(np.float32)\n",
    "history = model.fit(x_train, y_train,\n",
    "                    epochs=30,\n",
    "                    batch_size=256,\n",
    "                    validation_split=0.2)"
   ]
  },
  {
   "cell_type": "code",
   "execution_count": 27,
   "metadata": {},
   "outputs": [
    {
     "name": "stdout",
     "output_type": "stream",
     "text": [
      "Model: \"sequential\"\n",
      "_________________________________________________________________\n",
      " Layer (type)                Output Shape              Param #   \n",
      "=================================================================\n",
      " flatten (Flatten)           (None, 55)                0         \n",
      "                                                                 \n",
      " dense (Dense)               (None, 32)                1792      \n",
      "                                                                 \n",
      " dense_1 (Dense)             (None, 1)                 33        \n",
      "                                                                 \n",
      "=================================================================\n",
      "Total params: 1825 (7.13 KB)\n",
      "Trainable params: 1825 (7.13 KB)\n",
      "Non-trainable params: 0 (0.00 Byte)\n",
      "_________________________________________________________________\n"
     ]
    }
   ],
   "source": [
    "model.summary()"
   ]
  },
  {
   "cell_type": "code",
   "execution_count": 28,
   "metadata": {},
   "outputs": [
    {
     "data": {
      "image/png": "[encoded data removed]",
      "text/plain": [
       "<Figure size 640x480 with 1 Axes>"
      ]
     },
     "metadata": {},
     "output_type": "display_data"
    }
   ],
   "source": [
    "import matplotlib.pyplot as plt\n",
    "acc = history.history['accuracy']\n",
    "val_acc = history.history['val_accuracy']\n",
    "loss = history.history['loss']\n",
    "val_loss = history.history['val_loss']\n",
    "epochs = range(1, len(acc) + 1)\n",
    "plt.plot(epochs, acc, 'bo', label='Training Acc')\n",
    "plt.plot(epochs, val_acc, 'b', label='Validation Acc')\n",
    "plt.title('Training and validation Acc')\n",
    "plt.xlabel('Epochs')\n",
    "plt.ylabel('Acc')\n",
    "plt.legend()\n",
    "plt.show()"
   ]
  },
  {
   "cell_type": "code",
   "execution_count": 29,
   "metadata": {},
   "outputs": [
    {
     "name": "stdout",
     "output_type": "stream",
     "text": [
      "33/33 [==============================] - 0s 1ms/step\n"
     ]
    }
   ],
   "source": [
    "# Convert the test set to float32 if needed\n",
    "x_test = np.reshape(test_set.values, (len(test_set), 1, len(test_set.columns)))\n",
    "x_test = x_test.astype(np.float32)\n",
    "\n",
    "# Then proceed with prediction\n",
    "test_pred_nn = (model.predict(x_test) > 0.6).astype(\"int32\")\n"
   ]
  },
  {
   "cell_type": "code",
   "execution_count": 30,
   "metadata": {},
   "outputs": [
    {
     "name": "stdout",
     "output_type": "stream",
     "text": [
      "              precision    recall  f1-score   support\n",
      "\n",
      "           0       0.86      1.00      0.92       900\n",
      "           1       0.00      0.00      0.00       150\n",
      "\n",
      "    accuracy                           0.86      1050\n",
      "   macro avg       0.43      0.50      0.46      1050\n",
      "weighted avg       0.73      0.86      0.79      1050\n",
      "\n"
     ]
    },
    {
     "name": "stderr",
     "output_type": "stream",
     "text": [
      "/home/luca/.local/lib/python3.10/site-packages/sklearn/metrics/_classification.py:1471: UndefinedMetricWarning:\n",
      "\n",
      "Precision and F-score are ill-defined and being set to 0.0 in labels with no predicted samples. Use `zero_division` parameter to control this behavior.\n",
      "\n",
      "/home/luca/.local/lib/python3.10/site-packages/sklearn/metrics/_classification.py:1471: UndefinedMetricWarning:\n",
      "\n",
      "Precision and F-score are ill-defined and being set to 0.0 in labels with no predicted samples. Use `zero_division` parameter to control this behavior.\n",
      "\n",
      "/home/luca/.local/lib/python3.10/site-packages/sklearn/metrics/_classification.py:1471: UndefinedMetricWarning:\n",
      "\n",
      "Precision and F-score are ill-defined and being set to 0.0 in labels with no predicted samples. Use `zero_division` parameter to control this behavior.\n",
      "\n"
     ]
    }
   ],
   "source": [
    "report_scores(test_label, test_pred_nn)"
   ]
  },
  {
   "cell_type": "markdown",
   "metadata": {},
   "source": [
    "# Trying now models that can't scale really well with data size"
   ]
  },
  {
   "cell_type": "markdown",
   "metadata": {},
   "source": [
    "## K-NN Classifier\n"
   ]
  },
  {
   "cell_type": "code",
   "execution_count": 31,
   "metadata": {},
   "outputs": [
    {
     "name": "stderr",
     "output_type": "stream",
     "text": [
      "100%|██████████| 24/24 [00:17<00:00,  1.36it/s]\n"
     ]
    }
   ],
   "source": [
    "from sklearn.neighbors import KNeighborsClassifier\n",
    "# use tqdm\n",
    "import tqdm\n",
    "\n",
    "k_list = [x for x in range(1, 25)]\n",
    "\n",
    "knn_list = []\n",
    "for k in tqdm.tqdm(k_list):\n",
    "    knn = KNeighborsClassifier(n_neighbors=k)\n",
    "    knn.fit(train_set_small, train_label_small)\n",
    "    knn_list.append(knn.score(test_set_small, test_label_small))\n",
    "    \n",
    "    # predictions\n",
    "    prediction_train = knn.predict(train_set_small)\n",
    "    prediction_test = knn.predict(test_set_small)\n",
    "    \n",
    "    #accuracy\n",
    "    accuracy_train = metrics.accuracy_score(train_label_small, prediction_train)\n",
    "    accuracy_test = metrics.accuracy_score(test_label_small, prediction_test)\n",
    "    \n",
    "    "
   ]
  },
  {
   "cell_type": "code",
   "execution_count": 32,
   "metadata": {},
   "outputs": [
    {
     "name": "stdout",
     "output_type": "stream",
     "text": [
      "0.7420408163265306\n",
      "0.7176190476190476\n"
     ]
    }
   ],
   "source": [
    "# print accuracy\n",
    "print(accuracy_train)\n",
    "print(accuracy_test)"
   ]
  },
  {
   "cell_type": "code",
   "execution_count": 33,
   "metadata": {},
   "outputs": [
    {
     "data": {
      "image/png": "[encoded data removed]",
      "text/plain": [
       "<Figure size 640x480 with 1 Axes>"
      ]
     },
     "metadata": {},
     "output_type": "display_data"
    }
   ],
   "source": [
    "# plot results knn on x axis and accuracy on y axis\n",
    "plt.plot(k_list, knn_list)\n",
    "plt.xlabel('k')\n",
    "plt.ylabel('Accuracy')\n",
    "#track each k only\n",
    "plt.xticks(k_list)\n",
    "plt.title('Accuracy for different values of k')\n",
    "# todo plot scores\n",
    "plt.show()  "
   ]
  },
  {
   "cell_type": "markdown",
   "metadata": {},
   "source": [
    "# SVM:"
   ]
  },
  {
   "cell_type": "code",
   "execution_count": 34,
   "metadata": {},
   "outputs": [],
   "source": [
    "import numpy as np\n",
    "import pandas as pd\n",
    "from sklearn.model_selection import train_test_split\n",
    "from sklearn.svm import SVC\n",
    "from sklearn.metrics import accuracy_score, classification_report\n",
    "from sklearn import svm\n",
    "\n",
    "#train_set, test_set, train_label, test_label = train_test_split(df_dt, target, stratify = target, test_size=0.30)\n",
    "# X_train, X_test, y_train, y_test = train_test_split(df_dt, target, test_size=test_size, random_state=random_state)\n",
    "\n",
    "#x_train_reshaped = train_set.reshape(train_set.shape[0], -1)\n",
    "\n",
    "\n",
    "svm_classifier = SVC(kernel='linear')\n",
    "\n",
    "svm_classifier_rbf = SVC(kernel='rbf', C=1, gamma=0.1)\n",
    "\n",
    "svm_classifier.fit(train_set_small, train_label_small)\n",
    "\n",
    "svm_classifier_rbf.fit(train_set_small, train_label_small)"
   ]
  },
  {
   "cell_type": "code",
   "execution_count": null,
   "metadata": {},
   "outputs": [],
   "source": [
    "def print_svm_scores(svm_classifier):\n",
    "    print(\"Accuracy on training set: {:.3f}\".format(svm_classifier.score(train_set_small, train_label_small)))\n",
    "    print(\"Accuracy on test set: {:.3f}\".format(svm_classifier.score(test_set_small, test_label_small)))\n",
    "    \n",
    "    # Make predictions\n",
    "    y_pred = svm_classifier.predict(test_set_small)\n",
    "\n",
    "    # Evaluate the model\n",
    "    accuracy = accuracy_score(test_label_small, y_pred)\n",
    "    report = classification_report(test_label_small, y_pred)\n",
    "\n",
    "    print(f\"Accuracy: {accuracy:.2f}\")\n",
    "    print(\"Classification Report:\")\n",
    "    print(report)"
   ]
  },
  {
   "cell_type": "code",
   "execution_count": null,
   "metadata": {},
   "outputs": [
    {
     "name": "stdout",
     "output_type": "stream",
     "text": [
      "Accuracy on training set: 0.736\n",
      "Accuracy on test set: 0.727\n",
      "Accuracy: 0.73\n",
      "Classification Report:\n",
      "              precision    recall  f1-score   support\n",
      "\n",
      "       False       0.76      0.66      0.71      2100\n",
      "        True       0.70      0.80      0.75      2100\n",
      "\n",
      "    accuracy                           0.73      4200\n",
      "   macro avg       0.73      0.73      0.73      4200\n",
      "weighted avg       0.73      0.73      0.73      4200\n",
      "\n"
     ]
    }
   ],
   "source": [
    "print_svm_scores(svm_classifier)"
   ]
  },
  {
   "cell_type": "code",
   "execution_count": null,
   "metadata": {},
   "outputs": [
    {
     "name": "stdout",
     "output_type": "stream",
     "text": [
      "Accuracy on training set: 0.784\n",
      "Accuracy on test set: 0.754\n",
      "Accuracy: 0.75\n",
      "Classification Report:\n",
      "              precision    recall  f1-score   support\n",
      "\n",
      "       False       0.73      0.81      0.77      2100\n",
      "        True       0.79      0.70      0.74      2100\n",
      "\n",
      "    accuracy                           0.75      4200\n",
      "   macro avg       0.76      0.75      0.75      4200\n",
      "weighted avg       0.76      0.75      0.75      4200\n",
      "\n"
     ]
    }
   ],
   "source": [
    "print_svm_scores(svm_classifier_rbf)"
   ]
  },
  {
   "cell_type": "markdown",
   "metadata": {},
   "source": [
    "# BE CAREFUL WE CAN MOVE THIS UP BECAUSE THIS DO NOT SUFFER OF PROBLEM WITH DATA SIZE"
   ]
  },
  {
   "cell_type": "markdown",
   "metadata": {},
   "source": [
    "## Radom Forest"
   ]
  },
  {
   "cell_type": "code",
   "execution_count": null,
   "metadata": {},
   "outputs": [
    {
     "data": {
      "text/html": [
       "<style>#sk-container-id-2 {color: black;}#sk-container-id-2 pre{padding: 0;}#sk-container-id-2 div.sk-toggleable {background-color: white;}#sk-container-id-2 label.sk-toggleable__label {cursor: pointer;display: block;width: 100%;margin-bottom: 0;padding: 0.3em;box-sizing: border-box;text-align: center;}#sk-container-id-2 label.sk-toggleable__label-arrow:before {content: \"▸\";float: left;margin-right: 0.25em;color: #696969;}#sk-container-id-2 label.sk-toggleable__label-arrow:hover:before {color: black;}#sk-container-id-2 div.sk-estimator:hover label.sk-toggleable__label-arrow:before {color: black;}#sk-container-id-2 div.sk-toggleable__content {max-height: 0;max-width: 0;overflow: hidden;text-align: left;background-color: #f0f8ff;}#sk-container-id-2 div.sk-toggleable__content pre {margin: 0.2em;color: black;border-radius: 0.25em;background-color: #f0f8ff;}#sk-container-id-2 input.sk-toggleable__control:checked~div.sk-toggleable__content {max-height: 200px;max-width: 100%;overflow: auto;}#sk-container-id-2 input.sk-toggleable__control:checked~label.sk-toggleable__label-arrow:before {content: \"▾\";}#sk-container-id-2 div.sk-estimator input.sk-toggleable__control:checked~label.sk-toggleable__label {background-color: #d4ebff;}#sk-container-id-2 div.sk-label input.sk-toggleable__control:checked~label.sk-toggleable__label {background-color: #d4ebff;}#sk-container-id-2 input.sk-hidden--visually {border: 0;clip: rect(1px 1px 1px 1px);clip: rect(1px, 1px, 1px, 1px);height: 1px;margin: -1px;overflow: hidden;padding: 0;position: absolute;width: 1px;}#sk-container-id-2 div.sk-estimator {font-family: monospace;background-color: #f0f8ff;border: 1px dotted black;border-radius: 0.25em;box-sizing: border-box;margin-bottom: 0.5em;}#sk-container-id-2 div.sk-estimator:hover {background-color: #d4ebff;}#sk-container-id-2 div.sk-parallel-item::after {content: \"\";width: 100%;border-bottom: 1px solid gray;flex-grow: 1;}#sk-container-id-2 div.sk-label:hover label.sk-toggleable__label {background-color: #d4ebff;}#sk-container-id-2 div.sk-serial::before {content: \"\";position: absolute;border-left: 1px solid gray;box-sizing: border-box;top: 0;bottom: 0;left: 50%;z-index: 0;}#sk-container-id-2 div.sk-serial {display: flex;flex-direction: column;align-items: center;background-color: white;padding-right: 0.2em;padding-left: 0.2em;position: relative;}#sk-container-id-2 div.sk-item {position: relative;z-index: 1;}#sk-container-id-2 div.sk-parallel {display: flex;align-items: stretch;justify-content: center;background-color: white;position: relative;}#sk-container-id-2 div.sk-item::before, #sk-container-id-2 div.sk-parallel-item::before {content: \"\";position: absolute;border-left: 1px solid gray;box-sizing: border-box;top: 0;bottom: 0;left: 50%;z-index: -1;}#sk-container-id-2 div.sk-parallel-item {display: flex;flex-direction: column;z-index: 1;position: relative;background-color: white;}#sk-container-id-2 div.sk-parallel-item:first-child::after {align-self: flex-end;width: 50%;}#sk-container-id-2 div.sk-parallel-item:last-child::after {align-self: flex-start;width: 50%;}#sk-container-id-2 div.sk-parallel-item:only-child::after {width: 0;}#sk-container-id-2 div.sk-dashed-wrapped {border: 1px dashed gray;margin: 0 0.4em 0.5em 0.4em;box-sizing: border-box;padding-bottom: 0.4em;background-color: white;}#sk-container-id-2 div.sk-label label {font-family: monospace;font-weight: bold;display: inline-block;line-height: 1.2em;}#sk-container-id-2 div.sk-label-container {text-align: center;}#sk-container-id-2 div.sk-container {/* jupyter's `normalize.less` sets `[hidden] { display: none; }` but bootstrap.min.css set `[hidden] { display: none !important; }` so we also need the `!important` here to be able to override the default hidden behavior on the sphinx rendered scikit-learn.org. See: https://github.com/scikit-learn/scikit-learn/issues/21755 */display: inline-block !important;position: relative;}#sk-container-id-2 div.sk-text-repr-fallback {display: none;}</style><div id=\"sk-container-id-2\" class=\"sk-top-container\"><div class=\"sk-text-repr-fallback\"><pre>RandomForestClassifier(criterion=&#x27;entropy&#x27;, max_depth=10, max_features=10,\n",
       "                       min_samples_leaf=10)</pre><b>In a Jupyter environment, please rerun this cell to show the HTML representation or trust the notebook. <br />On GitHub, the HTML representation is unable to render, please try loading this page with nbviewer.org.</b></div><div class=\"sk-container\" hidden><div class=\"sk-item\"><div class=\"sk-estimator sk-toggleable\"><input class=\"sk-toggleable__control sk-hidden--visually\" id=\"sk-estimator-id-2\" type=\"checkbox\" checked><label for=\"sk-estimator-id-2\" class=\"sk-toggleable__label sk-toggleable__label-arrow\">RandomForestClassifier</label><div class=\"sk-toggleable__content\"><pre>RandomForestClassifier(criterion=&#x27;entropy&#x27;, max_depth=10, max_features=10,\n",
       "                       min_samples_leaf=10)</pre></div></div></div></div></div>"
      ],
      "text/plain": [
       "RandomForestClassifier(criterion='entropy', max_depth=10, max_features=10,\n",
       "                       min_samples_leaf=10)"
      ]
     },
     "execution_count": 67,
     "metadata": {},
     "output_type": "execute_result"
    }
   ],
   "source": [
    "# try random forest without grid search\n",
    "\n",
    "from sklearn.ensemble import RandomForestClassifier\n",
    "\n",
    "from sklearn.preprocessing import StandardScaler\n",
    "\n",
    "scaler = StandardScaler()\n",
    "\n",
    "train_set_scaled = scaler.fit_transform(train_set)\n",
    "train_set_scaled = train_set\n",
    "\n",
    "clf = RandomForestClassifier(max_depth=10, max_features=10, min_samples_leaf=10, criterion='entropy', n_estimators = 100)\n",
    "clf_gini = RandomForestClassifier(max_depth=10, max_features=10, min_samples_leaf=10, criterion='gini', n_estimators = 100)\n",
    "\n",
    "clf_gini.fit(train_set_scaled, train_label)\n",
    "clf.fit(train_set_scaled, train_label)\n"
   ]
  },
  {
   "cell_type": "markdown",
   "metadata": {},
   "source": [
    "# Scores for entropy and gini"
   ]
  },
  {
   "cell_type": "code",
   "execution_count": null,
   "metadata": {},
   "outputs": [
    {
     "name": "stdout",
     "output_type": "stream",
     "text": [
      "Scores for entropy\n",
      "\n",
      "\n",
      "              precision    recall  f1-score   support\n",
      "\n",
      "           0       0.74      0.84      0.79     21000\n",
      "           1       0.82      0.70      0.75     21000\n",
      "\n",
      "    accuracy                           0.77     42000\n",
      "   macro avg       0.78      0.77      0.77     42000\n",
      "weighted avg       0.78      0.77      0.77     42000\n",
      "\n",
      "Scores for gini\n",
      "\n",
      "\n",
      "              precision    recall  f1-score   support\n",
      "\n",
      "           0       0.74      0.85      0.79     21000\n",
      "           1       0.82      0.70      0.75     21000\n",
      "\n",
      "    accuracy                           0.77     42000\n",
      "   macro avg       0.78      0.77      0.77     42000\n",
      "weighted avg       0.78      0.77      0.77     42000\n",
      "\n"
     ]
    }
   ],
   "source": [
    "#metrics computed on the test set\n",
    "\n",
    "from sklearn.metrics import classification_report\n",
    "\n",
    "def report_scores(test_label, test_pred):\n",
    "    print(classification_report(test_label, \n",
    "                            test_pred, \n",
    "                            target_names=['0', '1']))\n",
    "    \n",
    "print(\"Scores for entropy\\n\\n\")\n",
    "    \n",
    "y_pred_test = clf.predict(train_set_scaled)\n",
    "report_scores(train_label, y_pred_test)\n",
    "\n",
    "###### gini\n",
    "\n",
    "print(\"Scores for gini\\n\\n\")\n",
    "\n",
    "y_pred_test = clf_gini.predict(train_set_scaled)\n",
    "report_scores(train_label, y_pred_test)\n"
   ]
  },
  {
   "cell_type": "markdown",
   "metadata": {},
   "source": [
    "Random forest"
   ]
  },
  {
   "cell_type": "code",
   "execution_count": null,
   "metadata": {},
   "outputs": [
    {
     "name": "stdout",
     "output_type": "stream",
     "text": [
      "Classification Report - Full df:\n",
      "              precision    recall  f1-score   support\n",
      "\n",
      "       False       0.74      0.75      0.75      9000\n",
      "        True       0.75      0.74      0.74      9000\n",
      "\n",
      "    accuracy                           0.74     18000\n",
      "   macro avg       0.74      0.74      0.74     18000\n",
      "weighted avg       0.74      0.74      0.74     18000\n",
      "\n",
      "Confusion Matrix - full df:\n",
      "[[6739 2261]\n",
      " [2338 6662]]\n",
      "##############################################\n",
      "\n",
      "Classification Report - reduced df:\n",
      "              precision    recall  f1-score   support\n",
      "\n",
      "       False       0.71      0.72      0.72      2100\n",
      "        True       0.72      0.71      0.72      2100\n",
      "\n",
      "    accuracy                           0.72      4200\n",
      "   macro avg       0.72      0.72      0.72      4200\n",
      "weighted avg       0.72      0.72      0.72      4200\n",
      "\n",
      "Confusion Matrix - reduced df:\n",
      "[[1522  578]\n",
      " [ 609 1491]]\n"
     ]
    }
   ],
   "source": [
    "from sklearn.ensemble import RandomForestClassifier\n",
    "from sklearn.metrics import classification_report, confusion_matrix\n",
    "\n",
    "# random forest classifier\n",
    "rf_classifier = RandomForestClassifier(n_estimators=100, random_state=42)\n",
    "\n",
    "# rand forest full ds\n",
    "rf_classifier.fit(train_set, train_label)\n",
    "\n",
    "# evaluate on test set full ds\n",
    "test_predictions = rf_classifier.predict(test_set)\n",
    "\n",
    "# Visualize metrics\n",
    "print(\"Classification Report - Full df:\")\n",
    "print(classification_report(test_label, test_predictions))\n",
    "print(\"Confusion Matrix - full df:\")\n",
    "print(confusion_matrix(test_label, test_predictions))\n",
    "print(\"##############################################\")\n",
    "\n",
    "# train model on reduced df\n",
    "rf_classifier.fit(train_set_small, train_label_small)\n",
    "\n",
    "# evalutate on test set reduced df\n",
    "test_predictions_small = rf_classifier.predict(test_set_small)\n",
    "\n",
    "# Visualize metrics\n",
    "print(\"\\nClassification Report - reduced df:\")\n",
    "print(classification_report(test_label_small, test_predictions_small))\n",
    "print(\"Confusion Matrix - reduced df:\")\n",
    "print(confusion_matrix(test_label_small, test_predictions_small))\n"
   ]
  },
  {
   "cell_type": "markdown",
   "metadata": {},
   "source": [
    "results for both datasets are similar, but accuracy, precision, recall  and score are bit less with the reduced df due to the fact that has < #records"
   ]
  }
 ],
 "metadata": {
  "kernelspec": {
   "display_name": "Python 3",
   "language": "python",
   "name": "python3"
  },
  "language_info": {
   "codemirror_mode": {
    "name": "ipython",
    "version": 3
   },
   "file_extension": ".py",
   "mimetype": "text/x-python",
   "name": "python",
   "nbconvert_exporter": "python",
   "pygments_lexer": "ipython3",
   "version": "3.10.12"
  }
 },
 "nbformat": 4,
 "nbformat_minor": 2
}
