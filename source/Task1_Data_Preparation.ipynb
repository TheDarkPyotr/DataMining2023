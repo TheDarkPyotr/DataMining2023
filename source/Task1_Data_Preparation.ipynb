{
 "cells": [
  {
   "cell_type": "markdown",
   "metadata": {},
   "source": [
    "#### Task 1.2: Data Preparation\n",
    "\n",
    "Improve the quality of your data and prepare it by extracting new features interesting for describing the incidents. Some examples of indicators to be computed are:\n",
    "\n",
    "- How many males are involved in incidents relative to the total number of males for the same city and in the same period?\n",
    "- How many injured and killed people have been involved relative to the total injured and killed people in the same congressional district in a given period of time?\n",
    "- Ratio of the number of killed people in the incidents relative to the number of participants in the incident\n",
    "- Ratio of unharmed people in the incidents relative to the average of unharmed people in the same period\n",
    "\n",
    "Note that these examples are not mandatory, and teams can define their own indicators. Each indicator must be correlated with a description and, when necessary, its mathematical formulation. The extracted variables will be useful for the clustering analysis in the second project's task. Once the set of indicators is computed, the team should explore the new features for a statistical analysis, including distributions, outliers, visualizations, and correlations.\n",
    "\n",
    "For task 1.1 see the corresponding Notebook in [Task 1.1 - Data Understanding](Task1_Data_Understanding.ipynb).\n",
    "\n",
    "For this task we followed the following check structure: [#WIP]()\n",
    "1. Data aggregation\n",
    "2. Reduction of dimensionality\n",
    "3. Data cleaning\n",
    "4. Discretization\n",
    "5. Data transformation\n",
    "6. Principal Component Analysis via Covariance Matrix\n",
    "8. Data Similarity via Entropy and proximity coefficients\n"
   ]
  },
  {
   "cell_type": "code",
   "execution_count": 1,
   "metadata": {},
   "outputs": [
    {
     "name": "stderr",
     "output_type": "stream",
     "text": [
      "/usr/lib/python3/dist-packages/scipy/__init__.py:146: UserWarning: A NumPy version >=1.17.3 and <1.25.0 is required for this version of SciPy (detected version 1.26.1\n",
      "  warnings.warn(f\"A NumPy version >={np_minversion} and <{np_maxversion}\"\n"
     ]
    }
   ],
   "source": [
    "# This will take a while\n",
    "import pandas as pd\n",
    "import numpy as np\n",
    "import matplotlib.pyplot as plt\n",
    "import seaborn as sns\n",
    "import os\n",
    "\n",
    "import plotly.offline as py\n",
    "\n",
    "# for dataset visibility\n",
    "pd.set_option('display.max_columns', None)\n",
    "\n",
    "# Set a seed for reproducibility\n",
    "np.random.seed(42)\n",
    "\n",
    "# Load dataset from data understanding\n",
    "df_incident_du = pd.read_csv('../ds/cleaned/incidents_cleaned.csv', index_col=0)\n",
    "df_poverty_du = pd.read_csv('../ds/cleaned/poverty_cleaned.csv', index_col = 0)\n",
    "df_years_state_du = pd.read_csv('../ds/cleaned/year_state_votes_cleaned.csv', index_col = 0)\n"
   ]
  },
  {
   "cell_type": "code",
   "execution_count": 2,
   "metadata": {},
   "outputs": [
    {
     "data": {
      "text/html": [
       "<div>\n",
       "<style scoped>\n",
       "    .dataframe tbody tr th:only-of-type {\n",
       "        vertical-align: middle;\n",
       "    }\n",
       "\n",
       "    .dataframe tbody tr th {\n",
       "        vertical-align: top;\n",
       "    }\n",
       "\n",
       "    .dataframe thead th {\n",
       "        text-align: right;\n",
       "    }\n",
       "</style>\n",
       "<table border=\"1\" class=\"dataframe\">\n",
       "  <thead>\n",
       "    <tr style=\"text-align: right;\">\n",
       "      <th></th>\n",
       "      <th>state</th>\n",
       "      <th>congressional_district</th>\n",
       "      <th>party</th>\n",
       "      <th>candidatevotes</th>\n",
       "      <th>totalvotes</th>\n",
       "    </tr>\n",
       "    <tr>\n",
       "      <th>year</th>\n",
       "      <th></th>\n",
       "      <th></th>\n",
       "      <th></th>\n",
       "      <th></th>\n",
       "      <th></th>\n",
       "    </tr>\n",
       "  </thead>\n",
       "  <tbody>\n",
       "    <tr>\n",
       "      <th>2014</th>\n",
       "      <td>Alabama</td>\n",
       "      <td>1</td>\n",
       "      <td>REPUBLICAN</td>\n",
       "      <td>103758</td>\n",
       "      <td>152234</td>\n",
       "    </tr>\n",
       "    <tr>\n",
       "      <th>2014</th>\n",
       "      <td>Alabama</td>\n",
       "      <td>2</td>\n",
       "      <td>REPUBLICAN</td>\n",
       "      <td>113103</td>\n",
       "      <td>167952</td>\n",
       "    </tr>\n",
       "    <tr>\n",
       "      <th>2014</th>\n",
       "      <td>Alabama</td>\n",
       "      <td>3</td>\n",
       "      <td>REPUBLICAN</td>\n",
       "      <td>103558</td>\n",
       "      <td>156620</td>\n",
       "    </tr>\n",
       "    <tr>\n",
       "      <th>2014</th>\n",
       "      <td>Alabama</td>\n",
       "      <td>4</td>\n",
       "      <td>REPUBLICAN</td>\n",
       "      <td>132831</td>\n",
       "      <td>134752</td>\n",
       "    </tr>\n",
       "    <tr>\n",
       "      <th>2014</th>\n",
       "      <td>Alabama</td>\n",
       "      <td>5</td>\n",
       "      <td>REPUBLICAN</td>\n",
       "      <td>115338</td>\n",
       "      <td>154974</td>\n",
       "    </tr>\n",
       "  </tbody>\n",
       "</table>\n",
       "</div>"
      ],
      "text/plain": [
       "        state  congressional_district       party  candidatevotes  totalvotes\n",
       "year                                                                         \n",
       "2014  Alabama                       1  REPUBLICAN          103758      152234\n",
       "2014  Alabama                       2  REPUBLICAN          113103      167952\n",
       "2014  Alabama                       3  REPUBLICAN          103558      156620\n",
       "2014  Alabama                       4  REPUBLICAN          132831      134752\n",
       "2014  Alabama                       5  REPUBLICAN          115338      154974"
      ]
     },
     "execution_count": 2,
     "metadata": {},
     "output_type": "execute_result"
    }
   ],
   "source": [
    "# Check if dataset loaded correctly\n",
    "df_incident_du.head()\n",
    "df_poverty_du.head()\n",
    "df_years_state_du.head()\n",
    "\n"
   ]
  },
  {
   "cell_type": "markdown",
   "metadata": {},
   "source": [
    "# Joining the datasets\n",
    "\n",
    "We have three dataset: the one with the incidents, one with poverty by state (just two columns) and one with year, state and how much votes each party got. We want to join the three datasets in order to have a single dataset with all the information we need. "
   ]
  },
  {
   "cell_type": "code",
   "execution_count": 3,
   "metadata": {},
   "outputs": [],
   "source": [
    "# Join by year and state the three datasets\n"
   ]
  },
  {
   "cell_type": "markdown",
   "metadata": {},
   "source": [
    "\n",
    "# Idea: Let's try to get number of incidents every 3 months\n",
    "## Maybe this in data preparation\n",
    "Since 2018 is the year with less records we could try to visualize what period contains more incidents, let's try to monitor every 3 months:"
   ]
  },
  {
   "cell_type": "markdown",
   "metadata": {},
   "source": []
  }
 ],
 "metadata": {
  "kernelspec": {
   "display_name": "Python 3",
   "language": "python",
   "name": "python3"
  },
  "language_info": {
   "codemirror_mode": {
    "name": "ipython",
    "version": 3
   },
   "file_extension": ".py",
   "mimetype": "text/x-python",
   "name": "python",
   "nbconvert_exporter": "python",
   "pygments_lexer": "ipython3",
   "version": "3.10.12"
  }
 },
 "nbformat": 4,
 "nbformat_minor": 2
}
