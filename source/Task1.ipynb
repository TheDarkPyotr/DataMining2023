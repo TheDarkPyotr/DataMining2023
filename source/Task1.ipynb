{
 "cells": [
  {
   "cell_type": "markdown",
   "metadata": {},
   "source": [
    "#### Task 1.1: Data Understanding\n",
    "\n",
    "Explore the incidents dataset using analytical tools and write a concise \"data understanding\" report that assesses data quality, the distribution of variables, and pairwise correlations."
   ]
  },
  {
   "cell_type": "markdown",
   "metadata": {},
   "source": [
    "#### Task 1.2: Data Preparation\n",
    "\n",
    "Improve the quality of your data and prepare it by extracting new features interesting for describing the incidents. Some examples of indicators to be computed are:\n",
    "\n",
    "- How many males are involved in incidents relative to the total number of males for the same city and in the same period?\n",
    "- How many injured and killed people have been involved relative to the total injured and killed people in the same congressional district in a given period of time?\n",
    "- Ratio of the number of killed people in the incidents relative to the number of participants in the incident\n",
    "- Ratio of unharmed people in the incidents relative to the average of unharmed people in the same period\n",
    "\n",
    "Note that these examples are not mandatory, and teams can define their own indicators. Each indicator must be correlated with a description and, when necessary, its mathematical formulation. The extracted variables will be useful for the clustering analysis in the second project's task. Once the set of indicators is computed, the team should explore the new features for a statistical analysis, including distributions, outliers, visualizations, and correlations.\n",
    "\n",
    "Subtasks of Data Understanding:\n",
    "\n",
    "- Data semantics for each feature not described above and the new ones defined by the team\n",
    "- Distribution of the variables and statistics\n",
    "- Assessing data quality (missing values, outliers, duplicated records, errors)\n",
    "- Variables transformations\n",
    "- Pairwise correlations and eventual elimination of redundant variables\n",
    "\n",
    "Nice visualization and insights can be obtained by exploiting the latitude and longitude features ([example](https://plotly.com/python/getting-started/))."
   ]
  },
  {
   "cell_type": "markdown",
   "metadata": {},
   "source": [
    "# Task 1.1:\n",
    "\n",
    "We have to do some data understanding, so we're gonna explore the dataset. We can start with a simple analysis that establish the variable inside our dataset and visualize a bunch of their distibution, type, etc..."
   ]
  },
  {
   "cell_type": "code",
   "execution_count": 2,
   "metadata": {},
   "outputs": [
    {
     "name": "stderr",
     "output_type": "stream",
     "text": [
      "/usr/lib/python3/dist-packages/scipy/__init__.py:146: UserWarning: A NumPy version >=1.17.3 and <1.25.0 is required for this version of SciPy (detected version 1.26.1\n",
      "  warnings.warn(f\"A NumPy version >={np_minversion} and <{np_maxversion}\"\n"
     ]
    }
   ],
   "source": [
    "# This will take a while\n",
    "import pandas as pd\n",
    "import numpy as np\n",
    "import matplotlib.pyplot as plt\n",
    "import seaborn as sns\n",
    "import os\n",
    "\n",
    "import plotly.offline as py\n",
    "\n",
    "\n",
    "# Set a seed for reproducibility\n",
    "np.random.seed(42)"
   ]
  },
  {
   "cell_type": "markdown",
   "metadata": {},
   "source": [
    "## Dataset Structure\n",
    "\n",
    "Let's breakdown the dataset :\n",
    "\n",
    "- 28 Columns features: Some categorical like date, state etc... Others numerics: n_participants, n_males...\n",
    "- At the end we've got some notes we could drop, these are not data we can easily manage with statistical tools"
   ]
  },
  {
   "cell_type": "code",
   "execution_count": 3,
   "metadata": {},
   "outputs": [
    {
     "name": "stderr",
     "output_type": "stream",
     "text": [
      "/tmp/ipykernel_37220/1905877674.py:4: DtypeWarning:\n",
      "\n",
      "Columns (15,16,17) have mixed types. Specify dtype option on import or set low_memory=False.\n",
      "\n"
     ]
    },
    {
     "data": {
      "text/html": [
       "<div>\n",
       "<style scoped>\n",
       "    .dataframe tbody tr th:only-of-type {\n",
       "        vertical-align: middle;\n",
       "    }\n",
       "\n",
       "    .dataframe tbody tr th {\n",
       "        vertical-align: top;\n",
       "    }\n",
       "\n",
       "    .dataframe thead th {\n",
       "        text-align: right;\n",
       "    }\n",
       "</style>\n",
       "<table border=\"1\" class=\"dataframe\">\n",
       "  <thead>\n",
       "    <tr style=\"text-align: right;\">\n",
       "      <th></th>\n",
       "      <th>date</th>\n",
       "      <th>state</th>\n",
       "      <th>city_or_county</th>\n",
       "      <th>address</th>\n",
       "      <th>latitude</th>\n",
       "      <th>longitude</th>\n",
       "      <th>congressional_district</th>\n",
       "      <th>state_house_district</th>\n",
       "      <th>state_senate_district</th>\n",
       "      <th>participant_age1</th>\n",
       "      <th>...</th>\n",
       "      <th>n_males</th>\n",
       "      <th>n_females</th>\n",
       "      <th>n_killed</th>\n",
       "      <th>n_injured</th>\n",
       "      <th>n_arrested</th>\n",
       "      <th>n_unharmed</th>\n",
       "      <th>n_participants</th>\n",
       "      <th>notes</th>\n",
       "      <th>incident_characteristics1</th>\n",
       "      <th>incident_characteristics2</th>\n",
       "    </tr>\n",
       "  </thead>\n",
       "  <tbody>\n",
       "    <tr>\n",
       "      <th>0</th>\n",
       "      <td>2015-05-02</td>\n",
       "      <td>Indiana</td>\n",
       "      <td>Indianapolis</td>\n",
       "      <td>Lafayette Road and Pike Plaza</td>\n",
       "      <td>39.8322</td>\n",
       "      <td>-86.2492</td>\n",
       "      <td>7.0</td>\n",
       "      <td>94.0</td>\n",
       "      <td>33.0</td>\n",
       "      <td>19.0</td>\n",
       "      <td>...</td>\n",
       "      <td>1.0</td>\n",
       "      <td>0.0</td>\n",
       "      <td>0</td>\n",
       "      <td>1</td>\n",
       "      <td>0.0</td>\n",
       "      <td>0.0</td>\n",
       "      <td>1.0</td>\n",
       "      <td>Teen wounded while walking - Security guard at...</td>\n",
       "      <td>Shot - Wounded/Injured</td>\n",
       "      <td>NaN</td>\n",
       "    </tr>\n",
       "    <tr>\n",
       "      <th>1</th>\n",
       "      <td>2017-04-03</td>\n",
       "      <td>Pennsylvania</td>\n",
       "      <td>Kane</td>\n",
       "      <td>5647 US 6</td>\n",
       "      <td>41.6645</td>\n",
       "      <td>-78.7856</td>\n",
       "      <td>5.0</td>\n",
       "      <td>NaN</td>\n",
       "      <td>NaN</td>\n",
       "      <td>62.0</td>\n",
       "      <td>...</td>\n",
       "      <td>1.0</td>\n",
       "      <td>0.0</td>\n",
       "      <td>1</td>\n",
       "      <td>0</td>\n",
       "      <td>0.0</td>\n",
       "      <td>0.0</td>\n",
       "      <td>1.0</td>\n",
       "      <td>shot self after accident</td>\n",
       "      <td>Shot - Dead (murder, accidental, suicide)</td>\n",
       "      <td>Suicide^</td>\n",
       "    </tr>\n",
       "    <tr>\n",
       "      <th>2</th>\n",
       "      <td>2016-11-05</td>\n",
       "      <td>Michigan</td>\n",
       "      <td>Detroit</td>\n",
       "      <td>6200 Block of East McNichols Road</td>\n",
       "      <td>42.4190</td>\n",
       "      <td>-83.0393</td>\n",
       "      <td>14.0</td>\n",
       "      <td>4.0</td>\n",
       "      <td>2.0</td>\n",
       "      <td>NaN</td>\n",
       "      <td>...</td>\n",
       "      <td>NaN</td>\n",
       "      <td>NaN</td>\n",
       "      <td>0</td>\n",
       "      <td>1</td>\n",
       "      <td>0.0</td>\n",
       "      <td>1.0</td>\n",
       "      <td>2.0</td>\n",
       "      <td>1 inj.</td>\n",
       "      <td>Shot - Wounded/Injured</td>\n",
       "      <td>NaN</td>\n",
       "    </tr>\n",
       "    <tr>\n",
       "      <th>3</th>\n",
       "      <td>2016-10-15</td>\n",
       "      <td>District of Columbia</td>\n",
       "      <td>Washington</td>\n",
       "      <td>1000 block of Bladensburg Road, NE</td>\n",
       "      <td>38.9030</td>\n",
       "      <td>-76.9820</td>\n",
       "      <td>1.0</td>\n",
       "      <td>NaN</td>\n",
       "      <td>NaN</td>\n",
       "      <td>NaN</td>\n",
       "      <td>...</td>\n",
       "      <td>1.0</td>\n",
       "      <td>0.0</td>\n",
       "      <td>0</td>\n",
       "      <td>1</td>\n",
       "      <td>0.0</td>\n",
       "      <td>0.0</td>\n",
       "      <td>2.0</td>\n",
       "      <td>NaN</td>\n",
       "      <td>Shot - Wounded/Injured</td>\n",
       "      <td>NaN</td>\n",
       "    </tr>\n",
       "    <tr>\n",
       "      <th>4</th>\n",
       "      <td>2030-06-14</td>\n",
       "      <td>Pennsylvania</td>\n",
       "      <td>Pittsburgh</td>\n",
       "      <td>California and Marshall Avenues</td>\n",
       "      <td>40.4621</td>\n",
       "      <td>-80.0308</td>\n",
       "      <td>14.0</td>\n",
       "      <td>NaN</td>\n",
       "      <td>NaN</td>\n",
       "      <td>NaN</td>\n",
       "      <td>...</td>\n",
       "      <td>1.0</td>\n",
       "      <td>0.0</td>\n",
       "      <td>0</td>\n",
       "      <td>1</td>\n",
       "      <td>0.0</td>\n",
       "      <td>1.0</td>\n",
       "      <td>2.0</td>\n",
       "      <td>NaN</td>\n",
       "      <td>Shot - Wounded/Injured</td>\n",
       "      <td>Drive-by (car to street, car to car)</td>\n",
       "    </tr>\n",
       "  </tbody>\n",
       "</table>\n",
       "<p>5 rows × 28 columns</p>\n",
       "</div>"
      ],
      "text/plain": [
       "         date                 state city_or_county  \\\n",
       "0  2015-05-02               Indiana   Indianapolis   \n",
       "1  2017-04-03          Pennsylvania           Kane   \n",
       "2  2016-11-05              Michigan        Detroit   \n",
       "3  2016-10-15  District of Columbia     Washington   \n",
       "4  2030-06-14          Pennsylvania     Pittsburgh   \n",
       "\n",
       "                              address  latitude  longitude  \\\n",
       "0       Lafayette Road and Pike Plaza   39.8322   -86.2492   \n",
       "1                           5647 US 6   41.6645   -78.7856   \n",
       "2   6200 Block of East McNichols Road   42.4190   -83.0393   \n",
       "3  1000 block of Bladensburg Road, NE   38.9030   -76.9820   \n",
       "4     California and Marshall Avenues   40.4621   -80.0308   \n",
       "\n",
       "   congressional_district  state_house_district  state_senate_district  \\\n",
       "0                     7.0                  94.0                   33.0   \n",
       "1                     5.0                   NaN                    NaN   \n",
       "2                    14.0                   4.0                    2.0   \n",
       "3                     1.0                   NaN                    NaN   \n",
       "4                    14.0                   NaN                    NaN   \n",
       "\n",
       "   participant_age1  ... n_males n_females n_killed n_injured n_arrested  \\\n",
       "0              19.0  ...     1.0       0.0        0         1        0.0   \n",
       "1              62.0  ...     1.0       0.0        1         0        0.0   \n",
       "2               NaN  ...     NaN       NaN        0         1        0.0   \n",
       "3               NaN  ...     1.0       0.0        0         1        0.0   \n",
       "4               NaN  ...     1.0       0.0        0         1        0.0   \n",
       "\n",
       "  n_unharmed n_participants  \\\n",
       "0        0.0            1.0   \n",
       "1        0.0            1.0   \n",
       "2        1.0            2.0   \n",
       "3        0.0            2.0   \n",
       "4        1.0            2.0   \n",
       "\n",
       "                                               notes  \\\n",
       "0  Teen wounded while walking - Security guard at...   \n",
       "1                           shot self after accident   \n",
       "2                                             1 inj.   \n",
       "3                                                NaN   \n",
       "4                                                NaN   \n",
       "\n",
       "                   incident_characteristics1  \\\n",
       "0                     Shot - Wounded/Injured   \n",
       "1  Shot - Dead (murder, accidental, suicide)   \n",
       "2                     Shot - Wounded/Injured   \n",
       "3                     Shot - Wounded/Injured   \n",
       "4                     Shot - Wounded/Injured   \n",
       "\n",
       "              incident_characteristics2  \n",
       "0                                   NaN  \n",
       "1                              Suicide^  \n",
       "2                                   NaN  \n",
       "3                                   NaN  \n",
       "4  Drive-by (car to street, car to car)  \n",
       "\n",
       "[5 rows x 28 columns]"
      ]
     },
     "execution_count": 3,
     "metadata": {},
     "output_type": "execute_result"
    }
   ],
   "source": [
    "# Import the dataset\n",
    "\n",
    "# Gun incidents data\n",
    "df_incidents = pd.read_csv('../source/ds/incidents.csv')\n",
    "\n",
    "# Poverty by state and year\n",
    "df_poverty = pd.read_csv('../source/ds/povertyByStateYear.csv')\n",
    "\n",
    "# Year-state-district-house\n",
    "df_ysdh = pd.read_csv('../source/ds/year_state_district_house.csv')\n",
    "# Visualize data table\n",
    "\n",
    "#df_incidents.columns\n",
    "#df_incidents.dtypes\n",
    "\n",
    "df_incidents.head()\n",
    "#df_poverty.head()\n"
   ]
  },
  {
   "cell_type": "code",
   "execution_count": 4,
   "metadata": {},
   "outputs": [
    {
     "data": {
      "text/plain": [
       "0    False\n",
       "1    False\n",
       "2    False\n",
       "3      NaN\n",
       "4      NaN\n",
       "Name: notes, dtype: object"
      ]
     },
     "execution_count": 4,
     "metadata": {},
     "output_type": "execute_result"
    }
   ],
   "source": [
    "# show notes only where is present string 'gun'\n",
    "df_incidents['notes'].str.contains('gun', case=False).head()\n",
    "\n",
    "#Show those that have true"
   ]
  },
  {
   "cell_type": "code",
   "execution_count": 5,
   "metadata": {},
   "outputs": [
    {
     "name": "stdout",
     "output_type": "stream",
     "text": [
      "----------------------------------------------------------------------------------------------------\n",
      "<class 'pandas.core.frame.DataFrame'>\n",
      "RangeIndex: 884 entries, 0 to 883\n",
      "Data columns (total 3 columns):\n",
      " #   Column             Non-Null Count  Dtype  \n",
      "---  ------             --------------  -----  \n",
      " 0   state              884 non-null    object \n",
      " 1   year               884 non-null    int64  \n",
      " 2   povertyPercentage  832 non-null    float64\n",
      "dtypes: float64(1), int64(1), object(1)\n",
      "memory usage: 20.8+ KB\n",
      "----------------------------------------------------------------------------------------------------\n",
      "<class 'pandas.core.frame.DataFrame'>\n",
      "RangeIndex: 10441 entries, 0 to 10440\n",
      "Data columns (total 6 columns):\n",
      " #   Column                  Non-Null Count  Dtype \n",
      "---  ------                  --------------  ----- \n",
      " 0   year                    10441 non-null  int64 \n",
      " 1   state                   10441 non-null  object\n",
      " 2   congressional_district  10441 non-null  int64 \n",
      " 3   party                   10441 non-null  object\n",
      " 4   candidatevotes          10441 non-null  int64 \n",
      " 5   totalvotes              10441 non-null  int64 \n",
      "dtypes: int64(4), object(2)\n",
      "memory usage: 489.5+ KB\n",
      "----------------------------------------------------------------------------------------------------\n",
      "<class 'pandas.core.frame.DataFrame'>\n",
      "RangeIndex: 239677 entries, 0 to 239676\n",
      "Data columns (total 28 columns):\n",
      " #   Column                     Non-Null Count   Dtype  \n",
      "---  ------                     --------------   -----  \n",
      " 0   date                       239677 non-null  object \n",
      " 1   state                      239677 non-null  object \n",
      " 2   city_or_county             239677 non-null  object \n",
      " 3   address                    223180 non-null  object \n",
      " 4   latitude                   231754 non-null  float64\n",
      " 5   longitude                  231754 non-null  float64\n",
      " 6   congressional_district     227733 non-null  float64\n",
      " 7   state_house_district       200905 non-null  float64\n",
      " 8   state_senate_district      207342 non-null  float64\n",
      " 9   participant_age1           147379 non-null  float64\n",
      " 10  participant_age_group1     197558 non-null  object \n",
      " 11  participant_gender1        203315 non-null  object \n",
      " 12  min_age_participants       164879 non-null  object \n",
      " 13  avg_age_participants       165057 non-null  object \n",
      " 14  max_age_participants       164969 non-null  object \n",
      " 15  n_participants_child       197573 non-null  object \n",
      " 16  n_participants_teen        197578 non-null  object \n",
      " 17  n_participants_adult       197575 non-null  object \n",
      " 18  n_males                    203315 non-null  float64\n",
      " 19  n_females                  203315 non-null  float64\n",
      " 20  n_killed                   239677 non-null  int64  \n",
      " 21  n_injured                  239677 non-null  int64  \n",
      " 22  n_arrested                 212051 non-null  float64\n",
      " 23  n_unharmed                 212051 non-null  float64\n",
      " 24  n_participants             239677 non-null  float64\n",
      " 25  notes                      158660 non-null  object \n",
      " 26  incident_characteristics1  239351 non-null  object \n",
      " 27  incident_characteristics2  141931 non-null  object \n",
      "dtypes: float64(11), int64(2), object(15)\n",
      "memory usage: 51.2+ MB\n"
     ]
    }
   ],
   "source": [
    "print(\"--\"*50)\n",
    "df_poverty.info()\n",
    "print(\"--\"*50)\n",
    "df_ysdh.info()\n",
    "print(\"--\"*50)\n",
    "df_incidents.info()"
   ]
  },
  {
   "cell_type": "markdown",
   "metadata": {},
   "source": [
    "## Dataset with all feature cross data \n",
    "\n",
    "We can join the three dataset for a better understanding, maybe could not be useful if the features are too many."
   ]
  },
  {
   "cell_type": "code",
   "execution_count": 6,
   "metadata": {},
   "outputs": [],
   "source": [
    "# Join datasets per state?"
   ]
  },
  {
   "cell_type": "code",
   "execution_count": 7,
   "metadata": {},
   "outputs": [
    {
     "data": {
      "text/plain": [
       "74813                                Shot - Wounded/Injured\n",
       "103395            Shot - Dead (murder, accidental, suicide)\n",
       "77081                                 Non-Shooting Incident\n",
       "238119                               Shot - Wounded/Injured\n",
       "195484    Armed robbery with injury/death and/or evidenc...\n",
       "3449                                 Shot - Wounded/Injured\n",
       "206633                                Non-Shooting Incident\n",
       "208849            Shot - Dead (murder, accidental, suicide)\n",
       "125664            Shot - Dead (murder, accidental, suicide)\n",
       "171125                               Shot - Wounded/Injured\n",
       "Name: incident_characteristics1, dtype: object"
      ]
     },
     "execution_count": 7,
     "metadata": {},
     "output_type": "execute_result"
    }
   ],
   "source": [
    "\n",
    "# Example of unusable data\n",
    "\n",
    "df_incidents['notes'].sample(10)\n",
    "df_incidents['incident_characteristics1'].sample(10)\n"
   ]
  },
  {
   "cell_type": "markdown",
   "metadata": {},
   "source": [
    "# Data Cleaning\n",
    "  \n",
    "- [ ] Check for errors in datasets and correct if possible\n",
    "- [x] Remove NaNs\n",
    "- [x] Remove Duplicates\n",
    "- [x] Remove columns with a lot of NaNs [Note this has to be done before removing NaNs]\n",
    "- [x] Outliers\n",
    "- [x] Remove Unnecessary data for statistical analysis\n",
    "    "
   ]
  },
  {
   "cell_type": "code",
   "execution_count": 8,
   "metadata": {},
   "outputs": [
    {
     "data": {
      "text/plain": [
       "array(['2015', '2017', '2016', '2020', '2014', '2018', '2019', '2013'],\n",
       "      dtype=object)"
      ]
     },
     "execution_count": 8,
     "metadata": {},
     "output_type": "execute_result"
    }
   ],
   "source": [
    "# Exploring dataset errors, there are various type such as: cities located in wrong states, \n",
    "# wrong years in incident dataframe (incidents in 2029 and 2030, maybe they were 2019-2020 since data is until 2020)\n",
    "\n",
    "# Changing dates in df_incidents\n",
    "\n",
    "df_incidents['date'] = df_incidents['date'].str.replace('2028', '2018')\n",
    "df_incidents['date'] = df_incidents['date'].str.replace('2029', '2019')\n",
    "df_incidents['date'] = df_incidents['date'].str.replace('2030', '2020')\n",
    "\n",
    "df_incidents['date'].str.split('-').str[0].unique()"
   ]
  },
  {
   "cell_type": "code",
   "execution_count": 9,
   "metadata": {},
   "outputs": [
    {
     "name": "stdout",
     "output_type": "stream",
     "text": [
      "date - 0%\n",
      "state - 0%\n",
      "city_or_county - 0%\n",
      "address - 7%\n",
      "latitude - 3%\n",
      "longitude - 3%\n",
      "congressional_district - 5%\n",
      "state_house_district - 16%\n",
      "state_senate_district - 13%\n",
      "participant_age1 - 39%\n",
      "participant_age_group1 - 18%\n",
      "participant_gender1 - 15%\n",
      "min_age_participants - 31%\n",
      "avg_age_participants - 31%\n",
      "max_age_participants - 31%\n",
      "n_participants_child - 18%\n",
      "n_participants_teen - 18%\n",
      "n_participants_adult - 18%\n",
      "n_males - 15%\n",
      "n_females - 15%\n",
      "n_killed - 0%\n",
      "n_injured - 0%\n",
      "n_arrested - 12%\n",
      "n_unharmed - 12%\n",
      "n_participants - 0%\n",
      "notes - 34%\n",
      "incident_characteristics1 - 0%\n",
      "incident_characteristics2 - 41%\n"
     ]
    }
   ],
   "source": [
    "# Remove NaNs\n",
    "\n",
    "# How do we define if a columns has a lot of nans?\n",
    "df_incidents.isna().sum()\n",
    "\n",
    "#   Let's get the % of nans with respect to the total number of records, if is > 50% we drop the column\n",
    "\n",
    "for col in df_incidents.columns:\n",
    "    pct_missing = np.mean(df_incidents[col].isnull())\n",
    "    print('{} - {}%'.format(col, round(pct_missing*100)))\n",
    "\n",
    "    # drop if more than 50% of the data is missing\n",
    "    if pct_missing > 0.5:\n",
    "        df_incidents.drop(col, axis=1, inplace=True)\n",
    "\n",
    "\n",
    "#df_incidents.shape\n",
    "\n",
    "# Finally deleting all NaNs\n",
    "df_incidents_nona = df_incidents.dropna()"
   ]
  },
  {
   "cell_type": "code",
   "execution_count": 10,
   "metadata": {},
   "outputs": [],
   "source": [
    "# Remove Duplicates\n",
    "\n",
    "df_incidents_nodup = df_incidents_nona.drop_duplicates()\n"
   ]
  },
  {
   "cell_type": "markdown",
   "metadata": {},
   "source": [
    "## Mass Shooting\n",
    "\n",
    "As we can see sometimes the number of people killed or injured it's not an incident it's a mass shooting\n",
    "\n",
    "Let's remove this by taking into account this definition\n",
    "\n",
    "```\n",
    "    FBI Definition: The Federal Bureau of Investigation (FBI) defines a mass shooting as an incident in which four or more people, not including the shooter, are killed. This definition is often used in the United States.\n",
    "```"
   ]
  },
  {
   "cell_type": "code",
   "execution_count": 11,
   "metadata": {},
   "outputs": [
    {
     "data": {
      "image/png": "[encoded data removed]",
      "text/plain": [
       "<Figure size 432x288 with 1 Axes>"
      ]
     },
     "metadata": {
      "needs_background": "light"
     },
     "output_type": "display_data"
    }
   ],
   "source": [
    "# Let's visualize outliers with a boxplot\n",
    "\n",
    "df_incidents_nodup.boxplot(column='n_killed')\n",
    "df_incidents_nodup.boxplot(column='n_injured')\n",
    "\n",
    "# Remove outliers if n_killed or n_injured > 4\n",
    "df_incident_no_outliers = df_incidents_nodup[(df_incidents_nodup['n_killed'] < 4) & (df_incidents_nodup['n_injured'] < 4)]"
   ]
  },
  {
   "cell_type": "code",
   "execution_count": 12,
   "metadata": {},
   "outputs": [
    {
     "data": {
      "text/plain": [
       "<AxesSubplot:>"
      ]
     },
     "execution_count": 12,
     "metadata": {},
     "output_type": "execute_result"
    },
    {
     "data": {
      "image/png": "[encoded data removed]",
      "text/plain": [
       "<Figure size 432x288 with 1 Axes>"
      ]
     },
     "metadata": {
      "needs_background": "light"
     },
     "output_type": "display_data"
    }
   ],
   "source": [
    "df_incident_no_outliers.boxplot(column='n_killed')"
   ]
  },
  {
   "cell_type": "markdown",
   "metadata": {},
   "source": [
    "## Visualize Distributions\n",
    "\n",
    "From the first we can see that plotting distirbution of n_killed against the number of incidents we can see that in the majority of the incidents people do not die. \n",
    "\n",
    "We have a distribution skewed to the left so the asimmetry index must be positive."
   ]
  },
  {
   "cell_type": "markdown",
   "metadata": {},
   "source": [
    "### Distribution of Killed People"
   ]
  },
  {
   "cell_type": "code",
   "execution_count": 13,
   "metadata": {},
   "outputs": [
    {
     "name": "stdout",
     "output_type": "stream",
     "text": [
      "n_killed\n",
      "0    69.318337\n",
      "1    26.495226\n",
      "2     3.614317\n",
      "3     0.572120\n",
      "dtype: float64\n",
      "\n",
      "\n",
      " Skewness of n_killed: 1.582712\n"
     ]
    },
    {
     "data": {
      "image/png": "[encoded data removed]",
      "text/plain": [
       "<Figure size 432x288 with 1 Axes>"
      ]
     },
     "metadata": {
      "needs_background": "light"
     },
     "output_type": "display_data"
    }
   ],
   "source": [
    "# Using seaborn to visualize the distribution of n_killed \n",
    "\n",
    "# In %\n",
    "print((df_incident_no_outliers.groupby('n_killed').size()/len(df_incident_no_outliers)*100))\n",
    "\n",
    "df_incident_no_outliers['n_killed'].value_counts().plot(kind='bar')\n",
    "\n",
    "# PIE CHARTs ARE ILLEGAL\n",
    "#df_incident_no_outliers['n_killed'].value_counts().plot(kind='pie')\n",
    "\n",
    "# Asimmetry index is pos\n",
    "skewness_n_killed = df_incident_no_outliers['n_killed'].skew()\n",
    "print('\\n\\n',\"Skewness of n_killed: %f\" % skewness_n_killed)"
   ]
  },
  {
   "cell_type": "markdown",
   "metadata": {},
   "source": [
    "### Distribution of Injured People"
   ]
  },
  {
   "cell_type": "code",
   "execution_count": 14,
   "metadata": {},
   "outputs": [
    {
     "name": "stdout",
     "output_type": "stream",
     "text": [
      "n_injured\n",
      "0    59.350165\n",
      "1    33.882022\n",
      "2     5.317009\n",
      "3     1.450804\n",
      "dtype: float64\n",
      "\n",
      "\n",
      " Skewness of n_injured: 1.319365\n"
     ]
    },
    {
     "data": {
      "image/png": "[encoded data removed]",
      "text/plain": [
       "<Figure size 432x288 with 1 Axes>"
      ]
     },
     "metadata": {
      "needs_background": "light"
     },
     "output_type": "display_data"
    }
   ],
   "source": [
    "\n",
    "# In %\n",
    "print((df_incident_no_outliers.groupby('n_injured').size()/len(df_incident_no_outliers)*100))\n",
    "\n",
    "df_incident_no_outliers['n_injured'].value_counts().plot(kind='bar')\n",
    "\n",
    "# Asimmetry index is pos\n",
    "skewness_n_injured = df_incident_no_outliers['n_injured'].skew()\n",
    "print('\\n\\n',\"Skewness of n_injured: %f\" % skewness_n_injured)"
   ]
  },
  {
   "cell_type": "markdown",
   "metadata": {},
   "source": [
    "### Age and Sex distributions"
   ]
  },
  {
   "cell_type": "code",
   "execution_count": 15,
   "metadata": {},
   "outputs": [
    {
     "data": {
      "text/plain": [
       "<AxesSubplot:xlabel='n_females'>"
      ]
     },
     "execution_count": 15,
     "metadata": {},
     "output_type": "execute_result"
    },
    {
     "data": {
      "image/png": "[encoded data removed]",
      "text/plain": [
       "<Figure size 432x288 with 1 Axes>"
      ]
     },
     "metadata": {
      "needs_background": "light"
     },
     "output_type": "display_data"
    }
   ],
   "source": [
    "# Print the number of incident of with males and femals plots\n",
    "\n",
    "# Males incidents\n",
    "df_incident_no_outliers['n_males'].value_counts().plot(kind='bar')\n",
    "\n",
    "# Females incidents\n",
    "df_incident_no_outliers['n_females'].value_counts().plot(kind='bar')\n"
   ]
  },
  {
   "cell_type": "code",
   "execution_count": 16,
   "metadata": {},
   "outputs": [
    {
     "data": {
      "image/png": "[encoded data removed]",
      "text/plain": [
       "<Figure size 720x360 with 2 Axes>"
      ]
     },
     "metadata": {
      "needs_background": "light"
     },
     "output_type": "display_data"
    }
   ],
   "source": [
    "# Create a figure with two subplots\n",
    "fig, (ax1, ax2) = plt.subplots(ncols=2, figsize=(10, 5))\n",
    "\n",
    "# Plot the male incidents in the first subplot\n",
    "df_incident_no_outliers['n_males'].value_counts().plot(kind='bar', ax=ax1)\n",
    "ax1.set_xlabel('Number of Males')\n",
    "ax1.set_ylabel('Frequency')\n",
    "ax1.set_title('Distribution of Male Victims in Gun Incidents')\n",
    "\n",
    "# Plot the female incidents in the second subplot\n",
    "df_incident_no_outliers['n_females'].value_counts().plot(kind='bar', ax=ax2)\n",
    "ax2.set_xlabel('Number of Females')\n",
    "# Numer of incidents with particular numb of female and male\n",
    "ax2.set_ylabel('Frequency')\n",
    "ax2.set_title('Distribution of Female Victims in Gun Incidents')\n",
    "\n",
    "# Display the plot\n",
    "plt.show()"
   ]
  },
  {
   "cell_type": "markdown",
   "metadata": {},
   "source": [
    "## Distribution of death in each state \n"
   ]
  },
  {
   "cell_type": "code",
   "execution_count": 28,
   "metadata": {},
   "outputs": [
    {
     "data": {
      "text/html": [
       "<div>\n",
       "<style scoped>\n",
       "    .dataframe tbody tr th:only-of-type {\n",
       "        vertical-align: middle;\n",
       "    }\n",
       "\n",
       "    .dataframe tbody tr th {\n",
       "        vertical-align: top;\n",
       "    }\n",
       "\n",
       "    .dataframe thead th {\n",
       "        text-align: right;\n",
       "    }\n",
       "</style>\n",
       "<table border=\"1\" class=\"dataframe\">\n",
       "  <thead>\n",
       "    <tr style=\"text-align: right;\">\n",
       "      <th></th>\n",
       "      <th>geometry</th>\n",
       "    </tr>\n",
       "  </thead>\n",
       "  <tbody>\n",
       "    <tr>\n",
       "      <th>0</th>\n",
       "      <td>MULTIPOLYGON Z (((-118.59397 33.46720 0.00000,...</td>\n",
       "    </tr>\n",
       "    <tr>\n",
       "      <th>1</th>\n",
       "      <td>POLYGON Z ((-77.11976 38.93434 0.00000, -77.04...</td>\n",
       "    </tr>\n",
       "    <tr>\n",
       "      <th>2</th>\n",
       "      <td>MULTIPOLYGON Z (((-81.81169 24.56874 0.00000, ...</td>\n",
       "    </tr>\n",
       "    <tr>\n",
       "      <th>3</th>\n",
       "      <td>POLYGON Z ((-85.60516 34.98468 0.00000, -85.47...</td>\n",
       "    </tr>\n",
       "    <tr>\n",
       "      <th>4</th>\n",
       "      <td>POLYGON Z ((-117.24303 44.39097 0.00000, -117....</td>\n",
       "    </tr>\n",
       "  </tbody>\n",
       "</table>\n",
       "</div>"
      ],
      "text/plain": [
       "                                            geometry\n",
       "0  MULTIPOLYGON Z (((-118.59397 33.46720 0.00000,...\n",
       "1  POLYGON Z ((-77.11976 38.93434 0.00000, -77.04...\n",
       "2  MULTIPOLYGON Z (((-81.81169 24.56874 0.00000, ...\n",
       "3  POLYGON Z ((-85.60516 34.98468 0.00000, -85.47...\n",
       "4  POLYGON Z ((-117.24303 44.39097 0.00000, -117...."
      ]
     },
     "execution_count": 28,
     "metadata": {},
     "output_type": "execute_result"
    },
    {
     "data": {
      "image/png": "[encoded data removed]",
      "text/plain": [
       "<Figure size 2160x2880 with 1 Axes>"
      ]
     },
     "metadata": {
      "needs_background": "light"
     },
     "output_type": "display_data"
    }
   ],
   "source": [
    "import geopandas as gpd\n",
    "import matplotlib.pyplot as plt\n",
    "\n",
    "usa_map = gpd.read_file('../map_data/usa-states-census-2014.shp')\n",
    "# show map\n",
    "\n",
    "\n",
    "usa_map.plot(figsize=(30,40))\n",
    "\n",
    "# Draw red point for each latitude and longitude on df_incidents for 50 sampled incidents\n",
    "\n",
    "sample_incidents = df_incidents_nodup.sample(2000)\n",
    "\n",
    "for index, row in sample_incidents.iterrows():\n",
    "    plt.plot(row['longitude'], row['latitude'], 'ro')\n",
    "    \n",
    "\n",
    "usa_map.head()\n"
   ]
  },
  {
   "cell_type": "code",
   "execution_count": 41,
   "metadata": {},
   "outputs": [
    {
     "data": {
      "text/plain": [
       "array(['Louisiana', 'Virginia', 'Oklahoma', 'Missouri', 'Illinois',\n",
       "       'Michigan', 'Georgia', 'New York', 'Connecticut', 'Maine',\n",
       "       'Maryland', 'Nevada', 'North Carolina', 'Iowa', 'South Carolina',\n",
       "       'Arizona', 'Florida', 'New Jersey', 'West Virginia', 'Ohio',\n",
       "       'Tennessee', 'California', 'Colorado', 'Kentucky', 'Wisconsin',\n",
       "       'Utah', 'Alabama', 'Mississippi', 'New Mexico', 'Hawaii',\n",
       "       'Pennsylvania', 'Texas', 'Delaware', 'Rhode Island',\n",
       "       'Massachusetts', 'Washington', 'Arkansas', 'Indiana', 'Oregon',\n",
       "       'Kansas', 'Alaska', 'South Dakota', 'Idaho', 'New Hampshire',\n",
       "       'North Dakota', 'Wyoming', 'Montana', 'District of Columbia',\n",
       "       'Minnesota'], dtype=object)"
      ]
     },
     "execution_count": 41,
     "metadata": {},
     "output_type": "execute_result"
    }
   ],
   "source": [
    "df_incidents_nodup['state'].unique()\n",
    "\n",
    "# We have 49 states in the data but there are 50 american states why?\n"
   ]
  },
  {
   "cell_type": "code",
   "execution_count": 43,
   "metadata": {},
   "outputs": [
    {
     "name": "stdout",
     "output_type": "stream",
     "text": [
      "{'Georgia': 80, 'South Dakota': 6, 'Virginia': 50, 'Connecticut': 43, 'Ohio': 132, 'Oklahoma': 23, 'Delaware': 13, 'California': 96, 'Illinois': 273, 'Tennessee': 70, 'Indiana': 77, 'Arizona': 24, 'New York': 129, 'Florida': 151, 'Michigan': 77, 'South Carolina': 46, 'Wisconsin': 43, 'Hawaii': 8, 'Texas': 106, 'Missouri': 42, 'Alabama': 25, 'Louisiana': 64, 'Utah': 13, 'West Virginia': 23, 'North Carolina': 62, 'Kentucky': 6, 'Oregon': 28, 'Massachusetts': 11, 'New Jersey': 27, 'Colorado': 21, 'Washington': 46, 'Pennsylvania': 18, 'Arkansas': 24, 'Maryland': 11, 'Wyoming': 1, 'Iowa': 28, 'Rhode Island': 16, 'Kansas': 13, 'Mississippi': 15, 'New Mexico': 15, 'New Hampshire': 1, 'Nevada': 20, 'Maine': 11, 'Idaho': 9, 'North Dakota': 3}\n",
      "45\n"
     ]
    },
    {
     "data": {
      "text/plain": [
       "<AxesSubplot:ylabel='Frequency'>"
      ]
     },
     "execution_count": 43,
     "metadata": {},
     "output_type": "execute_result"
    },
    {
     "data": {
      "image/png": "[encoded data removed]",
      "text/plain": [
       "<Figure size 432x288 with 1 Axes>"
      ]
     },
     "metadata": {
      "needs_background": "light"
     },
     "output_type": "display_data"
    }
   ],
   "source": [
    "# Trying to plot a colormap or heatmap \n",
    "\n",
    "state_incidents = {}\n",
    "\n",
    "usa_incidents_map = gpd.read_file('../map_data/usa-states-census-2014.shp')\n",
    "\n",
    "# Counting the number of incidents per state\n",
    "for state in sample_incidents['state'].unique():\n",
    "    state_incidents[state] = len(sample_incidents[sample_incidents['state'] == state])\n",
    "\n",
    "\n",
    "max_incidents = max(state_incidents.values())\n",
    "min_incidents = min(state_incidents.values())\n",
    "\n",
    "for state in state_incidents:\n",
    "    state_incidents[state] = (state_incidents[state] - min_incidents) / (max_incidents - min_incidents)\n",
    "    \n",
    "# Convert in dataframe and divide key and value in two columns state and score\n",
    "state_incidents_df = pd.DataFrame.from_dict(state_incidents, orient='index')\n",
    "state_incidents_df.reset_index(inplace=True)\n",
    "state_incidents_df.columns = ['state', 'score']\n",
    "\n",
    "\n",
    "# histogram of the scores\n",
    "# why 46? explore this\n",
    "print(len(state_incidents_df['state'].unique()))\n",
    "state_incidents_df['score'].plot(kind='hist', bins=len(state_incidents_df['state'].unique()))\n",
    "\n",
    "\n",
    "# To get a color map we need to merge the map geometric data dataframe with state column (need to find or build it) with our dataset\n"
   ]
  },
  {
   "cell_type": "code",
   "execution_count": null,
   "metadata": {},
   "outputs": [],
   "source": []
  },
  {
   "cell_type": "code",
   "execution_count": null,
   "metadata": {},
   "outputs": [],
   "source": []
  },
  {
   "cell_type": "code",
   "execution_count": null,
   "metadata": {},
   "outputs": [],
   "source": []
  }
 ],
 "metadata": {
  "kernelspec": {
   "display_name": "Python 3",
   "language": "python",
   "name": "python3"
  },
  "language_info": {
   "codemirror_mode": {
    "name": "ipython",
    "version": 3
   },
   "file_extension": ".py",
   "mimetype": "text/x-python",
   "name": "python",
   "nbconvert_exporter": "python",
   "pygments_lexer": "ipython3",
   "version": "3.10.12"
  }
 },
 "nbformat": 4,
 "nbformat_minor": 2
}
