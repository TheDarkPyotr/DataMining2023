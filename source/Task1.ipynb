{
 "cells": [
  {
   "cell_type": "markdown",
   "metadata": {},
   "source": [
    "#### Task 1.1: Data Understanding\n",
    "\n",
    "Explore the incidents dataset using analytical tools and write a concise \"data understanding\" report that assesses data quality, the distribution of variables, and pairwise correlations."
   ]
  },
  {
   "cell_type": "markdown",
   "metadata": {},
   "source": [
    "#### Task 1.2: Data Preparation\n",
    "\n",
    "Improve the quality of your data and prepare it by extracting new features interesting for describing the incidents. Some examples of indicators to be computed are:\n",
    "\n",
    "- How many males are involved in incidents relative to the total number of males for the same city and in the same period?\n",
    "- How many injured and killed people have been involved relative to the total injured and killed people in the same congressional district in a given period of time?\n",
    "- Ratio of the number of killed people in the incidents relative to the number of participants in the incident\n",
    "- Ratio of unharmed people in the incidents relative to the average of unharmed people in the same period\n",
    "\n",
    "Note that these examples are not mandatory, and teams can define their own indicators. Each indicator must be correlated with a description and, when necessary, its mathematical formulation. The extracted variables will be useful for the clustering analysis in the second project's task. Once the set of indicators is computed, the team should explore the new features for a statistical analysis, including distributions, outliers, visualizations, and correlations.\n",
    "\n",
    "Subtasks of Data Understanding:\n",
    "\n",
    "- Data semantics for each feature not described above and the new ones defined by the team\n",
    "- Distribution of the variables and statistics\n",
    "- Assessing data quality (missing values, outliers, duplicated records, errors)\n",
    "- Variables transformations\n",
    "- Pairwise correlations and eventual elimination of redundant variables\n",
    "\n",
    "Nice visualization and insights can be obtained by exploiting the latitude and longitude features ([example](https://plotly.com/python/getting-started/))."
   ]
  },
  {
   "cell_type": "markdown",
   "metadata": {},
   "source": [
    "# Task 1.1:\n",
    "\n",
    "We have to do some data understanding, so we're gonna explore the dataset. We can start with a simple analysis that establish the variable inside our dataset and visualize a bunch of their distibution, type, etc..."
   ]
  },
  {
   "cell_type": "code",
   "execution_count": 1,
   "metadata": {},
   "outputs": [
    {
     "name": "stdout",
     "output_type": "stream",
     "text": [
      "Defaulting to user installation because normal site-packages is not writeable\n",
      "Requirement already satisfied: seaborn in /home/vincent/.local/lib/python3.10/site-packages (0.13.0)\n",
      "Requirement already satisfied: numpy!=1.24.0,>=1.20 in /home/vincent/.local/lib/python3.10/site-packages (from seaborn) (1.25.2)\n",
      "Requirement already satisfied: pandas>=1.2 in /home/vincent/.local/lib/python3.10/site-packages (from seaborn) (2.1.0)\n",
      "Requirement already satisfied: matplotlib!=3.6.1,>=3.3 in /usr/lib/python3/dist-packages (from seaborn) (3.5.1)\n",
      "Requirement already satisfied: tzdata>=2022.1 in /home/vincent/.local/lib/python3.10/site-packages (from pandas>=1.2->seaborn) (2023.3)\n",
      "Requirement already satisfied: pytz>=2020.1 in /usr/lib/python3/dist-packages (from pandas>=1.2->seaborn) (2022.1)\n",
      "Requirement already satisfied: python-dateutil>=2.8.2 in /home/vincent/.local/lib/python3.10/site-packages (from pandas>=1.2->seaborn) (2.8.2)\n",
      "Requirement already satisfied: six>=1.5 in /usr/lib/python3/dist-packages (from python-dateutil>=2.8.2->pandas>=1.2->seaborn) (1.16.0)\n",
      "Defaulting to user installation because normal site-packages is not writeable\n",
      "Requirement already satisfied: plotly in /home/vincent/.local/lib/python3.10/site-packages (5.17.0)\n",
      "Requirement already satisfied: tenacity>=6.2.0 in /home/vincent/.local/lib/python3.10/site-packages (from plotly) (8.2.3)\n",
      "Requirement already satisfied: packaging in /usr/lib/python3/dist-packages (from plotly) (21.3)\n"
     ]
    },
    {
     "name": "stderr",
     "output_type": "stream",
     "text": [
      "/usr/lib/python3/dist-packages/scipy/__init__.py:146: UserWarning: A NumPy version >=1.17.3 and <1.25.0 is required for this version of SciPy (detected version 1.25.2\n",
      "  warnings.warn(f\"A NumPy version >={np_minversion} and <{np_maxversion}\"\n"
     ]
    }
   ],
   "source": [
    "# This will take a while\n",
    "!pip install seaborn\n",
    "!pip install plotly\n",
    "\n",
    "import pandas as pd\n",
    "import numpy as np\n",
    "import matplotlib.pyplot as plt\n",
    "import seaborn as sns\n",
    "import os\n",
    "\n",
    "import plotly.offline as py"
   ]
  },
  {
   "cell_type": "markdown",
   "metadata": {},
   "source": [
    "## Dataset Structure\n",
    "\n",
    "Let's breakdown the dataset :\n",
    "\n",
    "- 28 Columns features: Some categorical like date, state etc... Others numerics: n_participants, n_males...\n",
    "- At the end we've got some notes we could drop, these are not data we can easily manage with statistical tools"
   ]
  },
  {
   "cell_type": "code",
   "execution_count": 24,
   "metadata": {},
   "outputs": [
    {
     "name": "stderr",
     "output_type": "stream",
     "text": [
      "/tmp/ipykernel_966/3451623253.py:4: DtypeWarning:\n",
      "\n",
      "Columns (15,16,17) have mixed types. Specify dtype option on import or set low_memory=False.\n",
      "\n"
     ]
    },
    {
     "data": {
      "text/html": [
       "<div>\n",
       "<style scoped>\n",
       "    .dataframe tbody tr th:only-of-type {\n",
       "        vertical-align: middle;\n",
       "    }\n",
       "\n",
       "    .dataframe tbody tr th {\n",
       "        vertical-align: top;\n",
       "    }\n",
       "\n",
       "    .dataframe thead th {\n",
       "        text-align: right;\n",
       "    }\n",
       "</style>\n",
       "<table border=\"1\" class=\"dataframe\">\n",
       "  <thead>\n",
       "    <tr style=\"text-align: right;\">\n",
       "      <th></th>\n",
       "      <th>state</th>\n",
       "      <th>year</th>\n",
       "      <th>povertyPercentage</th>\n",
       "    </tr>\n",
       "  </thead>\n",
       "  <tbody>\n",
       "    <tr>\n",
       "      <th>0</th>\n",
       "      <td>United States</td>\n",
       "      <td>2020</td>\n",
       "      <td>11.5</td>\n",
       "    </tr>\n",
       "    <tr>\n",
       "      <th>1</th>\n",
       "      <td>Alabama</td>\n",
       "      <td>2020</td>\n",
       "      <td>14.8</td>\n",
       "    </tr>\n",
       "    <tr>\n",
       "      <th>2</th>\n",
       "      <td>Alaska</td>\n",
       "      <td>2020</td>\n",
       "      <td>11.5</td>\n",
       "    </tr>\n",
       "    <tr>\n",
       "      <th>3</th>\n",
       "      <td>Arizona</td>\n",
       "      <td>2020</td>\n",
       "      <td>12.1</td>\n",
       "    </tr>\n",
       "    <tr>\n",
       "      <th>4</th>\n",
       "      <td>Arkansas</td>\n",
       "      <td>2020</td>\n",
       "      <td>15.8</td>\n",
       "    </tr>\n",
       "  </tbody>\n",
       "</table>\n",
       "</div>"
      ],
      "text/plain": [
       "           state  year  povertyPercentage\n",
       "0  United States  2020               11.5\n",
       "1        Alabama  2020               14.8\n",
       "2         Alaska  2020               11.5\n",
       "3        Arizona  2020               12.1\n",
       "4       Arkansas  2020               15.8"
      ]
     },
     "execution_count": 24,
     "metadata": {},
     "output_type": "execute_result"
    }
   ],
   "source": [
    "# Import the dataset\n",
    "\n",
    "# Gun incidents data\n",
    "df_incidents = pd.read_csv('../source/ds/incidents.csv')\n",
    "\n",
    "# Poverty by state and year\n",
    "df_poverty = pd.read_csv('../source/ds/povertyByStateYear.csv')\n",
    "\n",
    "# Year-state-district-house\n",
    "df_ysdh = pd.read_csv('../source/ds/year_state_district_house.csv')\n",
    "# Visualize data table\n",
    "\n",
    "#df_incidents.columns\n",
    "#df_incidents.dtypes\n",
    "\n",
    "df_incidents.head()\n",
    "df_poverty.head()"
   ]
  },
  {
   "cell_type": "code",
   "execution_count": 16,
   "metadata": {},
   "outputs": [
    {
     "name": "stdout",
     "output_type": "stream",
     "text": [
      "----------------------------------------------------------------------------------------------------\n",
      "<class 'pandas.core.frame.DataFrame'>\n",
      "RangeIndex: 884 entries, 0 to 883\n",
      "Data columns (total 3 columns):\n",
      " #   Column             Non-Null Count  Dtype  \n",
      "---  ------             --------------  -----  \n",
      " 0   state              884 non-null    object \n",
      " 1   year               884 non-null    int64  \n",
      " 2   povertyPercentage  832 non-null    float64\n",
      "dtypes: float64(1), int64(1), object(1)\n",
      "memory usage: 20.8+ KB\n",
      "----------------------------------------------------------------------------------------------------\n",
      "<class 'pandas.core.frame.DataFrame'>\n",
      "RangeIndex: 10441 entries, 0 to 10440\n",
      "Data columns (total 6 columns):\n",
      " #   Column                  Non-Null Count  Dtype \n",
      "---  ------                  --------------  ----- \n",
      " 0   year                    10441 non-null  int64 \n",
      " 1   state                   10441 non-null  object\n",
      " 2   congressional_district  10441 non-null  int64 \n",
      " 3   party                   10441 non-null  object\n",
      " 4   candidatevotes          10441 non-null  int64 \n",
      " 5   totalvotes              10441 non-null  int64 \n",
      "dtypes: int64(4), object(2)\n",
      "memory usage: 489.5+ KB\n",
      "----------------------------------------------------------------------------------------------------\n",
      "<class 'pandas.core.frame.DataFrame'>\n",
      "RangeIndex: 239677 entries, 0 to 239676\n",
      "Data columns (total 28 columns):\n",
      " #   Column                     Non-Null Count   Dtype  \n",
      "---  ------                     --------------   -----  \n",
      " 0   date                       239677 non-null  object \n",
      " 1   state                      239677 non-null  object \n",
      " 2   city_or_county             239677 non-null  object \n",
      " 3   address                    223180 non-null  object \n",
      " 4   latitude                   231754 non-null  float64\n",
      " 5   longitude                  231754 non-null  float64\n",
      " 6   congressional_district     227733 non-null  float64\n",
      " 7   state_house_district       200905 non-null  float64\n",
      " 8   state_senate_district      207342 non-null  float64\n",
      " 9   participant_age1           147379 non-null  float64\n",
      " 10  participant_age_group1     197558 non-null  object \n",
      " 11  participant_gender1        203315 non-null  object \n",
      " 12  min_age_participants       164879 non-null  object \n",
      " 13  avg_age_participants       165057 non-null  object \n",
      " 14  max_age_participants       164969 non-null  object \n",
      " 15  n_participants_child       197573 non-null  object \n",
      " 16  n_participants_teen        197578 non-null  object \n",
      " 17  n_participants_adult       197575 non-null  object \n",
      " 18  n_males                    203315 non-null  float64\n",
      " 19  n_females                  203315 non-null  float64\n",
      " 20  n_killed                   239677 non-null  int64  \n",
      " 21  n_injured                  239677 non-null  int64  \n",
      " 22  n_arrested                 212051 non-null  float64\n",
      " 23  n_unharmed                 212051 non-null  float64\n",
      " 24  n_participants             239677 non-null  float64\n",
      " 25  notes                      158660 non-null  object \n",
      " 26  incident_characteristics1  239351 non-null  object \n",
      " 27  incident_characteristics2  141931 non-null  object \n",
      "dtypes: float64(11), int64(2), object(15)\n",
      "memory usage: 51.2+ MB\n"
     ]
    }
   ],
   "source": [
    "print(\"--\"*50)\n",
    "df_poverty.info()\n",
    "print(\"--\"*50)\n",
    "df_ysdh.info()\n",
    "print(\"--\"*50)\n",
    "df_incidents.info()"
   ]
  },
  {
   "cell_type": "markdown",
   "metadata": {},
   "source": [
    "## Dataset with all feature cross data \n",
    "\n",
    "We can join the three dataset for a better understanding, maybe could not be useful if the features are too many."
   ]
  },
  {
   "cell_type": "code",
   "execution_count": 34,
   "metadata": {},
   "outputs": [],
   "source": [
    "# Join datasets per state"
   ]
  },
  {
   "cell_type": "code",
   "execution_count": 15,
   "metadata": {},
   "outputs": [
    {
     "data": {
      "text/plain": [
       "132377                                     Drug involvement\n",
       "20532                             Shots Fired - No Injuries\n",
       "152139            Shot - Dead (murder, accidental, suicide)\n",
       "49812                             Shots Fired - No Injuries\n",
       "95835             Shot - Dead (murder, accidental, suicide)\n",
       "130206                                Non-Shooting Incident\n",
       "131224    Shots fired, no action (reported, no evidence ...\n",
       "140507                               Shot - Wounded/Injured\n",
       "118756                            Shots Fired - No Injuries\n",
       "199520                               Shot - Wounded/Injured\n",
       "Name: incident_characteristics1, dtype: object"
      ]
     },
     "execution_count": 15,
     "metadata": {},
     "output_type": "execute_result"
    }
   ],
   "source": [
    "\n",
    "# Example of unusable data\n",
    "\n",
    "df_incidents['notes'].sample(10)\n",
    "df_incidents['incident_characteristics1'].sample(10)\n"
   ]
  },
  {
   "cell_type": "markdown",
   "metadata": {},
   "source": [
    "# Data Cleaning\n",
    "\n",
    "- [x] Remove NaNs\n",
    "- [x] Remove Duplicates\n",
    "- [x] Remove columns with a lot of NaNs [Note this has to be done before removing NaNs]\n",
    "- [x] Outliers\n",
    "- [x] Remove Unnecessary data for statistical analysis\n",
    "    "
   ]
  },
  {
   "cell_type": "code",
   "execution_count": 36,
   "metadata": {},
   "outputs": [
    {
     "name": "stdout",
     "output_type": "stream",
     "text": [
      "date - 0%\n",
      "state - 0%\n",
      "city_or_county - 0%\n",
      "address - 7%\n",
      "latitude - 3%\n",
      "longitude - 3%\n",
      "congressional_district - 5%\n",
      "state_house_district - 16%\n",
      "state_senate_district - 13%\n",
      "participant_age1 - 39%\n",
      "participant_age_group1 - 18%\n",
      "participant_gender1 - 15%\n",
      "min_age_participants - 31%\n",
      "avg_age_participants - 31%\n",
      "max_age_participants - 31%\n",
      "n_participants_child - 18%\n",
      "n_participants_teen - 18%\n",
      "n_participants_adult - 18%\n",
      "n_males - 15%\n",
      "n_females - 15%\n",
      "n_killed - 0%\n",
      "n_injured - 0%\n",
      "n_arrested - 12%\n",
      "n_unharmed - 12%\n",
      "n_participants - 0%\n",
      "notes - 34%\n",
      "incident_characteristics1 - 0%\n",
      "incident_characteristics2 - 41%\n"
     ]
    }
   ],
   "source": [
    "# Remove NaNs\n",
    "\n",
    "# How do we define if a columns has a lot of nans?\n",
    "df_incidents.isna().sum()\n",
    "\n",
    "#   Let's get the % of nans with respect to the total number of records, if is > 50% we drop the column\n",
    "\n",
    "for col in df_incidents.columns:\n",
    "    pct_missing = np.mean(df_incidents[col].isnull())\n",
    "    print('{} - {}%'.format(col, round(pct_missing*100)))\n",
    "\n",
    "    # drop if more than 50% of the data is missing\n",
    "    if pct_missing > 0.5:\n",
    "        df_incidents.drop(col, axis=1, inplace=True)\n",
    "\n",
    "\n",
    "#df_incidents.shape\n",
    "\n",
    "# Finally deleting all NaNs\n",
    "df_incidents_nona = df_incidents.dropna()"
   ]
  },
  {
   "cell_type": "code",
   "execution_count": 38,
   "metadata": {},
   "outputs": [],
   "source": [
    "# Remove Duplicates\n",
    "\n",
    "df_incidents_nodup = df_incidents_nona.drop_duplicates()\n"
   ]
  },
  {
   "cell_type": "markdown",
   "metadata": {},
   "source": [
    "## Mass Shooting\n",
    "\n",
    "As we can see sometimes the number of people killed or injured it's not an incident it's a mass shooting\n",
    "\n",
    "Let's remove this by taking into account this definition\n",
    "\n",
    "```\n",
    "    FBI Definition: The Federal Bureau of Investigation (FBI) defines a mass shooting as an incident in which four or more people, not including the shooter, are killed. This definition is often used in the United States.\n",
    "```"
   ]
  },
  {
   "cell_type": "code",
   "execution_count": 39,
   "metadata": {},
   "outputs": [
    {
     "data": {
      "image/png": "[encoded data removed]",
      "text/plain": [
       "<Figure size 432x288 with 1 Axes>"
      ]
     },
     "metadata": {
      "needs_background": "light"
     },
     "output_type": "display_data"
    }
   ],
   "source": [
    "# Let's visualize outliers with a boxplot\n",
    "\n",
    "df_incidents_nodup.boxplot(column='n_killed')\n",
    "df_incidents_nodup.boxplot(column='n_injured')\n",
    "\n",
    "# Remove outliers if n_killed or n_injured > 4\n",
    "df_incident_no_outliers = df_incidents_nodup[(df_incidents_nodup['n_killed'] < 4) & (df_incidents_nodup['n_injured'] < 4)]"
   ]
  },
  {
   "cell_type": "code",
   "execution_count": 40,
   "metadata": {},
   "outputs": [
    {
     "data": {
      "text/plain": [
       "<AxesSubplot:>"
      ]
     },
     "execution_count": 40,
     "metadata": {},
     "output_type": "execute_result"
    },
    {
     "data": {
      "image/png": "[encoded data removed]",
      "text/plain": [
       "<Figure size 432x288 with 1 Axes>"
      ]
     },
     "metadata": {
      "needs_background": "light"
     },
     "output_type": "display_data"
    }
   ],
   "source": [
    "df_incident_no_outliers.boxplot(column='n_killed')"
   ]
  },
  {
   "cell_type": "markdown",
   "metadata": {},
   "source": [
    "## Visualize Distributions\n",
    "\n",
    "From the first we can see that plotting distirbution of n_killed against the number of incidents we can see that in the majority of the incidents people do not die. \n",
    "\n",
    "We have a distribution skewed to the left so the asimmetry index must be positive."
   ]
  },
  {
   "cell_type": "markdown",
   "metadata": {},
   "source": [
    "### Distribution of Killed People"
   ]
  },
  {
   "cell_type": "code",
   "execution_count": 41,
   "metadata": {},
   "outputs": [
    {
     "name": "stdout",
     "output_type": "stream",
     "text": [
      "n_killed\n",
      "0    69.318337\n",
      "1    26.495226\n",
      "2     3.614317\n",
      "3     0.572120\n",
      "dtype: float64\n",
      "\n",
      "\n",
      " Skewness of n_killed: 1.582712\n"
     ]
    },
    {
     "data": {
      "image/png": "[encoded data removed]",
      "text/plain": [
       "<Figure size 432x288 with 1 Axes>"
      ]
     },
     "metadata": {
      "needs_background": "light"
     },
     "output_type": "display_data"
    }
   ],
   "source": [
    "# Using seaborn to visualize the distribution of n_killed \n",
    "\n",
    "# In %\n",
    "print((df_incident_no_outliers.groupby('n_killed').size()/len(df_incident_no_outliers)*100))\n",
    "\n",
    "df_incident_no_outliers['n_killed'].value_counts().plot(kind='bar')\n",
    "\n",
    "# PIE CHARTs ARE ILLEGAL\n",
    "#df_incident_no_outliers['n_killed'].value_counts().plot(kind='pie')\n",
    "\n",
    "# Asimmetry index is pos\n",
    "skewness_n_killed = df_incident_no_outliers['n_killed'].skew()\n",
    "print('\\n\\n',\"Skewness of n_killed: %f\" % skewness_n_killed)"
   ]
  },
  {
   "cell_type": "markdown",
   "metadata": {},
   "source": [
    "### Distribution of Injured People"
   ]
  },
  {
   "cell_type": "code",
   "execution_count": 42,
   "metadata": {},
   "outputs": [
    {
     "name": "stdout",
     "output_type": "stream",
     "text": [
      "n_injured\n",
      "0    59.350165\n",
      "1    33.882022\n",
      "2     5.317009\n",
      "3     1.450804\n",
      "dtype: float64\n",
      "\n",
      "\n",
      " Skewness of n_injured: 1.319365\n"
     ]
    },
    {
     "data": {
      "image/png": "[encoded data removed]",
      "text/plain": [
       "<Figure size 432x288 with 1 Axes>"
      ]
     },
     "metadata": {
      "needs_background": "light"
     },
     "output_type": "display_data"
    }
   ],
   "source": [
    "\n",
    "# In %\n",
    "print((df_incident_no_outliers.groupby('n_injured').size()/len(df_incident_no_outliers)*100))\n",
    "\n",
    "df_incident_no_outliers['n_injured'].value_counts().plot(kind='bar')\n",
    "\n",
    "# Asimmetry index is pos\n",
    "skewness_n_injured = df_incident_no_outliers['n_injured'].skew()\n",
    "print('\\n\\n',\"Skewness of n_injured: %f\" % skewness_n_injured)"
   ]
  },
  {
   "cell_type": "markdown",
   "metadata": {},
   "source": [
    "### Age and Sex distributions"
   ]
  },
  {
   "cell_type": "code",
   "execution_count": 46,
   "metadata": {},
   "outputs": [
    {
     "data": {
      "text/plain": [
       "<AxesSubplot:xlabel='n_females'>"
      ]
     },
     "execution_count": 46,
     "metadata": {},
     "output_type": "execute_result"
    },
    {
     "data": {
      "image/png": "[encoded data removed]",
      "text/plain": [
       "<Figure size 432x288 with 1 Axes>"
      ]
     },
     "metadata": {
      "needs_background": "light"
     },
     "output_type": "display_data"
    }
   ],
   "source": [
    "# Print the number of incident of with males and femals plots\n",
    "\n",
    "# Males incidents\n",
    "df_incident_no_outliers['n_males'].value_counts().plot(kind='bar')\n",
    "\n",
    "# Females incidents\n",
    "df_incident_no_outliers['n_females'].value_counts().plot(kind='bar')\n"
   ]
  },
  {
   "cell_type": "code",
   "execution_count": 49,
   "metadata": {},
   "outputs": [
    {
     "data": {
      "image/png": "[encoded data removed]",
      "text/plain": [
       "<Figure size 720x360 with 2 Axes>"
      ]
     },
     "metadata": {
      "needs_background": "light"
     },
     "output_type": "display_data"
    }
   ],
   "source": [
    "# Create a figure with two subplots\n",
    "fig, (ax1, ax2) = plt.subplots(ncols=2, figsize=(10, 5))\n",
    "\n",
    "# Plot the male incidents in the first subplot\n",
    "df_incident_no_outliers['n_males'].value_counts().plot(kind='bar', ax=ax1)\n",
    "ax1.set_xlabel('Number of Males')\n",
    "ax1.set_ylabel('Frequency')\n",
    "ax1.set_title('Distribution of Male Victims in Gun Incidents')\n",
    "\n",
    "# Plot the female incidents in the second subplot\n",
    "df_incident_no_outliers['n_females'].value_counts().plot(kind='bar', ax=ax2)\n",
    "ax2.set_xlabel('Number of Females')\n",
    "# Numer of incidents with particular numb of female and male\n",
    "ax2.set_ylabel('Frequency')\n",
    "ax2.set_title('Distribution of Female Victims in Gun Incidents')\n",
    "\n",
    "# Display the plot\n",
    "plt.show()"
   ]
  },
  {
   "cell_type": "code",
   "execution_count": null,
   "metadata": {},
   "outputs": [],
   "source": []
  }
 ],
 "metadata": {
  "kernelspec": {
   "display_name": "Python 3",
   "language": "python",
   "name": "python3"
  },
  "language_info": {
   "codemirror_mode": {
    "name": "ipython",
    "version": 3
   },
   "file_extension": ".py",
   "mimetype": "text/x-python",
   "name": "python",
   "nbconvert_exporter": "python",
   "pygments_lexer": "ipython3",
   "version": "3.10.12"
  }
 },
 "nbformat": 4,
 "nbformat_minor": 2
}
