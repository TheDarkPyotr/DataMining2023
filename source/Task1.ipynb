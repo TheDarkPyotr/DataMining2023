{
 "cells": [
  {
   "cell_type": "markdown",
   "metadata": {},
   "source": [
    "#### Task 1.1: Data Understanding\n",
    "\n",
    "Explore the incidents dataset using analytical tools and write a concise \"data understanding\" report that assesses data quality, the distribution of variables, and pairwise correlations."
   ]
  },
  {
   "cell_type": "markdown",
   "metadata": {},
   "source": [
    "#### Task 1.2: Data Preparation\n",
    "\n",
    "Improve the quality of your data and prepare it by extracting new features interesting for describing the incidents. Some examples of indicators to be computed are:\n",
    "\n",
    "- How many males are involved in incidents relative to the total number of males for the same city and in the same period?\n",
    "- How many injured and killed people have been involved relative to the total injured and killed people in the same congressional district in a given period of time?\n",
    "- Ratio of the number of killed people in the incidents relative to the number of participants in the incident\n",
    "- Ratio of unharmed people in the incidents relative to the average of unharmed people in the same period\n",
    "\n",
    "Note that these examples are not mandatory, and teams can define their own indicators. Each indicator must be correlated with a description and, when necessary, its mathematical formulation. The extracted variables will be useful for the clustering analysis in the second project's task. Once the set of indicators is computed, the team should explore the new features for a statistical analysis, including distributions, outliers, visualizations, and correlations.\n",
    "\n",
    "Subtasks of Data Understanding:\n",
    "\n",
    "- Data semantics for each feature not described above and the new ones defined by the team\n",
    "- Distribution of the variables and statistics\n",
    "- Assessing data quality (missing values, outliers, duplicated records, errors)\n",
    "- Variables transformations\n",
    "- Pairwise correlations and eventual elimination of redundant variables\n",
    "\n",
    "Nice visualization and insights can be obtained by exploiting the latitude and longitude features ([example](https://plotly.com/python/getting-started/))."
   ]
  },
  {
   "cell_type": "markdown",
   "metadata": {},
   "source": [
    "# Task 1.1:\n",
    "\n",
    "We have to do some data understanding, so we're gonna explore the dataset. We can start with a simple analysis that establish the variable inside our dataset and visualize a bunch of their distibution, type, etc..."
   ]
  },
  {
   "cell_type": "code",
   "execution_count": 2,
   "metadata": {},
   "outputs": [
    {
     "name": "stdout",
     "output_type": "stream",
     "text": [
      "Defaulting to user installation because normal site-packages is not writeable\n",
      "Requirement already satisfied: seaborn in /home/vincent/.local/lib/python3.10/site-packages (0.13.0)\n",
      "Requirement already satisfied: matplotlib!=3.6.1,>=3.3 in /usr/lib/python3/dist-packages (from seaborn) (3.5.1)\n",
      "Requirement already satisfied: pandas>=1.2 in /home/vincent/.local/lib/python3.10/site-packages (from seaborn) (2.1.0)\n",
      "Requirement already satisfied: numpy!=1.24.0,>=1.20 in /home/vincent/.local/lib/python3.10/site-packages (from seaborn) (1.25.2)\n",
      "Requirement already satisfied: tzdata>=2022.1 in /home/vincent/.local/lib/python3.10/site-packages (from pandas>=1.2->seaborn) (2023.3)\n",
      "Requirement already satisfied: pytz>=2020.1 in /usr/lib/python3/dist-packages (from pandas>=1.2->seaborn) (2022.1)\n",
      "Requirement already satisfied: python-dateutil>=2.8.2 in /home/vincent/.local/lib/python3.10/site-packages (from pandas>=1.2->seaborn) (2.8.2)\n",
      "Requirement already satisfied: six>=1.5 in /usr/lib/python3/dist-packages (from python-dateutil>=2.8.2->pandas>=1.2->seaborn) (1.16.0)\n",
      "Defaulting to user installation because normal site-packages is not writeable\n",
      "Requirement already satisfied: plotly in /home/vincent/.local/lib/python3.10/site-packages (5.17.0)\n",
      "Requirement already satisfied: tenacity>=6.2.0 in /home/vincent/.local/lib/python3.10/site-packages (from plotly) (8.2.3)\n",
      "Requirement already satisfied: packaging in /usr/lib/python3/dist-packages (from plotly) (21.3)\n"
     ]
    }
   ],
   "source": [
    "# This will take a while\n",
    "!pip install seaborn\n",
    "!pip install plotly\n",
    "\n",
    "import pandas as pd\n",
    "import numpy as np\n",
    "import matplotlib.pyplot as plt\n",
    "import seaborn as sns\n",
    "import os\n",
    "\n",
    "import plotly.offline as py"
   ]
  },
  {
   "cell_type": "markdown",
   "metadata": {},
   "source": [
    "## Dataset Structure\n",
    "\n",
    "Let's breakdown the dataset :\n",
    "\n",
    "- 28 Columns features: Some categorical like date, state etc... Others numerics: n_participants, n_males...\n",
    "- At the end we've got some notes we could drop, these are not data we can easily manage with statistical tools"
   ]
  },
  {
   "cell_type": "code",
   "execution_count": 14,
   "metadata": {},
   "outputs": [
    {
     "name": "stderr",
     "output_type": "stream",
     "text": [
      "/tmp/ipykernel_3851/3288230558.py:3: DtypeWarning:\n",
      "\n",
      "Columns (15,16,17) have mixed types. Specify dtype option on import or set low_memory=False.\n",
      "\n"
     ]
    },
    {
     "data": {
      "text/html": [
       "<div>\n",
       "<style scoped>\n",
       "    .dataframe tbody tr th:only-of-type {\n",
       "        vertical-align: middle;\n",
       "    }\n",
       "\n",
       "    .dataframe tbody tr th {\n",
       "        vertical-align: top;\n",
       "    }\n",
       "\n",
       "    .dataframe thead th {\n",
       "        text-align: right;\n",
       "    }\n",
       "</style>\n",
       "<table border=\"1\" class=\"dataframe\">\n",
       "  <thead>\n",
       "    <tr style=\"text-align: right;\">\n",
       "      <th></th>\n",
       "      <th>date</th>\n",
       "      <th>state</th>\n",
       "      <th>city_or_county</th>\n",
       "      <th>address</th>\n",
       "      <th>latitude</th>\n",
       "      <th>longitude</th>\n",
       "      <th>congressional_district</th>\n",
       "      <th>state_house_district</th>\n",
       "      <th>state_senate_district</th>\n",
       "      <th>participant_age1</th>\n",
       "      <th>...</th>\n",
       "      <th>n_males</th>\n",
       "      <th>n_females</th>\n",
       "      <th>n_killed</th>\n",
       "      <th>n_injured</th>\n",
       "      <th>n_arrested</th>\n",
       "      <th>n_unharmed</th>\n",
       "      <th>n_participants</th>\n",
       "      <th>notes</th>\n",
       "      <th>incident_characteristics1</th>\n",
       "      <th>incident_characteristics2</th>\n",
       "    </tr>\n",
       "  </thead>\n",
       "  <tbody>\n",
       "    <tr>\n",
       "      <th>0</th>\n",
       "      <td>2015-05-02</td>\n",
       "      <td>Indiana</td>\n",
       "      <td>Indianapolis</td>\n",
       "      <td>Lafayette Road and Pike Plaza</td>\n",
       "      <td>39.8322</td>\n",
       "      <td>-86.2492</td>\n",
       "      <td>7.0</td>\n",
       "      <td>94.0</td>\n",
       "      <td>33.0</td>\n",
       "      <td>19.0</td>\n",
       "      <td>...</td>\n",
       "      <td>1.0</td>\n",
       "      <td>0.0</td>\n",
       "      <td>0</td>\n",
       "      <td>1</td>\n",
       "      <td>0.0</td>\n",
       "      <td>0.0</td>\n",
       "      <td>1.0</td>\n",
       "      <td>Teen wounded while walking - Security guard at...</td>\n",
       "      <td>Shot - Wounded/Injured</td>\n",
       "      <td>NaN</td>\n",
       "    </tr>\n",
       "    <tr>\n",
       "      <th>1</th>\n",
       "      <td>2017-04-03</td>\n",
       "      <td>Pennsylvania</td>\n",
       "      <td>Kane</td>\n",
       "      <td>5647 US 6</td>\n",
       "      <td>41.6645</td>\n",
       "      <td>-78.7856</td>\n",
       "      <td>5.0</td>\n",
       "      <td>NaN</td>\n",
       "      <td>NaN</td>\n",
       "      <td>62.0</td>\n",
       "      <td>...</td>\n",
       "      <td>1.0</td>\n",
       "      <td>0.0</td>\n",
       "      <td>1</td>\n",
       "      <td>0</td>\n",
       "      <td>0.0</td>\n",
       "      <td>0.0</td>\n",
       "      <td>1.0</td>\n",
       "      <td>shot self after accident</td>\n",
       "      <td>Shot - Dead (murder, accidental, suicide)</td>\n",
       "      <td>Suicide^</td>\n",
       "    </tr>\n",
       "    <tr>\n",
       "      <th>2</th>\n",
       "      <td>2016-11-05</td>\n",
       "      <td>Michigan</td>\n",
       "      <td>Detroit</td>\n",
       "      <td>6200 Block of East McNichols Road</td>\n",
       "      <td>42.4190</td>\n",
       "      <td>-83.0393</td>\n",
       "      <td>14.0</td>\n",
       "      <td>4.0</td>\n",
       "      <td>2.0</td>\n",
       "      <td>NaN</td>\n",
       "      <td>...</td>\n",
       "      <td>NaN</td>\n",
       "      <td>NaN</td>\n",
       "      <td>0</td>\n",
       "      <td>1</td>\n",
       "      <td>0.0</td>\n",
       "      <td>1.0</td>\n",
       "      <td>2.0</td>\n",
       "      <td>1 inj.</td>\n",
       "      <td>Shot - Wounded/Injured</td>\n",
       "      <td>NaN</td>\n",
       "    </tr>\n",
       "    <tr>\n",
       "      <th>3</th>\n",
       "      <td>2016-10-15</td>\n",
       "      <td>District of Columbia</td>\n",
       "      <td>Washington</td>\n",
       "      <td>1000 block of Bladensburg Road, NE</td>\n",
       "      <td>38.9030</td>\n",
       "      <td>-76.9820</td>\n",
       "      <td>1.0</td>\n",
       "      <td>NaN</td>\n",
       "      <td>NaN</td>\n",
       "      <td>NaN</td>\n",
       "      <td>...</td>\n",
       "      <td>1.0</td>\n",
       "      <td>0.0</td>\n",
       "      <td>0</td>\n",
       "      <td>1</td>\n",
       "      <td>0.0</td>\n",
       "      <td>0.0</td>\n",
       "      <td>2.0</td>\n",
       "      <td>NaN</td>\n",
       "      <td>Shot - Wounded/Injured</td>\n",
       "      <td>NaN</td>\n",
       "    </tr>\n",
       "    <tr>\n",
       "      <th>4</th>\n",
       "      <td>2030-06-14</td>\n",
       "      <td>Pennsylvania</td>\n",
       "      <td>Pittsburgh</td>\n",
       "      <td>California and Marshall Avenues</td>\n",
       "      <td>40.4621</td>\n",
       "      <td>-80.0308</td>\n",
       "      <td>14.0</td>\n",
       "      <td>NaN</td>\n",
       "      <td>NaN</td>\n",
       "      <td>NaN</td>\n",
       "      <td>...</td>\n",
       "      <td>1.0</td>\n",
       "      <td>0.0</td>\n",
       "      <td>0</td>\n",
       "      <td>1</td>\n",
       "      <td>0.0</td>\n",
       "      <td>1.0</td>\n",
       "      <td>2.0</td>\n",
       "      <td>NaN</td>\n",
       "      <td>Shot - Wounded/Injured</td>\n",
       "      <td>Drive-by (car to street, car to car)</td>\n",
       "    </tr>\n",
       "  </tbody>\n",
       "</table>\n",
       "<p>5 rows × 28 columns</p>\n",
       "</div>"
      ],
      "text/plain": [
       "         date                 state city_or_county  \\\n",
       "0  2015-05-02               Indiana   Indianapolis   \n",
       "1  2017-04-03          Pennsylvania           Kane   \n",
       "2  2016-11-05              Michigan        Detroit   \n",
       "3  2016-10-15  District of Columbia     Washington   \n",
       "4  2030-06-14          Pennsylvania     Pittsburgh   \n",
       "\n",
       "                              address  latitude  longitude  \\\n",
       "0       Lafayette Road and Pike Plaza   39.8322   -86.2492   \n",
       "1                           5647 US 6   41.6645   -78.7856   \n",
       "2   6200 Block of East McNichols Road   42.4190   -83.0393   \n",
       "3  1000 block of Bladensburg Road, NE   38.9030   -76.9820   \n",
       "4     California and Marshall Avenues   40.4621   -80.0308   \n",
       "\n",
       "   congressional_district  state_house_district  state_senate_district  \\\n",
       "0                     7.0                  94.0                   33.0   \n",
       "1                     5.0                   NaN                    NaN   \n",
       "2                    14.0                   4.0                    2.0   \n",
       "3                     1.0                   NaN                    NaN   \n",
       "4                    14.0                   NaN                    NaN   \n",
       "\n",
       "   participant_age1  ... n_males n_females n_killed n_injured n_arrested  \\\n",
       "0              19.0  ...     1.0       0.0        0         1        0.0   \n",
       "1              62.0  ...     1.0       0.0        1         0        0.0   \n",
       "2               NaN  ...     NaN       NaN        0         1        0.0   \n",
       "3               NaN  ...     1.0       0.0        0         1        0.0   \n",
       "4               NaN  ...     1.0       0.0        0         1        0.0   \n",
       "\n",
       "  n_unharmed n_participants  \\\n",
       "0        0.0            1.0   \n",
       "1        0.0            1.0   \n",
       "2        1.0            2.0   \n",
       "3        0.0            2.0   \n",
       "4        1.0            2.0   \n",
       "\n",
       "                                               notes  \\\n",
       "0  Teen wounded while walking - Security guard at...   \n",
       "1                           shot self after accident   \n",
       "2                                             1 inj.   \n",
       "3                                                NaN   \n",
       "4                                                NaN   \n",
       "\n",
       "                   incident_characteristics1  \\\n",
       "0                     Shot - Wounded/Injured   \n",
       "1  Shot - Dead (murder, accidental, suicide)   \n",
       "2                     Shot - Wounded/Injured   \n",
       "3                     Shot - Wounded/Injured   \n",
       "4                     Shot - Wounded/Injured   \n",
       "\n",
       "              incident_characteristics2  \n",
       "0                                   NaN  \n",
       "1                              Suicide^  \n",
       "2                                   NaN  \n",
       "3                                   NaN  \n",
       "4  Drive-by (car to street, car to car)  \n",
       "\n",
       "[5 rows x 28 columns]"
      ]
     },
     "execution_count": 14,
     "metadata": {},
     "output_type": "execute_result"
    }
   ],
   "source": [
    "# Import the dataset\n",
    "\n",
    "df_incidents = pd.read_csv('../source/ds/incidents.csv')\n",
    "\n",
    "# Visualize data table\n",
    "\n",
    "#df_incidents.columns\n",
    "#df_incidents.dtypes\n",
    "\n",
    "df_incidents.head()\n"
   ]
  },
  {
   "cell_type": "code",
   "execution_count": 15,
   "metadata": {},
   "outputs": [
    {
     "data": {
      "text/plain": [
       "132377                                     Drug involvement\n",
       "20532                             Shots Fired - No Injuries\n",
       "152139            Shot - Dead (murder, accidental, suicide)\n",
       "49812                             Shots Fired - No Injuries\n",
       "95835             Shot - Dead (murder, accidental, suicide)\n",
       "130206                                Non-Shooting Incident\n",
       "131224    Shots fired, no action (reported, no evidence ...\n",
       "140507                               Shot - Wounded/Injured\n",
       "118756                            Shots Fired - No Injuries\n",
       "199520                               Shot - Wounded/Injured\n",
       "Name: incident_characteristics1, dtype: object"
      ]
     },
     "execution_count": 15,
     "metadata": {},
     "output_type": "execute_result"
    }
   ],
   "source": [
    "\n",
    "# Example of unusable data\n",
    "\n",
    "df_incidents['notes'].sample(10)\n",
    "df_incidents['incident_characteristics1'].sample(10)\n"
   ]
  },
  {
   "cell_type": "markdown",
   "metadata": {},
   "source": [
    "# Data Cleaning\n",
    "\n",
    "- [x] Remove NaNs\n",
    "- [x] Remove Duplicates\n",
    "- [ ] Remove columns with a lot of NaNs [Note this has to be done before removing NaNs]\n",
    "- [ ] Outliers\n",
    "- [ ] Remove Unnecessary data for statistical analysis\n",
    "    "
   ]
  },
  {
   "cell_type": "code",
   "execution_count": 25,
   "metadata": {},
   "outputs": [
    {
     "name": "stdout",
     "output_type": "stream",
     "text": [
      "date - 0%\n",
      "state - 0%\n",
      "city_or_county - 0%\n",
      "address - 7%\n",
      "latitude - 3%\n",
      "longitude - 3%\n",
      "congressional_district - 5%\n",
      "state_house_district - 16%\n",
      "state_senate_district - 13%\n",
      "participant_age1 - 39%\n",
      "participant_age_group1 - 18%\n",
      "participant_gender1 - 15%\n",
      "min_age_participants - 31%\n",
      "avg_age_participants - 31%\n",
      "max_age_participants - 31%\n",
      "n_participants_child - 18%\n",
      "n_participants_teen - 18%\n",
      "n_participants_adult - 18%\n",
      "n_males - 15%\n",
      "n_females - 15%\n",
      "n_killed - 0%\n",
      "n_injured - 0%\n",
      "n_arrested - 12%\n",
      "n_unharmed - 12%\n",
      "n_participants - 0%\n",
      "notes - 34%\n",
      "incident_characteristics1 - 0%\n",
      "incident_characteristics2 - 41%\n"
     ]
    }
   ],
   "source": [
    "# Remove NaNs\n",
    "\n",
    "# How do we define if a columns has a lot of nans?\n",
    "df_incidents.isna().sum()\n",
    "\n",
    "#   Let's get the % of nans with respect to the total number of records, if is > 50% we drop the column\n",
    "\n",
    "for col in df_incidents.columns:\n",
    "    pct_missing = np.mean(df_incidents[col].isnull())\n",
    "    print('{} - {}%'.format(col, round(pct_missing*100)))\n",
    "\n",
    "    # drop if more than 50% of the data is missing\n",
    "    if pct_missing > 0.5:\n",
    "        df_incidents.drop(col, axis=1, inplace=True)\n",
    "\n",
    "\n",
    "#df_incidents.shape\n",
    "\n",
    "# Finally deleting all NaNs\n",
    "df_incidents_nona = df_incidents.dropna()"
   ]
  },
  {
   "cell_type": "code",
   "execution_count": 26,
   "metadata": {},
   "outputs": [],
   "source": [
    "# Remove Duplicates\n",
    "\n",
    "df_incidents_nodup = df_incidents_nona.drop_duplicates()\n"
   ]
  },
  {
   "cell_type": "markdown",
   "metadata": {},
   "source": [
    "## Mass Shooting\n",
    "\n",
    "As we can see sometimes the number of people killed or injured it's not an incident it's a mass shooting\n",
    "\n",
    "Let's remove this by taking into account this definition\n",
    "\n",
    "```\n",
    "    FBI Definition: The Federal Bureau of Investigation (FBI) defines a mass shooting as an incident in which four or more people, not including the shooter, are killed. This definition is often used in the United States.\n",
    "```"
   ]
  },
  {
   "cell_type": "code",
   "execution_count": 31,
   "metadata": {},
   "outputs": [
    {
     "data": {
      "image/png": "[encoded data removed]",
      "text/plain": [
       "<Figure size 432x288 with 1 Axes>"
      ]
     },
     "metadata": {
      "needs_background": "light"
     },
     "output_type": "display_data"
    }
   ],
   "source": [
    "# Let's visualize outliers with a boxplot\n",
    "\n",
    "df_incidents_nodup.boxplot(column='n_killed')\n",
    "df_incidents_nodup.boxplot(column='n_injured')\n",
    "\n",
    "# Remove outliers if n_killed or n_injured > 4\n",
    "df_incident_no_outliers = df_incidents_nodup[(df_incidents_nodup['n_killed'] < 4) & (df_incidents_nodup['n_injured'] < 4)]"
   ]
  },
  {
   "cell_type": "code",
   "execution_count": 30,
   "metadata": {},
   "outputs": [
    {
     "data": {
      "text/plain": [
       "<AxesSubplot:>"
      ]
     },
     "execution_count": 30,
     "metadata": {},
     "output_type": "execute_result"
    },
    {
     "data": {
      "image/png": "[encoded data removed]",
      "text/plain": [
       "<Figure size 432x288 with 1 Axes>"
      ]
     },
     "metadata": {
      "needs_background": "light"
     },
     "output_type": "display_data"
    }
   ],
   "source": [
    "df_incident_no_outliers.boxplot(column='n_killed')"
   ]
  },
  {
   "cell_type": "markdown",
   "metadata": {},
   "source": [
    "## Visualize Distributions\n",
    "\n",
    "From the first we can see that plotting distirbution of n_killed against the number of incidents we can see that in the majority of the incidents people do not die. \n",
    "\n",
    "We have a distribution skewed to the left so the asimmetry index must be positive."
   ]
  },
  {
   "cell_type": "code",
   "execution_count": 71,
   "metadata": {},
   "outputs": [
    {
     "name": "stdout",
     "output_type": "stream",
     "text": [
      "n_killed\n",
      "0    69.318337\n",
      "1    26.495226\n",
      "2     3.614317\n",
      "3     0.572120\n",
      "dtype: float64\n",
      "\n",
      "\n",
      " Skewness of n_killed: 1.582712\n"
     ]
    },
    {
     "data": {
      "image/png": "[encoded data removed]",
      "text/plain": [
       "<Figure size 432x288 with 1 Axes>"
      ]
     },
     "metadata": {
      "needs_background": "light"
     },
     "output_type": "display_data"
    }
   ],
   "source": [
    "# Using seaborn to visualize the distribution of n_killed \n",
    "\n",
    "# In %\n",
    "print((df_incident_no_outliers.groupby('n_killed').size()/len(df_incident_no_outliers)*100))\n",
    "\n",
    "df_incident_no_outliers['n_killed'].value_counts().plot(kind='bar')\n",
    "\n",
    "# PIE CHARTs ARE ILLEGAL\n",
    "#df_incident_no_outliers['n_killed'].value_counts().plot(kind='pie')\n",
    "\n",
    "# Asimmetry index is pos\n",
    "skewness_n_killed = df_incident_no_outliers['n_killed'].skew()\n",
    "print('\\n\\n',\"Skewness of n_killed: %f\" % skewness_n_killed)"
   ]
  },
  {
   "cell_type": "code",
   "execution_count": null,
   "metadata": {},
   "outputs": [],
   "source": []
  }
 ],
 "metadata": {
  "kernelspec": {
   "display_name": "Python 3",
   "language": "python",
   "name": "python3"
  },
  "language_info": {
   "codemirror_mode": {
    "name": "ipython",
    "version": 3
   },
   "file_extension": ".py",
   "mimetype": "text/x-python",
   "name": "python",
   "nbconvert_exporter": "python",
   "pygments_lexer": "ipython3",
   "version": "3.10.12"
  }
 },
 "nbformat": 4,
 "nbformat_minor": 2
}
